{
  "nbformat": 4,
  "nbformat_minor": 0,
  "metadata": {
    "colab": {
      "provenance": [],
      "gpuType": "T4"
    },
    "kernelspec": {
      "name": "python3",
      "display_name": "Python 3"
    },
    "language_info": {
      "name": "python"
    },
    "accelerator": "GPU",
    "widgets": {
      "application/vnd.jupyter.widget-state+json": {
        "3f294e1777f345419bcb1ce9d837f74f": {
          "model_module": "@jupyter-widgets/controls",
          "model_name": "HBoxModel",
          "model_module_version": "1.5.0",
          "state": {
            "_dom_classes": [],
            "_model_module": "@jupyter-widgets/controls",
            "_model_module_version": "1.5.0",
            "_model_name": "HBoxModel",
            "_view_count": null,
            "_view_module": "@jupyter-widgets/controls",
            "_view_module_version": "1.5.0",
            "_view_name": "HBoxView",
            "box_style": "",
            "children": [
              "IPY_MODEL_190b246a17c84ba3a66f8c08851ded5d",
              "IPY_MODEL_2038e3aeb8d0471aa2ace9489fd4076d",
              "IPY_MODEL_2353bfa852b6428fb4987695f7273e77"
            ],
            "layout": "IPY_MODEL_182e6eeabcfa4686999280866082043d"
          }
        },
        "190b246a17c84ba3a66f8c08851ded5d": {
          "model_module": "@jupyter-widgets/controls",
          "model_name": "HTMLModel",
          "model_module_version": "1.5.0",
          "state": {
            "_dom_classes": [],
            "_model_module": "@jupyter-widgets/controls",
            "_model_module_version": "1.5.0",
            "_model_name": "HTMLModel",
            "_view_count": null,
            "_view_module": "@jupyter-widgets/controls",
            "_view_module_version": "1.5.0",
            "_view_name": "HTMLView",
            "description": "",
            "description_tooltip": null,
            "layout": "IPY_MODEL_2256e337bfba44d292824cefdf5a96f0",
            "placeholder": "​",
            "style": "IPY_MODEL_786951c0322c4602a8d78abcc0d49843",
            "value": "Processing: 100%"
          }
        },
        "2038e3aeb8d0471aa2ace9489fd4076d": {
          "model_module": "@jupyter-widgets/controls",
          "model_name": "FloatProgressModel",
          "model_module_version": "1.5.0",
          "state": {
            "_dom_classes": [],
            "_model_module": "@jupyter-widgets/controls",
            "_model_module_version": "1.5.0",
            "_model_name": "FloatProgressModel",
            "_view_count": null,
            "_view_module": "@jupyter-widgets/controls",
            "_view_module_version": "1.5.0",
            "_view_name": "ProgressView",
            "bar_style": "",
            "description": "",
            "description_tooltip": null,
            "layout": "IPY_MODEL_1bb0d7b34fea447eb0eaa1752f236f67",
            "max": 69,
            "min": 0,
            "orientation": "horizontal",
            "style": "IPY_MODEL_34f1b67d467b42a880a767e92b6e2ef2",
            "value": 69
          }
        },
        "2353bfa852b6428fb4987695f7273e77": {
          "model_module": "@jupyter-widgets/controls",
          "model_name": "HTMLModel",
          "model_module_version": "1.5.0",
          "state": {
            "_dom_classes": [],
            "_model_module": "@jupyter-widgets/controls",
            "_model_module_version": "1.5.0",
            "_model_name": "HTMLModel",
            "_view_count": null,
            "_view_module": "@jupyter-widgets/controls",
            "_view_module_version": "1.5.0",
            "_view_name": "HTMLView",
            "description": "",
            "description_tooltip": null,
            "layout": "IPY_MODEL_c3e470fd7ec641bba1e07ee627832a3a",
            "placeholder": "​",
            "style": "IPY_MODEL_dd6555f45c894227b7ee6d2bd64a1bed",
            "value": " 69/69 [13:24&lt;00:00, 17.51s/it]"
          }
        },
        "182e6eeabcfa4686999280866082043d": {
          "model_module": "@jupyter-widgets/base",
          "model_name": "LayoutModel",
          "model_module_version": "1.2.0",
          "state": {
            "_model_module": "@jupyter-widgets/base",
            "_model_module_version": "1.2.0",
            "_model_name": "LayoutModel",
            "_view_count": null,
            "_view_module": "@jupyter-widgets/base",
            "_view_module_version": "1.2.0",
            "_view_name": "LayoutView",
            "align_content": null,
            "align_items": null,
            "align_self": null,
            "border": null,
            "bottom": null,
            "display": null,
            "flex": null,
            "flex_flow": null,
            "grid_area": null,
            "grid_auto_columns": null,
            "grid_auto_flow": null,
            "grid_auto_rows": null,
            "grid_column": null,
            "grid_gap": null,
            "grid_row": null,
            "grid_template_areas": null,
            "grid_template_columns": null,
            "grid_template_rows": null,
            "height": null,
            "justify_content": null,
            "justify_items": null,
            "left": null,
            "margin": null,
            "max_height": null,
            "max_width": null,
            "min_height": null,
            "min_width": null,
            "object_fit": null,
            "object_position": null,
            "order": null,
            "overflow": null,
            "overflow_x": null,
            "overflow_y": null,
            "padding": null,
            "right": null,
            "top": null,
            "visibility": "hidden",
            "width": null
          }
        },
        "2256e337bfba44d292824cefdf5a96f0": {
          "model_module": "@jupyter-widgets/base",
          "model_name": "LayoutModel",
          "model_module_version": "1.2.0",
          "state": {
            "_model_module": "@jupyter-widgets/base",
            "_model_module_version": "1.2.0",
            "_model_name": "LayoutModel",
            "_view_count": null,
            "_view_module": "@jupyter-widgets/base",
            "_view_module_version": "1.2.0",
            "_view_name": "LayoutView",
            "align_content": null,
            "align_items": null,
            "align_self": null,
            "border": null,
            "bottom": null,
            "display": null,
            "flex": null,
            "flex_flow": null,
            "grid_area": null,
            "grid_auto_columns": null,
            "grid_auto_flow": null,
            "grid_auto_rows": null,
            "grid_column": null,
            "grid_gap": null,
            "grid_row": null,
            "grid_template_areas": null,
            "grid_template_columns": null,
            "grid_template_rows": null,
            "height": null,
            "justify_content": null,
            "justify_items": null,
            "left": null,
            "margin": null,
            "max_height": null,
            "max_width": null,
            "min_height": null,
            "min_width": null,
            "object_fit": null,
            "object_position": null,
            "order": null,
            "overflow": null,
            "overflow_x": null,
            "overflow_y": null,
            "padding": null,
            "right": null,
            "top": null,
            "visibility": null,
            "width": null
          }
        },
        "786951c0322c4602a8d78abcc0d49843": {
          "model_module": "@jupyter-widgets/controls",
          "model_name": "DescriptionStyleModel",
          "model_module_version": "1.5.0",
          "state": {
            "_model_module": "@jupyter-widgets/controls",
            "_model_module_version": "1.5.0",
            "_model_name": "DescriptionStyleModel",
            "_view_count": null,
            "_view_module": "@jupyter-widgets/base",
            "_view_module_version": "1.2.0",
            "_view_name": "StyleView",
            "description_width": ""
          }
        },
        "1bb0d7b34fea447eb0eaa1752f236f67": {
          "model_module": "@jupyter-widgets/base",
          "model_name": "LayoutModel",
          "model_module_version": "1.2.0",
          "state": {
            "_model_module": "@jupyter-widgets/base",
            "_model_module_version": "1.2.0",
            "_model_name": "LayoutModel",
            "_view_count": null,
            "_view_module": "@jupyter-widgets/base",
            "_view_module_version": "1.2.0",
            "_view_name": "LayoutView",
            "align_content": null,
            "align_items": null,
            "align_self": null,
            "border": null,
            "bottom": null,
            "display": null,
            "flex": null,
            "flex_flow": null,
            "grid_area": null,
            "grid_auto_columns": null,
            "grid_auto_flow": null,
            "grid_auto_rows": null,
            "grid_column": null,
            "grid_gap": null,
            "grid_row": null,
            "grid_template_areas": null,
            "grid_template_columns": null,
            "grid_template_rows": null,
            "height": null,
            "justify_content": null,
            "justify_items": null,
            "left": null,
            "margin": null,
            "max_height": null,
            "max_width": null,
            "min_height": null,
            "min_width": null,
            "object_fit": null,
            "object_position": null,
            "order": null,
            "overflow": null,
            "overflow_x": null,
            "overflow_y": null,
            "padding": null,
            "right": null,
            "top": null,
            "visibility": null,
            "width": null
          }
        },
        "34f1b67d467b42a880a767e92b6e2ef2": {
          "model_module": "@jupyter-widgets/controls",
          "model_name": "ProgressStyleModel",
          "model_module_version": "1.5.0",
          "state": {
            "_model_module": "@jupyter-widgets/controls",
            "_model_module_version": "1.5.0",
            "_model_name": "ProgressStyleModel",
            "_view_count": null,
            "_view_module": "@jupyter-widgets/base",
            "_view_module_version": "1.2.0",
            "_view_name": "StyleView",
            "bar_color": null,
            "description_width": ""
          }
        },
        "c3e470fd7ec641bba1e07ee627832a3a": {
          "model_module": "@jupyter-widgets/base",
          "model_name": "LayoutModel",
          "model_module_version": "1.2.0",
          "state": {
            "_model_module": "@jupyter-widgets/base",
            "_model_module_version": "1.2.0",
            "_model_name": "LayoutModel",
            "_view_count": null,
            "_view_module": "@jupyter-widgets/base",
            "_view_module_version": "1.2.0",
            "_view_name": "LayoutView",
            "align_content": null,
            "align_items": null,
            "align_self": null,
            "border": null,
            "bottom": null,
            "display": null,
            "flex": null,
            "flex_flow": null,
            "grid_area": null,
            "grid_auto_columns": null,
            "grid_auto_flow": null,
            "grid_auto_rows": null,
            "grid_column": null,
            "grid_gap": null,
            "grid_row": null,
            "grid_template_areas": null,
            "grid_template_columns": null,
            "grid_template_rows": null,
            "height": null,
            "justify_content": null,
            "justify_items": null,
            "left": null,
            "margin": null,
            "max_height": null,
            "max_width": null,
            "min_height": null,
            "min_width": null,
            "object_fit": null,
            "object_position": null,
            "order": null,
            "overflow": null,
            "overflow_x": null,
            "overflow_y": null,
            "padding": null,
            "right": null,
            "top": null,
            "visibility": null,
            "width": null
          }
        },
        "dd6555f45c894227b7ee6d2bd64a1bed": {
          "model_module": "@jupyter-widgets/controls",
          "model_name": "DescriptionStyleModel",
          "model_module_version": "1.5.0",
          "state": {
            "_model_module": "@jupyter-widgets/controls",
            "_model_module_version": "1.5.0",
            "_model_name": "DescriptionStyleModel",
            "_view_count": null,
            "_view_module": "@jupyter-widgets/base",
            "_view_module_version": "1.2.0",
            "_view_name": "StyleView",
            "description_width": ""
          }
        },
        "a1103eee71894c7ba598bc81678aa2c1": {
          "model_module": "@jupyter-widgets/controls",
          "model_name": "HBoxModel",
          "model_module_version": "1.5.0",
          "state": {
            "_dom_classes": [],
            "_model_module": "@jupyter-widgets/controls",
            "_model_module_version": "1.5.0",
            "_model_name": "HBoxModel",
            "_view_count": null,
            "_view_module": "@jupyter-widgets/controls",
            "_view_module_version": "1.5.0",
            "_view_name": "HBoxView",
            "box_style": "",
            "children": [
              "IPY_MODEL_49c6384253204618bf49893314ef6c42",
              "IPY_MODEL_0c99896334e04b5982d08939af9459a9",
              "IPY_MODEL_038a8221bd804faab9ec2fabdac0a402"
            ],
            "layout": "IPY_MODEL_cd23e0c3534649b4b8821d032693e392"
          }
        },
        "49c6384253204618bf49893314ef6c42": {
          "model_module": "@jupyter-widgets/controls",
          "model_name": "HTMLModel",
          "model_module_version": "1.5.0",
          "state": {
            "_dom_classes": [],
            "_model_module": "@jupyter-widgets/controls",
            "_model_module_version": "1.5.0",
            "_model_name": "HTMLModel",
            "_view_count": null,
            "_view_module": "@jupyter-widgets/controls",
            "_view_module_version": "1.5.0",
            "_view_name": "HTMLView",
            "description": "",
            "description_tooltip": null,
            "layout": "IPY_MODEL_c5600ce7a1e14d03b6acf04044aca9b2",
            "placeholder": "​",
            "style": "IPY_MODEL_df4d8752ac1845ba80dfb98a89b53947",
            "value": "Processing: 100%"
          }
        },
        "0c99896334e04b5982d08939af9459a9": {
          "model_module": "@jupyter-widgets/controls",
          "model_name": "FloatProgressModel",
          "model_module_version": "1.5.0",
          "state": {
            "_dom_classes": [],
            "_model_module": "@jupyter-widgets/controls",
            "_model_module_version": "1.5.0",
            "_model_name": "FloatProgressModel",
            "_view_count": null,
            "_view_module": "@jupyter-widgets/controls",
            "_view_module_version": "1.5.0",
            "_view_name": "ProgressView",
            "bar_style": "",
            "description": "",
            "description_tooltip": null,
            "layout": "IPY_MODEL_e2a239d813d2443db747e92ae842dfe7",
            "max": 4,
            "min": 0,
            "orientation": "horizontal",
            "style": "IPY_MODEL_ec83c7987f254e3181275950862a886f",
            "value": 4
          }
        },
        "038a8221bd804faab9ec2fabdac0a402": {
          "model_module": "@jupyter-widgets/controls",
          "model_name": "HTMLModel",
          "model_module_version": "1.5.0",
          "state": {
            "_dom_classes": [],
            "_model_module": "@jupyter-widgets/controls",
            "_model_module_version": "1.5.0",
            "_model_name": "HTMLModel",
            "_view_count": null,
            "_view_module": "@jupyter-widgets/controls",
            "_view_module_version": "1.5.0",
            "_view_name": "HTMLView",
            "description": "",
            "description_tooltip": null,
            "layout": "IPY_MODEL_09425f18b90a4edf91c28bddc9a701ff",
            "placeholder": "​",
            "style": "IPY_MODEL_31d2196eecd643998792270f691b3d6b",
            "value": " 4/4 [00:24&lt;00:00,  5.67s/it]"
          }
        },
        "cd23e0c3534649b4b8821d032693e392": {
          "model_module": "@jupyter-widgets/base",
          "model_name": "LayoutModel",
          "model_module_version": "1.2.0",
          "state": {
            "_model_module": "@jupyter-widgets/base",
            "_model_module_version": "1.2.0",
            "_model_name": "LayoutModel",
            "_view_count": null,
            "_view_module": "@jupyter-widgets/base",
            "_view_module_version": "1.2.0",
            "_view_name": "LayoutView",
            "align_content": null,
            "align_items": null,
            "align_self": null,
            "border": null,
            "bottom": null,
            "display": null,
            "flex": null,
            "flex_flow": null,
            "grid_area": null,
            "grid_auto_columns": null,
            "grid_auto_flow": null,
            "grid_auto_rows": null,
            "grid_column": null,
            "grid_gap": null,
            "grid_row": null,
            "grid_template_areas": null,
            "grid_template_columns": null,
            "grid_template_rows": null,
            "height": null,
            "justify_content": null,
            "justify_items": null,
            "left": null,
            "margin": null,
            "max_height": null,
            "max_width": null,
            "min_height": null,
            "min_width": null,
            "object_fit": null,
            "object_position": null,
            "order": null,
            "overflow": null,
            "overflow_x": null,
            "overflow_y": null,
            "padding": null,
            "right": null,
            "top": null,
            "visibility": "hidden",
            "width": null
          }
        },
        "c5600ce7a1e14d03b6acf04044aca9b2": {
          "model_module": "@jupyter-widgets/base",
          "model_name": "LayoutModel",
          "model_module_version": "1.2.0",
          "state": {
            "_model_module": "@jupyter-widgets/base",
            "_model_module_version": "1.2.0",
            "_model_name": "LayoutModel",
            "_view_count": null,
            "_view_module": "@jupyter-widgets/base",
            "_view_module_version": "1.2.0",
            "_view_name": "LayoutView",
            "align_content": null,
            "align_items": null,
            "align_self": null,
            "border": null,
            "bottom": null,
            "display": null,
            "flex": null,
            "flex_flow": null,
            "grid_area": null,
            "grid_auto_columns": null,
            "grid_auto_flow": null,
            "grid_auto_rows": null,
            "grid_column": null,
            "grid_gap": null,
            "grid_row": null,
            "grid_template_areas": null,
            "grid_template_columns": null,
            "grid_template_rows": null,
            "height": null,
            "justify_content": null,
            "justify_items": null,
            "left": null,
            "margin": null,
            "max_height": null,
            "max_width": null,
            "min_height": null,
            "min_width": null,
            "object_fit": null,
            "object_position": null,
            "order": null,
            "overflow": null,
            "overflow_x": null,
            "overflow_y": null,
            "padding": null,
            "right": null,
            "top": null,
            "visibility": null,
            "width": null
          }
        },
        "df4d8752ac1845ba80dfb98a89b53947": {
          "model_module": "@jupyter-widgets/controls",
          "model_name": "DescriptionStyleModel",
          "model_module_version": "1.5.0",
          "state": {
            "_model_module": "@jupyter-widgets/controls",
            "_model_module_version": "1.5.0",
            "_model_name": "DescriptionStyleModel",
            "_view_count": null,
            "_view_module": "@jupyter-widgets/base",
            "_view_module_version": "1.2.0",
            "_view_name": "StyleView",
            "description_width": ""
          }
        },
        "e2a239d813d2443db747e92ae842dfe7": {
          "model_module": "@jupyter-widgets/base",
          "model_name": "LayoutModel",
          "model_module_version": "1.2.0",
          "state": {
            "_model_module": "@jupyter-widgets/base",
            "_model_module_version": "1.2.0",
            "_model_name": "LayoutModel",
            "_view_count": null,
            "_view_module": "@jupyter-widgets/base",
            "_view_module_version": "1.2.0",
            "_view_name": "LayoutView",
            "align_content": null,
            "align_items": null,
            "align_self": null,
            "border": null,
            "bottom": null,
            "display": null,
            "flex": null,
            "flex_flow": null,
            "grid_area": null,
            "grid_auto_columns": null,
            "grid_auto_flow": null,
            "grid_auto_rows": null,
            "grid_column": null,
            "grid_gap": null,
            "grid_row": null,
            "grid_template_areas": null,
            "grid_template_columns": null,
            "grid_template_rows": null,
            "height": null,
            "justify_content": null,
            "justify_items": null,
            "left": null,
            "margin": null,
            "max_height": null,
            "max_width": null,
            "min_height": null,
            "min_width": null,
            "object_fit": null,
            "object_position": null,
            "order": null,
            "overflow": null,
            "overflow_x": null,
            "overflow_y": null,
            "padding": null,
            "right": null,
            "top": null,
            "visibility": null,
            "width": null
          }
        },
        "ec83c7987f254e3181275950862a886f": {
          "model_module": "@jupyter-widgets/controls",
          "model_name": "ProgressStyleModel",
          "model_module_version": "1.5.0",
          "state": {
            "_model_module": "@jupyter-widgets/controls",
            "_model_module_version": "1.5.0",
            "_model_name": "ProgressStyleModel",
            "_view_count": null,
            "_view_module": "@jupyter-widgets/base",
            "_view_module_version": "1.2.0",
            "_view_name": "StyleView",
            "bar_color": null,
            "description_width": ""
          }
        },
        "09425f18b90a4edf91c28bddc9a701ff": {
          "model_module": "@jupyter-widgets/base",
          "model_name": "LayoutModel",
          "model_module_version": "1.2.0",
          "state": {
            "_model_module": "@jupyter-widgets/base",
            "_model_module_version": "1.2.0",
            "_model_name": "LayoutModel",
            "_view_count": null,
            "_view_module": "@jupyter-widgets/base",
            "_view_module_version": "1.2.0",
            "_view_name": "LayoutView",
            "align_content": null,
            "align_items": null,
            "align_self": null,
            "border": null,
            "bottom": null,
            "display": null,
            "flex": null,
            "flex_flow": null,
            "grid_area": null,
            "grid_auto_columns": null,
            "grid_auto_flow": null,
            "grid_auto_rows": null,
            "grid_column": null,
            "grid_gap": null,
            "grid_row": null,
            "grid_template_areas": null,
            "grid_template_columns": null,
            "grid_template_rows": null,
            "height": null,
            "justify_content": null,
            "justify_items": null,
            "left": null,
            "margin": null,
            "max_height": null,
            "max_width": null,
            "min_height": null,
            "min_width": null,
            "object_fit": null,
            "object_position": null,
            "order": null,
            "overflow": null,
            "overflow_x": null,
            "overflow_y": null,
            "padding": null,
            "right": null,
            "top": null,
            "visibility": null,
            "width": null
          }
        },
        "31d2196eecd643998792270f691b3d6b": {
          "model_module": "@jupyter-widgets/controls",
          "model_name": "DescriptionStyleModel",
          "model_module_version": "1.5.0",
          "state": {
            "_model_module": "@jupyter-widgets/controls",
            "_model_module_version": "1.5.0",
            "_model_name": "DescriptionStyleModel",
            "_view_count": null,
            "_view_module": "@jupyter-widgets/base",
            "_view_module_version": "1.2.0",
            "_view_name": "StyleView",
            "description_width": ""
          }
        },
        "191eae9c69a1476aae2f606cb97bb426": {
          "model_module": "@jupyter-widgets/controls",
          "model_name": "HBoxModel",
          "model_module_version": "1.5.0",
          "state": {
            "_dom_classes": [],
            "_model_module": "@jupyter-widgets/controls",
            "_model_module_version": "1.5.0",
            "_model_name": "HBoxModel",
            "_view_count": null,
            "_view_module": "@jupyter-widgets/controls",
            "_view_module_version": "1.5.0",
            "_view_name": "HBoxView",
            "box_style": "",
            "children": [
              "IPY_MODEL_215ab06faff3450f8d70597476ea5988",
              "IPY_MODEL_557897d9e5ea4c5e807d4a3438f47d92",
              "IPY_MODEL_19d13e1746734880a1abbc77615954a0"
            ],
            "layout": "IPY_MODEL_e4557f4d94894b79be5cf9e13dc9bf4b"
          }
        },
        "215ab06faff3450f8d70597476ea5988": {
          "model_module": "@jupyter-widgets/controls",
          "model_name": "HTMLModel",
          "model_module_version": "1.5.0",
          "state": {
            "_dom_classes": [],
            "_model_module": "@jupyter-widgets/controls",
            "_model_module_version": "1.5.0",
            "_model_name": "HTMLModel",
            "_view_count": null,
            "_view_module": "@jupyter-widgets/controls",
            "_view_module_version": "1.5.0",
            "_view_name": "HTMLView",
            "description": "",
            "description_tooltip": null,
            "layout": "IPY_MODEL_e05203a3e5b04db0ae239fed8daabff7",
            "placeholder": "​",
            "style": "IPY_MODEL_0ccbd7bf349a4675a728721254b3fbe0",
            "value": "Processing: 100%"
          }
        },
        "557897d9e5ea4c5e807d4a3438f47d92": {
          "model_module": "@jupyter-widgets/controls",
          "model_name": "FloatProgressModel",
          "model_module_version": "1.5.0",
          "state": {
            "_dom_classes": [],
            "_model_module": "@jupyter-widgets/controls",
            "_model_module_version": "1.5.0",
            "_model_name": "FloatProgressModel",
            "_view_count": null,
            "_view_module": "@jupyter-widgets/controls",
            "_view_module_version": "1.5.0",
            "_view_name": "ProgressView",
            "bar_style": "",
            "description": "",
            "description_tooltip": null,
            "layout": "IPY_MODEL_70479e36332a4a3995df995c10b85863",
            "max": 7,
            "min": 0,
            "orientation": "horizontal",
            "style": "IPY_MODEL_45c9a0867a434b0e87fad1b9ccd864fd",
            "value": 7
          }
        },
        "19d13e1746734880a1abbc77615954a0": {
          "model_module": "@jupyter-widgets/controls",
          "model_name": "HTMLModel",
          "model_module_version": "1.5.0",
          "state": {
            "_dom_classes": [],
            "_model_module": "@jupyter-widgets/controls",
            "_model_module_version": "1.5.0",
            "_model_name": "HTMLModel",
            "_view_count": null,
            "_view_module": "@jupyter-widgets/controls",
            "_view_module_version": "1.5.0",
            "_view_name": "HTMLView",
            "description": "",
            "description_tooltip": null,
            "layout": "IPY_MODEL_0f5f6b33457d4dac88e241c1b2e0dc9b",
            "placeholder": "​",
            "style": "IPY_MODEL_7730824bf9a742789208345de8d4e347",
            "value": " 7/7 [11:42&lt;00:00, 74.09s/it]"
          }
        },
        "e4557f4d94894b79be5cf9e13dc9bf4b": {
          "model_module": "@jupyter-widgets/base",
          "model_name": "LayoutModel",
          "model_module_version": "1.2.0",
          "state": {
            "_model_module": "@jupyter-widgets/base",
            "_model_module_version": "1.2.0",
            "_model_name": "LayoutModel",
            "_view_count": null,
            "_view_module": "@jupyter-widgets/base",
            "_view_module_version": "1.2.0",
            "_view_name": "LayoutView",
            "align_content": null,
            "align_items": null,
            "align_self": null,
            "border": null,
            "bottom": null,
            "display": null,
            "flex": null,
            "flex_flow": null,
            "grid_area": null,
            "grid_auto_columns": null,
            "grid_auto_flow": null,
            "grid_auto_rows": null,
            "grid_column": null,
            "grid_gap": null,
            "grid_row": null,
            "grid_template_areas": null,
            "grid_template_columns": null,
            "grid_template_rows": null,
            "height": null,
            "justify_content": null,
            "justify_items": null,
            "left": null,
            "margin": null,
            "max_height": null,
            "max_width": null,
            "min_height": null,
            "min_width": null,
            "object_fit": null,
            "object_position": null,
            "order": null,
            "overflow": null,
            "overflow_x": null,
            "overflow_y": null,
            "padding": null,
            "right": null,
            "top": null,
            "visibility": "hidden",
            "width": null
          }
        },
        "e05203a3e5b04db0ae239fed8daabff7": {
          "model_module": "@jupyter-widgets/base",
          "model_name": "LayoutModel",
          "model_module_version": "1.2.0",
          "state": {
            "_model_module": "@jupyter-widgets/base",
            "_model_module_version": "1.2.0",
            "_model_name": "LayoutModel",
            "_view_count": null,
            "_view_module": "@jupyter-widgets/base",
            "_view_module_version": "1.2.0",
            "_view_name": "LayoutView",
            "align_content": null,
            "align_items": null,
            "align_self": null,
            "border": null,
            "bottom": null,
            "display": null,
            "flex": null,
            "flex_flow": null,
            "grid_area": null,
            "grid_auto_columns": null,
            "grid_auto_flow": null,
            "grid_auto_rows": null,
            "grid_column": null,
            "grid_gap": null,
            "grid_row": null,
            "grid_template_areas": null,
            "grid_template_columns": null,
            "grid_template_rows": null,
            "height": null,
            "justify_content": null,
            "justify_items": null,
            "left": null,
            "margin": null,
            "max_height": null,
            "max_width": null,
            "min_height": null,
            "min_width": null,
            "object_fit": null,
            "object_position": null,
            "order": null,
            "overflow": null,
            "overflow_x": null,
            "overflow_y": null,
            "padding": null,
            "right": null,
            "top": null,
            "visibility": null,
            "width": null
          }
        },
        "0ccbd7bf349a4675a728721254b3fbe0": {
          "model_module": "@jupyter-widgets/controls",
          "model_name": "DescriptionStyleModel",
          "model_module_version": "1.5.0",
          "state": {
            "_model_module": "@jupyter-widgets/controls",
            "_model_module_version": "1.5.0",
            "_model_name": "DescriptionStyleModel",
            "_view_count": null,
            "_view_module": "@jupyter-widgets/base",
            "_view_module_version": "1.2.0",
            "_view_name": "StyleView",
            "description_width": ""
          }
        },
        "70479e36332a4a3995df995c10b85863": {
          "model_module": "@jupyter-widgets/base",
          "model_name": "LayoutModel",
          "model_module_version": "1.2.0",
          "state": {
            "_model_module": "@jupyter-widgets/base",
            "_model_module_version": "1.2.0",
            "_model_name": "LayoutModel",
            "_view_count": null,
            "_view_module": "@jupyter-widgets/base",
            "_view_module_version": "1.2.0",
            "_view_name": "LayoutView",
            "align_content": null,
            "align_items": null,
            "align_self": null,
            "border": null,
            "bottom": null,
            "display": null,
            "flex": null,
            "flex_flow": null,
            "grid_area": null,
            "grid_auto_columns": null,
            "grid_auto_flow": null,
            "grid_auto_rows": null,
            "grid_column": null,
            "grid_gap": null,
            "grid_row": null,
            "grid_template_areas": null,
            "grid_template_columns": null,
            "grid_template_rows": null,
            "height": null,
            "justify_content": null,
            "justify_items": null,
            "left": null,
            "margin": null,
            "max_height": null,
            "max_width": null,
            "min_height": null,
            "min_width": null,
            "object_fit": null,
            "object_position": null,
            "order": null,
            "overflow": null,
            "overflow_x": null,
            "overflow_y": null,
            "padding": null,
            "right": null,
            "top": null,
            "visibility": null,
            "width": null
          }
        },
        "45c9a0867a434b0e87fad1b9ccd864fd": {
          "model_module": "@jupyter-widgets/controls",
          "model_name": "ProgressStyleModel",
          "model_module_version": "1.5.0",
          "state": {
            "_model_module": "@jupyter-widgets/controls",
            "_model_module_version": "1.5.0",
            "_model_name": "ProgressStyleModel",
            "_view_count": null,
            "_view_module": "@jupyter-widgets/base",
            "_view_module_version": "1.2.0",
            "_view_name": "StyleView",
            "bar_color": null,
            "description_width": ""
          }
        },
        "0f5f6b33457d4dac88e241c1b2e0dc9b": {
          "model_module": "@jupyter-widgets/base",
          "model_name": "LayoutModel",
          "model_module_version": "1.2.0",
          "state": {
            "_model_module": "@jupyter-widgets/base",
            "_model_module_version": "1.2.0",
            "_model_name": "LayoutModel",
            "_view_count": null,
            "_view_module": "@jupyter-widgets/base",
            "_view_module_version": "1.2.0",
            "_view_name": "LayoutView",
            "align_content": null,
            "align_items": null,
            "align_self": null,
            "border": null,
            "bottom": null,
            "display": null,
            "flex": null,
            "flex_flow": null,
            "grid_area": null,
            "grid_auto_columns": null,
            "grid_auto_flow": null,
            "grid_auto_rows": null,
            "grid_column": null,
            "grid_gap": null,
            "grid_row": null,
            "grid_template_areas": null,
            "grid_template_columns": null,
            "grid_template_rows": null,
            "height": null,
            "justify_content": null,
            "justify_items": null,
            "left": null,
            "margin": null,
            "max_height": null,
            "max_width": null,
            "min_height": null,
            "min_width": null,
            "object_fit": null,
            "object_position": null,
            "order": null,
            "overflow": null,
            "overflow_x": null,
            "overflow_y": null,
            "padding": null,
            "right": null,
            "top": null,
            "visibility": null,
            "width": null
          }
        },
        "7730824bf9a742789208345de8d4e347": {
          "model_module": "@jupyter-widgets/controls",
          "model_name": "DescriptionStyleModel",
          "model_module_version": "1.5.0",
          "state": {
            "_model_module": "@jupyter-widgets/controls",
            "_model_module_version": "1.5.0",
            "_model_name": "DescriptionStyleModel",
            "_view_count": null,
            "_view_module": "@jupyter-widgets/base",
            "_view_module_version": "1.2.0",
            "_view_name": "StyleView",
            "description_width": ""
          }
        }
      }
    }
  },
  "cells": [
    {
      "cell_type": "code",
      "execution_count": 1,
      "metadata": {
        "id": "Y_wodiEiZSjC"
      },
      "outputs": [],
      "source": [
        "### Internet Firewall Data"
      ]
    },
    {
      "cell_type": "markdown",
      "source": [
        "### Additional Information\n",
        "\n",
        "\n",
        "##### There are 12 features in total. Action feature is used as a class. There are 4 classes in total. These are allow, action, drop and reset-both classes."
      ],
      "metadata": {
        "id": "7ol6wvZUZ_iG"
      }
    },
    {
      "cell_type": "code",
      "source": [
        "###!pip install keras-tuner"
      ],
      "metadata": {
        "id": "NcKLGhmYZ2os"
      },
      "execution_count": 2,
      "outputs": []
    },
    {
      "cell_type": "code",
      "source": [
        "###! unzip /content/internet+firewall+data.zip"
      ],
      "metadata": {
        "id": "wQss23BbZ2xP"
      },
      "execution_count": 3,
      "outputs": []
    },
    {
      "cell_type": "code",
      "source": [
        "###! pip install tensorflow\n",
        "###! pip install bayesian-optimization"
      ],
      "metadata": {
        "id": "7iNdyyvDZ20S"
      },
      "execution_count": 4,
      "outputs": []
    },
    {
      "cell_type": "code",
      "source": [
        "import pandas as pd\n",
        "import numpy as np\n",
        "import tensorflow as tf\n",
        "from sklearn import preprocessing\n",
        "import matplotlib.pyplot as plt\n",
        "tf.random.set_seed(123)\n",
        "np.random.seed(123)\n",
        "\n",
        "# Import packages\n",
        "import numpy as np\n",
        "import pandas as pd\n",
        "import matplotlib.pyplot as plt\n",
        "import seaborn as sns\n",
        "from sklearn.model_selection import train_test_split\n",
        "from sklearn.model_selection import cross_val_score\n",
        "from keras.models import Sequential\n",
        "from keras.layers import Dense, BatchNormalization, Dropout\n",
        "from tensorflow.keras.optimizers import Adam, SGD, RMSprop, Adadelta, Adagrad, Adamax, Nadam, Ftrl\n",
        "from keras.callbacks import EarlyStopping, ModelCheckpoint\n",
        "###from keras.wrappers.scikit_learn import KerasClassifier\n",
        "from math import floor\n",
        "from sklearn.metrics import make_scorer, accuracy_score\n",
        "from bayes_opt import BayesianOptimization\n",
        "from sklearn.model_selection import StratifiedKFold\n",
        "from keras.layers import LeakyReLU\n",
        "LeakyReLU = LeakyReLU(alpha=0.1)\n",
        "import warnings\n",
        "warnings.filterwarnings('ignore')\n",
        "pd.set_option(\"display.max_columns\", None)"
      ],
      "metadata": {
        "id": "ugJHrLk7Z23I"
      },
      "execution_count": 5,
      "outputs": []
    },
    {
      "cell_type": "code",
      "source": [
        "log_data = pd.read_csv(\"/content/log2.csv\")"
      ],
      "metadata": {
        "id": "xff7Qm_RZ26F"
      },
      "execution_count": 6,
      "outputs": []
    },
    {
      "cell_type": "code",
      "source": [
        "log_data.columns"
      ],
      "metadata": {
        "colab": {
          "base_uri": "https://localhost:8080/"
        },
        "id": "MuZMs2rRZ284",
        "outputId": "8e4e497b-5af9-4971-875f-acf627a618a3"
      },
      "execution_count": 7,
      "outputs": [
        {
          "output_type": "execute_result",
          "data": {
            "text/plain": [
              "Index(['Source Port', 'Destination Port', 'NAT Source Port',\n",
              "       'NAT Destination Port', 'Action', 'Bytes', 'Bytes Sent',\n",
              "       'Bytes Received', 'Packets', 'Elapsed Time (sec)', 'pkts_sent',\n",
              "       'pkts_received'],\n",
              "      dtype='object')"
            ]
          },
          "metadata": {},
          "execution_count": 7
        }
      ]
    },
    {
      "cell_type": "code",
      "source": [
        "log_data.info()"
      ],
      "metadata": {
        "colab": {
          "base_uri": "https://localhost:8080/"
        },
        "id": "1kCa5Kfke7sm",
        "outputId": "ca6fa893-7709-4320-fd1e-c5694c8fce7d"
      },
      "execution_count": 8,
      "outputs": [
        {
          "output_type": "stream",
          "name": "stdout",
          "text": [
            "<class 'pandas.core.frame.DataFrame'>\n",
            "RangeIndex: 65532 entries, 0 to 65531\n",
            "Data columns (total 12 columns):\n",
            " #   Column                Non-Null Count  Dtype \n",
            "---  ------                --------------  ----- \n",
            " 0   Source Port           65532 non-null  int64 \n",
            " 1   Destination Port      65532 non-null  int64 \n",
            " 2   NAT Source Port       65532 non-null  int64 \n",
            " 3   NAT Destination Port  65532 non-null  int64 \n",
            " 4   Action                65532 non-null  object\n",
            " 5   Bytes                 65532 non-null  int64 \n",
            " 6   Bytes Sent            65532 non-null  int64 \n",
            " 7   Bytes Received        65532 non-null  int64 \n",
            " 8   Packets               65532 non-null  int64 \n",
            " 9   Elapsed Time (sec)    65532 non-null  int64 \n",
            " 10  pkts_sent             65532 non-null  int64 \n",
            " 11  pkts_received         65532 non-null  int64 \n",
            "dtypes: int64(11), object(1)\n",
            "memory usage: 6.0+ MB\n"
          ]
        }
      ]
    },
    {
      "cell_type": "code",
      "source": [
        "from sklearn.model_selection import train_test_split"
      ],
      "metadata": {
        "id": "2fDQJYRbe736"
      },
      "execution_count": 9,
      "outputs": []
    },
    {
      "cell_type": "code",
      "source": [
        "training_data, testing_data = train_test_split(log_data, test_size = 0.3, random_state = 0)"
      ],
      "metadata": {
        "id": "4RIgcRmKe8Az"
      },
      "execution_count": 10,
      "outputs": []
    },
    {
      "cell_type": "code",
      "source": [
        "print(training_data.shape, testing_data.shape)"
      ],
      "metadata": {
        "colab": {
          "base_uri": "https://localhost:8080/"
        },
        "id": "EanKtpE6e8I-",
        "outputId": "1ab55651-6cf0-402d-b229-e18ce985121e"
      },
      "execution_count": 11,
      "outputs": [
        {
          "output_type": "stream",
          "name": "stdout",
          "text": [
            "(45872, 12) (19660, 12)\n"
          ]
        }
      ]
    },
    {
      "cell_type": "code",
      "source": [
        "training_data['ID'] = training_data.index\n",
        "testing_data['ID'] = testing_data.index\n"
      ],
      "metadata": {
        "id": "zP6LKKT0fIoO"
      },
      "execution_count": 12,
      "outputs": []
    },
    {
      "cell_type": "code",
      "source": [
        "###! pip install matplotlib_venn\n",
        "from matplotlib_venn import venn2, venn2_circles, venn2_unweighted\n",
        "from matplotlib_venn import venn3, venn3_circles"
      ],
      "metadata": {
        "id": "r6qKHVGafOHr"
      },
      "execution_count": 13,
      "outputs": []
    },
    {
      "cell_type": "code",
      "source": [
        "set_numbers_train = set(training_data[['ID']].drop_duplicates().sort_values(by = 'ID')['ID'].tolist())\n",
        "set_numbers_test = set(testing_data[['ID']].drop_duplicates().sort_values(by = 'ID')['ID'].tolist())\n",
        "venn2((set_numbers_train, set_numbers_test), set_labels = ('Train numbers', 'Test numbers'))"
      ],
      "metadata": {
        "colab": {
          "base_uri": "https://localhost:8080/",
          "height": 317
        },
        "id": "MmX2cE18fOTq",
        "outputId": "aa3aeb8b-75d2-41d9-eeda-2f9be1286df9"
      },
      "execution_count": 14,
      "outputs": [
        {
          "output_type": "execute_result",
          "data": {
            "text/plain": [
              "<matplotlib_venn._common.VennDiagram at 0x7e6b179e9450>"
            ]
          },
          "metadata": {},
          "execution_count": 14
        },
        {
          "output_type": "display_data",
          "data": {
            "text/plain": [
              "<Figure size 640x480 with 1 Axes>"
            ],
            "image/png": "[encoded data removed]"
          },
          "metadata": {}
        }
      ]
    },
    {
      "cell_type": "code",
      "source": [
        "training_data.columns"
      ],
      "metadata": {
        "colab": {
          "base_uri": "https://localhost:8080/"
        },
        "id": "dLtbNDiFfIrh",
        "outputId": "cd6abd91-4b22-4559-cdb5-ff950d86e6fd"
      },
      "execution_count": 15,
      "outputs": [
        {
          "output_type": "execute_result",
          "data": {
            "text/plain": [
              "Index(['Source Port', 'Destination Port', 'NAT Source Port',\n",
              "       'NAT Destination Port', 'Action', 'Bytes', 'Bytes Sent',\n",
              "       'Bytes Received', 'Packets', 'Elapsed Time (sec)', 'pkts_sent',\n",
              "       'pkts_received', 'ID'],\n",
              "      dtype='object')"
            ]
          },
          "metadata": {},
          "execution_count": 15
        }
      ]
    },
    {
      "cell_type": "code",
      "source": [
        "num_var = [feature for feature in training_data.columns if training_data[feature].dtypes != 'O']\n",
        "discrete_var = [feature for feature in num_var if len(training_data[feature].unique()) <= 25]\n",
        "cont_var = [feature for feature in num_var if feature not in discrete_var]\n",
        "categ_var = [feature for feature in training_data.columns if feature not in num_var]"
      ],
      "metadata": {
        "id": "1qWFYBlefIuv"
      },
      "execution_count": 16,
      "outputs": []
    },
    {
      "cell_type": "code",
      "source": [
        "###! pip install klib\n",
        "####!pip install keras-tuner"
      ],
      "metadata": {
        "id": "ap80fVaWfazv"
      },
      "execution_count": 17,
      "outputs": []
    },
    {
      "cell_type": "code",
      "source": [
        "import klib"
      ],
      "metadata": {
        "id": "NIbmA3Rkf07d"
      },
      "execution_count": 18,
      "outputs": []
    },
    {
      "cell_type": "code",
      "source": [
        "training_data = klib.clean_column_names(training_data)\n",
        "testing_data = klib.clean_column_names(testing_data)"
      ],
      "metadata": {
        "id": "NO1VlTzOf5B7"
      },
      "execution_count": 19,
      "outputs": []
    },
    {
      "cell_type": "code",
      "source": [
        "klib.cat_plot(training_data)"
      ],
      "metadata": {
        "colab": {
          "base_uri": "https://localhost:8080/",
          "height": 1000
        },
        "id": "e-vgIRwygBRO",
        "outputId": "7d2d05a6-b53f-4506-f0a4-9d8afd51f009"
      },
      "execution_count": 20,
      "outputs": [
        {
          "output_type": "execute_result",
          "data": {
            "text/plain": [
              "GridSpec(6, 1)"
            ]
          },
          "metadata": {},
          "execution_count": 20
        },
        {
          "output_type": "display_data",
          "data": {
            "text/plain": [
              "<Figure size 1800x1800 with 3 Axes>"
            ],
            "image/png": "[encoded data removed]"
          },
          "metadata": {}
        }
      ]
    },
    {
      "cell_type": "code",
      "source": [
        "klib.corr_interactive_plot(training_data)"
      ],
      "metadata": {
        "colab": {
          "base_uri": "https://localhost:8080/",
          "height": 1000
        },
        "id": "QGHXgWhSgLFU",
        "outputId": "251a8284-28b7-4aef-dd89-78eb323908fd"
      },
      "execution_count": 21,
      "outputs": [
        {
          "output_type": "display_data",
          "data": {
            "text/html": [
              "<html>\n",
              "<head><meta charset=\"utf-8\" /></head>\n",
              "<body>\n",
              "    <div>            <script src=\"https://cdnjs.cloudflare.com/ajax/libs/mathjax/2.7.5/MathJax.js?config=TeX-AMS-MML_SVG\"></script><script type=\"text/javascript\">if (window.MathJax && window.MathJax.Hub && window.MathJax.Hub.Config) {window.MathJax.Hub.Config({SVG: {font: \"STIX-Web\"}});}</script>                <script type=\"text/javascript\">window.PlotlyConfig = {MathJaxConfig: 'local'};</script>\n",
              "        <script charset=\"utf-8\" src=\"https://cdn.plot.ly/plotly-2.24.1.min.js\"></script>                <div id=\"fc0843d9-11ae-4091-9957-e26c18c46290\" class=\"plotly-graph-div\" style=\"height:1056px; width:1152px;\"></div>            <script type=\"text/javascript\">                                    window.PLOTLYENV=window.PLOTLYENV || {};                                    if (document.getElementById(\"fc0843d9-11ae-4091-9957-e26c18c46290\")) {                    Plotly.newPlot(                        \"fc0843d9-11ae-4091-9957-e26c18c46290\",                        [{\"colorscale\":[[0.0,\"rgb(84,48,5)\"],[0.1,\"rgb(140,81,10)\"],[0.2,\"rgb(191,129,45)\"],[0.3,\"rgb(223,194,125)\"],[0.4,\"rgb(246,232,195)\"],[0.5,\"rgb(245,245,245)\"],[0.6,\"rgb(199,234,229)\"],[0.7,\"rgb(128,205,193)\"],[0.8,\"rgb(53,151,143)\"],[0.9,\"rgb(1,102,94)\"],[1.0,\"rgb(0,60,48)\"]],\"hoverongaps\":false,\"text\":[[\"\",0.01,-0.0,0.02,0.0,0.0,-0.0,-0.0,0.03,0.01,0.01,-0.0],[\"\",\"\",0.84,0.14,0.94,0.94,0.71,0.85,0.0,0.02,-0.01,-0.0],[\"\",\"\",\"\",0.16,0.98,0.8,0.98,0.99,0.01,0.01,-0.0,-0.0],[\"\",\"\",\"\",\"\",0.16,0.14,0.15,0.16,0.22,0.14,0.02,-0.05],[\"\",\"\",\"\",\"\",\"\",0.89,0.91,0.97,0.01,0.01,-0.0,-0.0],[\"\",\"\",\"\",\"\",\"\",\"\",0.68,0.86,-0.0,0.02,-0.01,0.0],[\"\",\"\",\"\",\"\",\"\",\"\",\"\",0.96,0.01,0.0,0.0,-0.0],[\"\",\"\",\"\",\"\",\"\",\"\",\"\",\"\",0.01,0.01,-0.0,-0.0],[\"\",\"\",\"\",\"\",\"\",\"\",\"\",\"\",\"\",0.18,0.41,-0.03],[\"\",\"\",\"\",\"\",\"\",\"\",\"\",\"\",\"\",\"\",-0.28,0.14],[\"\",\"\",\"\",\"\",\"\",\"\",\"\",\"\",\"\",\"\",\"\",-0.33],[\"\",\"\",\"\",\"\",\"\",\"\",\"\",\"\",\"\",\"\",\"\",\"\"]],\"textfont\":{\"size\":12},\"texttemplate\":\"%{text}\",\"x\":[\"id\",\"pkts_received\",\"pkts_sent\",\"elapsed_time_sec\",\"packets\",\"bytes_received\",\"bytes_sent\",\"bytes\",\"nat_destination_port\",\"nat_source_port\",\"destination_port\",\"source_port\"],\"xgap\":1,\"y\":[\"id\",\"pkts_received\",\"pkts_sent\",\"elapsed_time_sec\",\"packets\",\"bytes_received\",\"bytes_sent\",\"bytes\",\"nat_destination_port\",\"nat_source_port\",\"destination_port\",\"source_port\"],\"ygap\":1,\"z\":[[null,0.00550590289188447,-0.001020295795748523,0.01746151068120891,0.0015432155223930389,0.004435890921927962,-0.0036920768736054483,-0.0009120909684094266,0.033590173947228866,0.010419924617563437,0.011071371448047936,-0.003404643343157724],[null,null,0.841631812675877,0.1448154833159057,0.9382327842215384,0.9401035068566809,0.7079390012407581,0.8531418710194946,0.00382247022631559,0.019156082608019116,-0.009608372144194905,-0.0038738629583406157],[null,null,null,0.15687919028242292,0.9765069947317161,0.8041981842615508,0.9750926078632045,0.9892385766421292,0.007416671432303234,0.007035775399368569,-0.0015262984125171178,-0.002032483614818157],[null,null,null,null,0.15829335177434967,0.1449965219532377,0.14884786948125733,0.15942948841791232,0.21965820264618852,0.1415989107052936,0.02345067244577181,-0.04548955677355294],[null,null,null,null,null,0.8903502452783322,0.9072044432206985,0.9742049007786177,0.006276973950221388,0.012151193361166684,-0.0048117115732345585,-0.002847895500635087],[null,null,null,null,null,null,0.6835321900905509,0.858692443549393,-0.0018774572751508061,0.02266594971448342,-0.014346620614963524,0.0011627877771938932],[null,null,null,null,null,null,null,0.9610217331917231,0.009378338841007175,0.002505913952199612,0.0020857826192151197,-0.0011735091547588907],[null,null,null,null,null,null,null,null,0.00587358689810017,0.010344660428784503,-0.003969618658186814,-0.000383512996082076],[null,null,null,null,null,null,null,null,null,0.1768442028451785,0.4107760884032806,-0.026874090008660066],[null,null,null,null,null,null,null,null,null,null,-0.28134570931206754,0.14462411792355004],[null,null,null,null,null,null,null,null,null,null,null,-0.3328223490576144],[null,null,null,null,null,null,null,null,null,null,null,null]],\"zmax\":0.94,\"zmin\":-0.28,\"type\":\"heatmap\"}],                        {\"template\":{\"data\":{\"histogram2dcontour\":[{\"type\":\"histogram2dcontour\",\"colorbar\":{\"outlinewidth\":0,\"ticks\":\"\"},\"colorscale\":[[0.0,\"#0d0887\"],[0.1111111111111111,\"#46039f\"],[0.2222222222222222,\"#7201a8\"],[0.3333333333333333,\"#9c179e\"],[0.4444444444444444,\"#bd3786\"],[0.5555555555555556,\"#d8576b\"],[0.6666666666666666,\"#ed7953\"],[0.7777777777777778,\"#fb9f3a\"],[0.8888888888888888,\"#fdca26\"],[1.0,\"#f0f921\"]]}],\"choropleth\":[{\"type\":\"choropleth\",\"colorbar\":{\"outlinewidth\":0,\"ticks\":\"\"}}],\"histogram2d\":[{\"type\":\"histogram2d\",\"colorbar\":{\"outlinewidth\":0,\"ticks\":\"\"},\"colorscale\":[[0.0,\"#0d0887\"],[0.1111111111111111,\"#46039f\"],[0.2222222222222222,\"#7201a8\"],[0.3333333333333333,\"#9c179e\"],[0.4444444444444444,\"#bd3786\"],[0.5555555555555556,\"#d8576b\"],[0.6666666666666666,\"#ed7953\"],[0.7777777777777778,\"#fb9f3a\"],[0.8888888888888888,\"#fdca26\"],[1.0,\"#f0f921\"]]}],\"heatmap\":[{\"type\":\"heatmap\",\"colorbar\":{\"outlinewidth\":0,\"ticks\":\"\"},\"colorscale\":[[0.0,\"#0d0887\"],[0.1111111111111111,\"#46039f\"],[0.2222222222222222,\"#7201a8\"],[0.3333333333333333,\"#9c179e\"],[0.4444444444444444,\"#bd3786\"],[0.5555555555555556,\"#d8576b\"],[0.6666666666666666,\"#ed7953\"],[0.7777777777777778,\"#fb9f3a\"],[0.8888888888888888,\"#fdca26\"],[1.0,\"#f0f921\"]]}],\"heatmapgl\":[{\"type\":\"heatmapgl\",\"colorbar\":{\"outlinewidth\":0,\"ticks\":\"\"},\"colorscale\":[[0.0,\"#0d0887\"],[0.1111111111111111,\"#46039f\"],[0.2222222222222222,\"#7201a8\"],[0.3333333333333333,\"#9c179e\"],[0.4444444444444444,\"#bd3786\"],[0.5555555555555556,\"#d8576b\"],[0.6666666666666666,\"#ed7953\"],[0.7777777777777778,\"#fb9f3a\"],[0.8888888888888888,\"#fdca26\"],[1.0,\"#f0f921\"]]}],\"contourcarpet\":[{\"type\":\"contourcarpet\",\"colorbar\":{\"outlinewidth\":0,\"ticks\":\"\"}}],\"contour\":[{\"type\":\"contour\",\"colorbar\":{\"outlinewidth\":0,\"ticks\":\"\"},\"colorscale\":[[0.0,\"#0d0887\"],[0.1111111111111111,\"#46039f\"],[0.2222222222222222,\"#7201a8\"],[0.3333333333333333,\"#9c179e\"],[0.4444444444444444,\"#bd3786\"],[0.5555555555555556,\"#d8576b\"],[0.6666666666666666,\"#ed7953\"],[0.7777777777777778,\"#fb9f3a\"],[0.8888888888888888,\"#fdca26\"],[1.0,\"#f0f921\"]]}],\"surface\":[{\"type\":\"surface\",\"colorbar\":{\"outlinewidth\":0,\"ticks\":\"\"},\"colorscale\":[[0.0,\"#0d0887\"],[0.1111111111111111,\"#46039f\"],[0.2222222222222222,\"#7201a8\"],[0.3333333333333333,\"#9c179e\"],[0.4444444444444444,\"#bd3786\"],[0.5555555555555556,\"#d8576b\"],[0.6666666666666666,\"#ed7953\"],[0.7777777777777778,\"#fb9f3a\"],[0.8888888888888888,\"#fdca26\"],[1.0,\"#f0f921\"]]}],\"mesh3d\":[{\"type\":\"mesh3d\",\"colorbar\":{\"outlinewidth\":0,\"ticks\":\"\"}}],\"scatter\":[{\"fillpattern\":{\"fillmode\":\"overlay\",\"size\":10,\"solidity\":0.2},\"type\":\"scatter\"}],\"parcoords\":[{\"type\":\"parcoords\",\"line\":{\"colorbar\":{\"outlinewidth\":0,\"ticks\":\"\"}}}],\"scatterpolargl\":[{\"type\":\"scatterpolargl\",\"marker\":{\"colorbar\":{\"outlinewidth\":0,\"ticks\":\"\"}}}],\"bar\":[{\"error_x\":{\"color\":\"#2a3f5f\"},\"error_y\":{\"color\":\"#2a3f5f\"},\"marker\":{\"line\":{\"color\":\"#E5ECF6\",\"width\":0.5},\"pattern\":{\"fillmode\":\"overlay\",\"size\":10,\"solidity\":0.2}},\"type\":\"bar\"}],\"scattergeo\":[{\"type\":\"scattergeo\",\"marker\":{\"colorbar\":{\"outlinewidth\":0,\"ticks\":\"\"}}}],\"scatterpolar\":[{\"type\":\"scatterpolar\",\"marker\":{\"colorbar\":{\"outlinewidth\":0,\"ticks\":\"\"}}}],\"histogram\":[{\"marker\":{\"pattern\":{\"fillmode\":\"overlay\",\"size\":10,\"solidity\":0.2}},\"type\":\"histogram\"}],\"scattergl\":[{\"type\":\"scattergl\",\"marker\":{\"colorbar\":{\"outlinewidth\":0,\"ticks\":\"\"}}}],\"scatter3d\":[{\"type\":\"scatter3d\",\"line\":{\"colorbar\":{\"outlinewidth\":0,\"ticks\":\"\"}},\"marker\":{\"colorbar\":{\"outlinewidth\":0,\"ticks\":\"\"}}}],\"scattermapbox\":[{\"type\":\"scattermapbox\",\"marker\":{\"colorbar\":{\"outlinewidth\":0,\"ticks\":\"\"}}}],\"scatterternary\":[{\"type\":\"scatterternary\",\"marker\":{\"colorbar\":{\"outlinewidth\":0,\"ticks\":\"\"}}}],\"scattercarpet\":[{\"type\":\"scattercarpet\",\"marker\":{\"colorbar\":{\"outlinewidth\":0,\"ticks\":\"\"}}}],\"carpet\":[{\"aaxis\":{\"endlinecolor\":\"#2a3f5f\",\"gridcolor\":\"white\",\"linecolor\":\"white\",\"minorgridcolor\":\"white\",\"startlinecolor\":\"#2a3f5f\"},\"baxis\":{\"endlinecolor\":\"#2a3f5f\",\"gridcolor\":\"white\",\"linecolor\":\"white\",\"minorgridcolor\":\"white\",\"startlinecolor\":\"#2a3f5f\"},\"type\":\"carpet\"}],\"table\":[{\"cells\":{\"fill\":{\"color\":\"#EBF0F8\"},\"line\":{\"color\":\"white\"}},\"header\":{\"fill\":{\"color\":\"#C8D4E3\"},\"line\":{\"color\":\"white\"}},\"type\":\"table\"}],\"barpolar\":[{\"marker\":{\"line\":{\"color\":\"#E5ECF6\",\"width\":0.5},\"pattern\":{\"fillmode\":\"overlay\",\"size\":10,\"solidity\":0.2}},\"type\":\"barpolar\"}],\"pie\":[{\"automargin\":true,\"type\":\"pie\"}]},\"layout\":{\"autotypenumbers\":\"strict\",\"colorway\":[\"#636efa\",\"#EF553B\",\"#00cc96\",\"#ab63fa\",\"#FFA15A\",\"#19d3f3\",\"#FF6692\",\"#B6E880\",\"#FF97FF\",\"#FECB52\"],\"font\":{\"color\":\"#2a3f5f\"},\"hovermode\":\"closest\",\"hoverlabel\":{\"align\":\"left\"},\"paper_bgcolor\":\"white\",\"plot_bgcolor\":\"#E5ECF6\",\"polar\":{\"bgcolor\":\"#E5ECF6\",\"angularaxis\":{\"gridcolor\":\"white\",\"linecolor\":\"white\",\"ticks\":\"\"},\"radialaxis\":{\"gridcolor\":\"white\",\"linecolor\":\"white\",\"ticks\":\"\"}},\"ternary\":{\"bgcolor\":\"#E5ECF6\",\"aaxis\":{\"gridcolor\":\"white\",\"linecolor\":\"white\",\"ticks\":\"\"},\"baxis\":{\"gridcolor\":\"white\",\"linecolor\":\"white\",\"ticks\":\"\"},\"caxis\":{\"gridcolor\":\"white\",\"linecolor\":\"white\",\"ticks\":\"\"}},\"coloraxis\":{\"colorbar\":{\"outlinewidth\":0,\"ticks\":\"\"}},\"colorscale\":{\"sequential\":[[0.0,\"#0d0887\"],[0.1111111111111111,\"#46039f\"],[0.2222222222222222,\"#7201a8\"],[0.3333333333333333,\"#9c179e\"],[0.4444444444444444,\"#bd3786\"],[0.5555555555555556,\"#d8576b\"],[0.6666666666666666,\"#ed7953\"],[0.7777777777777778,\"#fb9f3a\"],[0.8888888888888888,\"#fdca26\"],[1.0,\"#f0f921\"]],\"sequentialminus\":[[0.0,\"#0d0887\"],[0.1111111111111111,\"#46039f\"],[0.2222222222222222,\"#7201a8\"],[0.3333333333333333,\"#9c179e\"],[0.4444444444444444,\"#bd3786\"],[0.5555555555555556,\"#d8576b\"],[0.6666666666666666,\"#ed7953\"],[0.7777777777777778,\"#fb9f3a\"],[0.8888888888888888,\"#fdca26\"],[1.0,\"#f0f921\"]],\"diverging\":[[0,\"#8e0152\"],[0.1,\"#c51b7d\"],[0.2,\"#de77ae\"],[0.3,\"#f1b6da\"],[0.4,\"#fde0ef\"],[0.5,\"#f7f7f7\"],[0.6,\"#e6f5d0\"],[0.7,\"#b8e186\"],[0.8,\"#7fbc41\"],[0.9,\"#4d9221\"],[1,\"#276419\"]]},\"xaxis\":{\"gridcolor\":\"white\",\"linecolor\":\"white\",\"ticks\":\"\",\"title\":{\"standoff\":15},\"zerolinecolor\":\"white\",\"automargin\":true,\"zerolinewidth\":2},\"yaxis\":{\"gridcolor\":\"white\",\"linecolor\":\"white\",\"ticks\":\"\",\"title\":{\"standoff\":15},\"zerolinecolor\":\"white\",\"automargin\":true,\"zerolinewidth\":2},\"scene\":{\"xaxis\":{\"backgroundcolor\":\"#E5ECF6\",\"gridcolor\":\"white\",\"linecolor\":\"white\",\"showbackground\":true,\"ticks\":\"\",\"zerolinecolor\":\"white\",\"gridwidth\":2},\"yaxis\":{\"backgroundcolor\":\"#E5ECF6\",\"gridcolor\":\"white\",\"linecolor\":\"white\",\"showbackground\":true,\"ticks\":\"\",\"zerolinecolor\":\"white\",\"gridwidth\":2},\"zaxis\":{\"backgroundcolor\":\"#E5ECF6\",\"gridcolor\":\"white\",\"linecolor\":\"white\",\"showbackground\":true,\"ticks\":\"\",\"zerolinecolor\":\"white\",\"gridwidth\":2}},\"shapedefaults\":{\"line\":{\"color\":\"#2a3f5f\"}},\"annotationdefaults\":{\"arrowcolor\":\"#2a3f5f\",\"arrowhead\":0,\"arrowwidth\":1},\"geo\":{\"bgcolor\":\"white\",\"landcolor\":\"#E5ECF6\",\"subunitcolor\":\"white\",\"showland\":true,\"showlakes\":true,\"lakecolor\":\"white\"},\"title\":{\"x\":0.05},\"mapbox\":{\"style\":\"light\"}}},\"title\":{\"text\":\"Feature-correlation (pearson)\",\"font\":{\"size\":24},\"x\":0.5},\"xaxis\":{\"autorange\":\"reversed\"},\"autosize\":true,\"width\":1152,\"height\":1056},                        {\"responsive\": true}                    ).then(function(){\n",
              "                            \n",
              "var gd = document.getElementById('fc0843d9-11ae-4091-9957-e26c18c46290');\n",
              "var x = new MutationObserver(function (mutations, observer) {{\n",
              "        var display = window.getComputedStyle(gd).display;\n",
              "        if (!display || display === 'none') {{\n",
              "            console.log([gd, 'removed!']);\n",
              "            Plotly.purge(gd);\n",
              "            observer.disconnect();\n",
              "        }}\n",
              "}});\n",
              "\n",
              "// Listen for the removal of the full notebook cells\n",
              "var notebookContainer = gd.closest('#notebook-container');\n",
              "if (notebookContainer) {{\n",
              "    x.observe(notebookContainer, {childList: true});\n",
              "}}\n",
              "\n",
              "// Listen for the clearing of the current output cell\n",
              "var outputEl = gd.closest('.output');\n",
              "if (outputEl) {{\n",
              "    x.observe(outputEl, {childList: true});\n",
              "}}\n",
              "\n",
              "                        })                };                            </script>        </div>\n",
              "</body>\n",
              "</html>"
            ]
          },
          "metadata": {}
        }
      ]
    },
    {
      "cell_type": "code",
      "source": [
        "klib.dist_plot(training_data)"
      ],
      "metadata": {
        "colab": {
          "base_uri": "https://localhost:8080/",
          "height": 249
        },
        "id": "qwA2TZ4qgRLZ",
        "outputId": "02273d5d-3c28-4f5c-ab2a-bce9e0db968f"
      },
      "execution_count": 22,
      "outputs": [
        {
          "output_type": "stream",
          "name": "stdout",
          "text": [
            "Large dataset detected, using 10000 random samples for the plots. Summary statistics are still based on the entire dataset.\n"
          ]
        },
        {
          "output_type": "execute_result",
          "data": {
            "text/plain": [
              "<Axes: xlabel='source_port', ylabel='Density'>"
            ]
          },
          "metadata": {},
          "execution_count": 22
        },
        {
          "output_type": "display_data",
          "data": {
            "text/plain": [
              "<Figure size 1500x300 with 1 Axes>"
            ],
            "image/png": "[encoded data removed]"
          },
          "metadata": {}
        }
      ]
    },
    {
      "cell_type": "code",
      "source": [
        "klib.missingval_plot(training_data)"
      ],
      "metadata": {
        "colab": {
          "base_uri": "https://localhost:8080/"
        },
        "id": "ohPrvZcxgXXV",
        "outputId": "2ba3de9b-bae4-4594-87af-ffd2196b411a"
      },
      "execution_count": 23,
      "outputs": [
        {
          "output_type": "stream",
          "name": "stdout",
          "text": [
            "No missing values found in the dataset.\n"
          ]
        }
      ]
    },
    {
      "cell_type": "code",
      "source": [
        "klib.corr_mat(training_data)"
      ],
      "metadata": {
        "colab": {
          "base_uri": "https://localhost:8080/",
          "height": 446
        },
        "id": "VrBEnDuMgeZP",
        "outputId": "7917b82c-5104-411f-817f-34306280e03f"
      },
      "execution_count": 24,
      "outputs": [
        {
          "output_type": "execute_result",
          "data": {
            "text/plain": [
              "<pandas.io.formats.style.Styler at 0x7e6b18366cb0>"
            ],
            "text/html": [
              "<style type=\"text/css\">\n",
              "#T_98bbe_row0_col0, #T_98bbe_row0_col2, #T_98bbe_row0_col6, #T_98bbe_row1_col1, #T_98bbe_row1_col3, #T_98bbe_row1_col5, #T_98bbe_row1_col8, #T_98bbe_row1_col11, #T_98bbe_row2_col0, #T_98bbe_row2_col2, #T_98bbe_row2_col3, #T_98bbe_row2_col4, #T_98bbe_row2_col5, #T_98bbe_row2_col6, #T_98bbe_row2_col7, #T_98bbe_row2_col8, #T_98bbe_row2_col9, #T_98bbe_row2_col10, #T_98bbe_row2_col11, #T_98bbe_row3_col1, #T_98bbe_row3_col2, #T_98bbe_row3_col3, #T_98bbe_row3_col4, #T_98bbe_row3_col5, #T_98bbe_row3_col7, #T_98bbe_row3_col8, #T_98bbe_row3_col9, #T_98bbe_row3_col10, #T_98bbe_row3_col11, #T_98bbe_row4_col2, #T_98bbe_row4_col3, #T_98bbe_row4_col4, #T_98bbe_row4_col5, #T_98bbe_row4_col6, #T_98bbe_row4_col7, #T_98bbe_row4_col8, #T_98bbe_row4_col9, #T_98bbe_row4_col10, #T_98bbe_row5_col1, #T_98bbe_row5_col2, #T_98bbe_row5_col3, #T_98bbe_row5_col4, #T_98bbe_row5_col5, #T_98bbe_row5_col6, #T_98bbe_row5_col7, #T_98bbe_row5_col8, #T_98bbe_row5_col9, #T_98bbe_row5_col10, #T_98bbe_row6_col0, #T_98bbe_row6_col2, #T_98bbe_row6_col4, #T_98bbe_row6_col5, #T_98bbe_row6_col6, #T_98bbe_row6_col7, #T_98bbe_row6_col8, #T_98bbe_row6_col9, #T_98bbe_row6_col10, #T_98bbe_row6_col11, #T_98bbe_row7_col2, #T_98bbe_row7_col3, #T_98bbe_row7_col4, #T_98bbe_row7_col5, #T_98bbe_row7_col6, #T_98bbe_row7_col7, #T_98bbe_row7_col8, #T_98bbe_row7_col9, #T_98bbe_row7_col10, #T_98bbe_row7_col11, #T_98bbe_row8_col1, #T_98bbe_row8_col2, #T_98bbe_row8_col3, #T_98bbe_row8_col4, #T_98bbe_row8_col5, #T_98bbe_row8_col6, #T_98bbe_row8_col7, #T_98bbe_row8_col8, #T_98bbe_row8_col9, #T_98bbe_row8_col10, #T_98bbe_row8_col11, #T_98bbe_row9_col2, #T_98bbe_row9_col3, #T_98bbe_row9_col4, #T_98bbe_row9_col5, #T_98bbe_row9_col6, #T_98bbe_row9_col7, #T_98bbe_row9_col8, #T_98bbe_row9_col9, #T_98bbe_row9_col10, #T_98bbe_row10_col2, #T_98bbe_row10_col3, #T_98bbe_row10_col4, #T_98bbe_row10_col5, #T_98bbe_row10_col6, #T_98bbe_row10_col7, #T_98bbe_row10_col8, #T_98bbe_row10_col9, #T_98bbe_row10_col10, #T_98bbe_row10_col11, #T_98bbe_row11_col1, #T_98bbe_row11_col2, #T_98bbe_row11_col3, #T_98bbe_row11_col6, #T_98bbe_row11_col7, #T_98bbe_row11_col8, #T_98bbe_row11_col10, #T_98bbe_row11_col11 {\n",
              "  color: None;\n",
              "}\n",
              "#T_98bbe_row0_col1, #T_98bbe_row0_col3, #T_98bbe_row0_col4, #T_98bbe_row0_col5, #T_98bbe_row0_col7, #T_98bbe_row0_col8, #T_98bbe_row0_col9, #T_98bbe_row0_col10, #T_98bbe_row0_col11, #T_98bbe_row1_col0, #T_98bbe_row1_col2, #T_98bbe_row1_col4, #T_98bbe_row1_col6, #T_98bbe_row1_col7, #T_98bbe_row1_col9, #T_98bbe_row1_col10, #T_98bbe_row2_col1, #T_98bbe_row3_col0, #T_98bbe_row3_col6, #T_98bbe_row4_col0, #T_98bbe_row4_col1, #T_98bbe_row4_col11, #T_98bbe_row5_col0, #T_98bbe_row5_col11, #T_98bbe_row6_col1, #T_98bbe_row6_col3, #T_98bbe_row7_col0, #T_98bbe_row7_col1, #T_98bbe_row8_col0, #T_98bbe_row9_col0, #T_98bbe_row9_col1, #T_98bbe_row9_col11, #T_98bbe_row10_col0, #T_98bbe_row10_col1, #T_98bbe_row11_col0, #T_98bbe_row11_col4, #T_98bbe_row11_col5, #T_98bbe_row11_col9 {\n",
              "  color: #FF3344;\n",
              "}\n",
              "</style>\n",
              "<table id=\"T_98bbe\" class=\"dataframe\">\n",
              "  <thead>\n",
              "    <tr>\n",
              "      <th class=\"blank level0\" >&nbsp;</th>\n",
              "      <th id=\"T_98bbe_level0_col0\" class=\"col_heading level0 col0\" >source_port</th>\n",
              "      <th id=\"T_98bbe_level0_col1\" class=\"col_heading level0 col1\" >destination_port</th>\n",
              "      <th id=\"T_98bbe_level0_col2\" class=\"col_heading level0 col2\" >nat_source_port</th>\n",
              "      <th id=\"T_98bbe_level0_col3\" class=\"col_heading level0 col3\" >nat_destination_port</th>\n",
              "      <th id=\"T_98bbe_level0_col4\" class=\"col_heading level0 col4\" >bytes</th>\n",
              "      <th id=\"T_98bbe_level0_col5\" class=\"col_heading level0 col5\" >bytes_sent</th>\n",
              "      <th id=\"T_98bbe_level0_col6\" class=\"col_heading level0 col6\" >bytes_received</th>\n",
              "      <th id=\"T_98bbe_level0_col7\" class=\"col_heading level0 col7\" >packets</th>\n",
              "      <th id=\"T_98bbe_level0_col8\" class=\"col_heading level0 col8\" >elapsed_time_sec</th>\n",
              "      <th id=\"T_98bbe_level0_col9\" class=\"col_heading level0 col9\" >pkts_sent</th>\n",
              "      <th id=\"T_98bbe_level0_col10\" class=\"col_heading level0 col10\" >pkts_received</th>\n",
              "      <th id=\"T_98bbe_level0_col11\" class=\"col_heading level0 col11\" >id</th>\n",
              "    </tr>\n",
              "  </thead>\n",
              "  <tbody>\n",
              "    <tr>\n",
              "      <th id=\"T_98bbe_level0_row0\" class=\"row_heading level0 row0\" >source_port</th>\n",
              "      <td id=\"T_98bbe_row0_col0\" class=\"data row0 col0\" >1.00</td>\n",
              "      <td id=\"T_98bbe_row0_col1\" class=\"data row0 col1\" >-0.33</td>\n",
              "      <td id=\"T_98bbe_row0_col2\" class=\"data row0 col2\" >0.14</td>\n",
              "      <td id=\"T_98bbe_row0_col3\" class=\"data row0 col3\" >-0.03</td>\n",
              "      <td id=\"T_98bbe_row0_col4\" class=\"data row0 col4\" >-0.00</td>\n",
              "      <td id=\"T_98bbe_row0_col5\" class=\"data row0 col5\" >-0.00</td>\n",
              "      <td id=\"T_98bbe_row0_col6\" class=\"data row0 col6\" >0.00</td>\n",
              "      <td id=\"T_98bbe_row0_col7\" class=\"data row0 col7\" >-0.00</td>\n",
              "      <td id=\"T_98bbe_row0_col8\" class=\"data row0 col8\" >-0.05</td>\n",
              "      <td id=\"T_98bbe_row0_col9\" class=\"data row0 col9\" >-0.00</td>\n",
              "      <td id=\"T_98bbe_row0_col10\" class=\"data row0 col10\" >-0.00</td>\n",
              "      <td id=\"T_98bbe_row0_col11\" class=\"data row0 col11\" >-0.00</td>\n",
              "    </tr>\n",
              "    <tr>\n",
              "      <th id=\"T_98bbe_level0_row1\" class=\"row_heading level0 row1\" >destination_port</th>\n",
              "      <td id=\"T_98bbe_row1_col0\" class=\"data row1 col0\" >-0.33</td>\n",
              "      <td id=\"T_98bbe_row1_col1\" class=\"data row1 col1\" >1.00</td>\n",
              "      <td id=\"T_98bbe_row1_col2\" class=\"data row1 col2\" >-0.28</td>\n",
              "      <td id=\"T_98bbe_row1_col3\" class=\"data row1 col3\" >0.41</td>\n",
              "      <td id=\"T_98bbe_row1_col4\" class=\"data row1 col4\" >-0.00</td>\n",
              "      <td id=\"T_98bbe_row1_col5\" class=\"data row1 col5\" >0.00</td>\n",
              "      <td id=\"T_98bbe_row1_col6\" class=\"data row1 col6\" >-0.01</td>\n",
              "      <td id=\"T_98bbe_row1_col7\" class=\"data row1 col7\" >-0.00</td>\n",
              "      <td id=\"T_98bbe_row1_col8\" class=\"data row1 col8\" >0.02</td>\n",
              "      <td id=\"T_98bbe_row1_col9\" class=\"data row1 col9\" >-0.00</td>\n",
              "      <td id=\"T_98bbe_row1_col10\" class=\"data row1 col10\" >-0.01</td>\n",
              "      <td id=\"T_98bbe_row1_col11\" class=\"data row1 col11\" >0.01</td>\n",
              "    </tr>\n",
              "    <tr>\n",
              "      <th id=\"T_98bbe_level0_row2\" class=\"row_heading level0 row2\" >nat_source_port</th>\n",
              "      <td id=\"T_98bbe_row2_col0\" class=\"data row2 col0\" >0.14</td>\n",
              "      <td id=\"T_98bbe_row2_col1\" class=\"data row2 col1\" >-0.28</td>\n",
              "      <td id=\"T_98bbe_row2_col2\" class=\"data row2 col2\" >1.00</td>\n",
              "      <td id=\"T_98bbe_row2_col3\" class=\"data row2 col3\" >0.18</td>\n",
              "      <td id=\"T_98bbe_row2_col4\" class=\"data row2 col4\" >0.01</td>\n",
              "      <td id=\"T_98bbe_row2_col5\" class=\"data row2 col5\" >0.00</td>\n",
              "      <td id=\"T_98bbe_row2_col6\" class=\"data row2 col6\" >0.02</td>\n",
              "      <td id=\"T_98bbe_row2_col7\" class=\"data row2 col7\" >0.01</td>\n",
              "      <td id=\"T_98bbe_row2_col8\" class=\"data row2 col8\" >0.14</td>\n",
              "      <td id=\"T_98bbe_row2_col9\" class=\"data row2 col9\" >0.01</td>\n",
              "      <td id=\"T_98bbe_row2_col10\" class=\"data row2 col10\" >0.02</td>\n",
              "      <td id=\"T_98bbe_row2_col11\" class=\"data row2 col11\" >0.01</td>\n",
              "    </tr>\n",
              "    <tr>\n",
              "      <th id=\"T_98bbe_level0_row3\" class=\"row_heading level0 row3\" >nat_destination_port</th>\n",
              "      <td id=\"T_98bbe_row3_col0\" class=\"data row3 col0\" >-0.03</td>\n",
              "      <td id=\"T_98bbe_row3_col1\" class=\"data row3 col1\" >0.41</td>\n",
              "      <td id=\"T_98bbe_row3_col2\" class=\"data row3 col2\" >0.18</td>\n",
              "      <td id=\"T_98bbe_row3_col3\" class=\"data row3 col3\" >1.00</td>\n",
              "      <td id=\"T_98bbe_row3_col4\" class=\"data row3 col4\" >0.01</td>\n",
              "      <td id=\"T_98bbe_row3_col5\" class=\"data row3 col5\" >0.01</td>\n",
              "      <td id=\"T_98bbe_row3_col6\" class=\"data row3 col6\" >-0.00</td>\n",
              "      <td id=\"T_98bbe_row3_col7\" class=\"data row3 col7\" >0.01</td>\n",
              "      <td id=\"T_98bbe_row3_col8\" class=\"data row3 col8\" >0.22</td>\n",
              "      <td id=\"T_98bbe_row3_col9\" class=\"data row3 col9\" >0.01</td>\n",
              "      <td id=\"T_98bbe_row3_col10\" class=\"data row3 col10\" >0.00</td>\n",
              "      <td id=\"T_98bbe_row3_col11\" class=\"data row3 col11\" >0.03</td>\n",
              "    </tr>\n",
              "    <tr>\n",
              "      <th id=\"T_98bbe_level0_row4\" class=\"row_heading level0 row4\" >bytes</th>\n",
              "      <td id=\"T_98bbe_row4_col0\" class=\"data row4 col0\" >-0.00</td>\n",
              "      <td id=\"T_98bbe_row4_col1\" class=\"data row4 col1\" >-0.00</td>\n",
              "      <td id=\"T_98bbe_row4_col2\" class=\"data row4 col2\" >0.01</td>\n",
              "      <td id=\"T_98bbe_row4_col3\" class=\"data row4 col3\" >0.01</td>\n",
              "      <td id=\"T_98bbe_row4_col4\" class=\"data row4 col4\" >1.00</td>\n",
              "      <td id=\"T_98bbe_row4_col5\" class=\"data row4 col5\" >0.96</td>\n",
              "      <td id=\"T_98bbe_row4_col6\" class=\"data row4 col6\" >0.86</td>\n",
              "      <td id=\"T_98bbe_row4_col7\" class=\"data row4 col7\" >0.97</td>\n",
              "      <td id=\"T_98bbe_row4_col8\" class=\"data row4 col8\" >0.16</td>\n",
              "      <td id=\"T_98bbe_row4_col9\" class=\"data row4 col9\" >0.99</td>\n",
              "      <td id=\"T_98bbe_row4_col10\" class=\"data row4 col10\" >0.85</td>\n",
              "      <td id=\"T_98bbe_row4_col11\" class=\"data row4 col11\" >-0.00</td>\n",
              "    </tr>\n",
              "    <tr>\n",
              "      <th id=\"T_98bbe_level0_row5\" class=\"row_heading level0 row5\" >bytes_sent</th>\n",
              "      <td id=\"T_98bbe_row5_col0\" class=\"data row5 col0\" >-0.00</td>\n",
              "      <td id=\"T_98bbe_row5_col1\" class=\"data row5 col1\" >0.00</td>\n",
              "      <td id=\"T_98bbe_row5_col2\" class=\"data row5 col2\" >0.00</td>\n",
              "      <td id=\"T_98bbe_row5_col3\" class=\"data row5 col3\" >0.01</td>\n",
              "      <td id=\"T_98bbe_row5_col4\" class=\"data row5 col4\" >0.96</td>\n",
              "      <td id=\"T_98bbe_row5_col5\" class=\"data row5 col5\" >1.00</td>\n",
              "      <td id=\"T_98bbe_row5_col6\" class=\"data row5 col6\" >0.68</td>\n",
              "      <td id=\"T_98bbe_row5_col7\" class=\"data row5 col7\" >0.91</td>\n",
              "      <td id=\"T_98bbe_row5_col8\" class=\"data row5 col8\" >0.15</td>\n",
              "      <td id=\"T_98bbe_row5_col9\" class=\"data row5 col9\" >0.98</td>\n",
              "      <td id=\"T_98bbe_row5_col10\" class=\"data row5 col10\" >0.71</td>\n",
              "      <td id=\"T_98bbe_row5_col11\" class=\"data row5 col11\" >-0.00</td>\n",
              "    </tr>\n",
              "    <tr>\n",
              "      <th id=\"T_98bbe_level0_row6\" class=\"row_heading level0 row6\" >bytes_received</th>\n",
              "      <td id=\"T_98bbe_row6_col0\" class=\"data row6 col0\" >0.00</td>\n",
              "      <td id=\"T_98bbe_row6_col1\" class=\"data row6 col1\" >-0.01</td>\n",
              "      <td id=\"T_98bbe_row6_col2\" class=\"data row6 col2\" >0.02</td>\n",
              "      <td id=\"T_98bbe_row6_col3\" class=\"data row6 col3\" >-0.00</td>\n",
              "      <td id=\"T_98bbe_row6_col4\" class=\"data row6 col4\" >0.86</td>\n",
              "      <td id=\"T_98bbe_row6_col5\" class=\"data row6 col5\" >0.68</td>\n",
              "      <td id=\"T_98bbe_row6_col6\" class=\"data row6 col6\" >1.00</td>\n",
              "      <td id=\"T_98bbe_row6_col7\" class=\"data row6 col7\" >0.89</td>\n",
              "      <td id=\"T_98bbe_row6_col8\" class=\"data row6 col8\" >0.14</td>\n",
              "      <td id=\"T_98bbe_row6_col9\" class=\"data row6 col9\" >0.80</td>\n",
              "      <td id=\"T_98bbe_row6_col10\" class=\"data row6 col10\" >0.94</td>\n",
              "      <td id=\"T_98bbe_row6_col11\" class=\"data row6 col11\" >0.00</td>\n",
              "    </tr>\n",
              "    <tr>\n",
              "      <th id=\"T_98bbe_level0_row7\" class=\"row_heading level0 row7\" >packets</th>\n",
              "      <td id=\"T_98bbe_row7_col0\" class=\"data row7 col0\" >-0.00</td>\n",
              "      <td id=\"T_98bbe_row7_col1\" class=\"data row7 col1\" >-0.00</td>\n",
              "      <td id=\"T_98bbe_row7_col2\" class=\"data row7 col2\" >0.01</td>\n",
              "      <td id=\"T_98bbe_row7_col3\" class=\"data row7 col3\" >0.01</td>\n",
              "      <td id=\"T_98bbe_row7_col4\" class=\"data row7 col4\" >0.97</td>\n",
              "      <td id=\"T_98bbe_row7_col5\" class=\"data row7 col5\" >0.91</td>\n",
              "      <td id=\"T_98bbe_row7_col6\" class=\"data row7 col6\" >0.89</td>\n",
              "      <td id=\"T_98bbe_row7_col7\" class=\"data row7 col7\" >1.00</td>\n",
              "      <td id=\"T_98bbe_row7_col8\" class=\"data row7 col8\" >0.16</td>\n",
              "      <td id=\"T_98bbe_row7_col9\" class=\"data row7 col9\" >0.98</td>\n",
              "      <td id=\"T_98bbe_row7_col10\" class=\"data row7 col10\" >0.94</td>\n",
              "      <td id=\"T_98bbe_row7_col11\" class=\"data row7 col11\" >0.00</td>\n",
              "    </tr>\n",
              "    <tr>\n",
              "      <th id=\"T_98bbe_level0_row8\" class=\"row_heading level0 row8\" >elapsed_time_sec</th>\n",
              "      <td id=\"T_98bbe_row8_col0\" class=\"data row8 col0\" >-0.05</td>\n",
              "      <td id=\"T_98bbe_row8_col1\" class=\"data row8 col1\" >0.02</td>\n",
              "      <td id=\"T_98bbe_row8_col2\" class=\"data row8 col2\" >0.14</td>\n",
              "      <td id=\"T_98bbe_row8_col3\" class=\"data row8 col3\" >0.22</td>\n",
              "      <td id=\"T_98bbe_row8_col4\" class=\"data row8 col4\" >0.16</td>\n",
              "      <td id=\"T_98bbe_row8_col5\" class=\"data row8 col5\" >0.15</td>\n",
              "      <td id=\"T_98bbe_row8_col6\" class=\"data row8 col6\" >0.14</td>\n",
              "      <td id=\"T_98bbe_row8_col7\" class=\"data row8 col7\" >0.16</td>\n",
              "      <td id=\"T_98bbe_row8_col8\" class=\"data row8 col8\" >1.00</td>\n",
              "      <td id=\"T_98bbe_row8_col9\" class=\"data row8 col9\" >0.16</td>\n",
              "      <td id=\"T_98bbe_row8_col10\" class=\"data row8 col10\" >0.14</td>\n",
              "      <td id=\"T_98bbe_row8_col11\" class=\"data row8 col11\" >0.02</td>\n",
              "    </tr>\n",
              "    <tr>\n",
              "      <th id=\"T_98bbe_level0_row9\" class=\"row_heading level0 row9\" >pkts_sent</th>\n",
              "      <td id=\"T_98bbe_row9_col0\" class=\"data row9 col0\" >-0.00</td>\n",
              "      <td id=\"T_98bbe_row9_col1\" class=\"data row9 col1\" >-0.00</td>\n",
              "      <td id=\"T_98bbe_row9_col2\" class=\"data row9 col2\" >0.01</td>\n",
              "      <td id=\"T_98bbe_row9_col3\" class=\"data row9 col3\" >0.01</td>\n",
              "      <td id=\"T_98bbe_row9_col4\" class=\"data row9 col4\" >0.99</td>\n",
              "      <td id=\"T_98bbe_row9_col5\" class=\"data row9 col5\" >0.98</td>\n",
              "      <td id=\"T_98bbe_row9_col6\" class=\"data row9 col6\" >0.80</td>\n",
              "      <td id=\"T_98bbe_row9_col7\" class=\"data row9 col7\" >0.98</td>\n",
              "      <td id=\"T_98bbe_row9_col8\" class=\"data row9 col8\" >0.16</td>\n",
              "      <td id=\"T_98bbe_row9_col9\" class=\"data row9 col9\" >1.00</td>\n",
              "      <td id=\"T_98bbe_row9_col10\" class=\"data row9 col10\" >0.84</td>\n",
              "      <td id=\"T_98bbe_row9_col11\" class=\"data row9 col11\" >-0.00</td>\n",
              "    </tr>\n",
              "    <tr>\n",
              "      <th id=\"T_98bbe_level0_row10\" class=\"row_heading level0 row10\" >pkts_received</th>\n",
              "      <td id=\"T_98bbe_row10_col0\" class=\"data row10 col0\" >-0.00</td>\n",
              "      <td id=\"T_98bbe_row10_col1\" class=\"data row10 col1\" >-0.01</td>\n",
              "      <td id=\"T_98bbe_row10_col2\" class=\"data row10 col2\" >0.02</td>\n",
              "      <td id=\"T_98bbe_row10_col3\" class=\"data row10 col3\" >0.00</td>\n",
              "      <td id=\"T_98bbe_row10_col4\" class=\"data row10 col4\" >0.85</td>\n",
              "      <td id=\"T_98bbe_row10_col5\" class=\"data row10 col5\" >0.71</td>\n",
              "      <td id=\"T_98bbe_row10_col6\" class=\"data row10 col6\" >0.94</td>\n",
              "      <td id=\"T_98bbe_row10_col7\" class=\"data row10 col7\" >0.94</td>\n",
              "      <td id=\"T_98bbe_row10_col8\" class=\"data row10 col8\" >0.14</td>\n",
              "      <td id=\"T_98bbe_row10_col9\" class=\"data row10 col9\" >0.84</td>\n",
              "      <td id=\"T_98bbe_row10_col10\" class=\"data row10 col10\" >1.00</td>\n",
              "      <td id=\"T_98bbe_row10_col11\" class=\"data row10 col11\" >0.01</td>\n",
              "    </tr>\n",
              "    <tr>\n",
              "      <th id=\"T_98bbe_level0_row11\" class=\"row_heading level0 row11\" >id</th>\n",
              "      <td id=\"T_98bbe_row11_col0\" class=\"data row11 col0\" >-0.00</td>\n",
              "      <td id=\"T_98bbe_row11_col1\" class=\"data row11 col1\" >0.01</td>\n",
              "      <td id=\"T_98bbe_row11_col2\" class=\"data row11 col2\" >0.01</td>\n",
              "      <td id=\"T_98bbe_row11_col3\" class=\"data row11 col3\" >0.03</td>\n",
              "      <td id=\"T_98bbe_row11_col4\" class=\"data row11 col4\" >-0.00</td>\n",
              "      <td id=\"T_98bbe_row11_col5\" class=\"data row11 col5\" >-0.00</td>\n",
              "      <td id=\"T_98bbe_row11_col6\" class=\"data row11 col6\" >0.00</td>\n",
              "      <td id=\"T_98bbe_row11_col7\" class=\"data row11 col7\" >0.00</td>\n",
              "      <td id=\"T_98bbe_row11_col8\" class=\"data row11 col8\" >0.02</td>\n",
              "      <td id=\"T_98bbe_row11_col9\" class=\"data row11 col9\" >-0.00</td>\n",
              "      <td id=\"T_98bbe_row11_col10\" class=\"data row11 col10\" >0.01</td>\n",
              "      <td id=\"T_98bbe_row11_col11\" class=\"data row11 col11\" >1.00</td>\n",
              "    </tr>\n",
              "  </tbody>\n",
              "</table>\n"
            ]
          },
          "metadata": {},
          "execution_count": 24
        }
      ]
    },
    {
      "cell_type": "code",
      "source": [
        "training_data.columns"
      ],
      "metadata": {
        "colab": {
          "base_uri": "https://localhost:8080/"
        },
        "id": "FXhCHn_UggQL",
        "outputId": "6575b172-f5dc-45fa-f3b1-c5e72a08e715"
      },
      "execution_count": 25,
      "outputs": [
        {
          "output_type": "execute_result",
          "data": {
            "text/plain": [
              "Index(['source_port', 'destination_port', 'nat_source_port',\n",
              "       'nat_destination_port', 'action', 'bytes', 'bytes_sent',\n",
              "       'bytes_received', 'packets', 'elapsed_time_sec', 'pkts_sent',\n",
              "       'pkts_received', 'id'],\n",
              "      dtype='object')"
            ]
          },
          "metadata": {},
          "execution_count": 25
        }
      ]
    },
    {
      "cell_type": "code",
      "source": [
        "# Checking for outliers in the continuous variables\n",
        "num_train_dataset = training_data[['source_port', 'destination_port', 'nat_source_port',\n",
        "       'nat_destination_port', 'action', 'bytes', 'bytes_sent',\n",
        "       'bytes_received', 'packets', 'elapsed_time_sec', 'pkts_sent',\n",
        "       'pkts_received', 'id']]\n"
      ],
      "metadata": {
        "id": "_CMJiM8Jglbx"
      },
      "execution_count": 26,
      "outputs": []
    },
    {
      "cell_type": "code",
      "source": [
        "training_data['action'].value_counts()"
      ],
      "metadata": {
        "colab": {
          "base_uri": "https://localhost:8080/"
        },
        "id": "vN6MQsaMguGI",
        "outputId": "e0960674-f021-4e92-a553-3859536027af"
      },
      "execution_count": 27,
      "outputs": [
        {
          "output_type": "execute_result",
          "data": {
            "text/plain": [
              "action\n",
              "allow         26311\n",
              "deny          10500\n",
              "drop           9021\n",
              "reset-both       40\n",
              "Name: count, dtype: int64"
            ]
          },
          "metadata": {},
          "execution_count": 27
        }
      ]
    },
    {
      "cell_type": "code",
      "source": [
        "training_data['action'] = training_data['action'].astype('category').cat.codes\n",
        "testing_data['action'] = testing_data['action'].astype('category').cat.codes"
      ],
      "metadata": {
        "id": "Z8WaNdT_g0v9"
      },
      "execution_count": 28,
      "outputs": []
    },
    {
      "cell_type": "code",
      "source": [
        "training_data['action'].value_counts()"
      ],
      "metadata": {
        "colab": {
          "base_uri": "https://localhost:8080/"
        },
        "id": "VHm4cbMRg-KN",
        "outputId": "67034005-af84-4a64-ca10-1feb54f72d26"
      },
      "execution_count": 29,
      "outputs": [
        {
          "output_type": "execute_result",
          "data": {
            "text/plain": [
              "action\n",
              "0    26311\n",
              "1    10500\n",
              "2     9021\n",
              "3       40\n",
              "Name: count, dtype: int64"
            ]
          },
          "metadata": {},
          "execution_count": 29
        }
      ]
    },
    {
      "cell_type": "code",
      "source": [
        "y_train = training_data['action']\n",
        "x_train = training_data.drop('action', axis = 1)\n",
        "y_test = testing_data['action']\n",
        "x_test = testing_data.drop('action', axis = 1)"
      ],
      "metadata": {
        "id": "D9vQSKlihH5U"
      },
      "execution_count": 30,
      "outputs": []
    },
    {
      "cell_type": "code",
      "source": [
        "from sklearn.ensemble import ExtraTreesClassifier\n",
        "extra_tree_forest = ExtraTreesClassifier(n_estimators = 5,\n",
        "                                        criterion ='entropy', max_features = 2)\n",
        "extra_tree_forest.fit(x_train, y_train)\n",
        "feature_importance = extra_tree_forest.feature_importances_\n",
        "feature_importance_normalized = np.std([tree.feature_importances_ for tree in\n",
        "                                        extra_tree_forest.estimators_],\n",
        "                                        axis = 0)"
      ],
      "metadata": {
        "id": "P5lGIe-whYl9"
      },
      "execution_count": 31,
      "outputs": []
    },
    {
      "cell_type": "code",
      "source": [
        "feature_importance_normalized"
      ],
      "metadata": {
        "colab": {
          "base_uri": "https://localhost:8080/"
        },
        "id": "VH6buS7Bhdh2",
        "outputId": "0b275af9-f029-4eb6-dc80-4353c8e0180c"
      },
      "execution_count": 32,
      "outputs": [
        {
          "output_type": "execute_result",
          "data": {
            "text/plain": [
              "array([0.05675952, 0.16426633, 0.11188091, 0.06129195, 0.00335718,\n",
              "       0.00493371, 0.00305258, 0.0187216 , 0.0243437 , 0.01163417,\n",
              "       0.01434409, 0.01811124])"
            ]
          },
          "metadata": {},
          "execution_count": 32
        }
      ]
    },
    {
      "cell_type": "code",
      "source": [
        "plt.figure(figsize = [20,5])\n",
        "plt.bar(x_train.columns, feature_importance_normalized)\n",
        "plt.xlabel('Feature Labels')\n",
        "plt.ylabel('Feature Importances')\n",
        "plt.xticks(rotation = 90)\n",
        "plt.title('Comparison of different Feature Importances')\n",
        "plt.show()"
      ],
      "metadata": {
        "colab": {
          "base_uri": "https://localhost:8080/",
          "height": 390
        },
        "id": "rBPUAxOthfXG",
        "outputId": "f77268d9-971b-48c0-b43d-55c7d4b474b5"
      },
      "execution_count": 33,
      "outputs": [
        {
          "output_type": "display_data",
          "data": {
            "text/plain": [
              "<Figure size 2000x500 with 1 Axes>"
            ],
            "image/png": "[encoded data removed]"
          },
          "metadata": {}
        }
      ]
    },
    {
      "cell_type": "code",
      "source": [
        "print(\"The columns of the x_train :\", x_train.columns)\n",
        "print(\"The columns of the x_test :\", x_test.columns)"
      ],
      "metadata": {
        "colab": {
          "base_uri": "https://localhost:8080/"
        },
        "id": "luhnwQOehl9T",
        "outputId": "007b4c3d-185f-41fd-e4bf-adb526221816"
      },
      "execution_count": 34,
      "outputs": [
        {
          "output_type": "stream",
          "name": "stdout",
          "text": [
            "The columns of the x_train : Index(['source_port', 'destination_port', 'nat_source_port',\n",
            "       'nat_destination_port', 'bytes', 'bytes_sent', 'bytes_received',\n",
            "       'packets', 'elapsed_time_sec', 'pkts_sent', 'pkts_received', 'id'],\n",
            "      dtype='object')\n",
            "The columns of the x_test : Index(['source_port', 'destination_port', 'nat_source_port',\n",
            "       'nat_destination_port', 'bytes', 'bytes_sent', 'bytes_received',\n",
            "       'packets', 'elapsed_time_sec', 'pkts_sent', 'pkts_received', 'id'],\n",
            "      dtype='object')\n"
          ]
        }
      ]
    },
    {
      "cell_type": "code",
      "source": [
        "x_train2 = x_train[['source_port', 'destination_port', 'nat_source_port',\n",
        "       'nat_destination_port', 'bytes', 'bytes_sent', 'bytes_received',\n",
        "       'packets', 'elapsed_time_sec', 'pkts_sent', 'pkts_received']]"
      ],
      "metadata": {
        "id": "lRTaUx5VlT2g"
      },
      "execution_count": 35,
      "outputs": []
    },
    {
      "cell_type": "code",
      "source": [
        "x_test2 = x_test[['source_port', 'destination_port', 'nat_source_port',\n",
        "       'nat_destination_port', 'bytes', 'bytes_sent', 'bytes_received',\n",
        "       'packets', 'elapsed_time_sec', 'pkts_sent', 'pkts_received']]"
      ],
      "metadata": {
        "id": "o9aYkYSilT7G"
      },
      "execution_count": 36,
      "outputs": []
    },
    {
      "cell_type": "code",
      "source": [
        "print(x_train2.shape, x_test2.shape)"
      ],
      "metadata": {
        "colab": {
          "base_uri": "https://localhost:8080/"
        },
        "id": "aZGCe-lhlUCt",
        "outputId": "6a647f2a-65c5-4331-dc70-509b8ac9b857"
      },
      "execution_count": 37,
      "outputs": [
        {
          "output_type": "stream",
          "name": "stdout",
          "text": [
            "(45872, 11) (19660, 11)\n"
          ]
        }
      ]
    },
    {
      "cell_type": "code",
      "source": [
        "y_train.value_counts()"
      ],
      "metadata": {
        "colab": {
          "base_uri": "https://localhost:8080/"
        },
        "id": "ig8Go7O7l8kO",
        "outputId": "34eed731-b0fc-4f58-de2d-fb4cd7e626ff"
      },
      "execution_count": 38,
      "outputs": [
        {
          "output_type": "execute_result",
          "data": {
            "text/plain": [
              "action\n",
              "0    26311\n",
              "1    10500\n",
              "2     9021\n",
              "3       40\n",
              "Name: count, dtype: int64"
            ]
          },
          "metadata": {},
          "execution_count": 38
        }
      ]
    },
    {
      "cell_type": "code",
      "source": [
        "x_train2 = pd.DataFrame(x_train2)\n",
        "x_test2 = pd.DataFrame(x_test2)"
      ],
      "metadata": {
        "id": "UmSak_twl-Qb"
      },
      "execution_count": 39,
      "outputs": []
    },
    {
      "cell_type": "markdown",
      "source": [
        "### Pearson Correlation"
      ],
      "metadata": {
        "id": "VqAtg5EXmDOV"
      }
    },
    {
      "cell_type": "code",
      "source": [
        "x_train2.astype(float).corr()"
      ],
      "metadata": {
        "colab": {
          "base_uri": "https://localhost:8080/",
          "height": 414
        },
        "id": "6U5Ex6sgmAnB",
        "outputId": "c7b33887-b837-4579-8782-abb8ffc2b5e0"
      },
      "execution_count": 40,
      "outputs": [
        {
          "output_type": "execute_result",
          "data": {
            "text/plain": [
              "                      source_port  destination_port  nat_source_port  \\\n",
              "source_port              1.000000         -0.332822         0.144624   \n",
              "destination_port        -0.332822          1.000000        -0.281346   \n",
              "nat_source_port          0.144624         -0.281346         1.000000   \n",
              "nat_destination_port    -0.026874          0.410776         0.176844   \n",
              "bytes                   -0.000384         -0.003970         0.010345   \n",
              "bytes_sent              -0.001174          0.002086         0.002506   \n",
              "bytes_received           0.001163         -0.014347         0.022666   \n",
              "packets                 -0.002848         -0.004812         0.012151   \n",
              "elapsed_time_sec        -0.045490          0.023451         0.141599   \n",
              "pkts_sent               -0.002032         -0.001526         0.007036   \n",
              "pkts_received           -0.003874         -0.009608         0.019156   \n",
              "\n",
              "                      nat_destination_port     bytes  bytes_sent  \\\n",
              "source_port                      -0.026874 -0.000384   -0.001174   \n",
              "destination_port                  0.410776 -0.003970    0.002086   \n",
              "nat_source_port                   0.176844  0.010345    0.002506   \n",
              "nat_destination_port              1.000000  0.005874    0.009378   \n",
              "bytes                             0.005874  1.000000    0.961022   \n",
              "bytes_sent                        0.009378  0.961022    1.000000   \n",
              "bytes_received                   -0.001877  0.858692    0.683532   \n",
              "packets                           0.006277  0.974205    0.907204   \n",
              "elapsed_time_sec                  0.219658  0.159429    0.148848   \n",
              "pkts_sent                         0.007417  0.989239    0.975093   \n",
              "pkts_received                     0.003822  0.853142    0.707939   \n",
              "\n",
              "                      bytes_received   packets  elapsed_time_sec  pkts_sent  \\\n",
              "source_port                 0.001163 -0.002848         -0.045490  -0.002032   \n",
              "destination_port           -0.014347 -0.004812          0.023451  -0.001526   \n",
              "nat_source_port             0.022666  0.012151          0.141599   0.007036   \n",
              "nat_destination_port       -0.001877  0.006277          0.219658   0.007417   \n",
              "bytes                       0.858692  0.974205          0.159429   0.989239   \n",
              "bytes_sent                  0.683532  0.907204          0.148848   0.975093   \n",
              "bytes_received              1.000000  0.890350          0.144997   0.804198   \n",
              "packets                     0.890350  1.000000          0.158293   0.976507   \n",
              "elapsed_time_sec            0.144997  0.158293          1.000000   0.156879   \n",
              "pkts_sent                   0.804198  0.976507          0.156879   1.000000   \n",
              "pkts_received               0.940104  0.938233          0.144815   0.841632   \n",
              "\n",
              "                      pkts_received  \n",
              "source_port               -0.003874  \n",
              "destination_port          -0.009608  \n",
              "nat_source_port            0.019156  \n",
              "nat_destination_port       0.003822  \n",
              "bytes                      0.853142  \n",
              "bytes_sent                 0.707939  \n",
              "bytes_received             0.940104  \n",
              "packets                    0.938233  \n",
              "elapsed_time_sec           0.144815  \n",
              "pkts_sent                  0.841632  \n",
              "pkts_received              1.000000  "
            ],
            "text/html": [
              "\n",
              "  <div id=\"df-c5559c3e-3456-4a66-8876-6b93c7aa9dd3\" class=\"colab-df-container\">\n",
              "    <div>\n",
              "<style scoped>\n",
              "    .dataframe tbody tr th:only-of-type {\n",
              "        vertical-align: middle;\n",
              "    }\n",
              "\n",
              "    .dataframe tbody tr th {\n",
              "        vertical-align: top;\n",
              "    }\n",
              "\n",
              "    .dataframe thead th {\n",
              "        text-align: right;\n",
              "    }\n",
              "</style>\n",
              "<table border=\"1\" class=\"dataframe\">\n",
              "  <thead>\n",
              "    <tr style=\"text-align: right;\">\n",
              "      <th></th>\n",
              "      <th>source_port</th>\n",
              "      <th>destination_port</th>\n",
              "      <th>nat_source_port</th>\n",
              "      <th>nat_destination_port</th>\n",
              "      <th>bytes</th>\n",
              "      <th>bytes_sent</th>\n",
              "      <th>bytes_received</th>\n",
              "      <th>packets</th>\n",
              "      <th>elapsed_time_sec</th>\n",
              "      <th>pkts_sent</th>\n",
              "      <th>pkts_received</th>\n",
              "    </tr>\n",
              "  </thead>\n",
              "  <tbody>\n",
              "    <tr>\n",
              "      <th>source_port</th>\n",
              "      <td>1.000000</td>\n",
              "      <td>-0.332822</td>\n",
              "      <td>0.144624</td>\n",
              "      <td>-0.026874</td>\n",
              "      <td>-0.000384</td>\n",
              "      <td>-0.001174</td>\n",
              "      <td>0.001163</td>\n",
              "      <td>-0.002848</td>\n",
              "      <td>-0.045490</td>\n",
              "      <td>-0.002032</td>\n",
              "      <td>-0.003874</td>\n",
              "    </tr>\n",
              "    <tr>\n",
              "      <th>destination_port</th>\n",
              "      <td>-0.332822</td>\n",
              "      <td>1.000000</td>\n",
              "      <td>-0.281346</td>\n",
              "      <td>0.410776</td>\n",
              "      <td>-0.003970</td>\n",
              "      <td>0.002086</td>\n",
              "      <td>-0.014347</td>\n",
              "      <td>-0.004812</td>\n",
              "      <td>0.023451</td>\n",
              "      <td>-0.001526</td>\n",
              "      <td>-0.009608</td>\n",
              "    </tr>\n",
              "    <tr>\n",
              "      <th>nat_source_port</th>\n",
              "      <td>0.144624</td>\n",
              "      <td>-0.281346</td>\n",
              "      <td>1.000000</td>\n",
              "      <td>0.176844</td>\n",
              "      <td>0.010345</td>\n",
              "      <td>0.002506</td>\n",
              "      <td>0.022666</td>\n",
              "      <td>0.012151</td>\n",
              "      <td>0.141599</td>\n",
              "      <td>0.007036</td>\n",
              "      <td>0.019156</td>\n",
              "    </tr>\n",
              "    <tr>\n",
              "      <th>nat_destination_port</th>\n",
              "      <td>-0.026874</td>\n",
              "      <td>0.410776</td>\n",
              "      <td>0.176844</td>\n",
              "      <td>1.000000</td>\n",
              "      <td>0.005874</td>\n",
              "      <td>0.009378</td>\n",
              "      <td>-0.001877</td>\n",
              "      <td>0.006277</td>\n",
              "      <td>0.219658</td>\n",
              "      <td>0.007417</td>\n",
              "      <td>0.003822</td>\n",
              "    </tr>\n",
              "    <tr>\n",
              "      <th>bytes</th>\n",
              "      <td>-0.000384</td>\n",
              "      <td>-0.003970</td>\n",
              "      <td>0.010345</td>\n",
              "      <td>0.005874</td>\n",
              "      <td>1.000000</td>\n",
              "      <td>0.961022</td>\n",
              "      <td>0.858692</td>\n",
              "      <td>0.974205</td>\n",
              "      <td>0.159429</td>\n",
              "      <td>0.989239</td>\n",
              "      <td>0.853142</td>\n",
              "    </tr>\n",
              "    <tr>\n",
              "      <th>bytes_sent</th>\n",
              "      <td>-0.001174</td>\n",
              "      <td>0.002086</td>\n",
              "      <td>0.002506</td>\n",
              "      <td>0.009378</td>\n",
              "      <td>0.961022</td>\n",
              "      <td>1.000000</td>\n",
              "      <td>0.683532</td>\n",
              "      <td>0.907204</td>\n",
              "      <td>0.148848</td>\n",
              "      <td>0.975093</td>\n",
              "      <td>0.707939</td>\n",
              "    </tr>\n",
              "    <tr>\n",
              "      <th>bytes_received</th>\n",
              "      <td>0.001163</td>\n",
              "      <td>-0.014347</td>\n",
              "      <td>0.022666</td>\n",
              "      <td>-0.001877</td>\n",
              "      <td>0.858692</td>\n",
              "      <td>0.683532</td>\n",
              "      <td>1.000000</td>\n",
              "      <td>0.890350</td>\n",
              "      <td>0.144997</td>\n",
              "      <td>0.804198</td>\n",
              "      <td>0.940104</td>\n",
              "    </tr>\n",
              "    <tr>\n",
              "      <th>packets</th>\n",
              "      <td>-0.002848</td>\n",
              "      <td>-0.004812</td>\n",
              "      <td>0.012151</td>\n",
              "      <td>0.006277</td>\n",
              "      <td>0.974205</td>\n",
              "      <td>0.907204</td>\n",
              "      <td>0.890350</td>\n",
              "      <td>1.000000</td>\n",
              "      <td>0.158293</td>\n",
              "      <td>0.976507</td>\n",
              "      <td>0.938233</td>\n",
              "    </tr>\n",
              "    <tr>\n",
              "      <th>elapsed_time_sec</th>\n",
              "      <td>-0.045490</td>\n",
              "      <td>0.023451</td>\n",
              "      <td>0.141599</td>\n",
              "      <td>0.219658</td>\n",
              "      <td>0.159429</td>\n",
              "      <td>0.148848</td>\n",
              "      <td>0.144997</td>\n",
              "      <td>0.158293</td>\n",
              "      <td>1.000000</td>\n",
              "      <td>0.156879</td>\n",
              "      <td>0.144815</td>\n",
              "    </tr>\n",
              "    <tr>\n",
              "      <th>pkts_sent</th>\n",
              "      <td>-0.002032</td>\n",
              "      <td>-0.001526</td>\n",
              "      <td>0.007036</td>\n",
              "      <td>0.007417</td>\n",
              "      <td>0.989239</td>\n",
              "      <td>0.975093</td>\n",
              "      <td>0.804198</td>\n",
              "      <td>0.976507</td>\n",
              "      <td>0.156879</td>\n",
              "      <td>1.000000</td>\n",
              "      <td>0.841632</td>\n",
              "    </tr>\n",
              "    <tr>\n",
              "      <th>pkts_received</th>\n",
              "      <td>-0.003874</td>\n",
              "      <td>-0.009608</td>\n",
              "      <td>0.019156</td>\n",
              "      <td>0.003822</td>\n",
              "      <td>0.853142</td>\n",
              "      <td>0.707939</td>\n",
              "      <td>0.940104</td>\n",
              "      <td>0.938233</td>\n",
              "      <td>0.144815</td>\n",
              "      <td>0.841632</td>\n",
              "      <td>1.000000</td>\n",
              "    </tr>\n",
              "  </tbody>\n",
              "</table>\n",
              "</div>\n",
              "    <div class=\"colab-df-buttons\">\n",
              "\n",
              "  <div class=\"colab-df-container\">\n",
              "    <button class=\"colab-df-convert\" onclick=\"convertToInteractive('df-c5559c3e-3456-4a66-8876-6b93c7aa9dd3')\"\n",
              "            title=\"Convert this dataframe to an interactive table.\"\n",
              "            style=\"display:none;\">\n",
              "\n",
              "  <svg xmlns=\"http://www.w3.org/2000/svg\" height=\"24px\" viewBox=\"0 -960 960 960\">\n",
              "    <path d=\"M120-120v-720h720v720H120Zm60-500h600v-160H180v160Zm220 220h160v-160H400v160Zm0 220h160v-160H400v160ZM180-400h160v-160H180v160Zm440 0h160v-160H620v160ZM180-180h160v-160H180v160Zm440 0h160v-160H620v160Z\"/>\n",
              "  </svg>\n",
              "    </button>\n",
              "\n",
              "  <style>\n",
              "    .colab-df-container {\n",
              "      display:flex;\n",
              "      gap: 12px;\n",
              "    }\n",
              "\n",
              "    .colab-df-convert {\n",
              "      background-color: #E8F0FE;\n",
              "      border: none;\n",
              "      border-radius: 50%;\n",
              "      cursor: pointer;\n",
              "      display: none;\n",
              "      fill: #1967D2;\n",
              "      height: 32px;\n",
              "      padding: 0 0 0 0;\n",
              "      width: 32px;\n",
              "    }\n",
              "\n",
              "    .colab-df-convert:hover {\n",
              "      background-color: #E2EBFA;\n",
              "      box-shadow: 0px 1px 2px rgba(60, 64, 67, 0.3), 0px 1px 3px 1px rgba(60, 64, 67, 0.15);\n",
              "      fill: #174EA6;\n",
              "    }\n",
              "\n",
              "    .colab-df-buttons div {\n",
              "      margin-bottom: 4px;\n",
              "    }\n",
              "\n",
              "    [theme=dark] .colab-df-convert {\n",
              "      background-color: #3B4455;\n",
              "      fill: #D2E3FC;\n",
              "    }\n",
              "\n",
              "    [theme=dark] .colab-df-convert:hover {\n",
              "      background-color: #434B5C;\n",
              "      box-shadow: 0px 1px 3px 1px rgba(0, 0, 0, 0.15);\n",
              "      filter: drop-shadow(0px 1px 2px rgba(0, 0, 0, 0.3));\n",
              "      fill: #FFFFFF;\n",
              "    }\n",
              "  </style>\n",
              "\n",
              "    <script>\n",
              "      const buttonEl =\n",
              "        document.querySelector('#df-c5559c3e-3456-4a66-8876-6b93c7aa9dd3 button.colab-df-convert');\n",
              "      buttonEl.style.display =\n",
              "        google.colab.kernel.accessAllowed ? 'block' : 'none';\n",
              "\n",
              "      async function convertToInteractive(key) {\n",
              "        const element = document.querySelector('#df-c5559c3e-3456-4a66-8876-6b93c7aa9dd3');\n",
              "        const dataTable =\n",
              "          await google.colab.kernel.invokeFunction('convertToInteractive',\n",
              "                                                    [key], {});\n",
              "        if (!dataTable) return;\n",
              "\n",
              "        const docLinkHtml = 'Like what you see? Visit the ' +\n",
              "          '<a target=\"_blank\" href=https://colab.research.google.com/notebooks/data_table.ipynb>data table notebook</a>'\n",
              "          + ' to learn more about interactive tables.';\n",
              "        element.innerHTML = '';\n",
              "        dataTable['output_type'] = 'display_data';\n",
              "        await google.colab.output.renderOutput(dataTable, element);\n",
              "        const docLink = document.createElement('div');\n",
              "        docLink.innerHTML = docLinkHtml;\n",
              "        element.appendChild(docLink);\n",
              "      }\n",
              "    </script>\n",
              "  </div>\n",
              "\n",
              "\n",
              "<div id=\"df-7eee9e11-4428-4f4f-9340-a4a1c13ef46f\">\n",
              "  <button class=\"colab-df-quickchart\" onclick=\"quickchart('df-7eee9e11-4428-4f4f-9340-a4a1c13ef46f')\"\n",
              "            title=\"Suggest charts\"\n",
              "            style=\"display:none;\">\n",
              "\n",
              "<svg xmlns=\"http://www.w3.org/2000/svg\" height=\"24px\"viewBox=\"0 0 24 24\"\n",
              "     width=\"24px\">\n",
              "    <g>\n",
              "        <path d=\"M19 3H5c-1.1 0-2 .9-2 2v14c0 1.1.9 2 2 2h14c1.1 0 2-.9 2-2V5c0-1.1-.9-2-2-2zM9 17H7v-7h2v7zm4 0h-2V7h2v10zm4 0h-2v-4h2v4z\"/>\n",
              "    </g>\n",
              "</svg>\n",
              "  </button>\n",
              "\n",
              "<style>\n",
              "  .colab-df-quickchart {\n",
              "      --bg-color: #E8F0FE;\n",
              "      --fill-color: #1967D2;\n",
              "      --hover-bg-color: #E2EBFA;\n",
              "      --hover-fill-color: #174EA6;\n",
              "      --disabled-fill-color: #AAA;\n",
              "      --disabled-bg-color: #DDD;\n",
              "  }\n",
              "\n",
              "  [theme=dark] .colab-df-quickchart {\n",
              "      --bg-color: #3B4455;\n",
              "      --fill-color: #D2E3FC;\n",
              "      --hover-bg-color: #434B5C;\n",
              "      --hover-fill-color: #FFFFFF;\n",
              "      --disabled-bg-color: #3B4455;\n",
              "      --disabled-fill-color: #666;\n",
              "  }\n",
              "\n",
              "  .colab-df-quickchart {\n",
              "    background-color: var(--bg-color);\n",
              "    border: none;\n",
              "    border-radius: 50%;\n",
              "    cursor: pointer;\n",
              "    display: none;\n",
              "    fill: var(--fill-color);\n",
              "    height: 32px;\n",
              "    padding: 0;\n",
              "    width: 32px;\n",
              "  }\n",
              "\n",
              "  .colab-df-quickchart:hover {\n",
              "    background-color: var(--hover-bg-color);\n",
              "    box-shadow: 0 1px 2px rgba(60, 64, 67, 0.3), 0 1px 3px 1px rgba(60, 64, 67, 0.15);\n",
              "    fill: var(--button-hover-fill-color);\n",
              "  }\n",
              "\n",
              "  .colab-df-quickchart-complete:disabled,\n",
              "  .colab-df-quickchart-complete:disabled:hover {\n",
              "    background-color: var(--disabled-bg-color);\n",
              "    fill: var(--disabled-fill-color);\n",
              "    box-shadow: none;\n",
              "  }\n",
              "\n",
              "  .colab-df-spinner {\n",
              "    border: 2px solid var(--fill-color);\n",
              "    border-color: transparent;\n",
              "    border-bottom-color: var(--fill-color);\n",
              "    animation:\n",
              "      spin 1s steps(1) infinite;\n",
              "  }\n",
              "\n",
              "  @keyframes spin {\n",
              "    0% {\n",
              "      border-color: transparent;\n",
              "      border-bottom-color: var(--fill-color);\n",
              "      border-left-color: var(--fill-color);\n",
              "    }\n",
              "    20% {\n",
              "      border-color: transparent;\n",
              "      border-left-color: var(--fill-color);\n",
              "      border-top-color: var(--fill-color);\n",
              "    }\n",
              "    30% {\n",
              "      border-color: transparent;\n",
              "      border-left-color: var(--fill-color);\n",
              "      border-top-color: var(--fill-color);\n",
              "      border-right-color: var(--fill-color);\n",
              "    }\n",
              "    40% {\n",
              "      border-color: transparent;\n",
              "      border-right-color: var(--fill-color);\n",
              "      border-top-color: var(--fill-color);\n",
              "    }\n",
              "    60% {\n",
              "      border-color: transparent;\n",
              "      border-right-color: var(--fill-color);\n",
              "    }\n",
              "    80% {\n",
              "      border-color: transparent;\n",
              "      border-right-color: var(--fill-color);\n",
              "      border-bottom-color: var(--fill-color);\n",
              "    }\n",
              "    90% {\n",
              "      border-color: transparent;\n",
              "      border-bottom-color: var(--fill-color);\n",
              "    }\n",
              "  }\n",
              "</style>\n",
              "\n",
              "  <script>\n",
              "    async function quickchart(key) {\n",
              "      const quickchartButtonEl =\n",
              "        document.querySelector('#' + key + ' button');\n",
              "      quickchartButtonEl.disabled = true;  // To prevent multiple clicks.\n",
              "      quickchartButtonEl.classList.add('colab-df-spinner');\n",
              "      try {\n",
              "        const charts = await google.colab.kernel.invokeFunction(\n",
              "            'suggestCharts', [key], {});\n",
              "      } catch (error) {\n",
              "        console.error('Error during call to suggestCharts:', error);\n",
              "      }\n",
              "      quickchartButtonEl.classList.remove('colab-df-spinner');\n",
              "      quickchartButtonEl.classList.add('colab-df-quickchart-complete');\n",
              "    }\n",
              "    (() => {\n",
              "      let quickchartButtonEl =\n",
              "        document.querySelector('#df-7eee9e11-4428-4f4f-9340-a4a1c13ef46f button');\n",
              "      quickchartButtonEl.style.display =\n",
              "        google.colab.kernel.accessAllowed ? 'block' : 'none';\n",
              "    })();\n",
              "  </script>\n",
              "</div>\n",
              "\n",
              "    </div>\n",
              "  </div>\n"
            ],
            "application/vnd.google.colaboratory.intrinsic+json": {
              "type": "dataframe",
              "summary": "{\n  \"name\": \"x_train2\",\n  \"rows\": 11,\n  \"fields\": [\n    {\n      \"column\": \"source_port\",\n      \"properties\": {\n        \"dtype\": \"number\",\n        \"std\": 0.3295488714216847,\n        \"min\": -0.3328223490576145,\n        \"max\": 1.0,\n        \"num_unique_values\": 11,\n        \"samples\": [\n          -0.0011735091547588907,\n          1.0,\n          -0.0020324836148181567\n        ],\n        \"semantic_type\": \"\",\n        \"description\": \"\"\n      }\n    },\n    {\n      \"column\": \"destination_port\",\n      \"properties\": {\n        \"dtype\": \"number\",\n        \"std\": 0.3609881244270788,\n        \"min\": -0.3328223490576145,\n        \"max\": 1.0,\n        \"num_unique_values\": 11,\n        \"samples\": [\n          0.0020857826192151197,\n          -0.3328223490576145,\n          -0.001526298412517118\n        ],\n        \"semantic_type\": \"\",\n        \"description\": \"\"\n      }\n    },\n    {\n      \"column\": \"nat_source_port\",\n      \"properties\": {\n        \"dtype\": \"number\",\n        \"std\": 0.31769011563531235,\n        \"min\": -0.28134570931206754,\n        \"max\": 1.0,\n        \"num_unique_values\": 11,\n        \"samples\": [\n          0.002505913952199612,\n          0.14462411792355,\n          0.0070357753993685705\n        ],\n        \"semantic_type\": \"\",\n        \"description\": \"\"\n      }\n    },\n    {\n      \"column\": \"nat_destination_port\",\n      \"properties\": {\n        \"dtype\": \"number\",\n        \"std\": 0.30837707623063426,\n        \"min\": -0.02687409000866004,\n        \"max\": 1.0,\n        \"num_unique_values\": 11,\n        \"samples\": [\n          0.009378338841007175,\n          -0.02687409000866004,\n          0.007416671432303234\n        ],\n        \"semantic_type\": \"\",\n        \"description\": \"\"\n      }\n    },\n    {\n      \"column\": \"bytes\",\n      \"properties\": {\n        \"dtype\": \"number\",\n        \"std\": 0.47705497050631374,\n        \"min\": -0.003969618658186814,\n        \"max\": 1.0,\n        \"num_unique_values\": 11,\n        \"samples\": [\n          0.9610217331917229,\n          -0.0003835129960820767,\n          0.9892385766421292\n        ],\n        \"semantic_type\": \"\",\n        \"description\": \"\"\n      }\n    },\n    {\n      \"column\": \"bytes_sent\",\n      \"properties\": {\n        \"dtype\": \"number\",\n        \"std\": 0.4517331460930332,\n        \"min\": -0.0011735091547588907,\n        \"max\": 1.0,\n        \"num_unique_values\": 11,\n        \"samples\": [\n          1.0,\n          -0.0011735091547588907,\n          0.9750926078632045\n        ],\n        \"semantic_type\": \"\",\n        \"description\": \"\"\n      }\n    },\n    {\n      \"column\": \"bytes_received\",\n      \"properties\": {\n        \"dtype\": \"number\",\n        \"std\": 0.44355936442624294,\n        \"min\": -0.01434662061496352,\n        \"max\": 1.0,\n        \"num_unique_values\": 11,\n        \"samples\": [\n          0.6835321900905509,\n          0.0011627877771938932,\n          0.8041981842615508\n        ],\n        \"semantic_type\": \"\",\n        \"description\": \"\"\n      }\n    },\n    {\n      \"column\": \"packets\",\n      \"properties\": {\n        \"dtype\": \"number\",\n        \"std\": 0.48030053747192564,\n        \"min\": -0.0048117115732345585,\n        \"max\": 1.0,\n        \"num_unique_values\": 11,\n        \"samples\": [\n          0.9072044432206983,\n          -0.002847895500635086,\n          0.9765069947317162\n        ],\n        \"semantic_type\": \"\",\n        \"description\": \"\"\n      }\n    },\n    {\n      \"column\": \"elapsed_time_sec\",\n      \"properties\": {\n        \"dtype\": \"number\",\n        \"std\": 0.2736628601398437,\n        \"min\": -0.045489556773552944,\n        \"max\": 1.0,\n        \"num_unique_values\": 11,\n        \"samples\": [\n          0.1488478694812573,\n          -0.045489556773552944,\n          0.15687919028242292\n        ],\n        \"semantic_type\": \"\",\n        \"description\": \"\"\n      }\n    },\n    {\n      \"column\": \"pkts_sent\",\n      \"properties\": {\n        \"dtype\": \"number\",\n        \"std\": 0.4745986553348371,\n        \"min\": -0.0020324836148181567,\n        \"max\": 1.0,\n        \"num_unique_values\": 11,\n        \"samples\": [\n          0.9750926078632045,\n          -0.0020324836148181567,\n          1.0\n        ],\n        \"semantic_type\": \"\",\n        \"description\": \"\"\n      }\n    },\n    {\n      \"column\": \"pkts_received\",\n      \"properties\": {\n        \"dtype\": \"number\",\n        \"std\": 0.45134996989108905,\n        \"min\": -0.009608372144194905,\n        \"max\": 1.0,\n        \"num_unique_values\": 11,\n        \"samples\": [\n          0.7079390012407579,\n          -0.003873862958340614,\n          0.841631812675877\n        ],\n        \"semantic_type\": \"\",\n        \"description\": \"\"\n      }\n    }\n  ]\n}"
            }
          },
          "metadata": {},
          "execution_count": 40
        }
      ]
    },
    {
      "cell_type": "code",
      "source": [
        "y_train = pd.DataFrame(y_train)\n",
        "y_test = pd.DataFrame(y_test)"
      ],
      "metadata": {
        "id": "SBLtu6pRmYTq"
      },
      "execution_count": 41,
      "outputs": []
    },
    {
      "cell_type": "code",
      "source": [
        "print(x_test2.columns, x_train2.columns)"
      ],
      "metadata": {
        "colab": {
          "base_uri": "https://localhost:8080/"
        },
        "id": "sR2VF8hMmYZi",
        "outputId": "67a42ca5-3205-4898-bd9c-c26380455c54"
      },
      "execution_count": 42,
      "outputs": [
        {
          "output_type": "stream",
          "name": "stdout",
          "text": [
            "Index(['source_port', 'destination_port', 'nat_source_port',\n",
            "       'nat_destination_port', 'bytes', 'bytes_sent', 'bytes_received',\n",
            "       'packets', 'elapsed_time_sec', 'pkts_sent', 'pkts_received'],\n",
            "      dtype='object') Index(['source_port', 'destination_port', 'nat_source_port',\n",
            "       'nat_destination_port', 'bytes', 'bytes_sent', 'bytes_received',\n",
            "       'packets', 'elapsed_time_sec', 'pkts_sent', 'pkts_received'],\n",
            "      dtype='object')\n"
          ]
        }
      ]
    },
    {
      "cell_type": "code",
      "source": [
        "###!pip install pycaret\n",
        "###! pip install jinja2\n",
        "###! pip install markupsafe==2.0.1"
      ],
      "metadata": {
        "id": "XHTSty6X53oP"
      },
      "execution_count": null,
      "outputs": []
    },
    {
      "cell_type": "code",
      "source": [
        "import pycaret\n",
        "from pycaret.classification import *"
      ],
      "metadata": {
        "id": "st22Za5n53sv"
      },
      "execution_count": 81,
      "outputs": []
    },
    {
      "cell_type": "code",
      "source": [
        "print(training_data.shape, testing_data.shape)"
      ],
      "metadata": {
        "colab": {
          "base_uri": "https://localhost:8080/"
        },
        "id": "bsvTHBYR53xr",
        "outputId": "4115d99b-5da6-42a4-a6c4-f30ece7d42a9"
      },
      "execution_count": 83,
      "outputs": [
        {
          "output_type": "stream",
          "name": "stdout",
          "text": [
            "(45872, 13) (19660, 13)\n"
          ]
        }
      ]
    },
    {
      "cell_type": "code",
      "source": [
        "training_data.columns"
      ],
      "metadata": {
        "colab": {
          "base_uri": "https://localhost:8080/"
        },
        "id": "20qNl6Vf5312",
        "outputId": "4b971cbf-3cb1-4ca2-a434-80da4930386c"
      },
      "execution_count": 84,
      "outputs": [
        {
          "output_type": "execute_result",
          "data": {
            "text/plain": [
              "Index(['source_port', 'destination_port', 'nat_source_port',\n",
              "       'nat_destination_port', 'action', 'bytes', 'bytes_sent',\n",
              "       'bytes_received', 'packets', 'elapsed_time_sec', 'pkts_sent',\n",
              "       'pkts_received', 'id'],\n",
              "      dtype='object')"
            ]
          },
          "metadata": {},
          "execution_count": 84
        }
      ]
    },
    {
      "cell_type": "code",
      "source": [
        "model= setup(data= training_data, target= 'action')"
      ],
      "metadata": {
        "colab": {
          "base_uri": "https://localhost:8080/",
          "height": 645
        },
        "id": "DS-Gv7Pa536B",
        "outputId": "6b9ef441-2c11-494a-cf23-000090ceb34f"
      },
      "execution_count": 85,
      "outputs": [
        {
          "output_type": "display_data",
          "data": {
            "text/plain": [
              "<pandas.io.formats.style.Styler at 0x7e6abaf86d70>"
            ],
            "text/html": [
              "<style type=\"text/css\">\n",
              "#T_665ec_row8_col1 {\n",
              "  background-color: lightgreen;\n",
              "}\n",
              "</style>\n",
              "<table id=\"T_665ec\" class=\"dataframe\">\n",
              "  <thead>\n",
              "    <tr>\n",
              "      <th class=\"blank level0\" >&nbsp;</th>\n",
              "      <th id=\"T_665ec_level0_col0\" class=\"col_heading level0 col0\" >Description</th>\n",
              "      <th id=\"T_665ec_level0_col1\" class=\"col_heading level0 col1\" >Value</th>\n",
              "    </tr>\n",
              "  </thead>\n",
              "  <tbody>\n",
              "    <tr>\n",
              "      <th id=\"T_665ec_level0_row0\" class=\"row_heading level0 row0\" >0</th>\n",
              "      <td id=\"T_665ec_row0_col0\" class=\"data row0 col0\" >Session id</td>\n",
              "      <td id=\"T_665ec_row0_col1\" class=\"data row0 col1\" >2131</td>\n",
              "    </tr>\n",
              "    <tr>\n",
              "      <th id=\"T_665ec_level0_row1\" class=\"row_heading level0 row1\" >1</th>\n",
              "      <td id=\"T_665ec_row1_col0\" class=\"data row1 col0\" >Target</td>\n",
              "      <td id=\"T_665ec_row1_col1\" class=\"data row1 col1\" >action</td>\n",
              "    </tr>\n",
              "    <tr>\n",
              "      <th id=\"T_665ec_level0_row2\" class=\"row_heading level0 row2\" >2</th>\n",
              "      <td id=\"T_665ec_row2_col0\" class=\"data row2 col0\" >Target type</td>\n",
              "      <td id=\"T_665ec_row2_col1\" class=\"data row2 col1\" >Multiclass</td>\n",
              "    </tr>\n",
              "    <tr>\n",
              "      <th id=\"T_665ec_level0_row3\" class=\"row_heading level0 row3\" >3</th>\n",
              "      <td id=\"T_665ec_row3_col0\" class=\"data row3 col0\" >Original data shape</td>\n",
              "      <td id=\"T_665ec_row3_col1\" class=\"data row3 col1\" >(45872, 13)</td>\n",
              "    </tr>\n",
              "    <tr>\n",
              "      <th id=\"T_665ec_level0_row4\" class=\"row_heading level0 row4\" >4</th>\n",
              "      <td id=\"T_665ec_row4_col0\" class=\"data row4 col0\" >Transformed data shape</td>\n",
              "      <td id=\"T_665ec_row4_col1\" class=\"data row4 col1\" >(45872, 13)</td>\n",
              "    </tr>\n",
              "    <tr>\n",
              "      <th id=\"T_665ec_level0_row5\" class=\"row_heading level0 row5\" >5</th>\n",
              "      <td id=\"T_665ec_row5_col0\" class=\"data row5 col0\" >Transformed train set shape</td>\n",
              "      <td id=\"T_665ec_row5_col1\" class=\"data row5 col1\" >(32110, 13)</td>\n",
              "    </tr>\n",
              "    <tr>\n",
              "      <th id=\"T_665ec_level0_row6\" class=\"row_heading level0 row6\" >6</th>\n",
              "      <td id=\"T_665ec_row6_col0\" class=\"data row6 col0\" >Transformed test set shape</td>\n",
              "      <td id=\"T_665ec_row6_col1\" class=\"data row6 col1\" >(13762, 13)</td>\n",
              "    </tr>\n",
              "    <tr>\n",
              "      <th id=\"T_665ec_level0_row7\" class=\"row_heading level0 row7\" >7</th>\n",
              "      <td id=\"T_665ec_row7_col0\" class=\"data row7 col0\" >Numeric features</td>\n",
              "      <td id=\"T_665ec_row7_col1\" class=\"data row7 col1\" >12</td>\n",
              "    </tr>\n",
              "    <tr>\n",
              "      <th id=\"T_665ec_level0_row8\" class=\"row_heading level0 row8\" >8</th>\n",
              "      <td id=\"T_665ec_row8_col0\" class=\"data row8 col0\" >Preprocess</td>\n",
              "      <td id=\"T_665ec_row8_col1\" class=\"data row8 col1\" >True</td>\n",
              "    </tr>\n",
              "    <tr>\n",
              "      <th id=\"T_665ec_level0_row9\" class=\"row_heading level0 row9\" >9</th>\n",
              "      <td id=\"T_665ec_row9_col0\" class=\"data row9 col0\" >Imputation type</td>\n",
              "      <td id=\"T_665ec_row9_col1\" class=\"data row9 col1\" >simple</td>\n",
              "    </tr>\n",
              "    <tr>\n",
              "      <th id=\"T_665ec_level0_row10\" class=\"row_heading level0 row10\" >10</th>\n",
              "      <td id=\"T_665ec_row10_col0\" class=\"data row10 col0\" >Numeric imputation</td>\n",
              "      <td id=\"T_665ec_row10_col1\" class=\"data row10 col1\" >mean</td>\n",
              "    </tr>\n",
              "    <tr>\n",
              "      <th id=\"T_665ec_level0_row11\" class=\"row_heading level0 row11\" >11</th>\n",
              "      <td id=\"T_665ec_row11_col0\" class=\"data row11 col0\" >Categorical imputation</td>\n",
              "      <td id=\"T_665ec_row11_col1\" class=\"data row11 col1\" >mode</td>\n",
              "    </tr>\n",
              "    <tr>\n",
              "      <th id=\"T_665ec_level0_row12\" class=\"row_heading level0 row12\" >12</th>\n",
              "      <td id=\"T_665ec_row12_col0\" class=\"data row12 col0\" >Fold Generator</td>\n",
              "      <td id=\"T_665ec_row12_col1\" class=\"data row12 col1\" >StratifiedKFold</td>\n",
              "    </tr>\n",
              "    <tr>\n",
              "      <th id=\"T_665ec_level0_row13\" class=\"row_heading level0 row13\" >13</th>\n",
              "      <td id=\"T_665ec_row13_col0\" class=\"data row13 col0\" >Fold Number</td>\n",
              "      <td id=\"T_665ec_row13_col1\" class=\"data row13 col1\" >10</td>\n",
              "    </tr>\n",
              "    <tr>\n",
              "      <th id=\"T_665ec_level0_row14\" class=\"row_heading level0 row14\" >14</th>\n",
              "      <td id=\"T_665ec_row14_col0\" class=\"data row14 col0\" >CPU Jobs</td>\n",
              "      <td id=\"T_665ec_row14_col1\" class=\"data row14 col1\" >-1</td>\n",
              "    </tr>\n",
              "    <tr>\n",
              "      <th id=\"T_665ec_level0_row15\" class=\"row_heading level0 row15\" >15</th>\n",
              "      <td id=\"T_665ec_row15_col0\" class=\"data row15 col0\" >Use GPU</td>\n",
              "      <td id=\"T_665ec_row15_col1\" class=\"data row15 col1\" >False</td>\n",
              "    </tr>\n",
              "    <tr>\n",
              "      <th id=\"T_665ec_level0_row16\" class=\"row_heading level0 row16\" >16</th>\n",
              "      <td id=\"T_665ec_row16_col0\" class=\"data row16 col0\" >Log Experiment</td>\n",
              "      <td id=\"T_665ec_row16_col1\" class=\"data row16 col1\" >False</td>\n",
              "    </tr>\n",
              "    <tr>\n",
              "      <th id=\"T_665ec_level0_row17\" class=\"row_heading level0 row17\" >17</th>\n",
              "      <td id=\"T_665ec_row17_col0\" class=\"data row17 col0\" >Experiment Name</td>\n",
              "      <td id=\"T_665ec_row17_col1\" class=\"data row17 col1\" >clf-default-name</td>\n",
              "    </tr>\n",
              "    <tr>\n",
              "      <th id=\"T_665ec_level0_row18\" class=\"row_heading level0 row18\" >18</th>\n",
              "      <td id=\"T_665ec_row18_col0\" class=\"data row18 col0\" >USI</td>\n",
              "      <td id=\"T_665ec_row18_col1\" class=\"data row18 col1\" >64b2</td>\n",
              "    </tr>\n",
              "  </tbody>\n",
              "</table>\n"
            ]
          },
          "metadata": {}
        }
      ]
    },
    {
      "cell_type": "code",
      "source": [
        "compare_models()"
      ],
      "metadata": {
        "colab": {
          "base_uri": "https://localhost:8080/",
          "height": 568,
          "referenced_widgets": [
            "3f294e1777f345419bcb1ce9d837f74f",
            "190b246a17c84ba3a66f8c08851ded5d",
            "2038e3aeb8d0471aa2ace9489fd4076d",
            "2353bfa852b6428fb4987695f7273e77",
            "182e6eeabcfa4686999280866082043d",
            "2256e337bfba44d292824cefdf5a96f0",
            "786951c0322c4602a8d78abcc0d49843",
            "1bb0d7b34fea447eb0eaa1752f236f67",
            "34f1b67d467b42a880a767e92b6e2ef2",
            "c3e470fd7ec641bba1e07ee627832a3a",
            "dd6555f45c894227b7ee6d2bd64a1bed"
          ]
        },
        "id": "vF1B37ZZ6wm5",
        "outputId": "0391de14-400f-44a0-e050-896830271662"
      },
      "execution_count": 86,
      "outputs": [
        {
          "output_type": "display_data",
          "data": {
            "text/plain": [
              "<IPython.core.display.HTML object>"
            ],
            "text/html": []
          },
          "metadata": {}
        },
        {
          "output_type": "display_data",
          "data": {
            "text/plain": [
              "<pandas.io.formats.style.Styler at 0x7e6ae652e0e0>"
            ],
            "text/html": [
              "<style type=\"text/css\">\n",
              "#T_b627e th {\n",
              "  text-align: left;\n",
              "}\n",
              "#T_b627e_row0_col0, #T_b627e_row1_col0, #T_b627e_row1_col1, #T_b627e_row1_col2, #T_b627e_row1_col3, #T_b627e_row1_col4, #T_b627e_row1_col5, #T_b627e_row1_col6, #T_b627e_row1_col7, #T_b627e_row2_col0, #T_b627e_row2_col1, #T_b627e_row2_col2, #T_b627e_row2_col3, #T_b627e_row2_col4, #T_b627e_row2_col5, #T_b627e_row2_col6, #T_b627e_row2_col7, #T_b627e_row3_col0, #T_b627e_row3_col1, #T_b627e_row3_col2, #T_b627e_row3_col3, #T_b627e_row3_col4, #T_b627e_row3_col5, #T_b627e_row3_col6, #T_b627e_row3_col7, #T_b627e_row4_col0, #T_b627e_row4_col1, #T_b627e_row4_col2, #T_b627e_row4_col3, #T_b627e_row4_col4, #T_b627e_row4_col5, #T_b627e_row4_col6, #T_b627e_row4_col7, #T_b627e_row5_col0, #T_b627e_row5_col1, #T_b627e_row5_col2, #T_b627e_row5_col3, #T_b627e_row5_col4, #T_b627e_row5_col5, #T_b627e_row5_col6, #T_b627e_row5_col7, #T_b627e_row6_col0, #T_b627e_row6_col1, #T_b627e_row6_col2, #T_b627e_row6_col3, #T_b627e_row6_col4, #T_b627e_row6_col5, #T_b627e_row6_col6, #T_b627e_row6_col7, #T_b627e_row7_col0, #T_b627e_row7_col1, #T_b627e_row7_col2, #T_b627e_row7_col3, #T_b627e_row7_col4, #T_b627e_row7_col5, #T_b627e_row7_col6, #T_b627e_row7_col7, #T_b627e_row8_col0, #T_b627e_row8_col1, #T_b627e_row8_col2, #T_b627e_row8_col3, #T_b627e_row8_col4, #T_b627e_row8_col5, #T_b627e_row8_col6, #T_b627e_row8_col7, #T_b627e_row9_col0, #T_b627e_row9_col1, #T_b627e_row9_col2, #T_b627e_row9_col3, #T_b627e_row9_col4, #T_b627e_row9_col5, #T_b627e_row9_col6, #T_b627e_row9_col7, #T_b627e_row10_col0, #T_b627e_row10_col1, #T_b627e_row10_col2, #T_b627e_row10_col3, #T_b627e_row10_col4, #T_b627e_row10_col5, #T_b627e_row10_col6, #T_b627e_row10_col7, #T_b627e_row11_col0, #T_b627e_row11_col1, #T_b627e_row11_col2, #T_b627e_row11_col3, #T_b627e_row11_col4, #T_b627e_row11_col5, #T_b627e_row11_col6, #T_b627e_row11_col7, #T_b627e_row12_col0, #T_b627e_row12_col1, #T_b627e_row12_col2, #T_b627e_row12_col3, #T_b627e_row12_col4, #T_b627e_row12_col5, #T_b627e_row12_col6, #T_b627e_row12_col7, #T_b627e_row13_col0, #T_b627e_row13_col1, #T_b627e_row13_col2, #T_b627e_row13_col3, #T_b627e_row13_col4, #T_b627e_row13_col5, #T_b627e_row13_col6, #T_b627e_row13_col7, #T_b627e_row14_col0, #T_b627e_row14_col1, #T_b627e_row14_col2, #T_b627e_row14_col3, #T_b627e_row14_col4, #T_b627e_row14_col5, #T_b627e_row14_col6, #T_b627e_row14_col7, #T_b627e_row15_col0, #T_b627e_row15_col1, #T_b627e_row15_col2, #T_b627e_row15_col3, #T_b627e_row15_col4, #T_b627e_row15_col5, #T_b627e_row15_col6, #T_b627e_row15_col7 {\n",
              "  text-align: left;\n",
              "}\n",
              "#T_b627e_row0_col1, #T_b627e_row0_col2, #T_b627e_row0_col3, #T_b627e_row0_col4, #T_b627e_row0_col5, #T_b627e_row0_col6, #T_b627e_row0_col7 {\n",
              "  text-align: left;\n",
              "  background-color: yellow;\n",
              "}\n",
              "#T_b627e_row0_col8, #T_b627e_row1_col8, #T_b627e_row2_col8, #T_b627e_row3_col8, #T_b627e_row4_col8, #T_b627e_row5_col8, #T_b627e_row6_col8, #T_b627e_row7_col8, #T_b627e_row8_col8, #T_b627e_row9_col8, #T_b627e_row10_col8, #T_b627e_row12_col8, #T_b627e_row13_col8, #T_b627e_row14_col8, #T_b627e_row15_col8 {\n",
              "  text-align: left;\n",
              "  background-color: lightgrey;\n",
              "}\n",
              "#T_b627e_row11_col8 {\n",
              "  text-align: left;\n",
              "  background-color: yellow;\n",
              "  background-color: lightgrey;\n",
              "}\n",
              "</style>\n",
              "<table id=\"T_b627e\" class=\"dataframe\">\n",
              "  <thead>\n",
              "    <tr>\n",
              "      <th class=\"blank level0\" >&nbsp;</th>\n",
              "      <th id=\"T_b627e_level0_col0\" class=\"col_heading level0 col0\" >Model</th>\n",
              "      <th id=\"T_b627e_level0_col1\" class=\"col_heading level0 col1\" >Accuracy</th>\n",
              "      <th id=\"T_b627e_level0_col2\" class=\"col_heading level0 col2\" >AUC</th>\n",
              "      <th id=\"T_b627e_level0_col3\" class=\"col_heading level0 col3\" >Recall</th>\n",
              "      <th id=\"T_b627e_level0_col4\" class=\"col_heading level0 col4\" >Prec.</th>\n",
              "      <th id=\"T_b627e_level0_col5\" class=\"col_heading level0 col5\" >F1</th>\n",
              "      <th id=\"T_b627e_level0_col6\" class=\"col_heading level0 col6\" >Kappa</th>\n",
              "      <th id=\"T_b627e_level0_col7\" class=\"col_heading level0 col7\" >MCC</th>\n",
              "      <th id=\"T_b627e_level0_col8\" class=\"col_heading level0 col8\" >TT (Sec)</th>\n",
              "    </tr>\n",
              "  </thead>\n",
              "  <tbody>\n",
              "    <tr>\n",
              "      <th id=\"T_b627e_level0_row0\" class=\"row_heading level0 row0\" >catboost</th>\n",
              "      <td id=\"T_b627e_row0_col0\" class=\"data row0 col0\" >CatBoost Classifier</td>\n",
              "      <td id=\"T_b627e_row0_col1\" class=\"data row0 col1\" >0.9986</td>\n",
              "      <td id=\"T_b627e_row0_col2\" class=\"data row0 col2\" >0.9999</td>\n",
              "      <td id=\"T_b627e_row0_col3\" class=\"data row0 col3\" >0.9986</td>\n",
              "      <td id=\"T_b627e_row0_col4\" class=\"data row0 col4\" >0.9982</td>\n",
              "      <td id=\"T_b627e_row0_col5\" class=\"data row0 col5\" >0.9984</td>\n",
              "      <td id=\"T_b627e_row0_col6\" class=\"data row0 col6\" >0.9976</td>\n",
              "      <td id=\"T_b627e_row0_col7\" class=\"data row0 col7\" >0.9976</td>\n",
              "      <td id=\"T_b627e_row0_col8\" class=\"data row0 col8\" >32.1660</td>\n",
              "    </tr>\n",
              "    <tr>\n",
              "      <th id=\"T_b627e_level0_row1\" class=\"row_heading level0 row1\" >rf</th>\n",
              "      <td id=\"T_b627e_row1_col0\" class=\"data row1 col0\" >Random Forest Classifier</td>\n",
              "      <td id=\"T_b627e_row1_col1\" class=\"data row1 col1\" >0.9984</td>\n",
              "      <td id=\"T_b627e_row1_col2\" class=\"data row1 col2\" >0.9997</td>\n",
              "      <td id=\"T_b627e_row1_col3\" class=\"data row1 col3\" >0.9984</td>\n",
              "      <td id=\"T_b627e_row1_col4\" class=\"data row1 col4\" >0.9978</td>\n",
              "      <td id=\"T_b627e_row1_col5\" class=\"data row1 col5\" >0.9981</td>\n",
              "      <td id=\"T_b627e_row1_col6\" class=\"data row1 col6\" >0.9972</td>\n",
              "      <td id=\"T_b627e_row1_col7\" class=\"data row1 col7\" >0.9972</td>\n",
              "      <td id=\"T_b627e_row1_col8\" class=\"data row1 col8\" >2.2140</td>\n",
              "    </tr>\n",
              "    <tr>\n",
              "      <th id=\"T_b627e_level0_row2\" class=\"row_heading level0 row2\" >et</th>\n",
              "      <td id=\"T_b627e_row2_col0\" class=\"data row2 col0\" >Extra Trees Classifier</td>\n",
              "      <td id=\"T_b627e_row2_col1\" class=\"data row2 col1\" >0.9983</td>\n",
              "      <td id=\"T_b627e_row2_col2\" class=\"data row2 col2\" >0.9996</td>\n",
              "      <td id=\"T_b627e_row2_col3\" class=\"data row2 col3\" >0.9983</td>\n",
              "      <td id=\"T_b627e_row2_col4\" class=\"data row2 col4\" >0.9979</td>\n",
              "      <td id=\"T_b627e_row2_col5\" class=\"data row2 col5\" >0.9981</td>\n",
              "      <td id=\"T_b627e_row2_col6\" class=\"data row2 col6\" >0.9971</td>\n",
              "      <td id=\"T_b627e_row2_col7\" class=\"data row2 col7\" >0.9971</td>\n",
              "      <td id=\"T_b627e_row2_col8\" class=\"data row2 col8\" >1.3310</td>\n",
              "    </tr>\n",
              "    <tr>\n",
              "      <th id=\"T_b627e_level0_row3\" class=\"row_heading level0 row3\" >xgboost</th>\n",
              "      <td id=\"T_b627e_row3_col0\" class=\"data row3 col0\" >Extreme Gradient Boosting</td>\n",
              "      <td id=\"T_b627e_row3_col1\" class=\"data row3 col1\" >0.9983</td>\n",
              "      <td id=\"T_b627e_row3_col2\" class=\"data row3 col2\" >0.9998</td>\n",
              "      <td id=\"T_b627e_row3_col3\" class=\"data row3 col3\" >0.9983</td>\n",
              "      <td id=\"T_b627e_row3_col4\" class=\"data row3 col4\" >0.9979</td>\n",
              "      <td id=\"T_b627e_row3_col5\" class=\"data row3 col5\" >0.9981</td>\n",
              "      <td id=\"T_b627e_row3_col6\" class=\"data row3 col6\" >0.9971</td>\n",
              "      <td id=\"T_b627e_row3_col7\" class=\"data row3 col7\" >0.9971</td>\n",
              "      <td id=\"T_b627e_row3_col8\" class=\"data row3 col8\" >1.6430</td>\n",
              "    </tr>\n",
              "    <tr>\n",
              "      <th id=\"T_b627e_level0_row4\" class=\"row_heading level0 row4\" >dt</th>\n",
              "      <td id=\"T_b627e_row4_col0\" class=\"data row4 col0\" >Decision Tree Classifier</td>\n",
              "      <td id=\"T_b627e_row4_col1\" class=\"data row4 col1\" >0.9980</td>\n",
              "      <td id=\"T_b627e_row4_col2\" class=\"data row4 col2\" >0.9987</td>\n",
              "      <td id=\"T_b627e_row4_col3\" class=\"data row4 col3\" >0.9980</td>\n",
              "      <td id=\"T_b627e_row4_col4\" class=\"data row4 col4\" >0.9979</td>\n",
              "      <td id=\"T_b627e_row4_col5\" class=\"data row4 col5\" >0.9979</td>\n",
              "      <td id=\"T_b627e_row4_col6\" class=\"data row4 col6\" >0.9965</td>\n",
              "      <td id=\"T_b627e_row4_col7\" class=\"data row4 col7\" >0.9965</td>\n",
              "      <td id=\"T_b627e_row4_col8\" class=\"data row4 col8\" >0.1170</td>\n",
              "    </tr>\n",
              "    <tr>\n",
              "      <th id=\"T_b627e_level0_row5\" class=\"row_heading level0 row5\" >gbc</th>\n",
              "      <td id=\"T_b627e_row5_col0\" class=\"data row5 col0\" >Gradient Boosting Classifier</td>\n",
              "      <td id=\"T_b627e_row5_col1\" class=\"data row5 col1\" >0.9978</td>\n",
              "      <td id=\"T_b627e_row5_col2\" class=\"data row5 col2\" >0.9992</td>\n",
              "      <td id=\"T_b627e_row5_col3\" class=\"data row5 col3\" >0.9978</td>\n",
              "      <td id=\"T_b627e_row5_col4\" class=\"data row5 col4\" >0.9976</td>\n",
              "      <td id=\"T_b627e_row5_col5\" class=\"data row5 col5\" >0.9976</td>\n",
              "      <td id=\"T_b627e_row5_col6\" class=\"data row5 col6\" >0.9961</td>\n",
              "      <td id=\"T_b627e_row5_col7\" class=\"data row5 col7\" >0.9961</td>\n",
              "      <td id=\"T_b627e_row5_col8\" class=\"data row5 col8\" >23.6360</td>\n",
              "    </tr>\n",
              "    <tr>\n",
              "      <th id=\"T_b627e_level0_row6\" class=\"row_heading level0 row6\" >ada</th>\n",
              "      <td id=\"T_b627e_row6_col0\" class=\"data row6 col0\" >Ada Boost Classifier</td>\n",
              "      <td id=\"T_b627e_row6_col1\" class=\"data row6 col1\" >0.9922</td>\n",
              "      <td id=\"T_b627e_row6_col2\" class=\"data row6 col2\" >0.9982</td>\n",
              "      <td id=\"T_b627e_row6_col3\" class=\"data row6 col3\" >0.9922</td>\n",
              "      <td id=\"T_b627e_row6_col4\" class=\"data row6 col4\" >0.9917</td>\n",
              "      <td id=\"T_b627e_row6_col5\" class=\"data row6 col5\" >0.9919</td>\n",
              "      <td id=\"T_b627e_row6_col6\" class=\"data row6 col6\" >0.9867</td>\n",
              "      <td id=\"T_b627e_row6_col7\" class=\"data row6 col7\" >0.9867</td>\n",
              "      <td id=\"T_b627e_row6_col8\" class=\"data row6 col8\" >1.6200</td>\n",
              "    </tr>\n",
              "    <tr>\n",
              "      <th id=\"T_b627e_level0_row7\" class=\"row_heading level0 row7\" >lr</th>\n",
              "      <td id=\"T_b627e_row7_col0\" class=\"data row7 col0\" >Logistic Regression</td>\n",
              "      <td id=\"T_b627e_row7_col1\" class=\"data row7 col1\" >0.9879</td>\n",
              "      <td id=\"T_b627e_row7_col2\" class=\"data row7 col2\" >0.9977</td>\n",
              "      <td id=\"T_b627e_row7_col3\" class=\"data row7 col3\" >0.9879</td>\n",
              "      <td id=\"T_b627e_row7_col4\" class=\"data row7 col4\" >0.9873</td>\n",
              "      <td id=\"T_b627e_row7_col5\" class=\"data row7 col5\" >0.9875</td>\n",
              "      <td id=\"T_b627e_row7_col6\" class=\"data row7 col6\" >0.9792</td>\n",
              "      <td id=\"T_b627e_row7_col7\" class=\"data row7 col7\" >0.9793</td>\n",
              "      <td id=\"T_b627e_row7_col8\" class=\"data row7 col8\" >6.5110</td>\n",
              "    </tr>\n",
              "    <tr>\n",
              "      <th id=\"T_b627e_level0_row8\" class=\"row_heading level0 row8\" >knn</th>\n",
              "      <td id=\"T_b627e_row8_col0\" class=\"data row8 col0\" >K Neighbors Classifier</td>\n",
              "      <td id=\"T_b627e_row8_col1\" class=\"data row8 col1\" >0.9858</td>\n",
              "      <td id=\"T_b627e_row8_col2\" class=\"data row8 col2\" >0.9957</td>\n",
              "      <td id=\"T_b627e_row8_col3\" class=\"data row8 col3\" >0.9858</td>\n",
              "      <td id=\"T_b627e_row8_col4\" class=\"data row8 col4\" >0.9851</td>\n",
              "      <td id=\"T_b627e_row8_col5\" class=\"data row8 col5\" >0.9854</td>\n",
              "      <td id=\"T_b627e_row8_col6\" class=\"data row8 col6\" >0.9756</td>\n",
              "      <td id=\"T_b627e_row8_col7\" class=\"data row8 col7\" >0.9756</td>\n",
              "      <td id=\"T_b627e_row8_col8\" class=\"data row8 col8\" >0.5800</td>\n",
              "    </tr>\n",
              "    <tr>\n",
              "      <th id=\"T_b627e_level0_row9\" class=\"row_heading level0 row9\" >lightgbm</th>\n",
              "      <td id=\"T_b627e_row9_col0\" class=\"data row9 col0\" >Light Gradient Boosting Machine</td>\n",
              "      <td id=\"T_b627e_row9_col1\" class=\"data row9 col1\" >0.9687</td>\n",
              "      <td id=\"T_b627e_row9_col2\" class=\"data row9 col2\" >0.9767</td>\n",
              "      <td id=\"T_b627e_row9_col3\" class=\"data row9 col3\" >0.9687</td>\n",
              "      <td id=\"T_b627e_row9_col4\" class=\"data row9 col4\" >0.9757</td>\n",
              "      <td id=\"T_b627e_row9_col5\" class=\"data row9 col5\" >0.9691</td>\n",
              "      <td id=\"T_b627e_row9_col6\" class=\"data row9 col6\" >0.9470</td>\n",
              "      <td id=\"T_b627e_row9_col7\" class=\"data row9 col7\" >0.9487</td>\n",
              "      <td id=\"T_b627e_row9_col8\" class=\"data row9 col8\" >4.6990</td>\n",
              "    </tr>\n",
              "    <tr>\n",
              "      <th id=\"T_b627e_level0_row10\" class=\"row_heading level0 row10\" >svm</th>\n",
              "      <td id=\"T_b627e_row10_col0\" class=\"data row10 col0\" >SVM - Linear Kernel</td>\n",
              "      <td id=\"T_b627e_row10_col1\" class=\"data row10 col1\" >0.9571</td>\n",
              "      <td id=\"T_b627e_row10_col2\" class=\"data row10 col2\" >0.0000</td>\n",
              "      <td id=\"T_b627e_row10_col3\" class=\"data row10 col3\" >0.9571</td>\n",
              "      <td id=\"T_b627e_row10_col4\" class=\"data row10 col4\" >0.9474</td>\n",
              "      <td id=\"T_b627e_row10_col5\" class=\"data row10 col5\" >0.9499</td>\n",
              "      <td id=\"T_b627e_row10_col6\" class=\"data row10 col6\" >0.9257</td>\n",
              "      <td id=\"T_b627e_row10_col7\" class=\"data row10 col7\" >0.9313</td>\n",
              "      <td id=\"T_b627e_row10_col8\" class=\"data row10 col8\" >1.6580</td>\n",
              "    </tr>\n",
              "    <tr>\n",
              "      <th id=\"T_b627e_level0_row11\" class=\"row_heading level0 row11\" >ridge</th>\n",
              "      <td id=\"T_b627e_row11_col0\" class=\"data row11 col0\" >Ridge Classifier</td>\n",
              "      <td id=\"T_b627e_row11_col1\" class=\"data row11 col1\" >0.9161</td>\n",
              "      <td id=\"T_b627e_row11_col2\" class=\"data row11 col2\" >0.0000</td>\n",
              "      <td id=\"T_b627e_row11_col3\" class=\"data row11 col3\" >0.9161</td>\n",
              "      <td id=\"T_b627e_row11_col4\" class=\"data row11 col4\" >0.9344</td>\n",
              "      <td id=\"T_b627e_row11_col5\" class=\"data row11 col5\" >0.9188</td>\n",
              "      <td id=\"T_b627e_row11_col6\" class=\"data row11 col6\" >0.8590</td>\n",
              "      <td id=\"T_b627e_row11_col7\" class=\"data row11 col7\" >0.8650</td>\n",
              "      <td id=\"T_b627e_row11_col8\" class=\"data row11 col8\" >0.0720</td>\n",
              "    </tr>\n",
              "    <tr>\n",
              "      <th id=\"T_b627e_level0_row12\" class=\"row_heading level0 row12\" >lda</th>\n",
              "      <td id=\"T_b627e_row12_col0\" class=\"data row12 col0\" >Linear Discriminant Analysis</td>\n",
              "      <td id=\"T_b627e_row12_col1\" class=\"data row12 col1\" >0.8814</td>\n",
              "      <td id=\"T_b627e_row12_col2\" class=\"data row12 col2\" >0.9914</td>\n",
              "      <td id=\"T_b627e_row12_col3\" class=\"data row12 col3\" >0.8814</td>\n",
              "      <td id=\"T_b627e_row12_col4\" class=\"data row12 col4\" >0.9202</td>\n",
              "      <td id=\"T_b627e_row12_col5\" class=\"data row12 col5\" >0.8885</td>\n",
              "      <td id=\"T_b627e_row12_col6\" class=\"data row12 col6\" >0.8046</td>\n",
              "      <td id=\"T_b627e_row12_col7\" class=\"data row12 col7\" >0.8178</td>\n",
              "      <td id=\"T_b627e_row12_col8\" class=\"data row12 col8\" >0.0830</td>\n",
              "    </tr>\n",
              "    <tr>\n",
              "      <th id=\"T_b627e_level0_row13\" class=\"row_heading level0 row13\" >nb</th>\n",
              "      <td id=\"T_b627e_row13_col0\" class=\"data row13 col0\" >Naive Bayes</td>\n",
              "      <td id=\"T_b627e_row13_col1\" class=\"data row13 col1\" >0.6869</td>\n",
              "      <td id=\"T_b627e_row13_col2\" class=\"data row13 col2\" >0.9971</td>\n",
              "      <td id=\"T_b627e_row13_col3\" class=\"data row13 col3\" >0.6869</td>\n",
              "      <td id=\"T_b627e_row13_col4\" class=\"data row13 col4\" >0.9750</td>\n",
              "      <td id=\"T_b627e_row13_col5\" class=\"data row13 col5\" >0.7749</td>\n",
              "      <td id=\"T_b627e_row13_col6\" class=\"data row13 col6\" >0.5833</td>\n",
              "      <td id=\"T_b627e_row13_col7\" class=\"data row13 col7\" >0.6662</td>\n",
              "      <td id=\"T_b627e_row13_col8\" class=\"data row13 col8\" >0.1220</td>\n",
              "    </tr>\n",
              "    <tr>\n",
              "      <th id=\"T_b627e_level0_row14\" class=\"row_heading level0 row14\" >dummy</th>\n",
              "      <td id=\"T_b627e_row14_col0\" class=\"data row14 col0\" >Dummy Classifier</td>\n",
              "      <td id=\"T_b627e_row14_col1\" class=\"data row14 col1\" >0.5736</td>\n",
              "      <td id=\"T_b627e_row14_col2\" class=\"data row14 col2\" >0.5000</td>\n",
              "      <td id=\"T_b627e_row14_col3\" class=\"data row14 col3\" >0.5736</td>\n",
              "      <td id=\"T_b627e_row14_col4\" class=\"data row14 col4\" >0.3290</td>\n",
              "      <td id=\"T_b627e_row14_col5\" class=\"data row14 col5\" >0.4181</td>\n",
              "      <td id=\"T_b627e_row14_col6\" class=\"data row14 col6\" >0.0000</td>\n",
              "      <td id=\"T_b627e_row14_col7\" class=\"data row14 col7\" >0.0000</td>\n",
              "      <td id=\"T_b627e_row14_col8\" class=\"data row14 col8\" >0.0910</td>\n",
              "    </tr>\n",
              "    <tr>\n",
              "      <th id=\"T_b627e_level0_row15\" class=\"row_heading level0 row15\" >qda</th>\n",
              "      <td id=\"T_b627e_row15_col0\" class=\"data row15 col0\" >Quadratic Discriminant Analysis</td>\n",
              "      <td id=\"T_b627e_row15_col1\" class=\"data row15 col1\" >0.1999</td>\n",
              "      <td id=\"T_b627e_row15_col2\" class=\"data row15 col2\" >0.0000</td>\n",
              "      <td id=\"T_b627e_row15_col3\" class=\"data row15 col3\" >0.1999</td>\n",
              "      <td id=\"T_b627e_row15_col4\" class=\"data row15 col4\" >0.0400</td>\n",
              "      <td id=\"T_b627e_row15_col5\" class=\"data row15 col5\" >0.0667</td>\n",
              "      <td id=\"T_b627e_row15_col6\" class=\"data row15 col6\" >0.0000</td>\n",
              "      <td id=\"T_b627e_row15_col7\" class=\"data row15 col7\" >0.0000</td>\n",
              "      <td id=\"T_b627e_row15_col8\" class=\"data row15 col8\" >0.0730</td>\n",
              "    </tr>\n",
              "  </tbody>\n",
              "</table>\n"
            ]
          },
          "metadata": {}
        },
        {
          "output_type": "display_data",
          "data": {
            "text/plain": [
              "Processing:   0%|          | 0/69 [00:00<?, ?it/s]"
            ],
            "application/vnd.jupyter.widget-view+json": {
              "version_major": 2,
              "version_minor": 0,
              "model_id": "3f294e1777f345419bcb1ce9d837f74f"
            }
          },
          "metadata": {
            "application/vnd.jupyter.widget-view+json": {
              "colab": {
                "custom_widget_manager": {
                  "url": "https://ssl.gstatic.com/colaboratory-static/widgets/colab-cdn-widget-manager/2b70e893a8ba7c0f/manager.min.js"
                }
              }
            }
          }
        },
        {
          "output_type": "display_data",
          "data": {
            "text/plain": [
              "<IPython.core.display.HTML object>"
            ],
            "text/html": []
          },
          "metadata": {}
        },
        {
          "output_type": "execute_result",
          "data": {
            "text/plain": [
              "<catboost.core.CatBoostClassifier at 0x7e6abadd8fa0>"
            ]
          },
          "metadata": {},
          "execution_count": 86
        }
      ]
    },
    {
      "cell_type": "code",
      "source": [
        "randomforest = create_model('rf')"
      ],
      "metadata": {
        "colab": {
          "base_uri": "https://localhost:8080/",
          "height": 457,
          "referenced_widgets": [
            "a1103eee71894c7ba598bc81678aa2c1",
            "49c6384253204618bf49893314ef6c42",
            "0c99896334e04b5982d08939af9459a9",
            "038a8221bd804faab9ec2fabdac0a402",
            "cd23e0c3534649b4b8821d032693e392",
            "c5600ce7a1e14d03b6acf04044aca9b2",
            "df4d8752ac1845ba80dfb98a89b53947",
            "e2a239d813d2443db747e92ae842dfe7",
            "ec83c7987f254e3181275950862a886f",
            "09425f18b90a4edf91c28bddc9a701ff",
            "31d2196eecd643998792270f691b3d6b"
          ]
        },
        "id": "rOl_cHah6xCl",
        "outputId": "3218d00d-4e45-45dd-cbd0-19c56cfb0aa8"
      },
      "execution_count": 87,
      "outputs": [
        {
          "output_type": "display_data",
          "data": {
            "text/plain": [
              "<IPython.core.display.HTML object>"
            ],
            "text/html": []
          },
          "metadata": {}
        },
        {
          "output_type": "display_data",
          "data": {
            "text/plain": [
              "<pandas.io.formats.style.Styler at 0x7e6abaf68a30>"
            ],
            "text/html": [
              "<style type=\"text/css\">\n",
              "#T_7f783_row10_col0, #T_7f783_row10_col1, #T_7f783_row10_col2, #T_7f783_row10_col3, #T_7f783_row10_col4, #T_7f783_row10_col5, #T_7f783_row10_col6 {\n",
              "  background: yellow;\n",
              "}\n",
              "</style>\n",
              "<table id=\"T_7f783\" class=\"dataframe\">\n",
              "  <thead>\n",
              "    <tr>\n",
              "      <th class=\"blank level0\" >&nbsp;</th>\n",
              "      <th id=\"T_7f783_level0_col0\" class=\"col_heading level0 col0\" >Accuracy</th>\n",
              "      <th id=\"T_7f783_level0_col1\" class=\"col_heading level0 col1\" >AUC</th>\n",
              "      <th id=\"T_7f783_level0_col2\" class=\"col_heading level0 col2\" >Recall</th>\n",
              "      <th id=\"T_7f783_level0_col3\" class=\"col_heading level0 col3\" >Prec.</th>\n",
              "      <th id=\"T_7f783_level0_col4\" class=\"col_heading level0 col4\" >F1</th>\n",
              "      <th id=\"T_7f783_level0_col5\" class=\"col_heading level0 col5\" >Kappa</th>\n",
              "      <th id=\"T_7f783_level0_col6\" class=\"col_heading level0 col6\" >MCC</th>\n",
              "    </tr>\n",
              "    <tr>\n",
              "      <th class=\"index_name level0\" >Fold</th>\n",
              "      <th class=\"blank col0\" >&nbsp;</th>\n",
              "      <th class=\"blank col1\" >&nbsp;</th>\n",
              "      <th class=\"blank col2\" >&nbsp;</th>\n",
              "      <th class=\"blank col3\" >&nbsp;</th>\n",
              "      <th class=\"blank col4\" >&nbsp;</th>\n",
              "      <th class=\"blank col5\" >&nbsp;</th>\n",
              "      <th class=\"blank col6\" >&nbsp;</th>\n",
              "    </tr>\n",
              "  </thead>\n",
              "  <tbody>\n",
              "    <tr>\n",
              "      <th id=\"T_7f783_level0_row0\" class=\"row_heading level0 row0\" >0</th>\n",
              "      <td id=\"T_7f783_row0_col0\" class=\"data row0 col0\" >0.9984</td>\n",
              "      <td id=\"T_7f783_row0_col1\" class=\"data row0 col1\" >0.9998</td>\n",
              "      <td id=\"T_7f783_row0_col2\" class=\"data row0 col2\" >0.9984</td>\n",
              "      <td id=\"T_7f783_row0_col3\" class=\"data row0 col3\" >0.9978</td>\n",
              "      <td id=\"T_7f783_row0_col4\" class=\"data row0 col4\" >0.9981</td>\n",
              "      <td id=\"T_7f783_row0_col5\" class=\"data row0 col5\" >0.9973</td>\n",
              "      <td id=\"T_7f783_row0_col6\" class=\"data row0 col6\" >0.9973</td>\n",
              "    </tr>\n",
              "    <tr>\n",
              "      <th id=\"T_7f783_level0_row1\" class=\"row_heading level0 row1\" >1</th>\n",
              "      <td id=\"T_7f783_row1_col0\" class=\"data row1 col0\" >0.9988</td>\n",
              "      <td id=\"T_7f783_row1_col1\" class=\"data row1 col1\" >0.9994</td>\n",
              "      <td id=\"T_7f783_row1_col2\" class=\"data row1 col2\" >0.9988</td>\n",
              "      <td id=\"T_7f783_row1_col3\" class=\"data row1 col3\" >0.9988</td>\n",
              "      <td id=\"T_7f783_row1_col4\" class=\"data row1 col4\" >0.9987</td>\n",
              "      <td id=\"T_7f783_row1_col5\" class=\"data row1 col5\" >0.9979</td>\n",
              "      <td id=\"T_7f783_row1_col6\" class=\"data row1 col6\" >0.9979</td>\n",
              "    </tr>\n",
              "    <tr>\n",
              "      <th id=\"T_7f783_level0_row2\" class=\"row_heading level0 row2\" >2</th>\n",
              "      <td id=\"T_7f783_row2_col0\" class=\"data row2 col0\" >0.9991</td>\n",
              "      <td id=\"T_7f783_row2_col1\" class=\"data row2 col1\" >0.9998</td>\n",
              "      <td id=\"T_7f783_row2_col2\" class=\"data row2 col2\" >0.9991</td>\n",
              "      <td id=\"T_7f783_row2_col3\" class=\"data row2 col3\" >0.9989</td>\n",
              "      <td id=\"T_7f783_row2_col4\" class=\"data row2 col4\" >0.9990</td>\n",
              "      <td id=\"T_7f783_row2_col5\" class=\"data row2 col5\" >0.9984</td>\n",
              "      <td id=\"T_7f783_row2_col6\" class=\"data row2 col6\" >0.9984</td>\n",
              "    </tr>\n",
              "    <tr>\n",
              "      <th id=\"T_7f783_level0_row3\" class=\"row_heading level0 row3\" >3</th>\n",
              "      <td id=\"T_7f783_row3_col0\" class=\"data row3 col0\" >0.9978</td>\n",
              "      <td id=\"T_7f783_row3_col1\" class=\"data row3 col1\" >0.9998</td>\n",
              "      <td id=\"T_7f783_row3_col2\" class=\"data row3 col2\" >0.9978</td>\n",
              "      <td id=\"T_7f783_row3_col3\" class=\"data row3 col3\" >0.9978</td>\n",
              "      <td id=\"T_7f783_row3_col4\" class=\"data row3 col4\" >0.9977</td>\n",
              "      <td id=\"T_7f783_row3_col5\" class=\"data row3 col5\" >0.9962</td>\n",
              "      <td id=\"T_7f783_row3_col6\" class=\"data row3 col6\" >0.9962</td>\n",
              "    </tr>\n",
              "    <tr>\n",
              "      <th id=\"T_7f783_level0_row4\" class=\"row_heading level0 row4\" >4</th>\n",
              "      <td id=\"T_7f783_row4_col0\" class=\"data row4 col0\" >0.9984</td>\n",
              "      <td id=\"T_7f783_row4_col1\" class=\"data row4 col1\" >1.0000</td>\n",
              "      <td id=\"T_7f783_row4_col2\" class=\"data row4 col2\" >0.9984</td>\n",
              "      <td id=\"T_7f783_row4_col3\" class=\"data row4 col3\" >0.9984</td>\n",
              "      <td id=\"T_7f783_row4_col4\" class=\"data row4 col4\" >0.9984</td>\n",
              "      <td id=\"T_7f783_row4_col5\" class=\"data row4 col5\" >0.9973</td>\n",
              "      <td id=\"T_7f783_row4_col6\" class=\"data row4 col6\" >0.9973</td>\n",
              "    </tr>\n",
              "    <tr>\n",
              "      <th id=\"T_7f783_level0_row5\" class=\"row_heading level0 row5\" >5</th>\n",
              "      <td id=\"T_7f783_row5_col0\" class=\"data row5 col0\" >0.9978</td>\n",
              "      <td id=\"T_7f783_row5_col1\" class=\"data row5 col1\" >0.9994</td>\n",
              "      <td id=\"T_7f783_row5_col2\" class=\"data row5 col2\" >0.9978</td>\n",
              "      <td id=\"T_7f783_row5_col3\" class=\"data row5 col3\" >0.9969</td>\n",
              "      <td id=\"T_7f783_row5_col4\" class=\"data row5 col4\" >0.9974</td>\n",
              "      <td id=\"T_7f783_row5_col5\" class=\"data row5 col5\" >0.9962</td>\n",
              "      <td id=\"T_7f783_row5_col6\" class=\"data row5 col6\" >0.9962</td>\n",
              "    </tr>\n",
              "    <tr>\n",
              "      <th id=\"T_7f783_level0_row6\" class=\"row_heading level0 row6\" >6</th>\n",
              "      <td id=\"T_7f783_row6_col0\" class=\"data row6 col0\" >0.9991</td>\n",
              "      <td id=\"T_7f783_row6_col1\" class=\"data row6 col1\" >1.0000</td>\n",
              "      <td id=\"T_7f783_row6_col2\" class=\"data row6 col2\" >0.9991</td>\n",
              "      <td id=\"T_7f783_row6_col3\" class=\"data row6 col3\" >0.9981</td>\n",
              "      <td id=\"T_7f783_row6_col4\" class=\"data row6 col4\" >0.9986</td>\n",
              "      <td id=\"T_7f783_row6_col5\" class=\"data row6 col5\" >0.9984</td>\n",
              "      <td id=\"T_7f783_row6_col6\" class=\"data row6 col6\" >0.9984</td>\n",
              "    </tr>\n",
              "    <tr>\n",
              "      <th id=\"T_7f783_level0_row7\" class=\"row_heading level0 row7\" >7</th>\n",
              "      <td id=\"T_7f783_row7_col0\" class=\"data row7 col0\" >0.9984</td>\n",
              "      <td id=\"T_7f783_row7_col1\" class=\"data row7 col1\" >0.9994</td>\n",
              "      <td id=\"T_7f783_row7_col2\" class=\"data row7 col2\" >0.9984</td>\n",
              "      <td id=\"T_7f783_row7_col3\" class=\"data row7 col3\" >0.9975</td>\n",
              "      <td id=\"T_7f783_row7_col4\" class=\"data row7 col4\" >0.9980</td>\n",
              "      <td id=\"T_7f783_row7_col5\" class=\"data row7 col5\" >0.9973</td>\n",
              "      <td id=\"T_7f783_row7_col6\" class=\"data row7 col6\" >0.9973</td>\n",
              "    </tr>\n",
              "    <tr>\n",
              "      <th id=\"T_7f783_level0_row8\" class=\"row_heading level0 row8\" >8</th>\n",
              "      <td id=\"T_7f783_row8_col0\" class=\"data row8 col0\" >0.9978</td>\n",
              "      <td id=\"T_7f783_row8_col1\" class=\"data row8 col1\" >0.9998</td>\n",
              "      <td id=\"T_7f783_row8_col2\" class=\"data row8 col2\" >0.9978</td>\n",
              "      <td id=\"T_7f783_row8_col3\" class=\"data row8 col3\" >0.9969</td>\n",
              "      <td id=\"T_7f783_row8_col4\" class=\"data row8 col4\" >0.9974</td>\n",
              "      <td id=\"T_7f783_row8_col5\" class=\"data row8 col5\" >0.9962</td>\n",
              "      <td id=\"T_7f783_row8_col6\" class=\"data row8 col6\" >0.9962</td>\n",
              "    </tr>\n",
              "    <tr>\n",
              "      <th id=\"T_7f783_level0_row9\" class=\"row_heading level0 row9\" >9</th>\n",
              "      <td id=\"T_7f783_row9_col0\" class=\"data row9 col0\" >0.9981</td>\n",
              "      <td id=\"T_7f783_row9_col1\" class=\"data row9 col1\" >0.9996</td>\n",
              "      <td id=\"T_7f783_row9_col2\" class=\"data row9 col2\" >0.9981</td>\n",
              "      <td id=\"T_7f783_row9_col3\" class=\"data row9 col3\" >0.9972</td>\n",
              "      <td id=\"T_7f783_row9_col4\" class=\"data row9 col4\" >0.9977</td>\n",
              "      <td id=\"T_7f783_row9_col5\" class=\"data row9 col5\" >0.9968</td>\n",
              "      <td id=\"T_7f783_row9_col6\" class=\"data row9 col6\" >0.9968</td>\n",
              "    </tr>\n",
              "    <tr>\n",
              "      <th id=\"T_7f783_level0_row10\" class=\"row_heading level0 row10\" >Mean</th>\n",
              "      <td id=\"T_7f783_row10_col0\" class=\"data row10 col0\" >0.9984</td>\n",
              "      <td id=\"T_7f783_row10_col1\" class=\"data row10 col1\" >0.9997</td>\n",
              "      <td id=\"T_7f783_row10_col2\" class=\"data row10 col2\" >0.9984</td>\n",
              "      <td id=\"T_7f783_row10_col3\" class=\"data row10 col3\" >0.9978</td>\n",
              "      <td id=\"T_7f783_row10_col4\" class=\"data row10 col4\" >0.9981</td>\n",
              "      <td id=\"T_7f783_row10_col5\" class=\"data row10 col5\" >0.9972</td>\n",
              "      <td id=\"T_7f783_row10_col6\" class=\"data row10 col6\" >0.9972</td>\n",
              "    </tr>\n",
              "    <tr>\n",
              "      <th id=\"T_7f783_level0_row11\" class=\"row_heading level0 row11\" >Std</th>\n",
              "      <td id=\"T_7f783_row11_col0\" class=\"data row11 col0\" >0.0005</td>\n",
              "      <td id=\"T_7f783_row11_col1\" class=\"data row11 col1\" >0.0002</td>\n",
              "      <td id=\"T_7f783_row11_col2\" class=\"data row11 col2\" >0.0005</td>\n",
              "      <td id=\"T_7f783_row11_col3\" class=\"data row11 col3\" >0.0007</td>\n",
              "      <td id=\"T_7f783_row11_col4\" class=\"data row11 col4\" >0.0005</td>\n",
              "      <td id=\"T_7f783_row11_col5\" class=\"data row11 col5\" >0.0008</td>\n",
              "      <td id=\"T_7f783_row11_col6\" class=\"data row11 col6\" >0.0008</td>\n",
              "    </tr>\n",
              "  </tbody>\n",
              "</table>\n"
            ]
          },
          "metadata": {}
        },
        {
          "output_type": "display_data",
          "data": {
            "text/plain": [
              "Processing:   0%|          | 0/4 [00:00<?, ?it/s]"
            ],
            "application/vnd.jupyter.widget-view+json": {
              "version_major": 2,
              "version_minor": 0,
              "model_id": "a1103eee71894c7ba598bc81678aa2c1"
            }
          },
          "metadata": {
            "application/vnd.jupyter.widget-view+json": {
              "colab": {
                "custom_widget_manager": {
                  "url": "https://ssl.gstatic.com/colaboratory-static/widgets/colab-cdn-widget-manager/2b70e893a8ba7c0f/manager.min.js"
                }
              }
            }
          }
        },
        {
          "output_type": "display_data",
          "data": {
            "text/plain": [
              "<IPython.core.display.HTML object>"
            ],
            "text/html": []
          },
          "metadata": {}
        }
      ]
    },
    {
      "cell_type": "code",
      "source": [
        "pred_holdout = predict_model(randomforest, data= testing_data)"
      ],
      "metadata": {
        "colab": {
          "base_uri": "https://localhost:8080/",
          "height": 81
        },
        "id": "eLNYImoh9LKE",
        "outputId": "ff796124-e4d3-4086-f579-53b7f3979ca9"
      },
      "execution_count": 88,
      "outputs": [
        {
          "output_type": "display_data",
          "data": {
            "text/plain": [
              "<pandas.io.formats.style.Styler at 0x7e6ae652ddb0>"
            ],
            "text/html": [
              "<style type=\"text/css\">\n",
              "</style>\n",
              "<table id=\"T_63e7b\" class=\"dataframe\">\n",
              "  <thead>\n",
              "    <tr>\n",
              "      <th class=\"blank level0\" >&nbsp;</th>\n",
              "      <th id=\"T_63e7b_level0_col0\" class=\"col_heading level0 col0\" >Model</th>\n",
              "      <th id=\"T_63e7b_level0_col1\" class=\"col_heading level0 col1\" >Accuracy</th>\n",
              "      <th id=\"T_63e7b_level0_col2\" class=\"col_heading level0 col2\" >AUC</th>\n",
              "      <th id=\"T_63e7b_level0_col3\" class=\"col_heading level0 col3\" >Recall</th>\n",
              "      <th id=\"T_63e7b_level0_col4\" class=\"col_heading level0 col4\" >Prec.</th>\n",
              "      <th id=\"T_63e7b_level0_col5\" class=\"col_heading level0 col5\" >F1</th>\n",
              "      <th id=\"T_63e7b_level0_col6\" class=\"col_heading level0 col6\" >Kappa</th>\n",
              "      <th id=\"T_63e7b_level0_col7\" class=\"col_heading level0 col7\" >MCC</th>\n",
              "    </tr>\n",
              "  </thead>\n",
              "  <tbody>\n",
              "    <tr>\n",
              "      <th id=\"T_63e7b_level0_row0\" class=\"row_heading level0 row0\" >0</th>\n",
              "      <td id=\"T_63e7b_row0_col0\" class=\"data row0 col0\" >Random Forest Classifier</td>\n",
              "      <td id=\"T_63e7b_row0_col1\" class=\"data row0 col1\" >0.9979</td>\n",
              "      <td id=\"T_63e7b_row0_col2\" class=\"data row0 col2\" >0.9994</td>\n",
              "      <td id=\"T_63e7b_row0_col3\" class=\"data row0 col3\" >0.9979</td>\n",
              "      <td id=\"T_63e7b_row0_col4\" class=\"data row0 col4\" >0.9979</td>\n",
              "      <td id=\"T_63e7b_row0_col5\" class=\"data row0 col5\" >0.9977</td>\n",
              "      <td id=\"T_63e7b_row0_col6\" class=\"data row0 col6\" >0.9963</td>\n",
              "      <td id=\"T_63e7b_row0_col7\" class=\"data row0 col7\" >0.9963</td>\n",
              "    </tr>\n",
              "  </tbody>\n",
              "</table>\n"
            ]
          },
          "metadata": {}
        }
      ]
    },
    {
      "cell_type": "code",
      "source": [
        "pred_holdout.columns"
      ],
      "metadata": {
        "colab": {
          "base_uri": "https://localhost:8080/"
        },
        "id": "GchsT1ONFePD",
        "outputId": "f24c3161-0571-4503-94e8-31e1e2ab04ef"
      },
      "execution_count": 89,
      "outputs": [
        {
          "output_type": "execute_result",
          "data": {
            "text/plain": [
              "Index(['source_port', 'destination_port', 'nat_source_port',\n",
              "       'nat_destination_port', 'bytes', 'bytes_sent', 'bytes_received',\n",
              "       'packets', 'elapsed_time_sec', 'pkts_sent', 'pkts_received', 'id',\n",
              "       'action', 'prediction_label', 'prediction_score'],\n",
              "      dtype='object')"
            ]
          },
          "metadata": {},
          "execution_count": 89
        }
      ]
    },
    {
      "cell_type": "code",
      "source": [
        "# AUC-ROC plot\n",
        "plot_model(randomforest, plot = 'auc')"
      ],
      "metadata": {
        "colab": {
          "base_uri": "https://localhost:8080/",
          "height": 524
        },
        "id": "3MG_qAIeFfis",
        "outputId": "7a527345-de04-4462-a3c8-a89bef69a74f"
      },
      "execution_count": 90,
      "outputs": [
        {
          "output_type": "display_data",
          "data": {
            "text/plain": [
              "<IPython.core.display.HTML object>"
            ],
            "text/html": []
          },
          "metadata": {}
        },
        {
          "output_type": "display_data",
          "data": {
            "text/plain": [
              "<Figure size 800x550 with 1 Axes>"
            ],
            "image/png": "[encoded data removed]"
          },
          "metadata": {}
        }
      ]
    },
    {
      "cell_type": "code",
      "source": [
        "# Decision Boundary\n",
        "plot_model(randomforest, plot = 'boundary')"
      ],
      "metadata": {
        "colab": {
          "base_uri": "https://localhost:8080/",
          "height": 503
        },
        "id": "5ZUQW2ZsFnPC",
        "outputId": "a32f9cd3-f05a-4c24-b9e4-52c27fad003d"
      },
      "execution_count": 91,
      "outputs": [
        {
          "output_type": "display_data",
          "data": {
            "text/plain": [
              "<IPython.core.display.HTML object>"
            ],
            "text/html": []
          },
          "metadata": {}
        },
        {
          "output_type": "display_data",
          "data": {
            "text/plain": [
              "<Figure size 800x550 with 1 Axes>"
            ],
            "image/png": "[encoded data removed]"
          },
          "metadata": {}
        }
      ]
    },
    {
      "cell_type": "code",
      "source": [
        "###! pip install shap"
      ],
      "metadata": {
        "id": "re_SFYHlFts5"
      },
      "execution_count": 92,
      "outputs": []
    },
    {
      "cell_type": "code",
      "source": [
        "import shap"
      ],
      "metadata": {
        "id": "T2FTV1ovFzI0"
      },
      "execution_count": 93,
      "outputs": []
    },
    {
      "cell_type": "code",
      "source": [
        "tune_randomforest = tune_model(randomforest)"
      ],
      "metadata": {
        "colab": {
          "base_uri": "https://localhost:8080/",
          "height": 512,
          "referenced_widgets": [
            "191eae9c69a1476aae2f606cb97bb426",
            "215ab06faff3450f8d70597476ea5988",
            "557897d9e5ea4c5e807d4a3438f47d92",
            "19d13e1746734880a1abbc77615954a0",
            "e4557f4d94894b79be5cf9e13dc9bf4b",
            "e05203a3e5b04db0ae239fed8daabff7",
            "0ccbd7bf349a4675a728721254b3fbe0",
            "70479e36332a4a3995df995c10b85863",
            "45c9a0867a434b0e87fad1b9ccd864fd",
            "0f5f6b33457d4dac88e241c1b2e0dc9b",
            "7730824bf9a742789208345de8d4e347"
          ]
        },
        "id": "decTbzkgFzUD",
        "outputId": "cbf1f1c9-6c82-4ae8-d9d4-964c1235fe6b"
      },
      "execution_count": 94,
      "outputs": [
        {
          "output_type": "display_data",
          "data": {
            "text/plain": [
              "<IPython.core.display.HTML object>"
            ],
            "text/html": []
          },
          "metadata": {}
        },
        {
          "output_type": "display_data",
          "data": {
            "text/plain": [
              "<pandas.io.formats.style.Styler at 0x7e6abaf86140>"
            ],
            "text/html": [
              "<style type=\"text/css\">\n",
              "#T_3a692_row10_col0, #T_3a692_row10_col1, #T_3a692_row10_col2, #T_3a692_row10_col3, #T_3a692_row10_col4, #T_3a692_row10_col5, #T_3a692_row10_col6 {\n",
              "  background: yellow;\n",
              "}\n",
              "</style>\n",
              "<table id=\"T_3a692\" class=\"dataframe\">\n",
              "  <thead>\n",
              "    <tr>\n",
              "      <th class=\"blank level0\" >&nbsp;</th>\n",
              "      <th id=\"T_3a692_level0_col0\" class=\"col_heading level0 col0\" >Accuracy</th>\n",
              "      <th id=\"T_3a692_level0_col1\" class=\"col_heading level0 col1\" >AUC</th>\n",
              "      <th id=\"T_3a692_level0_col2\" class=\"col_heading level0 col2\" >Recall</th>\n",
              "      <th id=\"T_3a692_level0_col3\" class=\"col_heading level0 col3\" >Prec.</th>\n",
              "      <th id=\"T_3a692_level0_col4\" class=\"col_heading level0 col4\" >F1</th>\n",
              "      <th id=\"T_3a692_level0_col5\" class=\"col_heading level0 col5\" >Kappa</th>\n",
              "      <th id=\"T_3a692_level0_col6\" class=\"col_heading level0 col6\" >MCC</th>\n",
              "    </tr>\n",
              "    <tr>\n",
              "      <th class=\"index_name level0\" >Fold</th>\n",
              "      <th class=\"blank col0\" >&nbsp;</th>\n",
              "      <th class=\"blank col1\" >&nbsp;</th>\n",
              "      <th class=\"blank col2\" >&nbsp;</th>\n",
              "      <th class=\"blank col3\" >&nbsp;</th>\n",
              "      <th class=\"blank col4\" >&nbsp;</th>\n",
              "      <th class=\"blank col5\" >&nbsp;</th>\n",
              "      <th class=\"blank col6\" >&nbsp;</th>\n",
              "    </tr>\n",
              "  </thead>\n",
              "  <tbody>\n",
              "    <tr>\n",
              "      <th id=\"T_3a692_level0_row0\" class=\"row_heading level0 row0\" >0</th>\n",
              "      <td id=\"T_3a692_row0_col0\" class=\"data row0 col0\" >0.9984</td>\n",
              "      <td id=\"T_3a692_row0_col1\" class=\"data row0 col1\" >0.9998</td>\n",
              "      <td id=\"T_3a692_row0_col2\" class=\"data row0 col2\" >0.9984</td>\n",
              "      <td id=\"T_3a692_row0_col3\" class=\"data row0 col3\" >0.9978</td>\n",
              "      <td id=\"T_3a692_row0_col4\" class=\"data row0 col4\" >0.9981</td>\n",
              "      <td id=\"T_3a692_row0_col5\" class=\"data row0 col5\" >0.9973</td>\n",
              "      <td id=\"T_3a692_row0_col6\" class=\"data row0 col6\" >0.9973</td>\n",
              "    </tr>\n",
              "    <tr>\n",
              "      <th id=\"T_3a692_level0_row1\" class=\"row_heading level0 row1\" >1</th>\n",
              "      <td id=\"T_3a692_row1_col0\" class=\"data row1 col0\" >0.9981</td>\n",
              "      <td id=\"T_3a692_row1_col1\" class=\"data row1 col1\" >0.9993</td>\n",
              "      <td id=\"T_3a692_row1_col2\" class=\"data row1 col2\" >0.9981</td>\n",
              "      <td id=\"T_3a692_row1_col3\" class=\"data row1 col3\" >0.9975</td>\n",
              "      <td id=\"T_3a692_row1_col4\" class=\"data row1 col4\" >0.9978</td>\n",
              "      <td id=\"T_3a692_row1_col5\" class=\"data row1 col5\" >0.9968</td>\n",
              "      <td id=\"T_3a692_row1_col6\" class=\"data row1 col6\" >0.9968</td>\n",
              "    </tr>\n",
              "    <tr>\n",
              "      <th id=\"T_3a692_level0_row2\" class=\"row_heading level0 row2\" >2</th>\n",
              "      <td id=\"T_3a692_row2_col0\" class=\"data row2 col0\" >0.9988</td>\n",
              "      <td id=\"T_3a692_row2_col1\" class=\"data row2 col1\" >0.9993</td>\n",
              "      <td id=\"T_3a692_row2_col2\" class=\"data row2 col2\" >0.9988</td>\n",
              "      <td id=\"T_3a692_row2_col3\" class=\"data row2 col3\" >0.9978</td>\n",
              "      <td id=\"T_3a692_row2_col4\" class=\"data row2 col4\" >0.9983</td>\n",
              "      <td id=\"T_3a692_row2_col5\" class=\"data row2 col5\" >0.9979</td>\n",
              "      <td id=\"T_3a692_row2_col6\" class=\"data row2 col6\" >0.9979</td>\n",
              "    </tr>\n",
              "    <tr>\n",
              "      <th id=\"T_3a692_level0_row3\" class=\"row_heading level0 row3\" >3</th>\n",
              "      <td id=\"T_3a692_row3_col0\" class=\"data row3 col0\" >0.9981</td>\n",
              "      <td id=\"T_3a692_row3_col1\" class=\"data row3 col1\" >0.9996</td>\n",
              "      <td id=\"T_3a692_row3_col2\" class=\"data row3 col2\" >0.9981</td>\n",
              "      <td id=\"T_3a692_row3_col3\" class=\"data row3 col3\" >0.9972</td>\n",
              "      <td id=\"T_3a692_row3_col4\" class=\"data row3 col4\" >0.9977</td>\n",
              "      <td id=\"T_3a692_row3_col5\" class=\"data row3 col5\" >0.9968</td>\n",
              "      <td id=\"T_3a692_row3_col6\" class=\"data row3 col6\" >0.9968</td>\n",
              "    </tr>\n",
              "    <tr>\n",
              "      <th id=\"T_3a692_level0_row4\" class=\"row_heading level0 row4\" >4</th>\n",
              "      <td id=\"T_3a692_row4_col0\" class=\"data row4 col0\" >0.9978</td>\n",
              "      <td id=\"T_3a692_row4_col1\" class=\"data row4 col1\" >0.9991</td>\n",
              "      <td id=\"T_3a692_row4_col2\" class=\"data row4 col2\" >0.9978</td>\n",
              "      <td id=\"T_3a692_row4_col3\" class=\"data row4 col3\" >0.9969</td>\n",
              "      <td id=\"T_3a692_row4_col4\" class=\"data row4 col4\" >0.9974</td>\n",
              "      <td id=\"T_3a692_row4_col5\" class=\"data row4 col5\" >0.9962</td>\n",
              "      <td id=\"T_3a692_row4_col6\" class=\"data row4 col6\" >0.9962</td>\n",
              "    </tr>\n",
              "    <tr>\n",
              "      <th id=\"T_3a692_level0_row5\" class=\"row_heading level0 row5\" >5</th>\n",
              "      <td id=\"T_3a692_row5_col0\" class=\"data row5 col0\" >0.9978</td>\n",
              "      <td id=\"T_3a692_row5_col1\" class=\"data row5 col1\" >0.9995</td>\n",
              "      <td id=\"T_3a692_row5_col2\" class=\"data row5 col2\" >0.9978</td>\n",
              "      <td id=\"T_3a692_row5_col3\" class=\"data row5 col3\" >0.9969</td>\n",
              "      <td id=\"T_3a692_row5_col4\" class=\"data row5 col4\" >0.9974</td>\n",
              "      <td id=\"T_3a692_row5_col5\" class=\"data row5 col5\" >0.9962</td>\n",
              "      <td id=\"T_3a692_row5_col6\" class=\"data row5 col6\" >0.9962</td>\n",
              "    </tr>\n",
              "    <tr>\n",
              "      <th id=\"T_3a692_level0_row6\" class=\"row_heading level0 row6\" >6</th>\n",
              "      <td id=\"T_3a692_row6_col0\" class=\"data row6 col0\" >0.9988</td>\n",
              "      <td id=\"T_3a692_row6_col1\" class=\"data row6 col1\" >0.9997</td>\n",
              "      <td id=\"T_3a692_row6_col2\" class=\"data row6 col2\" >0.9988</td>\n",
              "      <td id=\"T_3a692_row6_col3\" class=\"data row6 col3\" >0.9978</td>\n",
              "      <td id=\"T_3a692_row6_col4\" class=\"data row6 col4\" >0.9983</td>\n",
              "      <td id=\"T_3a692_row6_col5\" class=\"data row6 col5\" >0.9979</td>\n",
              "      <td id=\"T_3a692_row6_col6\" class=\"data row6 col6\" >0.9979</td>\n",
              "    </tr>\n",
              "    <tr>\n",
              "      <th id=\"T_3a692_level0_row7\" class=\"row_heading level0 row7\" >7</th>\n",
              "      <td id=\"T_3a692_row7_col0\" class=\"data row7 col0\" >0.9981</td>\n",
              "      <td id=\"T_3a692_row7_col1\" class=\"data row7 col1\" >0.9996</td>\n",
              "      <td id=\"T_3a692_row7_col2\" class=\"data row7 col2\" >0.9981</td>\n",
              "      <td id=\"T_3a692_row7_col3\" class=\"data row7 col3\" >0.9972</td>\n",
              "      <td id=\"T_3a692_row7_col4\" class=\"data row7 col4\" >0.9977</td>\n",
              "      <td id=\"T_3a692_row7_col5\" class=\"data row7 col5\" >0.9968</td>\n",
              "      <td id=\"T_3a692_row7_col6\" class=\"data row7 col6\" >0.9968</td>\n",
              "    </tr>\n",
              "    <tr>\n",
              "      <th id=\"T_3a692_level0_row8\" class=\"row_heading level0 row8\" >8</th>\n",
              "      <td id=\"T_3a692_row8_col0\" class=\"data row8 col0\" >0.9972</td>\n",
              "      <td id=\"T_3a692_row8_col1\" class=\"data row8 col1\" >0.9995</td>\n",
              "      <td id=\"T_3a692_row8_col2\" class=\"data row8 col2\" >0.9972</td>\n",
              "      <td id=\"T_3a692_row8_col3\" class=\"data row8 col3\" >0.9963</td>\n",
              "      <td id=\"T_3a692_row8_col4\" class=\"data row8 col4\" >0.9967</td>\n",
              "      <td id=\"T_3a692_row8_col5\" class=\"data row8 col5\" >0.9952</td>\n",
              "      <td id=\"T_3a692_row8_col6\" class=\"data row8 col6\" >0.9952</td>\n",
              "    </tr>\n",
              "    <tr>\n",
              "      <th id=\"T_3a692_level0_row9\" class=\"row_heading level0 row9\" >9</th>\n",
              "      <td id=\"T_3a692_row9_col0\" class=\"data row9 col0\" >0.9988</td>\n",
              "      <td id=\"T_3a692_row9_col1\" class=\"data row9 col1\" >0.9997</td>\n",
              "      <td id=\"T_3a692_row9_col2\" class=\"data row9 col2\" >0.9988</td>\n",
              "      <td id=\"T_3a692_row9_col3\" class=\"data row9 col3\" >0.9978</td>\n",
              "      <td id=\"T_3a692_row9_col4\" class=\"data row9 col4\" >0.9983</td>\n",
              "      <td id=\"T_3a692_row9_col5\" class=\"data row9 col5\" >0.9979</td>\n",
              "      <td id=\"T_3a692_row9_col6\" class=\"data row9 col6\" >0.9979</td>\n",
              "    </tr>\n",
              "    <tr>\n",
              "      <th id=\"T_3a692_level0_row10\" class=\"row_heading level0 row10\" >Mean</th>\n",
              "      <td id=\"T_3a692_row10_col0\" class=\"data row10 col0\" >0.9982</td>\n",
              "      <td id=\"T_3a692_row10_col1\" class=\"data row10 col1\" >0.9995</td>\n",
              "      <td id=\"T_3a692_row10_col2\" class=\"data row10 col2\" >0.9982</td>\n",
              "      <td id=\"T_3a692_row10_col3\" class=\"data row10 col3\" >0.9973</td>\n",
              "      <td id=\"T_3a692_row10_col4\" class=\"data row10 col4\" >0.9978</td>\n",
              "      <td id=\"T_3a692_row10_col5\" class=\"data row10 col5\" >0.9969</td>\n",
              "      <td id=\"T_3a692_row10_col6\" class=\"data row10 col6\" >0.9969</td>\n",
              "    </tr>\n",
              "    <tr>\n",
              "      <th id=\"T_3a692_level0_row11\" class=\"row_heading level0 row11\" >Std</th>\n",
              "      <td id=\"T_3a692_row11_col0\" class=\"data row11 col0\" >0.0005</td>\n",
              "      <td id=\"T_3a692_row11_col1\" class=\"data row11 col1\" >0.0002</td>\n",
              "      <td id=\"T_3a692_row11_col2\" class=\"data row11 col2\" >0.0005</td>\n",
              "      <td id=\"T_3a692_row11_col3\" class=\"data row11 col3\" >0.0005</td>\n",
              "      <td id=\"T_3a692_row11_col4\" class=\"data row11 col4\" >0.0005</td>\n",
              "      <td id=\"T_3a692_row11_col5\" class=\"data row11 col5\" >0.0008</td>\n",
              "      <td id=\"T_3a692_row11_col6\" class=\"data row11 col6\" >0.0008</td>\n",
              "    </tr>\n",
              "  </tbody>\n",
              "</table>\n"
            ]
          },
          "metadata": {}
        },
        {
          "output_type": "display_data",
          "data": {
            "text/plain": [
              "Processing:   0%|          | 0/7 [00:00<?, ?it/s]"
            ],
            "application/vnd.jupyter.widget-view+json": {
              "version_major": 2,
              "version_minor": 0,
              "model_id": "191eae9c69a1476aae2f606cb97bb426"
            }
          },
          "metadata": {
            "application/vnd.jupyter.widget-view+json": {
              "colab": {
                "custom_widget_manager": {
                  "url": "https://ssl.gstatic.com/colaboratory-static/widgets/colab-cdn-widget-manager/2b70e893a8ba7c0f/manager.min.js"
                }
              }
            }
          }
        },
        {
          "output_type": "stream",
          "name": "stdout",
          "text": [
            "Fitting 10 folds for each of 10 candidates, totalling 100 fits\n"
          ]
        },
        {
          "output_type": "display_data",
          "data": {
            "text/plain": [
              "<IPython.core.display.HTML object>"
            ],
            "text/html": []
          },
          "metadata": {}
        },
        {
          "output_type": "stream",
          "name": "stdout",
          "text": [
            "Original model was better than the tuned model, hence it will be returned. NOTE: The display metrics are for the tuned model (not the original one).\n"
          ]
        }
      ]
    },
    {
      "cell_type": "code",
      "source": [
        "print(tune_randomforest)"
      ],
      "metadata": {
        "colab": {
          "base_uri": "https://localhost:8080/"
        },
        "id": "P1_xHtP9GAlv",
        "outputId": "bfff2c21-9548-437e-883a-5d1662b06a54"
      },
      "execution_count": 95,
      "outputs": [
        {
          "output_type": "stream",
          "name": "stdout",
          "text": [
            "RandomForestClassifier(bootstrap=True, ccp_alpha=0.0, class_weight=None,\n",
            "                       criterion='gini', max_depth=None, max_features='sqrt',\n",
            "                       max_leaf_nodes=None, max_samples=None,\n",
            "                       min_impurity_decrease=0.0, min_samples_leaf=1,\n",
            "                       min_samples_split=2, min_weight_fraction_leaf=0.0,\n",
            "                       monotonic_cst=None, n_estimators=100, n_jobs=-1,\n",
            "                       oob_score=False, random_state=2131, verbose=0,\n",
            "                       warm_start=False)\n"
          ]
        }
      ]
    },
    {
      "cell_type": "code",
      "source": [
        "predict_model(tune_randomforest)"
      ],
      "metadata": {
        "colab": {
          "base_uri": "https://localhost:8080/",
          "height": 507
        },
        "id": "KKqa0soSGD3I",
        "outputId": "21ef8b9c-ad09-4061-8acf-f9d21ed9d7b7"
      },
      "execution_count": 96,
      "outputs": [
        {
          "output_type": "display_data",
          "data": {
            "text/plain": [
              "<pandas.io.formats.style.Styler at 0x7e6abab6d900>"
            ],
            "text/html": [
              "<style type=\"text/css\">\n",
              "</style>\n",
              "<table id=\"T_78edd\" class=\"dataframe\">\n",
              "  <thead>\n",
              "    <tr>\n",
              "      <th class=\"blank level0\" >&nbsp;</th>\n",
              "      <th id=\"T_78edd_level0_col0\" class=\"col_heading level0 col0\" >Model</th>\n",
              "      <th id=\"T_78edd_level0_col1\" class=\"col_heading level0 col1\" >Accuracy</th>\n",
              "      <th id=\"T_78edd_level0_col2\" class=\"col_heading level0 col2\" >AUC</th>\n",
              "      <th id=\"T_78edd_level0_col3\" class=\"col_heading level0 col3\" >Recall</th>\n",
              "      <th id=\"T_78edd_level0_col4\" class=\"col_heading level0 col4\" >Prec.</th>\n",
              "      <th id=\"T_78edd_level0_col5\" class=\"col_heading level0 col5\" >F1</th>\n",
              "      <th id=\"T_78edd_level0_col6\" class=\"col_heading level0 col6\" >Kappa</th>\n",
              "      <th id=\"T_78edd_level0_col7\" class=\"col_heading level0 col7\" >MCC</th>\n",
              "    </tr>\n",
              "  </thead>\n",
              "  <tbody>\n",
              "    <tr>\n",
              "      <th id=\"T_78edd_level0_row0\" class=\"row_heading level0 row0\" >0</th>\n",
              "      <td id=\"T_78edd_row0_col0\" class=\"data row0 col0\" >Random Forest Classifier</td>\n",
              "      <td id=\"T_78edd_row0_col1\" class=\"data row0 col1\" >0.9981</td>\n",
              "      <td id=\"T_78edd_row0_col2\" class=\"data row0 col2\" >0.9993</td>\n",
              "      <td id=\"T_78edd_row0_col3\" class=\"data row0 col3\" >0.9981</td>\n",
              "      <td id=\"T_78edd_row0_col4\" class=\"data row0 col4\" >0.9981</td>\n",
              "      <td id=\"T_78edd_row0_col5\" class=\"data row0 col5\" >0.9979</td>\n",
              "      <td id=\"T_78edd_row0_col6\" class=\"data row0 col6\" >0.9967</td>\n",
              "      <td id=\"T_78edd_row0_col7\" class=\"data row0 col7\" >0.9967</td>\n",
              "    </tr>\n",
              "  </tbody>\n",
              "</table>\n"
            ]
          },
          "metadata": {}
        },
        {
          "output_type": "execute_result",
          "data": {
            "text/plain": [
              "       source_port  destination_port  nat_source_port  nat_destination_port  \\\n",
              "33873        58869               445                0                     0   \n",
              "59537        52027               445                0                     0   \n",
              "24581        55830                53            64690                    53   \n",
              "1724         65066                80            65066                    80   \n",
              "46522        65378                53            28736                    53   \n",
              "...            ...               ...              ...                   ...   \n",
              "33470        13484             37965                0                     0   \n",
              "25312        24606             55783                0                     0   \n",
              "17978        61002             37965                0                     0   \n",
              "10142        49240                53            28241                    53   \n",
              "11889        64487               445                0                     0   \n",
              "\n",
              "        bytes  bytes_sent  bytes_received  packets  elapsed_time_sec  \\\n",
              "33873      70          70               0        1                 0   \n",
              "59537      66          66               0        1                 0   \n",
              "24581     183          94              89        2                30   \n",
              "1724   874843       22526          852317      878                44   \n",
              "46522     770         102             668        2                30   \n",
              "...       ...         ...             ...      ...               ...   \n",
              "33470      62          62               0        1                 0   \n",
              "25312      72          72               0        1                 0   \n",
              "17978     145         145               0        1                 0   \n",
              "10142     198         101              97        2                30   \n",
              "11889      70          70               0        1                 0   \n",
              "\n",
              "       pkts_sent  pkts_received     id  action  prediction_label  \\\n",
              "33873          1              0  33873       2                 2   \n",
              "59537          1              0  59537       2                 2   \n",
              "24581          1              1  24581       0                 0   \n",
              "1724         304            574   1724       0                 0   \n",
              "46522          1              1  46522       0                 0   \n",
              "...          ...            ...    ...     ...               ...   \n",
              "33470          1              0  33470       1                 1   \n",
              "25312          1              0  25312       1                 1   \n",
              "17978          1              0  17978       1                 1   \n",
              "10142          1              1  10142       0                 0   \n",
              "11889          1              0  11889       2                 2   \n",
              "\n",
              "       prediction_score  \n",
              "33873               1.0  \n",
              "59537               1.0  \n",
              "24581               1.0  \n",
              "1724                1.0  \n",
              "46522               1.0  \n",
              "...                 ...  \n",
              "33470               1.0  \n",
              "25312               1.0  \n",
              "17978               1.0  \n",
              "10142               1.0  \n",
              "11889               1.0  \n",
              "\n",
              "[13762 rows x 15 columns]"
            ],
            "text/html": [
              "\n",
              "  <div id=\"df-5966f4ed-85c2-4670-a76b-69ea70fbdc2b\" class=\"colab-df-container\">\n",
              "    <div>\n",
              "<style scoped>\n",
              "    .dataframe tbody tr th:only-of-type {\n",
              "        vertical-align: middle;\n",
              "    }\n",
              "\n",
              "    .dataframe tbody tr th {\n",
              "        vertical-align: top;\n",
              "    }\n",
              "\n",
              "    .dataframe thead th {\n",
              "        text-align: right;\n",
              "    }\n",
              "</style>\n",
              "<table border=\"1\" class=\"dataframe\">\n",
              "  <thead>\n",
              "    <tr style=\"text-align: right;\">\n",
              "      <th></th>\n",
              "      <th>source_port</th>\n",
              "      <th>destination_port</th>\n",
              "      <th>nat_source_port</th>\n",
              "      <th>nat_destination_port</th>\n",
              "      <th>bytes</th>\n",
              "      <th>bytes_sent</th>\n",
              "      <th>bytes_received</th>\n",
              "      <th>packets</th>\n",
              "      <th>elapsed_time_sec</th>\n",
              "      <th>pkts_sent</th>\n",
              "      <th>pkts_received</th>\n",
              "      <th>id</th>\n",
              "      <th>action</th>\n",
              "      <th>prediction_label</th>\n",
              "      <th>prediction_score</th>\n",
              "    </tr>\n",
              "  </thead>\n",
              "  <tbody>\n",
              "    <tr>\n",
              "      <th>33873</th>\n",
              "      <td>58869</td>\n",
              "      <td>445</td>\n",
              "      <td>0</td>\n",
              "      <td>0</td>\n",
              "      <td>70</td>\n",
              "      <td>70</td>\n",
              "      <td>0</td>\n",
              "      <td>1</td>\n",
              "      <td>0</td>\n",
              "      <td>1</td>\n",
              "      <td>0</td>\n",
              "      <td>33873</td>\n",
              "      <td>2</td>\n",
              "      <td>2</td>\n",
              "      <td>1.0</td>\n",
              "    </tr>\n",
              "    <tr>\n",
              "      <th>59537</th>\n",
              "      <td>52027</td>\n",
              "      <td>445</td>\n",
              "      <td>0</td>\n",
              "      <td>0</td>\n",
              "      <td>66</td>\n",
              "      <td>66</td>\n",
              "      <td>0</td>\n",
              "      <td>1</td>\n",
              "      <td>0</td>\n",
              "      <td>1</td>\n",
              "      <td>0</td>\n",
              "      <td>59537</td>\n",
              "      <td>2</td>\n",
              "      <td>2</td>\n",
              "      <td>1.0</td>\n",
              "    </tr>\n",
              "    <tr>\n",
              "      <th>24581</th>\n",
              "      <td>55830</td>\n",
              "      <td>53</td>\n",
              "      <td>64690</td>\n",
              "      <td>53</td>\n",
              "      <td>183</td>\n",
              "      <td>94</td>\n",
              "      <td>89</td>\n",
              "      <td>2</td>\n",
              "      <td>30</td>\n",
              "      <td>1</td>\n",
              "      <td>1</td>\n",
              "      <td>24581</td>\n",
              "      <td>0</td>\n",
              "      <td>0</td>\n",
              "      <td>1.0</td>\n",
              "    </tr>\n",
              "    <tr>\n",
              "      <th>1724</th>\n",
              "      <td>65066</td>\n",
              "      <td>80</td>\n",
              "      <td>65066</td>\n",
              "      <td>80</td>\n",
              "      <td>874843</td>\n",
              "      <td>22526</td>\n",
              "      <td>852317</td>\n",
              "      <td>878</td>\n",
              "      <td>44</td>\n",
              "      <td>304</td>\n",
              "      <td>574</td>\n",
              "      <td>1724</td>\n",
              "      <td>0</td>\n",
              "      <td>0</td>\n",
              "      <td>1.0</td>\n",
              "    </tr>\n",
              "    <tr>\n",
              "      <th>46522</th>\n",
              "      <td>65378</td>\n",
              "      <td>53</td>\n",
              "      <td>28736</td>\n",
              "      <td>53</td>\n",
              "      <td>770</td>\n",
              "      <td>102</td>\n",
              "      <td>668</td>\n",
              "      <td>2</td>\n",
              "      <td>30</td>\n",
              "      <td>1</td>\n",
              "      <td>1</td>\n",
              "      <td>46522</td>\n",
              "      <td>0</td>\n",
              "      <td>0</td>\n",
              "      <td>1.0</td>\n",
              "    </tr>\n",
              "    <tr>\n",
              "      <th>...</th>\n",
              "      <td>...</td>\n",
              "      <td>...</td>\n",
              "      <td>...</td>\n",
              "      <td>...</td>\n",
              "      <td>...</td>\n",
              "      <td>...</td>\n",
              "      <td>...</td>\n",
              "      <td>...</td>\n",
              "      <td>...</td>\n",
              "      <td>...</td>\n",
              "      <td>...</td>\n",
              "      <td>...</td>\n",
              "      <td>...</td>\n",
              "      <td>...</td>\n",
              "      <td>...</td>\n",
              "    </tr>\n",
              "    <tr>\n",
              "      <th>33470</th>\n",
              "      <td>13484</td>\n",
              "      <td>37965</td>\n",
              "      <td>0</td>\n",
              "      <td>0</td>\n",
              "      <td>62</td>\n",
              "      <td>62</td>\n",
              "      <td>0</td>\n",
              "      <td>1</td>\n",
              "      <td>0</td>\n",
              "      <td>1</td>\n",
              "      <td>0</td>\n",
              "      <td>33470</td>\n",
              "      <td>1</td>\n",
              "      <td>1</td>\n",
              "      <td>1.0</td>\n",
              "    </tr>\n",
              "    <tr>\n",
              "      <th>25312</th>\n",
              "      <td>24606</td>\n",
              "      <td>55783</td>\n",
              "      <td>0</td>\n",
              "      <td>0</td>\n",
              "      <td>72</td>\n",
              "      <td>72</td>\n",
              "      <td>0</td>\n",
              "      <td>1</td>\n",
              "      <td>0</td>\n",
              "      <td>1</td>\n",
              "      <td>0</td>\n",
              "      <td>25312</td>\n",
              "      <td>1</td>\n",
              "      <td>1</td>\n",
              "      <td>1.0</td>\n",
              "    </tr>\n",
              "    <tr>\n",
              "      <th>17978</th>\n",
              "      <td>61002</td>\n",
              "      <td>37965</td>\n",
              "      <td>0</td>\n",
              "      <td>0</td>\n",
              "      <td>145</td>\n",
              "      <td>145</td>\n",
              "      <td>0</td>\n",
              "      <td>1</td>\n",
              "      <td>0</td>\n",
              "      <td>1</td>\n",
              "      <td>0</td>\n",
              "      <td>17978</td>\n",
              "      <td>1</td>\n",
              "      <td>1</td>\n",
              "      <td>1.0</td>\n",
              "    </tr>\n",
              "    <tr>\n",
              "      <th>10142</th>\n",
              "      <td>49240</td>\n",
              "      <td>53</td>\n",
              "      <td>28241</td>\n",
              "      <td>53</td>\n",
              "      <td>198</td>\n",
              "      <td>101</td>\n",
              "      <td>97</td>\n",
              "      <td>2</td>\n",
              "      <td>30</td>\n",
              "      <td>1</td>\n",
              "      <td>1</td>\n",
              "      <td>10142</td>\n",
              "      <td>0</td>\n",
              "      <td>0</td>\n",
              "      <td>1.0</td>\n",
              "    </tr>\n",
              "    <tr>\n",
              "      <th>11889</th>\n",
              "      <td>64487</td>\n",
              "      <td>445</td>\n",
              "      <td>0</td>\n",
              "      <td>0</td>\n",
              "      <td>70</td>\n",
              "      <td>70</td>\n",
              "      <td>0</td>\n",
              "      <td>1</td>\n",
              "      <td>0</td>\n",
              "      <td>1</td>\n",
              "      <td>0</td>\n",
              "      <td>11889</td>\n",
              "      <td>2</td>\n",
              "      <td>2</td>\n",
              "      <td>1.0</td>\n",
              "    </tr>\n",
              "  </tbody>\n",
              "</table>\n",
              "<p>13762 rows × 15 columns</p>\n",
              "</div>\n",
              "    <div class=\"colab-df-buttons\">\n",
              "\n",
              "  <div class=\"colab-df-container\">\n",
              "    <button class=\"colab-df-convert\" onclick=\"convertToInteractive('df-5966f4ed-85c2-4670-a76b-69ea70fbdc2b')\"\n",
              "            title=\"Convert this dataframe to an interactive table.\"\n",
              "            style=\"display:none;\">\n",
              "\n",
              "  <svg xmlns=\"http://www.w3.org/2000/svg\" height=\"24px\" viewBox=\"0 -960 960 960\">\n",
              "    <path d=\"M120-120v-720h720v720H120Zm60-500h600v-160H180v160Zm220 220h160v-160H400v160Zm0 220h160v-160H400v160ZM180-400h160v-160H180v160Zm440 0h160v-160H620v160ZM180-180h160v-160H180v160Zm440 0h160v-160H620v160Z\"/>\n",
              "  </svg>\n",
              "    </button>\n",
              "\n",
              "  <style>\n",
              "    .colab-df-container {\n",
              "      display:flex;\n",
              "      gap: 12px;\n",
              "    }\n",
              "\n",
              "    .colab-df-convert {\n",
              "      background-color: #E8F0FE;\n",
              "      border: none;\n",
              "      border-radius: 50%;\n",
              "      cursor: pointer;\n",
              "      display: none;\n",
              "      fill: #1967D2;\n",
              "      height: 32px;\n",
              "      padding: 0 0 0 0;\n",
              "      width: 32px;\n",
              "    }\n",
              "\n",
              "    .colab-df-convert:hover {\n",
              "      background-color: #E2EBFA;\n",
              "      box-shadow: 0px 1px 2px rgba(60, 64, 67, 0.3), 0px 1px 3px 1px rgba(60, 64, 67, 0.15);\n",
              "      fill: #174EA6;\n",
              "    }\n",
              "\n",
              "    .colab-df-buttons div {\n",
              "      margin-bottom: 4px;\n",
              "    }\n",
              "\n",
              "    [theme=dark] .colab-df-convert {\n",
              "      background-color: #3B4455;\n",
              "      fill: #D2E3FC;\n",
              "    }\n",
              "\n",
              "    [theme=dark] .colab-df-convert:hover {\n",
              "      background-color: #434B5C;\n",
              "      box-shadow: 0px 1px 3px 1px rgba(0, 0, 0, 0.15);\n",
              "      filter: drop-shadow(0px 1px 2px rgba(0, 0, 0, 0.3));\n",
              "      fill: #FFFFFF;\n",
              "    }\n",
              "  </style>\n",
              "\n",
              "    <script>\n",
              "      const buttonEl =\n",
              "        document.querySelector('#df-5966f4ed-85c2-4670-a76b-69ea70fbdc2b button.colab-df-convert');\n",
              "      buttonEl.style.display =\n",
              "        google.colab.kernel.accessAllowed ? 'block' : 'none';\n",
              "\n",
              "      async function convertToInteractive(key) {\n",
              "        const element = document.querySelector('#df-5966f4ed-85c2-4670-a76b-69ea70fbdc2b');\n",
              "        const dataTable =\n",
              "          await google.colab.kernel.invokeFunction('convertToInteractive',\n",
              "                                                    [key], {});\n",
              "        if (!dataTable) return;\n",
              "\n",
              "        const docLinkHtml = 'Like what you see? Visit the ' +\n",
              "          '<a target=\"_blank\" href=https://colab.research.google.com/notebooks/data_table.ipynb>data table notebook</a>'\n",
              "          + ' to learn more about interactive tables.';\n",
              "        element.innerHTML = '';\n",
              "        dataTable['output_type'] = 'display_data';\n",
              "        await google.colab.output.renderOutput(dataTable, element);\n",
              "        const docLink = document.createElement('div');\n",
              "        docLink.innerHTML = docLinkHtml;\n",
              "        element.appendChild(docLink);\n",
              "      }\n",
              "    </script>\n",
              "  </div>\n",
              "\n",
              "\n",
              "<div id=\"df-95ae6efb-6138-48e1-88ed-1f725ed274e6\">\n",
              "  <button class=\"colab-df-quickchart\" onclick=\"quickchart('df-95ae6efb-6138-48e1-88ed-1f725ed274e6')\"\n",
              "            title=\"Suggest charts\"\n",
              "            style=\"display:none;\">\n",
              "\n",
              "<svg xmlns=\"http://www.w3.org/2000/svg\" height=\"24px\"viewBox=\"0 0 24 24\"\n",
              "     width=\"24px\">\n",
              "    <g>\n",
              "        <path d=\"M19 3H5c-1.1 0-2 .9-2 2v14c0 1.1.9 2 2 2h14c1.1 0 2-.9 2-2V5c0-1.1-.9-2-2-2zM9 17H7v-7h2v7zm4 0h-2V7h2v10zm4 0h-2v-4h2v4z\"/>\n",
              "    </g>\n",
              "</svg>\n",
              "  </button>\n",
              "\n",
              "<style>\n",
              "  .colab-df-quickchart {\n",
              "      --bg-color: #E8F0FE;\n",
              "      --fill-color: #1967D2;\n",
              "      --hover-bg-color: #E2EBFA;\n",
              "      --hover-fill-color: #174EA6;\n",
              "      --disabled-fill-color: #AAA;\n",
              "      --disabled-bg-color: #DDD;\n",
              "  }\n",
              "\n",
              "  [theme=dark] .colab-df-quickchart {\n",
              "      --bg-color: #3B4455;\n",
              "      --fill-color: #D2E3FC;\n",
              "      --hover-bg-color: #434B5C;\n",
              "      --hover-fill-color: #FFFFFF;\n",
              "      --disabled-bg-color: #3B4455;\n",
              "      --disabled-fill-color: #666;\n",
              "  }\n",
              "\n",
              "  .colab-df-quickchart {\n",
              "    background-color: var(--bg-color);\n",
              "    border: none;\n",
              "    border-radius: 50%;\n",
              "    cursor: pointer;\n",
              "    display: none;\n",
              "    fill: var(--fill-color);\n",
              "    height: 32px;\n",
              "    padding: 0;\n",
              "    width: 32px;\n",
              "  }\n",
              "\n",
              "  .colab-df-quickchart:hover {\n",
              "    background-color: var(--hover-bg-color);\n",
              "    box-shadow: 0 1px 2px rgba(60, 64, 67, 0.3), 0 1px 3px 1px rgba(60, 64, 67, 0.15);\n",
              "    fill: var(--button-hover-fill-color);\n",
              "  }\n",
              "\n",
              "  .colab-df-quickchart-complete:disabled,\n",
              "  .colab-df-quickchart-complete:disabled:hover {\n",
              "    background-color: var(--disabled-bg-color);\n",
              "    fill: var(--disabled-fill-color);\n",
              "    box-shadow: none;\n",
              "  }\n",
              "\n",
              "  .colab-df-spinner {\n",
              "    border: 2px solid var(--fill-color);\n",
              "    border-color: transparent;\n",
              "    border-bottom-color: var(--fill-color);\n",
              "    animation:\n",
              "      spin 1s steps(1) infinite;\n",
              "  }\n",
              "\n",
              "  @keyframes spin {\n",
              "    0% {\n",
              "      border-color: transparent;\n",
              "      border-bottom-color: var(--fill-color);\n",
              "      border-left-color: var(--fill-color);\n",
              "    }\n",
              "    20% {\n",
              "      border-color: transparent;\n",
              "      border-left-color: var(--fill-color);\n",
              "      border-top-color: var(--fill-color);\n",
              "    }\n",
              "    30% {\n",
              "      border-color: transparent;\n",
              "      border-left-color: var(--fill-color);\n",
              "      border-top-color: var(--fill-color);\n",
              "      border-right-color: var(--fill-color);\n",
              "    }\n",
              "    40% {\n",
              "      border-color: transparent;\n",
              "      border-right-color: var(--fill-color);\n",
              "      border-top-color: var(--fill-color);\n",
              "    }\n",
              "    60% {\n",
              "      border-color: transparent;\n",
              "      border-right-color: var(--fill-color);\n",
              "    }\n",
              "    80% {\n",
              "      border-color: transparent;\n",
              "      border-right-color: var(--fill-color);\n",
              "      border-bottom-color: var(--fill-color);\n",
              "    }\n",
              "    90% {\n",
              "      border-color: transparent;\n",
              "      border-bottom-color: var(--fill-color);\n",
              "    }\n",
              "  }\n",
              "</style>\n",
              "\n",
              "  <script>\n",
              "    async function quickchart(key) {\n",
              "      const quickchartButtonEl =\n",
              "        document.querySelector('#' + key + ' button');\n",
              "      quickchartButtonEl.disabled = true;  // To prevent multiple clicks.\n",
              "      quickchartButtonEl.classList.add('colab-df-spinner');\n",
              "      try {\n",
              "        const charts = await google.colab.kernel.invokeFunction(\n",
              "            'suggestCharts', [key], {});\n",
              "      } catch (error) {\n",
              "        console.error('Error during call to suggestCharts:', error);\n",
              "      }\n",
              "      quickchartButtonEl.classList.remove('colab-df-spinner');\n",
              "      quickchartButtonEl.classList.add('colab-df-quickchart-complete');\n",
              "    }\n",
              "    (() => {\n",
              "      let quickchartButtonEl =\n",
              "        document.querySelector('#df-95ae6efb-6138-48e1-88ed-1f725ed274e6 button');\n",
              "      quickchartButtonEl.style.display =\n",
              "        google.colab.kernel.accessAllowed ? 'block' : 'none';\n",
              "    })();\n",
              "  </script>\n",
              "</div>\n",
              "\n",
              "    </div>\n",
              "  </div>\n"
            ],
            "application/vnd.google.colaboratory.intrinsic+json": {
              "type": "dataframe",
              "summary": "{\n  \"name\": \"predict_model(tune_randomforest)\",\n  \"rows\": 13762,\n  \"fields\": [\n    {\n      \"column\": \"source_port\",\n      \"properties\": {\n        \"dtype\": \"int32\",\n        \"num_unique_values\": 9377,\n        \"samples\": [\n          49870,\n          62115,\n          12232\n        ],\n        \"semantic_type\": \"\",\n        \"description\": \"\"\n      }\n    },\n    {\n      \"column\": \"destination_port\",\n      \"properties\": {\n        \"dtype\": \"int32\",\n        \"num_unique_values\": 1240,\n        \"samples\": [\n          51180,\n          46081,\n          5543\n        ],\n        \"semantic_type\": \"\",\n        \"description\": \"\"\n      }\n    },\n    {\n      \"column\": \"nat_source_port\",\n      \"properties\": {\n        \"dtype\": \"int32\",\n        \"num_unique_values\": 7336,\n        \"samples\": [\n          55946,\n          53010,\n          51944\n        ],\n        \"semantic_type\": \"\",\n        \"description\": \"\"\n      }\n    },\n    {\n      \"column\": \"nat_destination_port\",\n      \"properties\": {\n        \"dtype\": \"int32\",\n        \"num_unique_values\": 840,\n        \"samples\": [\n          16514,\n          34841,\n          8999\n        ],\n        \"semantic_type\": \"\",\n        \"description\": \"\"\n      }\n    },\n    {\n      \"column\": \"bytes\",\n      \"properties\": {\n        \"dtype\": \"int32\",\n        \"num_unique_values\": 3152,\n        \"samples\": [\n          3802,\n          15233,\n          145369\n        ],\n        \"semantic_type\": \"\",\n        \"description\": \"\"\n      }\n    },\n    {\n      \"column\": \"bytes_sent\",\n      \"properties\": {\n        \"dtype\": \"int32\",\n        \"num_unique_values\": 2339,\n        \"samples\": [\n          3052,\n          46628,\n          1764\n        ],\n        \"semantic_type\": \"\",\n        \"description\": \"\"\n      }\n    },\n    {\n      \"column\": \"bytes_received\",\n      \"properties\": {\n        \"dtype\": \"int32\",\n        \"num_unique_values\": 2708,\n        \"samples\": [\n          462,\n          294,\n          301\n        ],\n        \"semantic_type\": \"\",\n        \"description\": \"\"\n      }\n    },\n    {\n      \"column\": \"packets\",\n      \"properties\": {\n        \"dtype\": \"int32\",\n        \"num_unique_values\": 382,\n        \"samples\": [\n          302,\n          183,\n          3193\n        ],\n        \"semantic_type\": \"\",\n        \"description\": \"\"\n      }\n    },\n    {\n      \"column\": \"elapsed_time_sec\",\n      \"properties\": {\n        \"dtype\": \"int32\",\n        \"num_unique_values\": 466,\n        \"samples\": [\n          180,\n          399,\n          40\n        ],\n        \"semantic_type\": \"\",\n        \"description\": \"\"\n      }\n    },\n    {\n      \"column\": \"pkts_sent\",\n      \"properties\": {\n        \"dtype\": \"int32\",\n        \"num_unique_values\": 269,\n        \"samples\": [\n          12,\n          51,\n          139\n        ],\n        \"semantic_type\": \"\",\n        \"description\": \"\"\n      }\n    },\n    {\n      \"column\": \"pkts_received\",\n      \"properties\": {\n        \"dtype\": \"int32\",\n        \"num_unique_values\": 311,\n        \"samples\": [\n          1613,\n          28,\n          42\n        ],\n        \"semantic_type\": \"\",\n        \"description\": \"\"\n      }\n    },\n    {\n      \"column\": \"id\",\n      \"properties\": {\n        \"dtype\": \"int32\",\n        \"num_unique_values\": 13762,\n        \"samples\": [\n          42652,\n          29781,\n          52064\n        ],\n        \"semantic_type\": \"\",\n        \"description\": \"\"\n      }\n    },\n    {\n      \"column\": \"action\",\n      \"properties\": {\n        \"dtype\": \"int8\",\n        \"num_unique_values\": 4,\n        \"samples\": [\n          0,\n          3,\n          2\n        ],\n        \"semantic_type\": \"\",\n        \"description\": \"\"\n      }\n    },\n    {\n      \"column\": \"prediction_label\",\n      \"properties\": {\n        \"dtype\": \"number\",\n        \"std\": 0,\n        \"min\": 0,\n        \"max\": 3,\n        \"num_unique_values\": 4,\n        \"samples\": [\n          0,\n          3,\n          2\n        ],\n        \"semantic_type\": \"\",\n        \"description\": \"\"\n      }\n    },\n    {\n      \"column\": \"prediction_score\",\n      \"properties\": {\n        \"dtype\": \"number\",\n        \"std\": 0.013121729600649057,\n        \"min\": 0.5,\n        \"max\": 1.0,\n        \"num_unique_values\": 30,\n        \"samples\": [\n          0.8,\n          0.88,\n          0.81\n        ],\n        \"semantic_type\": \"\",\n        \"description\": \"\"\n      }\n    }\n  ]\n}"
            }
          },
          "metadata": {},
          "execution_count": 96
        }
      ]
    },
    {
      "cell_type": "code",
      "source": [
        "final_randomforest = finalize_model(tune_randomforest)\n",
        "print(final_randomforest)"
      ],
      "metadata": {
        "colab": {
          "base_uri": "https://localhost:8080/"
        },
        "id": "UhAreAOZHQ3i",
        "outputId": "f3a534b6-3e57-4ced-a4b1-8cb63f959173"
      },
      "execution_count": 97,
      "outputs": [
        {
          "output_type": "stream",
          "name": "stdout",
          "text": [
            "Pipeline(memory=Memory(location=None),\n",
            "         steps=[('numerical_imputer',\n",
            "                 TransformerWrapper(exclude=None,\n",
            "                                    include=['source_port', 'destination_port',\n",
            "                                             'nat_source_port',\n",
            "                                             'nat_destination_port', 'bytes',\n",
            "                                             'bytes_sent', 'bytes_received',\n",
            "                                             'packets', 'elapsed_time_sec',\n",
            "                                             'pkts_sent', 'pkts_received',\n",
            "                                             'id'],\n",
            "                                    transformer=SimpleImputer(add_indicator=False,\n",
            "                                                              copy=True,\n",
            "                                                              fill_value=N...\n",
            "                 RandomForestClassifier(bootstrap=True, ccp_alpha=0.0,\n",
            "                                        class_weight=None, criterion='gini',\n",
            "                                        max_depth=None, max_features='sqrt',\n",
            "                                        max_leaf_nodes=None, max_samples=None,\n",
            "                                        min_impurity_decrease=0.0,\n",
            "                                        min_samples_leaf=1, min_samples_split=2,\n",
            "                                        min_weight_fraction_leaf=0.0,\n",
            "                                        monotonic_cst=None, n_estimators=100,\n",
            "                                        n_jobs=-1, oob_score=False,\n",
            "                                        random_state=2131, verbose=0,\n",
            "                                        warm_start=False))],\n",
            "         verbose=False)\n"
          ]
        }
      ]
    },
    {
      "cell_type": "code",
      "source": [
        "print(training_data.shape, testing_data.shape)"
      ],
      "metadata": {
        "colab": {
          "base_uri": "https://localhost:8080/"
        },
        "id": "q1XQKyXVTG4r",
        "outputId": "2869ad40-4512-44d9-a56c-64ea0a746707"
      },
      "execution_count": 98,
      "outputs": [
        {
          "output_type": "stream",
          "name": "stdout",
          "text": [
            "(45872, 13) (19660, 13)\n"
          ]
        }
      ]
    },
    {
      "cell_type": "code",
      "source": [
        "training_data['ID'] = training_data.index\n",
        "testing_data['ID'] = testing_data.index\n"
      ],
      "metadata": {
        "id": "rXnPeJYuVE7V"
      },
      "execution_count": 99,
      "outputs": []
    },
    {
      "cell_type": "code",
      "source": [
        "training_data.columns"
      ],
      "metadata": {
        "colab": {
          "base_uri": "https://localhost:8080/"
        },
        "id": "fxss1rPeVRqs",
        "outputId": "b5e7d867-662d-4fe4-9e0e-6359cc682083"
      },
      "execution_count": 100,
      "outputs": [
        {
          "output_type": "execute_result",
          "data": {
            "text/plain": [
              "Index(['source_port', 'destination_port', 'nat_source_port',\n",
              "       'nat_destination_port', 'action', 'bytes', 'bytes_sent',\n",
              "       'bytes_received', 'packets', 'elapsed_time_sec', 'pkts_sent',\n",
              "       'pkts_received', 'id', 'ID'],\n",
              "      dtype='object')"
            ]
          },
          "metadata": {},
          "execution_count": 100
        }
      ]
    },
    {
      "cell_type": "code",
      "source": [
        "training_data2 = training_data[['source_port', 'destination_port', 'nat_source_port',\n",
        "       'nat_destination_port', 'action', 'bytes', 'bytes_sent',\n",
        "       'bytes_received', 'packets', 'elapsed_time_sec', 'pkts_sent',\n",
        "       'pkts_received']]"
      ],
      "metadata": {
        "id": "BrzLZLUcVGBW"
      },
      "execution_count": 101,
      "outputs": []
    },
    {
      "cell_type": "code",
      "source": [
        "testing_data2 = testing_data[['source_port', 'destination_port', 'nat_source_port',\n",
        "       'nat_destination_port', 'action', 'bytes', 'bytes_sent',\n",
        "       'bytes_received', 'packets', 'elapsed_time_sec', 'pkts_sent',\n",
        "       'pkts_received']]"
      ],
      "metadata": {
        "id": "Asp5tcWmVaos"
      },
      "execution_count": 102,
      "outputs": []
    },
    {
      "cell_type": "code",
      "source": [
        "X_train = training_data2.drop(columns= \"action\")\n",
        "Y_train = training_data2[\"action\"]\n",
        "\n",
        "X_test = testing_data2.drop(columns= \"action\")\n",
        "Y_test = testing_data2[\"action\"]"
      ],
      "metadata": {
        "id": "Vf093jGCVfmD"
      },
      "execution_count": 103,
      "outputs": []
    },
    {
      "cell_type": "code",
      "source": [
        "final_randomforest.fit(X_train, Y_train)"
      ],
      "metadata": {
        "colab": {
          "base_uri": "https://localhost:8080/",
          "height": 340
        },
        "id": "zrpt34zkV7TE",
        "outputId": "f319f128-6f8b-45ca-9179-a950ec268e2a"
      },
      "execution_count": 104,
      "outputs": [
        {
          "output_type": "execute_result",
          "data": {
            "text/plain": [
              "Pipeline(memory=Memory(location=None),\n",
              "         steps=[('numerical_imputer',\n",
              "                 TransformerWrapper(exclude=None,\n",
              "                                    include=['source_port', 'destination_port',\n",
              "                                             'nat_source_port',\n",
              "                                             'nat_destination_port', 'bytes',\n",
              "                                             'bytes_sent', 'bytes_received',\n",
              "                                             'packets', 'elapsed_time_sec',\n",
              "                                             'pkts_sent', 'pkts_received',\n",
              "                                             'id'],\n",
              "                                    transformer=SimpleImputer(add_indicator=False,\n",
              "                                                              copy=True,\n",
              "                                                              fill_value=N...\n",
              "                 RandomForestClassifier(bootstrap=True, ccp_alpha=0.0,\n",
              "                                        class_weight=None, criterion='gini',\n",
              "                                        max_depth=None, max_features='sqrt',\n",
              "                                        max_leaf_nodes=None, max_samples=None,\n",
              "                                        min_impurity_decrease=0.0,\n",
              "                                        min_samples_leaf=1, min_samples_split=2,\n",
              "                                        min_weight_fraction_leaf=0.0,\n",
              "                                        monotonic_cst=None, n_estimators=100,\n",
              "                                        n_jobs=-1, oob_score=False,\n",
              "                                        random_state=2131, verbose=0,\n",
              "                                        warm_start=False))],\n",
              "         verbose=False)"
            ],
            "text/html": [
              "<style>#sk-container-id-1 {\n",
              "  /* Definition of color scheme common for light and dark mode */\n",
              "  --sklearn-color-text: black;\n",
              "  --sklearn-color-line: gray;\n",
              "  /* Definition of color scheme for unfitted estimators */\n",
              "  --sklearn-color-unfitted-level-0: #fff5e6;\n",
              "  --sklearn-color-unfitted-level-1: #f6e4d2;\n",
              "  --sklearn-color-unfitted-level-2: #ffe0b3;\n",
              "  --sklearn-color-unfitted-level-3: chocolate;\n",
              "  /* Definition of color scheme for fitted estimators */\n",
              "  --sklearn-color-fitted-level-0: #f0f8ff;\n",
              "  --sklearn-color-fitted-level-1: #d4ebff;\n",
              "  --sklearn-color-fitted-level-2: #b3dbfd;\n",
              "  --sklearn-color-fitted-level-3: cornflowerblue;\n",
              "\n",
              "  /* Specific color for light theme */\n",
              "  --sklearn-color-text-on-default-background: var(--sg-text-color, var(--theme-code-foreground, var(--jp-content-font-color1, black)));\n",
              "  --sklearn-color-background: var(--sg-background-color, var(--theme-background, var(--jp-layout-color0, white)));\n",
              "  --sklearn-color-border-box: var(--sg-text-color, var(--theme-code-foreground, var(--jp-content-font-color1, black)));\n",
              "  --sklearn-color-icon: #696969;\n",
              "\n",
              "  @media (prefers-color-scheme: dark) {\n",
              "    /* Redefinition of color scheme for dark theme */\n",
              "    --sklearn-color-text-on-default-background: var(--sg-text-color, var(--theme-code-foreground, var(--jp-content-font-color1, white)));\n",
              "    --sklearn-color-background: var(--sg-background-color, var(--theme-background, var(--jp-layout-color0, #111)));\n",
              "    --sklearn-color-border-box: var(--sg-text-color, var(--theme-code-foreground, var(--jp-content-font-color1, white)));\n",
              "    --sklearn-color-icon: #878787;\n",
              "  }\n",
              "}\n",
              "\n",
              "#sk-container-id-1 {\n",
              "  color: var(--sklearn-color-text);\n",
              "}\n",
              "\n",
              "#sk-container-id-1 pre {\n",
              "  padding: 0;\n",
              "}\n",
              "\n",
              "#sk-container-id-1 input.sk-hidden--visually {\n",
              "  border: 0;\n",
              "  clip: rect(1px 1px 1px 1px);\n",
              "  clip: rect(1px, 1px, 1px, 1px);\n",
              "  height: 1px;\n",
              "  margin: -1px;\n",
              "  overflow: hidden;\n",
              "  padding: 0;\n",
              "  position: absolute;\n",
              "  width: 1px;\n",
              "}\n",
              "\n",
              "#sk-container-id-1 div.sk-dashed-wrapped {\n",
              "  border: 1px dashed var(--sklearn-color-line);\n",
              "  margin: 0 0.4em 0.5em 0.4em;\n",
              "  box-sizing: border-box;\n",
              "  padding-bottom: 0.4em;\n",
              "  background-color: var(--sklearn-color-background);\n",
              "}\n",
              "\n",
              "#sk-container-id-1 div.sk-container {\n",
              "  /* jupyter's `normalize.less` sets `[hidden] { display: none; }`\n",
              "     but bootstrap.min.css set `[hidden] { display: none !important; }`\n",
              "     so we also need the `!important` here to be able to override the\n",
              "     default hidden behavior on the sphinx rendered scikit-learn.org.\n",
              "     See: https://github.com/scikit-learn/scikit-learn/issues/21755 */\n",
              "  display: inline-block !important;\n",
              "  position: relative;\n",
              "}\n",
              "\n",
              "#sk-container-id-1 div.sk-text-repr-fallback {\n",
              "  display: none;\n",
              "}\n",
              "\n",
              "div.sk-parallel-item,\n",
              "div.sk-serial,\n",
              "div.sk-item {\n",
              "  /* draw centered vertical line to link estimators */\n",
              "  background-image: linear-gradient(var(--sklearn-color-text-on-default-background), var(--sklearn-color-text-on-default-background));\n",
              "  background-size: 2px 100%;\n",
              "  background-repeat: no-repeat;\n",
              "  background-position: center center;\n",
              "}\n",
              "\n",
              "/* Parallel-specific style estimator block */\n",
              "\n",
              "#sk-container-id-1 div.sk-parallel-item::after {\n",
              "  content: \"\";\n",
              "  width: 100%;\n",
              "  border-bottom: 2px solid var(--sklearn-color-text-on-default-background);\n",
              "  flex-grow: 1;\n",
              "}\n",
              "\n",
              "#sk-container-id-1 div.sk-parallel {\n",
              "  display: flex;\n",
              "  align-items: stretch;\n",
              "  justify-content: center;\n",
              "  background-color: var(--sklearn-color-background);\n",
              "  position: relative;\n",
              "}\n",
              "\n",
              "#sk-container-id-1 div.sk-parallel-item {\n",
              "  display: flex;\n",
              "  flex-direction: column;\n",
              "}\n",
              "\n",
              "#sk-container-id-1 div.sk-parallel-item:first-child::after {\n",
              "  align-self: flex-end;\n",
              "  width: 50%;\n",
              "}\n",
              "\n",
              "#sk-container-id-1 div.sk-parallel-item:last-child::after {\n",
              "  align-self: flex-start;\n",
              "  width: 50%;\n",
              "}\n",
              "\n",
              "#sk-container-id-1 div.sk-parallel-item:only-child::after {\n",
              "  width: 0;\n",
              "}\n",
              "\n",
              "/* Serial-specific style estimator block */\n",
              "\n",
              "#sk-container-id-1 div.sk-serial {\n",
              "  display: flex;\n",
              "  flex-direction: column;\n",
              "  align-items: center;\n",
              "  background-color: var(--sklearn-color-background);\n",
              "  padding-right: 1em;\n",
              "  padding-left: 1em;\n",
              "}\n",
              "\n",
              "\n",
              "/* Toggleable style: style used for estimator/Pipeline/ColumnTransformer box that is\n",
              "clickable and can be expanded/collapsed.\n",
              "- Pipeline and ColumnTransformer use this feature and define the default style\n",
              "- Estimators will overwrite some part of the style using the `sk-estimator` class\n",
              "*/\n",
              "\n",
              "/* Pipeline and ColumnTransformer style (default) */\n",
              "\n",
              "#sk-container-id-1 div.sk-toggleable {\n",
              "  /* Default theme specific background. It is overwritten whether we have a\n",
              "  specific estimator or a Pipeline/ColumnTransformer */\n",
              "  background-color: var(--sklearn-color-background);\n",
              "}\n",
              "\n",
              "/* Toggleable label */\n",
              "#sk-container-id-1 label.sk-toggleable__label {\n",
              "  cursor: pointer;\n",
              "  display: block;\n",
              "  width: 100%;\n",
              "  margin-bottom: 0;\n",
              "  padding: 0.5em;\n",
              "  box-sizing: border-box;\n",
              "  text-align: center;\n",
              "}\n",
              "\n",
              "#sk-container-id-1 label.sk-toggleable__label-arrow:before {\n",
              "  /* Arrow on the left of the label */\n",
              "  content: \"▸\";\n",
              "  float: left;\n",
              "  margin-right: 0.25em;\n",
              "  color: var(--sklearn-color-icon);\n",
              "}\n",
              "\n",
              "#sk-container-id-1 label.sk-toggleable__label-arrow:hover:before {\n",
              "  color: var(--sklearn-color-text);\n",
              "}\n",
              "\n",
              "/* Toggleable content - dropdown */\n",
              "\n",
              "#sk-container-id-1 div.sk-toggleable__content {\n",
              "  max-height: 0;\n",
              "  max-width: 0;\n",
              "  overflow: hidden;\n",
              "  text-align: left;\n",
              "  /* unfitted */\n",
              "  background-color: var(--sklearn-color-unfitted-level-0);\n",
              "}\n",
              "\n",
              "#sk-container-id-1 div.sk-toggleable__content.fitted {\n",
              "  /* fitted */\n",
              "  background-color: var(--sklearn-color-fitted-level-0);\n",
              "}\n",
              "\n",
              "#sk-container-id-1 div.sk-toggleable__content pre {\n",
              "  margin: 0.2em;\n",
              "  border-radius: 0.25em;\n",
              "  color: var(--sklearn-color-text);\n",
              "  /* unfitted */\n",
              "  background-color: var(--sklearn-color-unfitted-level-0);\n",
              "}\n",
              "\n",
              "#sk-container-id-1 div.sk-toggleable__content.fitted pre {\n",
              "  /* unfitted */\n",
              "  background-color: var(--sklearn-color-fitted-level-0);\n",
              "}\n",
              "\n",
              "#sk-container-id-1 input.sk-toggleable__control:checked~div.sk-toggleable__content {\n",
              "  /* Expand drop-down */\n",
              "  max-height: 200px;\n",
              "  max-width: 100%;\n",
              "  overflow: auto;\n",
              "}\n",
              "\n",
              "#sk-container-id-1 input.sk-toggleable__control:checked~label.sk-toggleable__label-arrow:before {\n",
              "  content: \"▾\";\n",
              "}\n",
              "\n",
              "/* Pipeline/ColumnTransformer-specific style */\n",
              "\n",
              "#sk-container-id-1 div.sk-label input.sk-toggleable__control:checked~label.sk-toggleable__label {\n",
              "  color: var(--sklearn-color-text);\n",
              "  background-color: var(--sklearn-color-unfitted-level-2);\n",
              "}\n",
              "\n",
              "#sk-container-id-1 div.sk-label.fitted input.sk-toggleable__control:checked~label.sk-toggleable__label {\n",
              "  background-color: var(--sklearn-color-fitted-level-2);\n",
              "}\n",
              "\n",
              "/* Estimator-specific style */\n",
              "\n",
              "/* Colorize estimator box */\n",
              "#sk-container-id-1 div.sk-estimator input.sk-toggleable__control:checked~label.sk-toggleable__label {\n",
              "  /* unfitted */\n",
              "  background-color: var(--sklearn-color-unfitted-level-2);\n",
              "}\n",
              "\n",
              "#sk-container-id-1 div.sk-estimator.fitted input.sk-toggleable__control:checked~label.sk-toggleable__label {\n",
              "  /* fitted */\n",
              "  background-color: var(--sklearn-color-fitted-level-2);\n",
              "}\n",
              "\n",
              "#sk-container-id-1 div.sk-label label.sk-toggleable__label,\n",
              "#sk-container-id-1 div.sk-label label {\n",
              "  /* The background is the default theme color */\n",
              "  color: var(--sklearn-color-text-on-default-background);\n",
              "}\n",
              "\n",
              "/* On hover, darken the color of the background */\n",
              "#sk-container-id-1 div.sk-label:hover label.sk-toggleable__label {\n",
              "  color: var(--sklearn-color-text);\n",
              "  background-color: var(--sklearn-color-unfitted-level-2);\n",
              "}\n",
              "\n",
              "/* Label box, darken color on hover, fitted */\n",
              "#sk-container-id-1 div.sk-label.fitted:hover label.sk-toggleable__label.fitted {\n",
              "  color: var(--sklearn-color-text);\n",
              "  background-color: var(--sklearn-color-fitted-level-2);\n",
              "}\n",
              "\n",
              "/* Estimator label */\n",
              "\n",
              "#sk-container-id-1 div.sk-label label {\n",
              "  font-family: monospace;\n",
              "  font-weight: bold;\n",
              "  display: inline-block;\n",
              "  line-height: 1.2em;\n",
              "}\n",
              "\n",
              "#sk-container-id-1 div.sk-label-container {\n",
              "  text-align: center;\n",
              "}\n",
              "\n",
              "/* Estimator-specific */\n",
              "#sk-container-id-1 div.sk-estimator {\n",
              "  font-family: monospace;\n",
              "  border: 1px dotted var(--sklearn-color-border-box);\n",
              "  border-radius: 0.25em;\n",
              "  box-sizing: border-box;\n",
              "  margin-bottom: 0.5em;\n",
              "  /* unfitted */\n",
              "  background-color: var(--sklearn-color-unfitted-level-0);\n",
              "}\n",
              "\n",
              "#sk-container-id-1 div.sk-estimator.fitted {\n",
              "  /* fitted */\n",
              "  background-color: var(--sklearn-color-fitted-level-0);\n",
              "}\n",
              "\n",
              "/* on hover */\n",
              "#sk-container-id-1 div.sk-estimator:hover {\n",
              "  /* unfitted */\n",
              "  background-color: var(--sklearn-color-unfitted-level-2);\n",
              "}\n",
              "\n",
              "#sk-container-id-1 div.sk-estimator.fitted:hover {\n",
              "  /* fitted */\n",
              "  background-color: var(--sklearn-color-fitted-level-2);\n",
              "}\n",
              "\n",
              "/* Specification for estimator info (e.g. \"i\" and \"?\") */\n",
              "\n",
              "/* Common style for \"i\" and \"?\" */\n",
              "\n",
              ".sk-estimator-doc-link,\n",
              "a:link.sk-estimator-doc-link,\n",
              "a:visited.sk-estimator-doc-link {\n",
              "  float: right;\n",
              "  font-size: smaller;\n",
              "  line-height: 1em;\n",
              "  font-family: monospace;\n",
              "  background-color: var(--sklearn-color-background);\n",
              "  border-radius: 1em;\n",
              "  height: 1em;\n",
              "  width: 1em;\n",
              "  text-decoration: none !important;\n",
              "  margin-left: 1ex;\n",
              "  /* unfitted */\n",
              "  border: var(--sklearn-color-unfitted-level-1) 1pt solid;\n",
              "  color: var(--sklearn-color-unfitted-level-1);\n",
              "}\n",
              "\n",
              ".sk-estimator-doc-link.fitted,\n",
              "a:link.sk-estimator-doc-link.fitted,\n",
              "a:visited.sk-estimator-doc-link.fitted {\n",
              "  /* fitted */\n",
              "  border: var(--sklearn-color-fitted-level-1) 1pt solid;\n",
              "  color: var(--sklearn-color-fitted-level-1);\n",
              "}\n",
              "\n",
              "/* On hover */\n",
              "div.sk-estimator:hover .sk-estimator-doc-link:hover,\n",
              ".sk-estimator-doc-link:hover,\n",
              "div.sk-label-container:hover .sk-estimator-doc-link:hover,\n",
              ".sk-estimator-doc-link:hover {\n",
              "  /* unfitted */\n",
              "  background-color: var(--sklearn-color-unfitted-level-3);\n",
              "  color: var(--sklearn-color-background);\n",
              "  text-decoration: none;\n",
              "}\n",
              "\n",
              "div.sk-estimator.fitted:hover .sk-estimator-doc-link.fitted:hover,\n",
              ".sk-estimator-doc-link.fitted:hover,\n",
              "div.sk-label-container:hover .sk-estimator-doc-link.fitted:hover,\n",
              ".sk-estimator-doc-link.fitted:hover {\n",
              "  /* fitted */\n",
              "  background-color: var(--sklearn-color-fitted-level-3);\n",
              "  color: var(--sklearn-color-background);\n",
              "  text-decoration: none;\n",
              "}\n",
              "\n",
              "/* Span, style for the box shown on hovering the info icon */\n",
              ".sk-estimator-doc-link span {\n",
              "  display: none;\n",
              "  z-index: 9999;\n",
              "  position: relative;\n",
              "  font-weight: normal;\n",
              "  right: .2ex;\n",
              "  padding: .5ex;\n",
              "  margin: .5ex;\n",
              "  width: min-content;\n",
              "  min-width: 20ex;\n",
              "  max-width: 50ex;\n",
              "  color: var(--sklearn-color-text);\n",
              "  box-shadow: 2pt 2pt 4pt #999;\n",
              "  /* unfitted */\n",
              "  background: var(--sklearn-color-unfitted-level-0);\n",
              "  border: .5pt solid var(--sklearn-color-unfitted-level-3);\n",
              "}\n",
              "\n",
              ".sk-estimator-doc-link.fitted span {\n",
              "  /* fitted */\n",
              "  background: var(--sklearn-color-fitted-level-0);\n",
              "  border: var(--sklearn-color-fitted-level-3);\n",
              "}\n",
              "\n",
              ".sk-estimator-doc-link:hover span {\n",
              "  display: block;\n",
              "}\n",
              "\n",
              "/* \"?\"-specific style due to the `<a>` HTML tag */\n",
              "\n",
              "#sk-container-id-1 a.estimator_doc_link {\n",
              "  float: right;\n",
              "  font-size: 1rem;\n",
              "  line-height: 1em;\n",
              "  font-family: monospace;\n",
              "  background-color: var(--sklearn-color-background);\n",
              "  border-radius: 1rem;\n",
              "  height: 1rem;\n",
              "  width: 1rem;\n",
              "  text-decoration: none;\n",
              "  /* unfitted */\n",
              "  color: var(--sklearn-color-unfitted-level-1);\n",
              "  border: var(--sklearn-color-unfitted-level-1) 1pt solid;\n",
              "}\n",
              "\n",
              "#sk-container-id-1 a.estimator_doc_link.fitted {\n",
              "  /* fitted */\n",
              "  border: var(--sklearn-color-fitted-level-1) 1pt solid;\n",
              "  color: var(--sklearn-color-fitted-level-1);\n",
              "}\n",
              "\n",
              "/* On hover */\n",
              "#sk-container-id-1 a.estimator_doc_link:hover {\n",
              "  /* unfitted */\n",
              "  background-color: var(--sklearn-color-unfitted-level-3);\n",
              "  color: var(--sklearn-color-background);\n",
              "  text-decoration: none;\n",
              "}\n",
              "\n",
              "#sk-container-id-1 a.estimator_doc_link.fitted:hover {\n",
              "  /* fitted */\n",
              "  background-color: var(--sklearn-color-fitted-level-3);\n",
              "}\n",
              "</style><div id=\"sk-container-id-1\" class=\"sk-top-container\"><div class=\"sk-text-repr-fallback\"><pre>Pipeline(memory=Memory(location=None),\n",
              "         steps=[(&#x27;numerical_imputer&#x27;,\n",
              "                 TransformerWrapper(exclude=None,\n",
              "                                    include=[&#x27;source_port&#x27;, &#x27;destination_port&#x27;,\n",
              "                                             &#x27;nat_source_port&#x27;,\n",
              "                                             &#x27;nat_destination_port&#x27;, &#x27;bytes&#x27;,\n",
              "                                             &#x27;bytes_sent&#x27;, &#x27;bytes_received&#x27;,\n",
              "                                             &#x27;packets&#x27;, &#x27;elapsed_time_sec&#x27;,\n",
              "                                             &#x27;pkts_sent&#x27;, &#x27;pkts_received&#x27;,\n",
              "                                             &#x27;id&#x27;],\n",
              "                                    transformer=SimpleImputer(add_indicator=False,\n",
              "                                                              copy=True,\n",
              "                                                              fill_value=N...\n",
              "                 RandomForestClassifier(bootstrap=True, ccp_alpha=0.0,\n",
              "                                        class_weight=None, criterion=&#x27;gini&#x27;,\n",
              "                                        max_depth=None, max_features=&#x27;sqrt&#x27;,\n",
              "                                        max_leaf_nodes=None, max_samples=None,\n",
              "                                        min_impurity_decrease=0.0,\n",
              "                                        min_samples_leaf=1, min_samples_split=2,\n",
              "                                        min_weight_fraction_leaf=0.0,\n",
              "                                        monotonic_cst=None, n_estimators=100,\n",
              "                                        n_jobs=-1, oob_score=False,\n",
              "                                        random_state=2131, verbose=0,\n",
              "                                        warm_start=False))],\n",
              "         verbose=False)</pre><b>In a Jupyter environment, please rerun this cell to show the HTML representation or trust the notebook. <br />On GitHub, the HTML representation is unable to render, please try loading this page with nbviewer.org.</b></div><div class=\"sk-container\" hidden><div class=\"sk-item sk-dashed-wrapped\"><div class=\"sk-label-container\"><div class=\"sk-label fitted sk-toggleable\"><input class=\"sk-toggleable__control sk-hidden--visually\" id=\"sk-estimator-id-1\" type=\"checkbox\" ><label for=\"sk-estimator-id-1\" class=\"sk-toggleable__label fitted sk-toggleable__label-arrow fitted\">&nbsp;Pipeline<span class=\"sk-estimator-doc-link fitted\">i<span>Fitted</span></span></label><div class=\"sk-toggleable__content fitted\"><pre>Pipeline(memory=Memory(location=None),\n",
              "         steps=[(&#x27;numerical_imputer&#x27;,\n",
              "                 TransformerWrapper(exclude=None,\n",
              "                                    include=[&#x27;source_port&#x27;, &#x27;destination_port&#x27;,\n",
              "                                             &#x27;nat_source_port&#x27;,\n",
              "                                             &#x27;nat_destination_port&#x27;, &#x27;bytes&#x27;,\n",
              "                                             &#x27;bytes_sent&#x27;, &#x27;bytes_received&#x27;,\n",
              "                                             &#x27;packets&#x27;, &#x27;elapsed_time_sec&#x27;,\n",
              "                                             &#x27;pkts_sent&#x27;, &#x27;pkts_received&#x27;,\n",
              "                                             &#x27;id&#x27;],\n",
              "                                    transformer=SimpleImputer(add_indicator=False,\n",
              "                                                              copy=True,\n",
              "                                                              fill_value=N...\n",
              "                 RandomForestClassifier(bootstrap=True, ccp_alpha=0.0,\n",
              "                                        class_weight=None, criterion=&#x27;gini&#x27;,\n",
              "                                        max_depth=None, max_features=&#x27;sqrt&#x27;,\n",
              "                                        max_leaf_nodes=None, max_samples=None,\n",
              "                                        min_impurity_decrease=0.0,\n",
              "                                        min_samples_leaf=1, min_samples_split=2,\n",
              "                                        min_weight_fraction_leaf=0.0,\n",
              "                                        monotonic_cst=None, n_estimators=100,\n",
              "                                        n_jobs=-1, oob_score=False,\n",
              "                                        random_state=2131, verbose=0,\n",
              "                                        warm_start=False))],\n",
              "         verbose=False)</pre></div> </div></div><div class=\"sk-serial\"><div class=\"sk-item sk-dashed-wrapped\"><div class=\"sk-label-container\"><div class=\"sk-label fitted sk-toggleable\"><input class=\"sk-toggleable__control sk-hidden--visually\" id=\"sk-estimator-id-2\" type=\"checkbox\" ><label for=\"sk-estimator-id-2\" class=\"sk-toggleable__label fitted sk-toggleable__label-arrow fitted\">numerical_imputer: TransformerWrapper</label><div class=\"sk-toggleable__content fitted\"><pre>TransformerWrapper(exclude=None,\n",
              "                   include=[&#x27;source_port&#x27;, &#x27;destination_port&#x27;,\n",
              "                            &#x27;nat_source_port&#x27;, &#x27;nat_destination_port&#x27;, &#x27;bytes&#x27;,\n",
              "                            &#x27;bytes_sent&#x27;, &#x27;bytes_received&#x27;, &#x27;packets&#x27;,\n",
              "                            &#x27;elapsed_time_sec&#x27;, &#x27;pkts_sent&#x27;, &#x27;pkts_received&#x27;,\n",
              "                            &#x27;id&#x27;],\n",
              "                   transformer=SimpleImputer(add_indicator=False, copy=True,\n",
              "                                             fill_value=None,\n",
              "                                             keep_empty_features=False,\n",
              "                                             missing_values=nan,\n",
              "                                             strategy=&#x27;mean&#x27;))</pre></div> </div></div><div class=\"sk-parallel\"><div class=\"sk-parallel-item\"><div class=\"sk-item\"><div class=\"sk-label-container\"><div class=\"sk-label fitted sk-toggleable\"><input class=\"sk-toggleable__control sk-hidden--visually\" id=\"sk-estimator-id-3\" type=\"checkbox\" ><label for=\"sk-estimator-id-3\" class=\"sk-toggleable__label fitted sk-toggleable__label-arrow fitted\">transformer: SimpleImputer</label><div class=\"sk-toggleable__content fitted\"><pre>SimpleImputer()</pre></div> </div></div><div class=\"sk-serial\"><div class=\"sk-item\"><div class=\"sk-estimator fitted sk-toggleable\"><input class=\"sk-toggleable__control sk-hidden--visually\" id=\"sk-estimator-id-4\" type=\"checkbox\" ><label for=\"sk-estimator-id-4\" class=\"sk-toggleable__label fitted sk-toggleable__label-arrow fitted\">&nbsp;SimpleImputer<a class=\"sk-estimator-doc-link fitted\" rel=\"noreferrer\" target=\"_blank\" href=\"https://scikit-learn.org/1.4/modules/generated/sklearn.impute.SimpleImputer.html\">?<span>Documentation for SimpleImputer</span></a></label><div class=\"sk-toggleable__content fitted\"><pre>SimpleImputer()</pre></div> </div></div></div></div></div></div></div><div class=\"sk-item sk-dashed-wrapped\"><div class=\"sk-label-container\"><div class=\"sk-label fitted sk-toggleable\"><input class=\"sk-toggleable__control sk-hidden--visually\" id=\"sk-estimator-id-5\" type=\"checkbox\" ><label for=\"sk-estimator-id-5\" class=\"sk-toggleable__label fitted sk-toggleable__label-arrow fitted\">categorical_imputer: TransformerWrapper</label><div class=\"sk-toggleable__content fitted\"><pre>TransformerWrapper(exclude=None, include=[],\n",
              "                   transformer=SimpleImputer(add_indicator=False, copy=True,\n",
              "                                             fill_value=None,\n",
              "                                             keep_empty_features=False,\n",
              "                                             missing_values=nan,\n",
              "                                             strategy=&#x27;most_frequent&#x27;))</pre></div> </div></div><div class=\"sk-parallel\"><div class=\"sk-parallel-item\"><div class=\"sk-item\"><div class=\"sk-label-container\"><div class=\"sk-label fitted sk-toggleable\"><input class=\"sk-toggleable__control sk-hidden--visually\" id=\"sk-estimator-id-6\" type=\"checkbox\" ><label for=\"sk-estimator-id-6\" class=\"sk-toggleable__label fitted sk-toggleable__label-arrow fitted\">transformer: SimpleImputer</label><div class=\"sk-toggleable__content fitted\"><pre>SimpleImputer(strategy=&#x27;most_frequent&#x27;)</pre></div> </div></div><div class=\"sk-serial\"><div class=\"sk-item\"><div class=\"sk-estimator fitted sk-toggleable\"><input class=\"sk-toggleable__control sk-hidden--visually\" id=\"sk-estimator-id-7\" type=\"checkbox\" ><label for=\"sk-estimator-id-7\" class=\"sk-toggleable__label fitted sk-toggleable__label-arrow fitted\">&nbsp;SimpleImputer<a class=\"sk-estimator-doc-link fitted\" rel=\"noreferrer\" target=\"_blank\" href=\"https://scikit-learn.org/1.4/modules/generated/sklearn.impute.SimpleImputer.html\">?<span>Documentation for SimpleImputer</span></a></label><div class=\"sk-toggleable__content fitted\"><pre>SimpleImputer(strategy=&#x27;most_frequent&#x27;)</pre></div> </div></div></div></div></div></div></div><div class=\"sk-item\"><div class=\"sk-estimator fitted sk-toggleable\"><input class=\"sk-toggleable__control sk-hidden--visually\" id=\"sk-estimator-id-8\" type=\"checkbox\" ><label for=\"sk-estimator-id-8\" class=\"sk-toggleable__label fitted sk-toggleable__label-arrow fitted\">&nbsp;RandomForestClassifier<a class=\"sk-estimator-doc-link fitted\" rel=\"noreferrer\" target=\"_blank\" href=\"https://scikit-learn.org/1.4/modules/generated/sklearn.ensemble.RandomForestClassifier.html\">?<span>Documentation for RandomForestClassifier</span></a></label><div class=\"sk-toggleable__content fitted\"><pre>RandomForestClassifier(n_jobs=-1, random_state=2131)</pre></div> </div></div></div></div></div></div>"
            ]
          },
          "metadata": {},
          "execution_count": 104
        }
      ]
    },
    {
      "cell_type": "code",
      "source": [
        "Y_pred = final_randomforest.predict(X_test)"
      ],
      "metadata": {
        "id": "pz0DTz3wWFQu"
      },
      "execution_count": 105,
      "outputs": []
    },
    {
      "cell_type": "code",
      "source": [
        "Y_pred = pd.DataFrame(Y_pred)"
      ],
      "metadata": {
        "id": "yCxdzk49ZR-F"
      },
      "execution_count": 106,
      "outputs": []
    },
    {
      "cell_type": "code",
      "source": [
        "Y_pred.rename(columns = {0 : \"pred_action\"}, inplace = True)"
      ],
      "metadata": {
        "id": "IYllpOuuZbC-"
      },
      "execution_count": 108,
      "outputs": []
    },
    {
      "cell_type": "code",
      "source": [
        "Y_pred.shape"
      ],
      "metadata": {
        "colab": {
          "base_uri": "https://localhost:8080/"
        },
        "id": "E9TU3d8Lbt-Y",
        "outputId": "e4588865-a42b-442e-a348-75e8e8357a33"
      },
      "execution_count": 109,
      "outputs": [
        {
          "output_type": "execute_result",
          "data": {
            "text/plain": [
              "(19660, 1)"
            ]
          },
          "metadata": {},
          "execution_count": 109
        }
      ]
    },
    {
      "cell_type": "code",
      "source": [
        "###! pip install pickle"
      ],
      "metadata": {
        "id": "KseNl2fObyQ3"
      },
      "execution_count": null,
      "outputs": []
    },
    {
      "cell_type": "code",
      "source": [
        "# Save the trained model as a pickle string.\n",
        "import pickle\n",
        "\n",
        "saved_model = pickle.dump(final_randomforest, open('/content/final_randomforest_latest.pkl','wb'))"
      ],
      "metadata": {
        "id": "nDDY9jKncS2a"
      },
      "execution_count": 111,
      "outputs": []
    },
    {
      "cell_type": "code",
      "source": [],
      "metadata": {
        "id": "DE8PZEGtcahk"
      },
      "execution_count": null,
      "outputs": []
    }
  ]
}