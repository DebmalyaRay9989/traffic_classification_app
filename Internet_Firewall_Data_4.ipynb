{
  "nbformat": 4,
  "nbformat_minor": 0,
  "metadata": {
    "colab": {
      "provenance": [],
      "gpuType": "T4"
    },
    "kernelspec": {
      "name": "python3",
      "display_name": "Python 3"
    },
    "language_info": {
      "name": "python"
    },
    "accelerator": "GPU"
  },
  "cells": [
    {
      "cell_type": "code",
      "execution_count": 1,
      "metadata": {
        "id": "EcVm7_Call1g"
      },
      "outputs": [],
      "source": [
        "### Internet Firewall Data"
      ]
    },
    {
      "cell_type": "markdown",
      "source": [
        "### Additional Information\n",
        "\n",
        "\n",
        "##### There are 12 features in total. Action feature is used as a class. There are 4 classes in total. These are allow, action, drop and reset-both classes."
      ],
      "metadata": {
        "id": "uxf20QhvmAjM"
      }
    },
    {
      "cell_type": "code",
      "source": [
        "###!pip install keras-tuner"
      ],
      "metadata": {
        "id": "1MGCiqDwl91s"
      },
      "execution_count": 2,
      "outputs": []
    },
    {
      "cell_type": "code",
      "source": [
        "###! unzip /content/internet+firewall+data.zip"
      ],
      "metadata": {
        "id": "Z_HxzDKfl947"
      },
      "execution_count": 3,
      "outputs": []
    },
    {
      "cell_type": "code",
      "source": [
        "###! pip install tensorflow\n",
        "###! pip install bayesian-optimization"
      ],
      "metadata": {
        "id": "0whrHvEBl98L"
      },
      "execution_count": 4,
      "outputs": []
    },
    {
      "cell_type": "code",
      "source": [
        "import pandas as pd\n",
        "import numpy as np\n",
        "import tensorflow as tf\n",
        "from sklearn import preprocessing\n",
        "import matplotlib.pyplot as plt\n",
        "tf.random.set_seed(123)\n",
        "np.random.seed(123)\n",
        "\n",
        "# Import packages\n",
        "import numpy as np\n",
        "import pandas as pd\n",
        "import matplotlib.pyplot as plt\n",
        "import seaborn as sns\n",
        "from sklearn.model_selection import train_test_split\n",
        "from sklearn.model_selection import cross_val_score\n",
        "from keras.models import Sequential\n",
        "from keras.layers import Dense, BatchNormalization, Dropout\n",
        "from tensorflow.keras.optimizers import Adam, SGD, RMSprop, Adadelta, Adagrad, Adamax, Nadam, Ftrl\n",
        "from keras.callbacks import EarlyStopping, ModelCheckpoint\n",
        "###from keras.wrappers.scikit_learn import KerasClassifier\n",
        "from math import floor\n",
        "from sklearn.metrics import make_scorer, accuracy_score\n",
        "from bayes_opt import BayesianOptimization\n",
        "from sklearn.model_selection import StratifiedKFold\n",
        "from keras.layers import LeakyReLU\n",
        "LeakyReLU = LeakyReLU(alpha=0.1)\n",
        "import warnings\n",
        "warnings.filterwarnings('ignore')\n",
        "pd.set_option(\"display.max_columns\", None)"
      ],
      "metadata": {
        "id": "4ixBmdYel9_Z"
      },
      "execution_count": 5,
      "outputs": []
    },
    {
      "cell_type": "code",
      "source": [
        "log_data = pd.read_csv(\"/content/log2.csv\")"
      ],
      "metadata": {
        "id": "I5-qa8Qol-Db"
      },
      "execution_count": 6,
      "outputs": []
    },
    {
      "cell_type": "code",
      "source": [
        "log_data.columns"
      ],
      "metadata": {
        "colab": {
          "base_uri": "https://localhost:8080/"
        },
        "id": "cMXIFLxSnc4H",
        "outputId": "af49b9cf-4fe7-4a3a-9db3-4d206121b9d9"
      },
      "execution_count": 7,
      "outputs": [
        {
          "output_type": "execute_result",
          "data": {
            "text/plain": [
              "Index(['Source Port', 'Destination Port', 'NAT Source Port',\n",
              "       'NAT Destination Port', 'Action', 'Bytes', 'Bytes Sent',\n",
              "       'Bytes Received', 'Packets', 'Elapsed Time (sec)', 'pkts_sent',\n",
              "       'pkts_received'],\n",
              "      dtype='object')"
            ]
          },
          "metadata": {},
          "execution_count": 7
        }
      ]
    },
    {
      "cell_type": "code",
      "source": [
        "log_data.info()"
      ],
      "metadata": {
        "colab": {
          "base_uri": "https://localhost:8080/"
        },
        "id": "UHrS7z03nfFP",
        "outputId": "00a23e56-3501-4ee0-8f52-520c835be14d"
      },
      "execution_count": 8,
      "outputs": [
        {
          "output_type": "stream",
          "name": "stdout",
          "text": [
            "<class 'pandas.core.frame.DataFrame'>\n",
            "RangeIndex: 65532 entries, 0 to 65531\n",
            "Data columns (total 12 columns):\n",
            " #   Column                Non-Null Count  Dtype \n",
            "---  ------                --------------  ----- \n",
            " 0   Source Port           65532 non-null  int64 \n",
            " 1   Destination Port      65532 non-null  int64 \n",
            " 2   NAT Source Port       65532 non-null  int64 \n",
            " 3   NAT Destination Port  65532 non-null  int64 \n",
            " 4   Action                65532 non-null  object\n",
            " 5   Bytes                 65532 non-null  int64 \n",
            " 6   Bytes Sent            65532 non-null  int64 \n",
            " 7   Bytes Received        65532 non-null  int64 \n",
            " 8   Packets               65532 non-null  int64 \n",
            " 9   Elapsed Time (sec)    65532 non-null  int64 \n",
            " 10  pkts_sent             65532 non-null  int64 \n",
            " 11  pkts_received         65532 non-null  int64 \n",
            "dtypes: int64(11), object(1)\n",
            "memory usage: 6.0+ MB\n"
          ]
        }
      ]
    },
    {
      "cell_type": "code",
      "source": [
        "from sklearn.model_selection import train_test_split"
      ],
      "metadata": {
        "id": "oW9WtH91nj--"
      },
      "execution_count": 9,
      "outputs": []
    },
    {
      "cell_type": "code",
      "source": [
        "training_data, testing_data = train_test_split(log_data, test_size = 0.3, random_state = 0)"
      ],
      "metadata": {
        "id": "1Ky_CzsHnk5f"
      },
      "execution_count": 10,
      "outputs": []
    },
    {
      "cell_type": "code",
      "source": [
        "print(training_data.shape, testing_data.shape)"
      ],
      "metadata": {
        "colab": {
          "base_uri": "https://localhost:8080/"
        },
        "id": "qfYavF0snodb",
        "outputId": "d64e8277-22fc-433a-e060-5615a5a0b4a2"
      },
      "execution_count": 11,
      "outputs": [
        {
          "output_type": "stream",
          "name": "stdout",
          "text": [
            "(45872, 12) (19660, 12)\n"
          ]
        }
      ]
    },
    {
      "cell_type": "code",
      "source": [
        "training_data['ID'] = training_data.index\n",
        "testing_data['ID'] = testing_data.index\n"
      ],
      "metadata": {
        "id": "Xfg6S9CSnrbL"
      },
      "execution_count": 12,
      "outputs": []
    },
    {
      "cell_type": "code",
      "source": [
        "####! pip install matplotlib_venn\n",
        "from matplotlib_venn import venn2, venn2_circles, venn2_unweighted\n",
        "from matplotlib_venn import venn3, venn3_circles"
      ],
      "metadata": {
        "id": "WLjGaWCVns2U"
      },
      "execution_count": 13,
      "outputs": []
    },
    {
      "cell_type": "code",
      "source": [
        "set_numbers_train = set(training_data[['ID']].drop_duplicates().sort_values(by = 'ID')['ID'].tolist())\n",
        "set_numbers_test = set(testing_data[['ID']].drop_duplicates().sort_values(by = 'ID')['ID'].tolist())\n",
        "venn2((set_numbers_train, set_numbers_test), set_labels = ('Train numbers', 'Test numbers'))"
      ],
      "metadata": {
        "colab": {
          "base_uri": "https://localhost:8080/",
          "height": 317
        },
        "id": "2u5_Bvhdny_g",
        "outputId": "6f65c33c-80d7-476d-bb7f-16de2288a599"
      },
      "execution_count": 14,
      "outputs": [
        {
          "output_type": "execute_result",
          "data": {
            "text/plain": [
              "<matplotlib_venn._common.VennDiagram at 0x7c39de1514e0>"
            ]
          },
          "metadata": {},
          "execution_count": 14
        },
        {
          "output_type": "display_data",
          "data": {
            "text/plain": [
              "<Figure size 640x480 with 1 Axes>"
            ],
            "image/png": "[encoded data removed]"
          },
          "metadata": {}
        }
      ]
    },
    {
      "cell_type": "code",
      "source": [
        "num_var = [feature for feature in training_data.columns if training_data[feature].dtypes != 'O']\n",
        "discrete_var = [feature for feature in num_var if len(training_data[feature].unique()) <= 25]\n",
        "cont_var = [feature for feature in num_var if feature not in discrete_var]\n",
        "categ_var = [feature for feature in training_data.columns if feature not in num_var]"
      ],
      "metadata": {
        "id": "tU5mTQsln8cQ"
      },
      "execution_count": 15,
      "outputs": []
    },
    {
      "cell_type": "code",
      "source": [
        "###! pip install klib\n",
        "###!pip install keras-tuner"
      ],
      "metadata": {
        "id": "Yq0Yx6MPpCGk"
      },
      "execution_count": 16,
      "outputs": []
    },
    {
      "cell_type": "code",
      "source": [
        "import klib"
      ],
      "metadata": {
        "id": "F4wRmghqpGsT"
      },
      "execution_count": 17,
      "outputs": []
    },
    {
      "cell_type": "code",
      "source": [
        "training_data = klib.clean_column_names(training_data)\n",
        "testing_data = klib.clean_column_names(testing_data)"
      ],
      "metadata": {
        "id": "TayJ9AlSpNWG"
      },
      "execution_count": 18,
      "outputs": []
    },
    {
      "cell_type": "code",
      "source": [
        "klib.cat_plot(training_data)"
      ],
      "metadata": {
        "colab": {
          "base_uri": "https://localhost:8080/",
          "height": 997
        },
        "id": "vUMD6OBHpPSo",
        "outputId": "0e50c716-d794-4c23-a67f-6a86ccb01e9a"
      },
      "execution_count": 19,
      "outputs": [
        {
          "output_type": "execute_result",
          "data": {
            "text/plain": [
              "GridSpec(6, 1)"
            ]
          },
          "metadata": {},
          "execution_count": 19
        },
        {
          "output_type": "display_data",
          "data": {
            "text/plain": [
              "<Figure size 1800x1800 with 3 Axes>"
            ],
            "image/png": "[encoded data removed]"
          },
          "metadata": {}
        }
      ]
    },
    {
      "cell_type": "code",
      "source": [
        "klib.corr_interactive_plot(training_data)"
      ],
      "metadata": {
        "colab": {
          "base_uri": "https://localhost:8080/",
          "height": 1000
        },
        "id": "7Xp-EZq6pTSu",
        "outputId": "ed30555f-6b68-42f5-8feb-345fae367c40"
      },
      "execution_count": 20,
      "outputs": [
        {
          "output_type": "display_data",
          "data": {
            "text/html": [
              "<html>\n",
              "<head><meta charset=\"utf-8\" /></head>\n",
              "<body>\n",
              "    <div>            <script src=\"https://cdnjs.cloudflare.com/ajax/libs/mathjax/2.7.5/MathJax.js?config=TeX-AMS-MML_SVG\"></script><script type=\"text/javascript\">if (window.MathJax && window.MathJax.Hub && window.MathJax.Hub.Config) {window.MathJax.Hub.Config({SVG: {font: \"STIX-Web\"}});}</script>                <script type=\"text/javascript\">window.PlotlyConfig = {MathJaxConfig: 'local'};</script>\n",
              "        <script charset=\"utf-8\" src=\"https://cdn.plot.ly/plotly-2.24.1.min.js\"></script>                <div id=\"5c0a0ecd-3580-4500-a92c-85046213bdb0\" class=\"plotly-graph-div\" style=\"height:1056px; width:1152px;\"></div>            <script type=\"text/javascript\">                                    window.PLOTLYENV=window.PLOTLYENV || {};                                    if (document.getElementById(\"5c0a0ecd-3580-4500-a92c-85046213bdb0\")) {                    Plotly.newPlot(                        \"5c0a0ecd-3580-4500-a92c-85046213bdb0\",                        [{\"colorscale\":[[0.0,\"rgb(84,48,5)\"],[0.1,\"rgb(140,81,10)\"],[0.2,\"rgb(191,129,45)\"],[0.3,\"rgb(223,194,125)\"],[0.4,\"rgb(246,232,195)\"],[0.5,\"rgb(245,245,245)\"],[0.6,\"rgb(199,234,229)\"],[0.7,\"rgb(128,205,193)\"],[0.8,\"rgb(53,151,143)\"],[0.9,\"rgb(1,102,94)\"],[1.0,\"rgb(0,60,48)\"]],\"hoverongaps\":false,\"text\":[[\"\",0.01,-0.0,0.02,0.0,0.0,-0.0,-0.0,0.03,0.01,0.01,-0.0],[\"\",\"\",0.84,0.14,0.94,0.94,0.71,0.85,0.0,0.02,-0.01,-0.0],[\"\",\"\",\"\",0.16,0.98,0.8,0.98,0.99,0.01,0.01,-0.0,-0.0],[\"\",\"\",\"\",\"\",0.16,0.14,0.15,0.16,0.22,0.14,0.02,-0.05],[\"\",\"\",\"\",\"\",\"\",0.89,0.91,0.97,0.01,0.01,-0.0,-0.0],[\"\",\"\",\"\",\"\",\"\",\"\",0.68,0.86,-0.0,0.02,-0.01,0.0],[\"\",\"\",\"\",\"\",\"\",\"\",\"\",0.96,0.01,0.0,0.0,-0.0],[\"\",\"\",\"\",\"\",\"\",\"\",\"\",\"\",0.01,0.01,-0.0,-0.0],[\"\",\"\",\"\",\"\",\"\",\"\",\"\",\"\",\"\",0.18,0.41,-0.03],[\"\",\"\",\"\",\"\",\"\",\"\",\"\",\"\",\"\",\"\",-0.28,0.14],[\"\",\"\",\"\",\"\",\"\",\"\",\"\",\"\",\"\",\"\",\"\",-0.33],[\"\",\"\",\"\",\"\",\"\",\"\",\"\",\"\",\"\",\"\",\"\",\"\"]],\"textfont\":{\"size\":12},\"texttemplate\":\"%{text}\",\"x\":[\"id\",\"pkts_received\",\"pkts_sent\",\"elapsed_time_sec\",\"packets\",\"bytes_received\",\"bytes_sent\",\"bytes\",\"nat_destination_port\",\"nat_source_port\",\"destination_port\",\"source_port\"],\"xgap\":1,\"y\":[\"id\",\"pkts_received\",\"pkts_sent\",\"elapsed_time_sec\",\"packets\",\"bytes_received\",\"bytes_sent\",\"bytes\",\"nat_destination_port\",\"nat_source_port\",\"destination_port\",\"source_port\"],\"ygap\":1,\"z\":[[null,0.00550590289188447,-0.001020295795748523,0.01746151068120891,0.0015432155223930389,0.004435890921927962,-0.0036920768736054483,-0.0009120909684094266,0.033590173947228866,0.010419924617563437,0.011071371448047936,-0.003404643343157724],[null,null,0.841631812675877,0.1448154833159057,0.9382327842215384,0.9401035068566809,0.7079390012407581,0.8531418710194946,0.00382247022631559,0.019156082608019116,-0.009608372144194905,-0.0038738629583406157],[null,null,null,0.15687919028242292,0.9765069947317161,0.8041981842615508,0.9750926078632045,0.9892385766421292,0.007416671432303234,0.007035775399368569,-0.0015262984125171178,-0.002032483614818157],[null,null,null,null,0.15829335177434967,0.1449965219532377,0.14884786948125733,0.15942948841791232,0.21965820264618852,0.1415989107052936,0.02345067244577181,-0.04548955677355294],[null,null,null,null,null,0.8903502452783322,0.9072044432206985,0.9742049007786177,0.006276973950221388,0.012151193361166684,-0.0048117115732345585,-0.002847895500635087],[null,null,null,null,null,null,0.6835321900905509,0.858692443549393,-0.0018774572751508061,0.02266594971448342,-0.014346620614963524,0.0011627877771938932],[null,null,null,null,null,null,null,0.9610217331917231,0.009378338841007175,0.002505913952199612,0.0020857826192151197,-0.0011735091547588907],[null,null,null,null,null,null,null,null,0.00587358689810017,0.010344660428784503,-0.003969618658186814,-0.000383512996082076],[null,null,null,null,null,null,null,null,null,0.1768442028451785,0.4107760884032806,-0.026874090008660066],[null,null,null,null,null,null,null,null,null,null,-0.28134570931206754,0.14462411792355004],[null,null,null,null,null,null,null,null,null,null,null,-0.3328223490576144],[null,null,null,null,null,null,null,null,null,null,null,null]],\"zmax\":0.94,\"zmin\":-0.28,\"type\":\"heatmap\"}],                        {\"template\":{\"data\":{\"histogram2dcontour\":[{\"type\":\"histogram2dcontour\",\"colorbar\":{\"outlinewidth\":0,\"ticks\":\"\"},\"colorscale\":[[0.0,\"#0d0887\"],[0.1111111111111111,\"#46039f\"],[0.2222222222222222,\"#7201a8\"],[0.3333333333333333,\"#9c179e\"],[0.4444444444444444,\"#bd3786\"],[0.5555555555555556,\"#d8576b\"],[0.6666666666666666,\"#ed7953\"],[0.7777777777777778,\"#fb9f3a\"],[0.8888888888888888,\"#fdca26\"],[1.0,\"#f0f921\"]]}],\"choropleth\":[{\"type\":\"choropleth\",\"colorbar\":{\"outlinewidth\":0,\"ticks\":\"\"}}],\"histogram2d\":[{\"type\":\"histogram2d\",\"colorbar\":{\"outlinewidth\":0,\"ticks\":\"\"},\"colorscale\":[[0.0,\"#0d0887\"],[0.1111111111111111,\"#46039f\"],[0.2222222222222222,\"#7201a8\"],[0.3333333333333333,\"#9c179e\"],[0.4444444444444444,\"#bd3786\"],[0.5555555555555556,\"#d8576b\"],[0.6666666666666666,\"#ed7953\"],[0.7777777777777778,\"#fb9f3a\"],[0.8888888888888888,\"#fdca26\"],[1.0,\"#f0f921\"]]}],\"heatmap\":[{\"type\":\"heatmap\",\"colorbar\":{\"outlinewidth\":0,\"ticks\":\"\"},\"colorscale\":[[0.0,\"#0d0887\"],[0.1111111111111111,\"#46039f\"],[0.2222222222222222,\"#7201a8\"],[0.3333333333333333,\"#9c179e\"],[0.4444444444444444,\"#bd3786\"],[0.5555555555555556,\"#d8576b\"],[0.6666666666666666,\"#ed7953\"],[0.7777777777777778,\"#fb9f3a\"],[0.8888888888888888,\"#fdca26\"],[1.0,\"#f0f921\"]]}],\"heatmapgl\":[{\"type\":\"heatmapgl\",\"colorbar\":{\"outlinewidth\":0,\"ticks\":\"\"},\"colorscale\":[[0.0,\"#0d0887\"],[0.1111111111111111,\"#46039f\"],[0.2222222222222222,\"#7201a8\"],[0.3333333333333333,\"#9c179e\"],[0.4444444444444444,\"#bd3786\"],[0.5555555555555556,\"#d8576b\"],[0.6666666666666666,\"#ed7953\"],[0.7777777777777778,\"#fb9f3a\"],[0.8888888888888888,\"#fdca26\"],[1.0,\"#f0f921\"]]}],\"contourcarpet\":[{\"type\":\"contourcarpet\",\"colorbar\":{\"outlinewidth\":0,\"ticks\":\"\"}}],\"contour\":[{\"type\":\"contour\",\"colorbar\":{\"outlinewidth\":0,\"ticks\":\"\"},\"colorscale\":[[0.0,\"#0d0887\"],[0.1111111111111111,\"#46039f\"],[0.2222222222222222,\"#7201a8\"],[0.3333333333333333,\"#9c179e\"],[0.4444444444444444,\"#bd3786\"],[0.5555555555555556,\"#d8576b\"],[0.6666666666666666,\"#ed7953\"],[0.7777777777777778,\"#fb9f3a\"],[0.8888888888888888,\"#fdca26\"],[1.0,\"#f0f921\"]]}],\"surface\":[{\"type\":\"surface\",\"colorbar\":{\"outlinewidth\":0,\"ticks\":\"\"},\"colorscale\":[[0.0,\"#0d0887\"],[0.1111111111111111,\"#46039f\"],[0.2222222222222222,\"#7201a8\"],[0.3333333333333333,\"#9c179e\"],[0.4444444444444444,\"#bd3786\"],[0.5555555555555556,\"#d8576b\"],[0.6666666666666666,\"#ed7953\"],[0.7777777777777778,\"#fb9f3a\"],[0.8888888888888888,\"#fdca26\"],[1.0,\"#f0f921\"]]}],\"mesh3d\":[{\"type\":\"mesh3d\",\"colorbar\":{\"outlinewidth\":0,\"ticks\":\"\"}}],\"scatter\":[{\"fillpattern\":{\"fillmode\":\"overlay\",\"size\":10,\"solidity\":0.2},\"type\":\"scatter\"}],\"parcoords\":[{\"type\":\"parcoords\",\"line\":{\"colorbar\":{\"outlinewidth\":0,\"ticks\":\"\"}}}],\"scatterpolargl\":[{\"type\":\"scatterpolargl\",\"marker\":{\"colorbar\":{\"outlinewidth\":0,\"ticks\":\"\"}}}],\"bar\":[{\"error_x\":{\"color\":\"#2a3f5f\"},\"error_y\":{\"color\":\"#2a3f5f\"},\"marker\":{\"line\":{\"color\":\"#E5ECF6\",\"width\":0.5},\"pattern\":{\"fillmode\":\"overlay\",\"size\":10,\"solidity\":0.2}},\"type\":\"bar\"}],\"scattergeo\":[{\"type\":\"scattergeo\",\"marker\":{\"colorbar\":{\"outlinewidth\":0,\"ticks\":\"\"}}}],\"scatterpolar\":[{\"type\":\"scatterpolar\",\"marker\":{\"colorbar\":{\"outlinewidth\":0,\"ticks\":\"\"}}}],\"histogram\":[{\"marker\":{\"pattern\":{\"fillmode\":\"overlay\",\"size\":10,\"solidity\":0.2}},\"type\":\"histogram\"}],\"scattergl\":[{\"type\":\"scattergl\",\"marker\":{\"colorbar\":{\"outlinewidth\":0,\"ticks\":\"\"}}}],\"scatter3d\":[{\"type\":\"scatter3d\",\"line\":{\"colorbar\":{\"outlinewidth\":0,\"ticks\":\"\"}},\"marker\":{\"colorbar\":{\"outlinewidth\":0,\"ticks\":\"\"}}}],\"scattermapbox\":[{\"type\":\"scattermapbox\",\"marker\":{\"colorbar\":{\"outlinewidth\":0,\"ticks\":\"\"}}}],\"scatterternary\":[{\"type\":\"scatterternary\",\"marker\":{\"colorbar\":{\"outlinewidth\":0,\"ticks\":\"\"}}}],\"scattercarpet\":[{\"type\":\"scattercarpet\",\"marker\":{\"colorbar\":{\"outlinewidth\":0,\"ticks\":\"\"}}}],\"carpet\":[{\"aaxis\":{\"endlinecolor\":\"#2a3f5f\",\"gridcolor\":\"white\",\"linecolor\":\"white\",\"minorgridcolor\":\"white\",\"startlinecolor\":\"#2a3f5f\"},\"baxis\":{\"endlinecolor\":\"#2a3f5f\",\"gridcolor\":\"white\",\"linecolor\":\"white\",\"minorgridcolor\":\"white\",\"startlinecolor\":\"#2a3f5f\"},\"type\":\"carpet\"}],\"table\":[{\"cells\":{\"fill\":{\"color\":\"#EBF0F8\"},\"line\":{\"color\":\"white\"}},\"header\":{\"fill\":{\"color\":\"#C8D4E3\"},\"line\":{\"color\":\"white\"}},\"type\":\"table\"}],\"barpolar\":[{\"marker\":{\"line\":{\"color\":\"#E5ECF6\",\"width\":0.5},\"pattern\":{\"fillmode\":\"overlay\",\"size\":10,\"solidity\":0.2}},\"type\":\"barpolar\"}],\"pie\":[{\"automargin\":true,\"type\":\"pie\"}]},\"layout\":{\"autotypenumbers\":\"strict\",\"colorway\":[\"#636efa\",\"#EF553B\",\"#00cc96\",\"#ab63fa\",\"#FFA15A\",\"#19d3f3\",\"#FF6692\",\"#B6E880\",\"#FF97FF\",\"#FECB52\"],\"font\":{\"color\":\"#2a3f5f\"},\"hovermode\":\"closest\",\"hoverlabel\":{\"align\":\"left\"},\"paper_bgcolor\":\"white\",\"plot_bgcolor\":\"#E5ECF6\",\"polar\":{\"bgcolor\":\"#E5ECF6\",\"angularaxis\":{\"gridcolor\":\"white\",\"linecolor\":\"white\",\"ticks\":\"\"},\"radialaxis\":{\"gridcolor\":\"white\",\"linecolor\":\"white\",\"ticks\":\"\"}},\"ternary\":{\"bgcolor\":\"#E5ECF6\",\"aaxis\":{\"gridcolor\":\"white\",\"linecolor\":\"white\",\"ticks\":\"\"},\"baxis\":{\"gridcolor\":\"white\",\"linecolor\":\"white\",\"ticks\":\"\"},\"caxis\":{\"gridcolor\":\"white\",\"linecolor\":\"white\",\"ticks\":\"\"}},\"coloraxis\":{\"colorbar\":{\"outlinewidth\":0,\"ticks\":\"\"}},\"colorscale\":{\"sequential\":[[0.0,\"#0d0887\"],[0.1111111111111111,\"#46039f\"],[0.2222222222222222,\"#7201a8\"],[0.3333333333333333,\"#9c179e\"],[0.4444444444444444,\"#bd3786\"],[0.5555555555555556,\"#d8576b\"],[0.6666666666666666,\"#ed7953\"],[0.7777777777777778,\"#fb9f3a\"],[0.8888888888888888,\"#fdca26\"],[1.0,\"#f0f921\"]],\"sequentialminus\":[[0.0,\"#0d0887\"],[0.1111111111111111,\"#46039f\"],[0.2222222222222222,\"#7201a8\"],[0.3333333333333333,\"#9c179e\"],[0.4444444444444444,\"#bd3786\"],[0.5555555555555556,\"#d8576b\"],[0.6666666666666666,\"#ed7953\"],[0.7777777777777778,\"#fb9f3a\"],[0.8888888888888888,\"#fdca26\"],[1.0,\"#f0f921\"]],\"diverging\":[[0,\"#8e0152\"],[0.1,\"#c51b7d\"],[0.2,\"#de77ae\"],[0.3,\"#f1b6da\"],[0.4,\"#fde0ef\"],[0.5,\"#f7f7f7\"],[0.6,\"#e6f5d0\"],[0.7,\"#b8e186\"],[0.8,\"#7fbc41\"],[0.9,\"#4d9221\"],[1,\"#276419\"]]},\"xaxis\":{\"gridcolor\":\"white\",\"linecolor\":\"white\",\"ticks\":\"\",\"title\":{\"standoff\":15},\"zerolinecolor\":\"white\",\"automargin\":true,\"zerolinewidth\":2},\"yaxis\":{\"gridcolor\":\"white\",\"linecolor\":\"white\",\"ticks\":\"\",\"title\":{\"standoff\":15},\"zerolinecolor\":\"white\",\"automargin\":true,\"zerolinewidth\":2},\"scene\":{\"xaxis\":{\"backgroundcolor\":\"#E5ECF6\",\"gridcolor\":\"white\",\"linecolor\":\"white\",\"showbackground\":true,\"ticks\":\"\",\"zerolinecolor\":\"white\",\"gridwidth\":2},\"yaxis\":{\"backgroundcolor\":\"#E5ECF6\",\"gridcolor\":\"white\",\"linecolor\":\"white\",\"showbackground\":true,\"ticks\":\"\",\"zerolinecolor\":\"white\",\"gridwidth\":2},\"zaxis\":{\"backgroundcolor\":\"#E5ECF6\",\"gridcolor\":\"white\",\"linecolor\":\"white\",\"showbackground\":true,\"ticks\":\"\",\"zerolinecolor\":\"white\",\"gridwidth\":2}},\"shapedefaults\":{\"line\":{\"color\":\"#2a3f5f\"}},\"annotationdefaults\":{\"arrowcolor\":\"#2a3f5f\",\"arrowhead\":0,\"arrowwidth\":1},\"geo\":{\"bgcolor\":\"white\",\"landcolor\":\"#E5ECF6\",\"subunitcolor\":\"white\",\"showland\":true,\"showlakes\":true,\"lakecolor\":\"white\"},\"title\":{\"x\":0.05},\"mapbox\":{\"style\":\"light\"}}},\"title\":{\"text\":\"Feature-correlation (pearson)\",\"font\":{\"size\":24},\"x\":0.5},\"xaxis\":{\"autorange\":\"reversed\"},\"autosize\":true,\"width\":1152,\"height\":1056},                        {\"responsive\": true}                    ).then(function(){\n",
              "                            \n",
              "var gd = document.getElementById('5c0a0ecd-3580-4500-a92c-85046213bdb0');\n",
              "var x = new MutationObserver(function (mutations, observer) {{\n",
              "        var display = window.getComputedStyle(gd).display;\n",
              "        if (!display || display === 'none') {{\n",
              "            console.log([gd, 'removed!']);\n",
              "            Plotly.purge(gd);\n",
              "            observer.disconnect();\n",
              "        }}\n",
              "}});\n",
              "\n",
              "// Listen for the removal of the full notebook cells\n",
              "var notebookContainer = gd.closest('#notebook-container');\n",
              "if (notebookContainer) {{\n",
              "    x.observe(notebookContainer, {childList: true});\n",
              "}}\n",
              "\n",
              "// Listen for the clearing of the current output cell\n",
              "var outputEl = gd.closest('.output');\n",
              "if (outputEl) {{\n",
              "    x.observe(outputEl, {childList: true});\n",
              "}}\n",
              "\n",
              "                        })                };                            </script>        </div>\n",
              "</body>\n",
              "</html>"
            ]
          },
          "metadata": {}
        }
      ]
    },
    {
      "cell_type": "code",
      "source": [
        "klib.dist_plot(training_data)"
      ],
      "metadata": {
        "colab": {
          "base_uri": "https://localhost:8080/",
          "height": 239
        },
        "id": "9IZk-x_dpaAl",
        "outputId": "5677a2ba-23e5-435d-9568-f2d101893269"
      },
      "execution_count": 21,
      "outputs": [
        {
          "output_type": "stream",
          "name": "stdout",
          "text": [
            "Large dataset detected, using 10000 random samples for the plots. Summary statistics are still based on the entire dataset.\n"
          ]
        },
        {
          "output_type": "execute_result",
          "data": {
            "text/plain": [
              "<Axes: xlabel='source_port', ylabel='Density'>"
            ]
          },
          "metadata": {},
          "execution_count": 21
        },
        {
          "output_type": "display_data",
          "data": {
            "text/plain": [
              "<Figure size 1500x300 with 1 Axes>"
            ],
            "image/png": "[encoded data removed]"
          },
          "metadata": {}
        }
      ]
    },
    {
      "cell_type": "code",
      "source": [
        "klib.missingval_plot(training_data)"
      ],
      "metadata": {
        "colab": {
          "base_uri": "https://localhost:8080/"
        },
        "id": "MEoiRThIpcgy",
        "outputId": "1a070f14-c159-4221-b482-3f8ecb7191c2"
      },
      "execution_count": 22,
      "outputs": [
        {
          "output_type": "stream",
          "name": "stdout",
          "text": [
            "No missing values found in the dataset.\n"
          ]
        }
      ]
    },
    {
      "cell_type": "code",
      "source": [
        "klib.corr_mat(training_data)"
      ],
      "metadata": {
        "colab": {
          "base_uri": "https://localhost:8080/",
          "height": 446
        },
        "id": "41Um4MuqplF3",
        "outputId": "3fa880e8-1db8-42e2-e527-30aef8d16d35"
      },
      "execution_count": 23,
      "outputs": [
        {
          "output_type": "execute_result",
          "data": {
            "text/plain": [
              "<pandas.io.formats.style.Styler at 0x7c39d1c7aa10>"
            ],
            "text/html": [
              "<style type=\"text/css\">\n",
              "#T_0705f_row0_col0, #T_0705f_row0_col2, #T_0705f_row0_col6, #T_0705f_row1_col1, #T_0705f_row1_col3, #T_0705f_row1_col5, #T_0705f_row1_col8, #T_0705f_row1_col11, #T_0705f_row2_col0, #T_0705f_row2_col2, #T_0705f_row2_col3, #T_0705f_row2_col4, #T_0705f_row2_col5, #T_0705f_row2_col6, #T_0705f_row2_col7, #T_0705f_row2_col8, #T_0705f_row2_col9, #T_0705f_row2_col10, #T_0705f_row2_col11, #T_0705f_row3_col1, #T_0705f_row3_col2, #T_0705f_row3_col3, #T_0705f_row3_col4, #T_0705f_row3_col5, #T_0705f_row3_col7, #T_0705f_row3_col8, #T_0705f_row3_col9, #T_0705f_row3_col10, #T_0705f_row3_col11, #T_0705f_row4_col2, #T_0705f_row4_col3, #T_0705f_row4_col4, #T_0705f_row4_col5, #T_0705f_row4_col6, #T_0705f_row4_col7, #T_0705f_row4_col8, #T_0705f_row4_col9, #T_0705f_row4_col10, #T_0705f_row5_col1, #T_0705f_row5_col2, #T_0705f_row5_col3, #T_0705f_row5_col4, #T_0705f_row5_col5, #T_0705f_row5_col6, #T_0705f_row5_col7, #T_0705f_row5_col8, #T_0705f_row5_col9, #T_0705f_row5_col10, #T_0705f_row6_col0, #T_0705f_row6_col2, #T_0705f_row6_col4, #T_0705f_row6_col5, #T_0705f_row6_col6, #T_0705f_row6_col7, #T_0705f_row6_col8, #T_0705f_row6_col9, #T_0705f_row6_col10, #T_0705f_row6_col11, #T_0705f_row7_col2, #T_0705f_row7_col3, #T_0705f_row7_col4, #T_0705f_row7_col5, #T_0705f_row7_col6, #T_0705f_row7_col7, #T_0705f_row7_col8, #T_0705f_row7_col9, #T_0705f_row7_col10, #T_0705f_row7_col11, #T_0705f_row8_col1, #T_0705f_row8_col2, #T_0705f_row8_col3, #T_0705f_row8_col4, #T_0705f_row8_col5, #T_0705f_row8_col6, #T_0705f_row8_col7, #T_0705f_row8_col8, #T_0705f_row8_col9, #T_0705f_row8_col10, #T_0705f_row8_col11, #T_0705f_row9_col2, #T_0705f_row9_col3, #T_0705f_row9_col4, #T_0705f_row9_col5, #T_0705f_row9_col6, #T_0705f_row9_col7, #T_0705f_row9_col8, #T_0705f_row9_col9, #T_0705f_row9_col10, #T_0705f_row10_col2, #T_0705f_row10_col3, #T_0705f_row10_col4, #T_0705f_row10_col5, #T_0705f_row10_col6, #T_0705f_row10_col7, #T_0705f_row10_col8, #T_0705f_row10_col9, #T_0705f_row10_col10, #T_0705f_row10_col11, #T_0705f_row11_col1, #T_0705f_row11_col2, #T_0705f_row11_col3, #T_0705f_row11_col6, #T_0705f_row11_col7, #T_0705f_row11_col8, #T_0705f_row11_col10, #T_0705f_row11_col11 {\n",
              "  color: None;\n",
              "}\n",
              "#T_0705f_row0_col1, #T_0705f_row0_col3, #T_0705f_row0_col4, #T_0705f_row0_col5, #T_0705f_row0_col7, #T_0705f_row0_col8, #T_0705f_row0_col9, #T_0705f_row0_col10, #T_0705f_row0_col11, #T_0705f_row1_col0, #T_0705f_row1_col2, #T_0705f_row1_col4, #T_0705f_row1_col6, #T_0705f_row1_col7, #T_0705f_row1_col9, #T_0705f_row1_col10, #T_0705f_row2_col1, #T_0705f_row3_col0, #T_0705f_row3_col6, #T_0705f_row4_col0, #T_0705f_row4_col1, #T_0705f_row4_col11, #T_0705f_row5_col0, #T_0705f_row5_col11, #T_0705f_row6_col1, #T_0705f_row6_col3, #T_0705f_row7_col0, #T_0705f_row7_col1, #T_0705f_row8_col0, #T_0705f_row9_col0, #T_0705f_row9_col1, #T_0705f_row9_col11, #T_0705f_row10_col0, #T_0705f_row10_col1, #T_0705f_row11_col0, #T_0705f_row11_col4, #T_0705f_row11_col5, #T_0705f_row11_col9 {\n",
              "  color: #FF3344;\n",
              "}\n",
              "</style>\n",
              "<table id=\"T_0705f\" class=\"dataframe\">\n",
              "  <thead>\n",
              "    <tr>\n",
              "      <th class=\"blank level0\" >&nbsp;</th>\n",
              "      <th id=\"T_0705f_level0_col0\" class=\"col_heading level0 col0\" >source_port</th>\n",
              "      <th id=\"T_0705f_level0_col1\" class=\"col_heading level0 col1\" >destination_port</th>\n",
              "      <th id=\"T_0705f_level0_col2\" class=\"col_heading level0 col2\" >nat_source_port</th>\n",
              "      <th id=\"T_0705f_level0_col3\" class=\"col_heading level0 col3\" >nat_destination_port</th>\n",
              "      <th id=\"T_0705f_level0_col4\" class=\"col_heading level0 col4\" >bytes</th>\n",
              "      <th id=\"T_0705f_level0_col5\" class=\"col_heading level0 col5\" >bytes_sent</th>\n",
              "      <th id=\"T_0705f_level0_col6\" class=\"col_heading level0 col6\" >bytes_received</th>\n",
              "      <th id=\"T_0705f_level0_col7\" class=\"col_heading level0 col7\" >packets</th>\n",
              "      <th id=\"T_0705f_level0_col8\" class=\"col_heading level0 col8\" >elapsed_time_sec</th>\n",
              "      <th id=\"T_0705f_level0_col9\" class=\"col_heading level0 col9\" >pkts_sent</th>\n",
              "      <th id=\"T_0705f_level0_col10\" class=\"col_heading level0 col10\" >pkts_received</th>\n",
              "      <th id=\"T_0705f_level0_col11\" class=\"col_heading level0 col11\" >id</th>\n",
              "    </tr>\n",
              "  </thead>\n",
              "  <tbody>\n",
              "    <tr>\n",
              "      <th id=\"T_0705f_level0_row0\" class=\"row_heading level0 row0\" >source_port</th>\n",
              "      <td id=\"T_0705f_row0_col0\" class=\"data row0 col0\" >1.00</td>\n",
              "      <td id=\"T_0705f_row0_col1\" class=\"data row0 col1\" >-0.33</td>\n",
              "      <td id=\"T_0705f_row0_col2\" class=\"data row0 col2\" >0.14</td>\n",
              "      <td id=\"T_0705f_row0_col3\" class=\"data row0 col3\" >-0.03</td>\n",
              "      <td id=\"T_0705f_row0_col4\" class=\"data row0 col4\" >-0.00</td>\n",
              "      <td id=\"T_0705f_row0_col5\" class=\"data row0 col5\" >-0.00</td>\n",
              "      <td id=\"T_0705f_row0_col6\" class=\"data row0 col6\" >0.00</td>\n",
              "      <td id=\"T_0705f_row0_col7\" class=\"data row0 col7\" >-0.00</td>\n",
              "      <td id=\"T_0705f_row0_col8\" class=\"data row0 col8\" >-0.05</td>\n",
              "      <td id=\"T_0705f_row0_col9\" class=\"data row0 col9\" >-0.00</td>\n",
              "      <td id=\"T_0705f_row0_col10\" class=\"data row0 col10\" >-0.00</td>\n",
              "      <td id=\"T_0705f_row0_col11\" class=\"data row0 col11\" >-0.00</td>\n",
              "    </tr>\n",
              "    <tr>\n",
              "      <th id=\"T_0705f_level0_row1\" class=\"row_heading level0 row1\" >destination_port</th>\n",
              "      <td id=\"T_0705f_row1_col0\" class=\"data row1 col0\" >-0.33</td>\n",
              "      <td id=\"T_0705f_row1_col1\" class=\"data row1 col1\" >1.00</td>\n",
              "      <td id=\"T_0705f_row1_col2\" class=\"data row1 col2\" >-0.28</td>\n",
              "      <td id=\"T_0705f_row1_col3\" class=\"data row1 col3\" >0.41</td>\n",
              "      <td id=\"T_0705f_row1_col4\" class=\"data row1 col4\" >-0.00</td>\n",
              "      <td id=\"T_0705f_row1_col5\" class=\"data row1 col5\" >0.00</td>\n",
              "      <td id=\"T_0705f_row1_col6\" class=\"data row1 col6\" >-0.01</td>\n",
              "      <td id=\"T_0705f_row1_col7\" class=\"data row1 col7\" >-0.00</td>\n",
              "      <td id=\"T_0705f_row1_col8\" class=\"data row1 col8\" >0.02</td>\n",
              "      <td id=\"T_0705f_row1_col9\" class=\"data row1 col9\" >-0.00</td>\n",
              "      <td id=\"T_0705f_row1_col10\" class=\"data row1 col10\" >-0.01</td>\n",
              "      <td id=\"T_0705f_row1_col11\" class=\"data row1 col11\" >0.01</td>\n",
              "    </tr>\n",
              "    <tr>\n",
              "      <th id=\"T_0705f_level0_row2\" class=\"row_heading level0 row2\" >nat_source_port</th>\n",
              "      <td id=\"T_0705f_row2_col0\" class=\"data row2 col0\" >0.14</td>\n",
              "      <td id=\"T_0705f_row2_col1\" class=\"data row2 col1\" >-0.28</td>\n",
              "      <td id=\"T_0705f_row2_col2\" class=\"data row2 col2\" >1.00</td>\n",
              "      <td id=\"T_0705f_row2_col3\" class=\"data row2 col3\" >0.18</td>\n",
              "      <td id=\"T_0705f_row2_col4\" class=\"data row2 col4\" >0.01</td>\n",
              "      <td id=\"T_0705f_row2_col5\" class=\"data row2 col5\" >0.00</td>\n",
              "      <td id=\"T_0705f_row2_col6\" class=\"data row2 col6\" >0.02</td>\n",
              "      <td id=\"T_0705f_row2_col7\" class=\"data row2 col7\" >0.01</td>\n",
              "      <td id=\"T_0705f_row2_col8\" class=\"data row2 col8\" >0.14</td>\n",
              "      <td id=\"T_0705f_row2_col9\" class=\"data row2 col9\" >0.01</td>\n",
              "      <td id=\"T_0705f_row2_col10\" class=\"data row2 col10\" >0.02</td>\n",
              "      <td id=\"T_0705f_row2_col11\" class=\"data row2 col11\" >0.01</td>\n",
              "    </tr>\n",
              "    <tr>\n",
              "      <th id=\"T_0705f_level0_row3\" class=\"row_heading level0 row3\" >nat_destination_port</th>\n",
              "      <td id=\"T_0705f_row3_col0\" class=\"data row3 col0\" >-0.03</td>\n",
              "      <td id=\"T_0705f_row3_col1\" class=\"data row3 col1\" >0.41</td>\n",
              "      <td id=\"T_0705f_row3_col2\" class=\"data row3 col2\" >0.18</td>\n",
              "      <td id=\"T_0705f_row3_col3\" class=\"data row3 col3\" >1.00</td>\n",
              "      <td id=\"T_0705f_row3_col4\" class=\"data row3 col4\" >0.01</td>\n",
              "      <td id=\"T_0705f_row3_col5\" class=\"data row3 col5\" >0.01</td>\n",
              "      <td id=\"T_0705f_row3_col6\" class=\"data row3 col6\" >-0.00</td>\n",
              "      <td id=\"T_0705f_row3_col7\" class=\"data row3 col7\" >0.01</td>\n",
              "      <td id=\"T_0705f_row3_col8\" class=\"data row3 col8\" >0.22</td>\n",
              "      <td id=\"T_0705f_row3_col9\" class=\"data row3 col9\" >0.01</td>\n",
              "      <td id=\"T_0705f_row3_col10\" class=\"data row3 col10\" >0.00</td>\n",
              "      <td id=\"T_0705f_row3_col11\" class=\"data row3 col11\" >0.03</td>\n",
              "    </tr>\n",
              "    <tr>\n",
              "      <th id=\"T_0705f_level0_row4\" class=\"row_heading level0 row4\" >bytes</th>\n",
              "      <td id=\"T_0705f_row4_col0\" class=\"data row4 col0\" >-0.00</td>\n",
              "      <td id=\"T_0705f_row4_col1\" class=\"data row4 col1\" >-0.00</td>\n",
              "      <td id=\"T_0705f_row4_col2\" class=\"data row4 col2\" >0.01</td>\n",
              "      <td id=\"T_0705f_row4_col3\" class=\"data row4 col3\" >0.01</td>\n",
              "      <td id=\"T_0705f_row4_col4\" class=\"data row4 col4\" >1.00</td>\n",
              "      <td id=\"T_0705f_row4_col5\" class=\"data row4 col5\" >0.96</td>\n",
              "      <td id=\"T_0705f_row4_col6\" class=\"data row4 col6\" >0.86</td>\n",
              "      <td id=\"T_0705f_row4_col7\" class=\"data row4 col7\" >0.97</td>\n",
              "      <td id=\"T_0705f_row4_col8\" class=\"data row4 col8\" >0.16</td>\n",
              "      <td id=\"T_0705f_row4_col9\" class=\"data row4 col9\" >0.99</td>\n",
              "      <td id=\"T_0705f_row4_col10\" class=\"data row4 col10\" >0.85</td>\n",
              "      <td id=\"T_0705f_row4_col11\" class=\"data row4 col11\" >-0.00</td>\n",
              "    </tr>\n",
              "    <tr>\n",
              "      <th id=\"T_0705f_level0_row5\" class=\"row_heading level0 row5\" >bytes_sent</th>\n",
              "      <td id=\"T_0705f_row5_col0\" class=\"data row5 col0\" >-0.00</td>\n",
              "      <td id=\"T_0705f_row5_col1\" class=\"data row5 col1\" >0.00</td>\n",
              "      <td id=\"T_0705f_row5_col2\" class=\"data row5 col2\" >0.00</td>\n",
              "      <td id=\"T_0705f_row5_col3\" class=\"data row5 col3\" >0.01</td>\n",
              "      <td id=\"T_0705f_row5_col4\" class=\"data row5 col4\" >0.96</td>\n",
              "      <td id=\"T_0705f_row5_col5\" class=\"data row5 col5\" >1.00</td>\n",
              "      <td id=\"T_0705f_row5_col6\" class=\"data row5 col6\" >0.68</td>\n",
              "      <td id=\"T_0705f_row5_col7\" class=\"data row5 col7\" >0.91</td>\n",
              "      <td id=\"T_0705f_row5_col8\" class=\"data row5 col8\" >0.15</td>\n",
              "      <td id=\"T_0705f_row5_col9\" class=\"data row5 col9\" >0.98</td>\n",
              "      <td id=\"T_0705f_row5_col10\" class=\"data row5 col10\" >0.71</td>\n",
              "      <td id=\"T_0705f_row5_col11\" class=\"data row5 col11\" >-0.00</td>\n",
              "    </tr>\n",
              "    <tr>\n",
              "      <th id=\"T_0705f_level0_row6\" class=\"row_heading level0 row6\" >bytes_received</th>\n",
              "      <td id=\"T_0705f_row6_col0\" class=\"data row6 col0\" >0.00</td>\n",
              "      <td id=\"T_0705f_row6_col1\" class=\"data row6 col1\" >-0.01</td>\n",
              "      <td id=\"T_0705f_row6_col2\" class=\"data row6 col2\" >0.02</td>\n",
              "      <td id=\"T_0705f_row6_col3\" class=\"data row6 col3\" >-0.00</td>\n",
              "      <td id=\"T_0705f_row6_col4\" class=\"data row6 col4\" >0.86</td>\n",
              "      <td id=\"T_0705f_row6_col5\" class=\"data row6 col5\" >0.68</td>\n",
              "      <td id=\"T_0705f_row6_col6\" class=\"data row6 col6\" >1.00</td>\n",
              "      <td id=\"T_0705f_row6_col7\" class=\"data row6 col7\" >0.89</td>\n",
              "      <td id=\"T_0705f_row6_col8\" class=\"data row6 col8\" >0.14</td>\n",
              "      <td id=\"T_0705f_row6_col9\" class=\"data row6 col9\" >0.80</td>\n",
              "      <td id=\"T_0705f_row6_col10\" class=\"data row6 col10\" >0.94</td>\n",
              "      <td id=\"T_0705f_row6_col11\" class=\"data row6 col11\" >0.00</td>\n",
              "    </tr>\n",
              "    <tr>\n",
              "      <th id=\"T_0705f_level0_row7\" class=\"row_heading level0 row7\" >packets</th>\n",
              "      <td id=\"T_0705f_row7_col0\" class=\"data row7 col0\" >-0.00</td>\n",
              "      <td id=\"T_0705f_row7_col1\" class=\"data row7 col1\" >-0.00</td>\n",
              "      <td id=\"T_0705f_row7_col2\" class=\"data row7 col2\" >0.01</td>\n",
              "      <td id=\"T_0705f_row7_col3\" class=\"data row7 col3\" >0.01</td>\n",
              "      <td id=\"T_0705f_row7_col4\" class=\"data row7 col4\" >0.97</td>\n",
              "      <td id=\"T_0705f_row7_col5\" class=\"data row7 col5\" >0.91</td>\n",
              "      <td id=\"T_0705f_row7_col6\" class=\"data row7 col6\" >0.89</td>\n",
              "      <td id=\"T_0705f_row7_col7\" class=\"data row7 col7\" >1.00</td>\n",
              "      <td id=\"T_0705f_row7_col8\" class=\"data row7 col8\" >0.16</td>\n",
              "      <td id=\"T_0705f_row7_col9\" class=\"data row7 col9\" >0.98</td>\n",
              "      <td id=\"T_0705f_row7_col10\" class=\"data row7 col10\" >0.94</td>\n",
              "      <td id=\"T_0705f_row7_col11\" class=\"data row7 col11\" >0.00</td>\n",
              "    </tr>\n",
              "    <tr>\n",
              "      <th id=\"T_0705f_level0_row8\" class=\"row_heading level0 row8\" >elapsed_time_sec</th>\n",
              "      <td id=\"T_0705f_row8_col0\" class=\"data row8 col0\" >-0.05</td>\n",
              "      <td id=\"T_0705f_row8_col1\" class=\"data row8 col1\" >0.02</td>\n",
              "      <td id=\"T_0705f_row8_col2\" class=\"data row8 col2\" >0.14</td>\n",
              "      <td id=\"T_0705f_row8_col3\" class=\"data row8 col3\" >0.22</td>\n",
              "      <td id=\"T_0705f_row8_col4\" class=\"data row8 col4\" >0.16</td>\n",
              "      <td id=\"T_0705f_row8_col5\" class=\"data row8 col5\" >0.15</td>\n",
              "      <td id=\"T_0705f_row8_col6\" class=\"data row8 col6\" >0.14</td>\n",
              "      <td id=\"T_0705f_row8_col7\" class=\"data row8 col7\" >0.16</td>\n",
              "      <td id=\"T_0705f_row8_col8\" class=\"data row8 col8\" >1.00</td>\n",
              "      <td id=\"T_0705f_row8_col9\" class=\"data row8 col9\" >0.16</td>\n",
              "      <td id=\"T_0705f_row8_col10\" class=\"data row8 col10\" >0.14</td>\n",
              "      <td id=\"T_0705f_row8_col11\" class=\"data row8 col11\" >0.02</td>\n",
              "    </tr>\n",
              "    <tr>\n",
              "      <th id=\"T_0705f_level0_row9\" class=\"row_heading level0 row9\" >pkts_sent</th>\n",
              "      <td id=\"T_0705f_row9_col0\" class=\"data row9 col0\" >-0.00</td>\n",
              "      <td id=\"T_0705f_row9_col1\" class=\"data row9 col1\" >-0.00</td>\n",
              "      <td id=\"T_0705f_row9_col2\" class=\"data row9 col2\" >0.01</td>\n",
              "      <td id=\"T_0705f_row9_col3\" class=\"data row9 col3\" >0.01</td>\n",
              "      <td id=\"T_0705f_row9_col4\" class=\"data row9 col4\" >0.99</td>\n",
              "      <td id=\"T_0705f_row9_col5\" class=\"data row9 col5\" >0.98</td>\n",
              "      <td id=\"T_0705f_row9_col6\" class=\"data row9 col6\" >0.80</td>\n",
              "      <td id=\"T_0705f_row9_col7\" class=\"data row9 col7\" >0.98</td>\n",
              "      <td id=\"T_0705f_row9_col8\" class=\"data row9 col8\" >0.16</td>\n",
              "      <td id=\"T_0705f_row9_col9\" class=\"data row9 col9\" >1.00</td>\n",
              "      <td id=\"T_0705f_row9_col10\" class=\"data row9 col10\" >0.84</td>\n",
              "      <td id=\"T_0705f_row9_col11\" class=\"data row9 col11\" >-0.00</td>\n",
              "    </tr>\n",
              "    <tr>\n",
              "      <th id=\"T_0705f_level0_row10\" class=\"row_heading level0 row10\" >pkts_received</th>\n",
              "      <td id=\"T_0705f_row10_col0\" class=\"data row10 col0\" >-0.00</td>\n",
              "      <td id=\"T_0705f_row10_col1\" class=\"data row10 col1\" >-0.01</td>\n",
              "      <td id=\"T_0705f_row10_col2\" class=\"data row10 col2\" >0.02</td>\n",
              "      <td id=\"T_0705f_row10_col3\" class=\"data row10 col3\" >0.00</td>\n",
              "      <td id=\"T_0705f_row10_col4\" class=\"data row10 col4\" >0.85</td>\n",
              "      <td id=\"T_0705f_row10_col5\" class=\"data row10 col5\" >0.71</td>\n",
              "      <td id=\"T_0705f_row10_col6\" class=\"data row10 col6\" >0.94</td>\n",
              "      <td id=\"T_0705f_row10_col7\" class=\"data row10 col7\" >0.94</td>\n",
              "      <td id=\"T_0705f_row10_col8\" class=\"data row10 col8\" >0.14</td>\n",
              "      <td id=\"T_0705f_row10_col9\" class=\"data row10 col9\" >0.84</td>\n",
              "      <td id=\"T_0705f_row10_col10\" class=\"data row10 col10\" >1.00</td>\n",
              "      <td id=\"T_0705f_row10_col11\" class=\"data row10 col11\" >0.01</td>\n",
              "    </tr>\n",
              "    <tr>\n",
              "      <th id=\"T_0705f_level0_row11\" class=\"row_heading level0 row11\" >id</th>\n",
              "      <td id=\"T_0705f_row11_col0\" class=\"data row11 col0\" >-0.00</td>\n",
              "      <td id=\"T_0705f_row11_col1\" class=\"data row11 col1\" >0.01</td>\n",
              "      <td id=\"T_0705f_row11_col2\" class=\"data row11 col2\" >0.01</td>\n",
              "      <td id=\"T_0705f_row11_col3\" class=\"data row11 col3\" >0.03</td>\n",
              "      <td id=\"T_0705f_row11_col4\" class=\"data row11 col4\" >-0.00</td>\n",
              "      <td id=\"T_0705f_row11_col5\" class=\"data row11 col5\" >-0.00</td>\n",
              "      <td id=\"T_0705f_row11_col6\" class=\"data row11 col6\" >0.00</td>\n",
              "      <td id=\"T_0705f_row11_col7\" class=\"data row11 col7\" >0.00</td>\n",
              "      <td id=\"T_0705f_row11_col8\" class=\"data row11 col8\" >0.02</td>\n",
              "      <td id=\"T_0705f_row11_col9\" class=\"data row11 col9\" >-0.00</td>\n",
              "      <td id=\"T_0705f_row11_col10\" class=\"data row11 col10\" >0.01</td>\n",
              "      <td id=\"T_0705f_row11_col11\" class=\"data row11 col11\" >1.00</td>\n",
              "    </tr>\n",
              "  </tbody>\n",
              "</table>\n"
            ]
          },
          "metadata": {},
          "execution_count": 23
        }
      ]
    },
    {
      "cell_type": "code",
      "source": [
        "training_data.columns"
      ],
      "metadata": {
        "colab": {
          "base_uri": "https://localhost:8080/"
        },
        "id": "YFljSqw5pm5Z",
        "outputId": "79e3bcdc-d5e4-4067-e772-0efe27a2b8a4"
      },
      "execution_count": 24,
      "outputs": [
        {
          "output_type": "execute_result",
          "data": {
            "text/plain": [
              "Index(['source_port', 'destination_port', 'nat_source_port',\n",
              "       'nat_destination_port', 'action', 'bytes', 'bytes_sent',\n",
              "       'bytes_received', 'packets', 'elapsed_time_sec', 'pkts_sent',\n",
              "       'pkts_received', 'id'],\n",
              "      dtype='object')"
            ]
          },
          "metadata": {},
          "execution_count": 24
        }
      ]
    },
    {
      "cell_type": "code",
      "source": [
        "training_data['action'].value_counts()"
      ],
      "metadata": {
        "colab": {
          "base_uri": "https://localhost:8080/"
        },
        "id": "ussbEi9GpqH4",
        "outputId": "79478019-03d7-469a-cebb-3adce55845d6"
      },
      "execution_count": 25,
      "outputs": [
        {
          "output_type": "execute_result",
          "data": {
            "text/plain": [
              "allow         26311\n",
              "deny          10500\n",
              "drop           9021\n",
              "reset-both       40\n",
              "Name: action, dtype: int64"
            ]
          },
          "metadata": {},
          "execution_count": 25
        }
      ]
    },
    {
      "cell_type": "code",
      "source": [
        "training_data['action'] = training_data['action'].astype('category').cat.codes\n",
        "testing_data['action'] = testing_data['action'].astype('category').cat.codes"
      ],
      "metadata": {
        "id": "Y-JzT8g3pxAu"
      },
      "execution_count": 26,
      "outputs": []
    },
    {
      "cell_type": "code",
      "source": [
        "y_train = training_data['action']\n",
        "x_train = training_data.drop('action', axis = 1)\n",
        "y_test = testing_data['action']\n",
        "x_test = testing_data.drop('action', axis = 1)"
      ],
      "metadata": {
        "id": "2roUTDALp6b3"
      },
      "execution_count": 27,
      "outputs": []
    },
    {
      "cell_type": "code",
      "source": [
        "from sklearn.ensemble import ExtraTreesClassifier\n",
        "extra_tree_forest = ExtraTreesClassifier(n_estimators = 5,\n",
        "                                        criterion ='entropy', max_features = 2)\n",
        "extra_tree_forest.fit(x_train, y_train)\n",
        "feature_importance = extra_tree_forest.feature_importances_\n",
        "feature_importance_normalized = np.std([tree.feature_importances_ for tree in\n",
        "                                        extra_tree_forest.estimators_],\n",
        "                                        axis = 0)"
      ],
      "metadata": {
        "id": "48CADxIWqDGl"
      },
      "execution_count": 28,
      "outputs": []
    },
    {
      "cell_type": "code",
      "source": [
        "plt.figure(figsize = [20,5])\n",
        "plt.bar(x_train.columns, feature_importance_normalized)\n",
        "plt.xlabel('Feature Labels')\n",
        "plt.ylabel('Feature Importances')\n",
        "plt.xticks(rotation = 90)\n",
        "plt.title('Comparison of different Feature Importances')\n",
        "plt.show()"
      ],
      "metadata": {
        "colab": {
          "base_uri": "https://localhost:8080/",
          "height": 370
        },
        "id": "iEdogKWAqMvH",
        "outputId": "478aed10-73e2-4a49-c2dc-1121e5bd14d8"
      },
      "execution_count": 29,
      "outputs": [
        {
          "output_type": "display_data",
          "data": {
            "text/plain": [
              "<Figure size 2000x500 with 1 Axes>"
            ],
            "image/png": "[encoded data removed]"
          },
          "metadata": {}
        }
      ]
    },
    {
      "cell_type": "code",
      "source": [
        "print(\"The columns of the x_train :\", x_train.columns)\n",
        "print(\"The columns of the x_test :\", x_test.columns)"
      ],
      "metadata": {
        "colab": {
          "base_uri": "https://localhost:8080/"
        },
        "id": "BIf9VC5fqPqb",
        "outputId": "33f83992-b432-40db-bd9a-258cbe64268b"
      },
      "execution_count": 30,
      "outputs": [
        {
          "output_type": "stream",
          "name": "stdout",
          "text": [
            "The columns of the x_train : Index(['source_port', 'destination_port', 'nat_source_port',\n",
            "       'nat_destination_port', 'bytes', 'bytes_sent', 'bytes_received',\n",
            "       'packets', 'elapsed_time_sec', 'pkts_sent', 'pkts_received', 'id'],\n",
            "      dtype='object')\n",
            "The columns of the x_test : Index(['source_port', 'destination_port', 'nat_source_port',\n",
            "       'nat_destination_port', 'bytes', 'bytes_sent', 'bytes_received',\n",
            "       'packets', 'elapsed_time_sec', 'pkts_sent', 'pkts_received', 'id'],\n",
            "      dtype='object')\n"
          ]
        }
      ]
    },
    {
      "cell_type": "code",
      "source": [
        "x_train2 = x_train[['source_port', 'destination_port', 'nat_source_port',\n",
        "       'nat_destination_port', 'bytes', 'bytes_sent', 'bytes_received',\n",
        "       'packets', 'elapsed_time_sec', 'pkts_sent', 'pkts_received']]"
      ],
      "metadata": {
        "id": "Zvsws2hlqQjQ"
      },
      "execution_count": 31,
      "outputs": []
    },
    {
      "cell_type": "code",
      "source": [
        "x_test2 = x_test[['source_port', 'destination_port', 'nat_source_port',\n",
        "       'nat_destination_port', 'bytes', 'bytes_sent', 'bytes_received',\n",
        "       'packets', 'elapsed_time_sec', 'pkts_sent', 'pkts_received']]"
      ],
      "metadata": {
        "id": "huL2Z6lSqmpS"
      },
      "execution_count": 32,
      "outputs": []
    },
    {
      "cell_type": "code",
      "source": [
        "print(x_train2.shape, x_test2.shape)\n",
        "print(y_train.shape, y_test.shape)"
      ],
      "metadata": {
        "colab": {
          "base_uri": "https://localhost:8080/"
        },
        "id": "rCv_A-u-qqs9",
        "outputId": "6362c127-bd5f-49ac-c4b0-7bf6682d2565"
      },
      "execution_count": 33,
      "outputs": [
        {
          "output_type": "stream",
          "name": "stdout",
          "text": [
            "(45872, 11) (19660, 11)\n",
            "(45872,) (19660,)\n"
          ]
        }
      ]
    },
    {
      "cell_type": "code",
      "source": [
        "x_train2 = pd.DataFrame(x_train2)\n",
        "x_test2 = pd.DataFrame(x_test2)"
      ],
      "metadata": {
        "id": "FGydN6eEqzrd"
      },
      "execution_count": 34,
      "outputs": []
    },
    {
      "cell_type": "code",
      "source": [
        "from sklearn.preprocessing import StandardScaler\n",
        "scaler=StandardScaler()\n",
        "x_train_scaled=pd.DataFrame(scaler.fit_transform(x_train2),columns=x_train2.columns)\n",
        "x_train_scaled.head()"
      ],
      "metadata": {
        "colab": {
          "base_uri": "https://localhost:8080/",
          "height": 226
        },
        "id": "IbvBFpn7rMX3",
        "outputId": "f336d8b6-ac01-40b4-e358-f1b8b0c388d5"
      },
      "execution_count": 35,
      "outputs": [
        {
          "output_type": "execute_result",
          "data": {
            "text/plain": [
              "   source_port  destination_port  nat_source_port  nat_destination_port  \\\n",
              "0    -2.180475         -0.569657         2.054633             -0.268656   \n",
              "1     0.454783         -0.569657         0.065832             -0.268656   \n",
              "2     0.993727         -0.548428        -0.875864             -0.274092   \n",
              "3     0.674421         -0.548537        -0.525157             -0.228653   \n",
              "4     0.169445         -0.548537         0.014337             -0.228653   \n",
              "\n",
              "      bytes  bytes_sent  bytes_received   packets  elapsed_time_sec  \\\n",
              "0 -0.016510   -0.006701       -0.031169 -0.018838         -0.119767   \n",
              "1 -0.016425   -0.006695       -0.030954 -0.018838         -0.119767   \n",
              "2 -0.016534   -0.006702       -0.031227 -0.019005         -0.218119   \n",
              "3 -0.014009   -0.005784       -0.026264 -0.013335          0.217905   \n",
              "4 -0.016138   -0.006325       -0.030883 -0.016003         -0.145994   \n",
              "\n",
              "   pkts_sent  pkts_received  \n",
              "0  -0.012728      -0.026774  \n",
              "1  -0.012728      -0.026774  \n",
              "2  -0.012728      -0.027192  \n",
              "3  -0.009084      -0.018833  \n",
              "4  -0.010125      -0.023848  "
            ],
            "text/html": [
              "\n",
              "  <div id=\"df-6875e3fe-a517-4c0b-984a-5e25b56769b3\" class=\"colab-df-container\">\n",
              "    <div>\n",
              "<style scoped>\n",
              "    .dataframe tbody tr th:only-of-type {\n",
              "        vertical-align: middle;\n",
              "    }\n",
              "\n",
              "    .dataframe tbody tr th {\n",
              "        vertical-align: top;\n",
              "    }\n",
              "\n",
              "    .dataframe thead th {\n",
              "        text-align: right;\n",
              "    }\n",
              "</style>\n",
              "<table border=\"1\" class=\"dataframe\">\n",
              "  <thead>\n",
              "    <tr style=\"text-align: right;\">\n",
              "      <th></th>\n",
              "      <th>source_port</th>\n",
              "      <th>destination_port</th>\n",
              "      <th>nat_source_port</th>\n",
              "      <th>nat_destination_port</th>\n",
              "      <th>bytes</th>\n",
              "      <th>bytes_sent</th>\n",
              "      <th>bytes_received</th>\n",
              "      <th>packets</th>\n",
              "      <th>elapsed_time_sec</th>\n",
              "      <th>pkts_sent</th>\n",
              "      <th>pkts_received</th>\n",
              "    </tr>\n",
              "  </thead>\n",
              "  <tbody>\n",
              "    <tr>\n",
              "      <th>0</th>\n",
              "      <td>-2.180475</td>\n",
              "      <td>-0.569657</td>\n",
              "      <td>2.054633</td>\n",
              "      <td>-0.268656</td>\n",
              "      <td>-0.016510</td>\n",
              "      <td>-0.006701</td>\n",
              "      <td>-0.031169</td>\n",
              "      <td>-0.018838</td>\n",
              "      <td>-0.119767</td>\n",
              "      <td>-0.012728</td>\n",
              "      <td>-0.026774</td>\n",
              "    </tr>\n",
              "    <tr>\n",
              "      <th>1</th>\n",
              "      <td>0.454783</td>\n",
              "      <td>-0.569657</td>\n",
              "      <td>0.065832</td>\n",
              "      <td>-0.268656</td>\n",
              "      <td>-0.016425</td>\n",
              "      <td>-0.006695</td>\n",
              "      <td>-0.030954</td>\n",
              "      <td>-0.018838</td>\n",
              "      <td>-0.119767</td>\n",
              "      <td>-0.012728</td>\n",
              "      <td>-0.026774</td>\n",
              "    </tr>\n",
              "    <tr>\n",
              "      <th>2</th>\n",
              "      <td>0.993727</td>\n",
              "      <td>-0.548428</td>\n",
              "      <td>-0.875864</td>\n",
              "      <td>-0.274092</td>\n",
              "      <td>-0.016534</td>\n",
              "      <td>-0.006702</td>\n",
              "      <td>-0.031227</td>\n",
              "      <td>-0.019005</td>\n",
              "      <td>-0.218119</td>\n",
              "      <td>-0.012728</td>\n",
              "      <td>-0.027192</td>\n",
              "    </tr>\n",
              "    <tr>\n",
              "      <th>3</th>\n",
              "      <td>0.674421</td>\n",
              "      <td>-0.548537</td>\n",
              "      <td>-0.525157</td>\n",
              "      <td>-0.228653</td>\n",
              "      <td>-0.014009</td>\n",
              "      <td>-0.005784</td>\n",
              "      <td>-0.026264</td>\n",
              "      <td>-0.013335</td>\n",
              "      <td>0.217905</td>\n",
              "      <td>-0.009084</td>\n",
              "      <td>-0.018833</td>\n",
              "    </tr>\n",
              "    <tr>\n",
              "      <th>4</th>\n",
              "      <td>0.169445</td>\n",
              "      <td>-0.548537</td>\n",
              "      <td>0.014337</td>\n",
              "      <td>-0.228653</td>\n",
              "      <td>-0.016138</td>\n",
              "      <td>-0.006325</td>\n",
              "      <td>-0.030883</td>\n",
              "      <td>-0.016003</td>\n",
              "      <td>-0.145994</td>\n",
              "      <td>-0.010125</td>\n",
              "      <td>-0.023848</td>\n",
              "    </tr>\n",
              "  </tbody>\n",
              "</table>\n",
              "</div>\n",
              "    <div class=\"colab-df-buttons\">\n",
              "\n",
              "  <div class=\"colab-df-container\">\n",
              "    <button class=\"colab-df-convert\" onclick=\"convertToInteractive('df-6875e3fe-a517-4c0b-984a-5e25b56769b3')\"\n",
              "            title=\"Convert this dataframe to an interactive table.\"\n",
              "            style=\"display:none;\">\n",
              "\n",
              "  <svg xmlns=\"http://www.w3.org/2000/svg\" height=\"24px\" viewBox=\"0 -960 960 960\">\n",
              "    <path d=\"M120-120v-720h720v720H120Zm60-500h600v-160H180v160Zm220 220h160v-160H400v160Zm0 220h160v-160H400v160ZM180-400h160v-160H180v160Zm440 0h160v-160H620v160ZM180-180h160v-160H180v160Zm440 0h160v-160H620v160Z\"/>\n",
              "  </svg>\n",
              "    </button>\n",
              "\n",
              "  <style>\n",
              "    .colab-df-container {\n",
              "      display:flex;\n",
              "      gap: 12px;\n",
              "    }\n",
              "\n",
              "    .colab-df-convert {\n",
              "      background-color: #E8F0FE;\n",
              "      border: none;\n",
              "      border-radius: 50%;\n",
              "      cursor: pointer;\n",
              "      display: none;\n",
              "      fill: #1967D2;\n",
              "      height: 32px;\n",
              "      padding: 0 0 0 0;\n",
              "      width: 32px;\n",
              "    }\n",
              "\n",
              "    .colab-df-convert:hover {\n",
              "      background-color: #E2EBFA;\n",
              "      box-shadow: 0px 1px 2px rgba(60, 64, 67, 0.3), 0px 1px 3px 1px rgba(60, 64, 67, 0.15);\n",
              "      fill: #174EA6;\n",
              "    }\n",
              "\n",
              "    .colab-df-buttons div {\n",
              "      margin-bottom: 4px;\n",
              "    }\n",
              "\n",
              "    [theme=dark] .colab-df-convert {\n",
              "      background-color: #3B4455;\n",
              "      fill: #D2E3FC;\n",
              "    }\n",
              "\n",
              "    [theme=dark] .colab-df-convert:hover {\n",
              "      background-color: #434B5C;\n",
              "      box-shadow: 0px 1px 3px 1px rgba(0, 0, 0, 0.15);\n",
              "      filter: drop-shadow(0px 1px 2px rgba(0, 0, 0, 0.3));\n",
              "      fill: #FFFFFF;\n",
              "    }\n",
              "  </style>\n",
              "\n",
              "    <script>\n",
              "      const buttonEl =\n",
              "        document.querySelector('#df-6875e3fe-a517-4c0b-984a-5e25b56769b3 button.colab-df-convert');\n",
              "      buttonEl.style.display =\n",
              "        google.colab.kernel.accessAllowed ? 'block' : 'none';\n",
              "\n",
              "      async function convertToInteractive(key) {\n",
              "        const element = document.querySelector('#df-6875e3fe-a517-4c0b-984a-5e25b56769b3');\n",
              "        const dataTable =\n",
              "          await google.colab.kernel.invokeFunction('convertToInteractive',\n",
              "                                                    [key], {});\n",
              "        if (!dataTable) return;\n",
              "\n",
              "        const docLinkHtml = 'Like what you see? Visit the ' +\n",
              "          '<a target=\"_blank\" href=https://colab.research.google.com/notebooks/data_table.ipynb>data table notebook</a>'\n",
              "          + ' to learn more about interactive tables.';\n",
              "        element.innerHTML = '';\n",
              "        dataTable['output_type'] = 'display_data';\n",
              "        await google.colab.output.renderOutput(dataTable, element);\n",
              "        const docLink = document.createElement('div');\n",
              "        docLink.innerHTML = docLinkHtml;\n",
              "        element.appendChild(docLink);\n",
              "      }\n",
              "    </script>\n",
              "  </div>\n",
              "\n",
              "\n",
              "<div id=\"df-0ae7b392-006e-4c88-8c4a-797e2b6c5317\">\n",
              "  <button class=\"colab-df-quickchart\" onclick=\"quickchart('df-0ae7b392-006e-4c88-8c4a-797e2b6c5317')\"\n",
              "            title=\"Suggest charts\"\n",
              "            style=\"display:none;\">\n",
              "\n",
              "<svg xmlns=\"http://www.w3.org/2000/svg\" height=\"24px\"viewBox=\"0 0 24 24\"\n",
              "     width=\"24px\">\n",
              "    <g>\n",
              "        <path d=\"M19 3H5c-1.1 0-2 .9-2 2v14c0 1.1.9 2 2 2h14c1.1 0 2-.9 2-2V5c0-1.1-.9-2-2-2zM9 17H7v-7h2v7zm4 0h-2V7h2v10zm4 0h-2v-4h2v4z\"/>\n",
              "    </g>\n",
              "</svg>\n",
              "  </button>\n",
              "\n",
              "<style>\n",
              "  .colab-df-quickchart {\n",
              "      --bg-color: #E8F0FE;\n",
              "      --fill-color: #1967D2;\n",
              "      --hover-bg-color: #E2EBFA;\n",
              "      --hover-fill-color: #174EA6;\n",
              "      --disabled-fill-color: #AAA;\n",
              "      --disabled-bg-color: #DDD;\n",
              "  }\n",
              "\n",
              "  [theme=dark] .colab-df-quickchart {\n",
              "      --bg-color: #3B4455;\n",
              "      --fill-color: #D2E3FC;\n",
              "      --hover-bg-color: #434B5C;\n",
              "      --hover-fill-color: #FFFFFF;\n",
              "      --disabled-bg-color: #3B4455;\n",
              "      --disabled-fill-color: #666;\n",
              "  }\n",
              "\n",
              "  .colab-df-quickchart {\n",
              "    background-color: var(--bg-color);\n",
              "    border: none;\n",
              "    border-radius: 50%;\n",
              "    cursor: pointer;\n",
              "    display: none;\n",
              "    fill: var(--fill-color);\n",
              "    height: 32px;\n",
              "    padding: 0;\n",
              "    width: 32px;\n",
              "  }\n",
              "\n",
              "  .colab-df-quickchart:hover {\n",
              "    background-color: var(--hover-bg-color);\n",
              "    box-shadow: 0 1px 2px rgba(60, 64, 67, 0.3), 0 1px 3px 1px rgba(60, 64, 67, 0.15);\n",
              "    fill: var(--button-hover-fill-color);\n",
              "  }\n",
              "\n",
              "  .colab-df-quickchart-complete:disabled,\n",
              "  .colab-df-quickchart-complete:disabled:hover {\n",
              "    background-color: var(--disabled-bg-color);\n",
              "    fill: var(--disabled-fill-color);\n",
              "    box-shadow: none;\n",
              "  }\n",
              "\n",
              "  .colab-df-spinner {\n",
              "    border: 2px solid var(--fill-color);\n",
              "    border-color: transparent;\n",
              "    border-bottom-color: var(--fill-color);\n",
              "    animation:\n",
              "      spin 1s steps(1) infinite;\n",
              "  }\n",
              "\n",
              "  @keyframes spin {\n",
              "    0% {\n",
              "      border-color: transparent;\n",
              "      border-bottom-color: var(--fill-color);\n",
              "      border-left-color: var(--fill-color);\n",
              "    }\n",
              "    20% {\n",
              "      border-color: transparent;\n",
              "      border-left-color: var(--fill-color);\n",
              "      border-top-color: var(--fill-color);\n",
              "    }\n",
              "    30% {\n",
              "      border-color: transparent;\n",
              "      border-left-color: var(--fill-color);\n",
              "      border-top-color: var(--fill-color);\n",
              "      border-right-color: var(--fill-color);\n",
              "    }\n",
              "    40% {\n",
              "      border-color: transparent;\n",
              "      border-right-color: var(--fill-color);\n",
              "      border-top-color: var(--fill-color);\n",
              "    }\n",
              "    60% {\n",
              "      border-color: transparent;\n",
              "      border-right-color: var(--fill-color);\n",
              "    }\n",
              "    80% {\n",
              "      border-color: transparent;\n",
              "      border-right-color: var(--fill-color);\n",
              "      border-bottom-color: var(--fill-color);\n",
              "    }\n",
              "    90% {\n",
              "      border-color: transparent;\n",
              "      border-bottom-color: var(--fill-color);\n",
              "    }\n",
              "  }\n",
              "</style>\n",
              "\n",
              "  <script>\n",
              "    async function quickchart(key) {\n",
              "      const quickchartButtonEl =\n",
              "        document.querySelector('#' + key + ' button');\n",
              "      quickchartButtonEl.disabled = true;  // To prevent multiple clicks.\n",
              "      quickchartButtonEl.classList.add('colab-df-spinner');\n",
              "      try {\n",
              "        const charts = await google.colab.kernel.invokeFunction(\n",
              "            'suggestCharts', [key], {});\n",
              "      } catch (error) {\n",
              "        console.error('Error during call to suggestCharts:', error);\n",
              "      }\n",
              "      quickchartButtonEl.classList.remove('colab-df-spinner');\n",
              "      quickchartButtonEl.classList.add('colab-df-quickchart-complete');\n",
              "    }\n",
              "    (() => {\n",
              "      let quickchartButtonEl =\n",
              "        document.querySelector('#df-0ae7b392-006e-4c88-8c4a-797e2b6c5317 button');\n",
              "      quickchartButtonEl.style.display =\n",
              "        google.colab.kernel.accessAllowed ? 'block' : 'none';\n",
              "    })();\n",
              "  </script>\n",
              "</div>\n",
              "\n",
              "    </div>\n",
              "  </div>\n"
            ],
            "application/vnd.google.colaboratory.intrinsic+json": {
              "type": "dataframe",
              "variable_name": "x_train_scaled",
              "summary": "{\n  \"name\": \"x_train_scaled\",\n  \"rows\": 45872,\n  \"fields\": [\n    {\n      \"column\": \"source_port\",\n      \"properties\": {\n        \"dtype\": \"number\",\n        \"std\": 1.0000109000735757,\n        \"min\": -3.2467986843578664,\n        \"max\": 1.058770784493459,\n        \"num_unique_values\": 19462,\n        \"samples\": [\n          -0.014780023817325667,\n          0.20742002720513908,\n          1.0322276678130702\n        ],\n        \"semantic_type\": \"\",\n        \"description\": \"\"\n      }\n    },\n    {\n      \"column\": \"destination_port\",\n      \"properties\": {\n        \"dtype\": \"number\",\n        \"std\": 1.000010900073576,\n        \"min\": -0.5725267552472404,\n        \"max\": 2.97642672064492,\n        \"num_unique_values\": 2719,\n        \"samples\": [\n          0.9026703399961922,\n          0.6143567929503408,\n          1.7047928529269114\n        ],\n        \"semantic_type\": \"\",\n        \"description\": \"\"\n      }\n    },\n    {\n      \"column\": \"nat_source_port\",\n      \"properties\": {\n        \"dtype\": \"number\",\n        \"std\": 1.000010900073576,\n        \"min\": -0.8758643020274043,\n        \"max\": 2.1132896003355315,\n        \"num_unique_values\": 21802,\n        \"samples\": [\n          0.020174889426320737,\n          -0.6944671086239192,\n          0.5040223693418776\n        ],\n        \"semantic_type\": \"\",\n        \"description\": \"\"\n      }\n    },\n    {\n      \"column\": \"nat_destination_port\",\n      \"properties\": {\n        \"dtype\": \"number\",\n        \"std\": 1.0000109000735757,\n        \"min\": -0.2740923420110999,\n        \"max\": 6.448004728942416,\n        \"num_unique_values\": 2075,\n        \"samples\": [\n          3.010488300486397,\n          5.380223688145497,\n          2.445313129036731\n        ],\n        \"semantic_type\": \"\",\n        \"description\": \"\"\n      }\n    },\n    {\n      \"column\": \"bytes\",\n      \"properties\": {\n        \"dtype\": \"number\",\n        \"std\": 1.0000109000735757,\n        \"min\": -0.01653544013654614,\n        \"max\": 194.77588367157495,\n        \"num_unique_values\": 8225,\n        \"samples\": [\n          -0.015384356804284975,\n          -0.004892633521607536,\n          0.04120149414065321\n        ],\n        \"semantic_type\": \"\",\n        \"description\": \"\"\n      }\n    },\n    {\n      \"column\": \"bytes_sent\",\n      \"properties\": {\n        \"dtype\": \"number\",\n        \"std\": 1.000010900073576,\n        \"min\": -0.006704547622440555,\n        \"max\": 207.29529941963895,\n        \"num_unique_values\": 5428,\n        \"samples\": [\n          -0.006625646383076835,\n          -0.004056438436482572,\n          -0.005724948301586834\n        ],\n        \"semantic_type\": \"\",\n        \"description\": \"\"\n      }\n    },\n    {\n      \"column\": \"bytes_received\",\n      \"properties\": {\n        \"dtype\": \"number\",\n        \"std\": 1.000010900073576,\n        \"min\": -0.031227417131299676,\n        \"max\": 129.9724675592612,\n        \"num_unique_values\": 6793,\n        \"samples\": [\n          -0.028346025001614962,\n          0.0884800026906467,\n          -0.029660315787427283\n        ],\n        \"semantic_type\": \"\",\n        \"description\": \"\"\n      }\n    },\n    {\n      \"column\": \"packets\",\n      \"properties\": {\n        \"dtype\": \"number\",\n        \"std\": 1.000010900073576,\n        \"min\": -0.019004647629167447,\n        \"max\": 172.76960214457057,\n        \"num_unique_values\": 892,\n        \"samples\": [\n          4.07493039639752,\n          0.0627106227106866,\n          0.21897023150342793\n        ],\n        \"semantic_type\": \"\",\n        \"description\": \"\"\n      }\n    },\n    {\n      \"column\": \"elapsed_time_sec\",\n      \"properties\": {\n        \"dtype\": \"number\",\n        \"std\": 1.000010900073576,\n        \"min\": -0.21811865119120358,\n        \"max\": 32.07714468852703,\n        \"num_unique_values\": 787,\n        \"samples\": [\n          7.459833510175164,\n          0.6408153651529417,\n          0.8407961857521511\n        ],\n        \"semantic_type\": \"\",\n        \"description\": \"\"\n      }\n    },\n    {\n      \"column\": \"pkts_sent\",\n      \"properties\": {\n        \"dtype\": \"number\",\n        \"std\": 1.0000109000735762,\n        \"min\": -0.012728339767513933,\n        \"max\": 194.56036095491964,\n        \"num_unique_values\": 606,\n        \"samples\": [\n          0.16531127270730747,\n          0.06796212787458349,\n          1.231206321076304\n        ],\n        \"semantic_type\": \"\",\n        \"description\": \"\"\n      }\n    },\n    {\n      \"column\": \"pkts_received\",\n      \"properties\": {\n        \"dtype\": \"number\",\n        \"std\": 1.000010900073576,\n        \"min\": -0.027191724772267847,\n        \"max\": 136.72930481158522,\n        \"num_unique_values\": 732,\n        \"samples\": [\n          3.135851861531103,\n          0.14165996773124193,\n          0.06768286482747651\n        ],\n        \"semantic_type\": \"\",\n        \"description\": \"\"\n      }\n    }\n  ]\n}"
            }
          },
          "metadata": {},
          "execution_count": 35
        }
      ]
    },
    {
      "cell_type": "code",
      "source": [
        "x_test_scaled=pd.DataFrame(scaler.fit_transform(x_test2),columns=x_test2.columns)\n",
        "x_test_scaled.head()"
      ],
      "metadata": {
        "colab": {
          "base_uri": "https://localhost:8080/",
          "height": 226
        },
        "id": "uqZ-wIOpsD3H",
        "outputId": "3590edfe-6cbc-4e8f-c616-68c2b65eff6c"
      },
      "execution_count": 36,
      "outputs": [
        {
          "output_type": "execute_result",
          "data": {
            "text/plain": [
              "   source_port  destination_port  nat_source_port  nat_destination_port  \\\n",
              "0     0.485799         -0.570590         0.622626             -0.269201   \n",
              "1     0.760103         -0.549362        -0.881930             -0.274656   \n",
              "2    -0.005824         -0.549470         1.785242             -0.229059   \n",
              "3    -3.216500         -0.573461        -0.881930             -0.274656   \n",
              "4     0.204778         -0.549362        -0.881930             -0.274656   \n",
              "\n",
              "      bytes  bytes_sent  bytes_received   packets  elapsed_time_sec  \\\n",
              "0 -0.029058   -0.055247       -0.028224 -0.036675         -0.105283   \n",
              "1 -0.029110   -0.055957       -0.028263 -0.037180         -0.216630   \n",
              "2 -0.028880   -0.055878       -0.028031 -0.032636          0.468324   \n",
              "3 -0.029097   -0.055326       -0.028263 -0.037180         -0.216630   \n",
              "4 -0.029110   -0.055957       -0.028263 -0.037180         -0.216630   \n",
              "\n",
              "   pkts_sent  pkts_received  \n",
              "0  -0.066062      -0.029488  \n",
              "1  -0.066062      -0.030055  \n",
              "2  -0.062850      -0.025525  \n",
              "3  -0.066062      -0.030055  \n",
              "4  -0.066062      -0.030055  "
            ],
            "text/html": [
              "\n",
              "  <div id=\"df-3ff42034-1d52-4fbc-9682-c6e8aa619489\" class=\"colab-df-container\">\n",
              "    <div>\n",
              "<style scoped>\n",
              "    .dataframe tbody tr th:only-of-type {\n",
              "        vertical-align: middle;\n",
              "    }\n",
              "\n",
              "    .dataframe tbody tr th {\n",
              "        vertical-align: top;\n",
              "    }\n",
              "\n",
              "    .dataframe thead th {\n",
              "        text-align: right;\n",
              "    }\n",
              "</style>\n",
              "<table border=\"1\" class=\"dataframe\">\n",
              "  <thead>\n",
              "    <tr style=\"text-align: right;\">\n",
              "      <th></th>\n",
              "      <th>source_port</th>\n",
              "      <th>destination_port</th>\n",
              "      <th>nat_source_port</th>\n",
              "      <th>nat_destination_port</th>\n",
              "      <th>bytes</th>\n",
              "      <th>bytes_sent</th>\n",
              "      <th>bytes_received</th>\n",
              "      <th>packets</th>\n",
              "      <th>elapsed_time_sec</th>\n",
              "      <th>pkts_sent</th>\n",
              "      <th>pkts_received</th>\n",
              "    </tr>\n",
              "  </thead>\n",
              "  <tbody>\n",
              "    <tr>\n",
              "      <th>0</th>\n",
              "      <td>0.485799</td>\n",
              "      <td>-0.570590</td>\n",
              "      <td>0.622626</td>\n",
              "      <td>-0.269201</td>\n",
              "      <td>-0.029058</td>\n",
              "      <td>-0.055247</td>\n",
              "      <td>-0.028224</td>\n",
              "      <td>-0.036675</td>\n",
              "      <td>-0.105283</td>\n",
              "      <td>-0.066062</td>\n",
              "      <td>-0.029488</td>\n",
              "    </tr>\n",
              "    <tr>\n",
              "      <th>1</th>\n",
              "      <td>0.760103</td>\n",
              "      <td>-0.549362</td>\n",
              "      <td>-0.881930</td>\n",
              "      <td>-0.274656</td>\n",
              "      <td>-0.029110</td>\n",
              "      <td>-0.055957</td>\n",
              "      <td>-0.028263</td>\n",
              "      <td>-0.037180</td>\n",
              "      <td>-0.216630</td>\n",
              "      <td>-0.066062</td>\n",
              "      <td>-0.030055</td>\n",
              "    </tr>\n",
              "    <tr>\n",
              "      <th>2</th>\n",
              "      <td>-0.005824</td>\n",
              "      <td>-0.549470</td>\n",
              "      <td>1.785242</td>\n",
              "      <td>-0.229059</td>\n",
              "      <td>-0.028880</td>\n",
              "      <td>-0.055878</td>\n",
              "      <td>-0.028031</td>\n",
              "      <td>-0.032636</td>\n",
              "      <td>0.468324</td>\n",
              "      <td>-0.062850</td>\n",
              "      <td>-0.025525</td>\n",
              "    </tr>\n",
              "    <tr>\n",
              "      <th>3</th>\n",
              "      <td>-3.216500</td>\n",
              "      <td>-0.573461</td>\n",
              "      <td>-0.881930</td>\n",
              "      <td>-0.274656</td>\n",
              "      <td>-0.029097</td>\n",
              "      <td>-0.055326</td>\n",
              "      <td>-0.028263</td>\n",
              "      <td>-0.037180</td>\n",
              "      <td>-0.216630</td>\n",
              "      <td>-0.066062</td>\n",
              "      <td>-0.030055</td>\n",
              "    </tr>\n",
              "    <tr>\n",
              "      <th>4</th>\n",
              "      <td>0.204778</td>\n",
              "      <td>-0.549362</td>\n",
              "      <td>-0.881930</td>\n",
              "      <td>-0.274656</td>\n",
              "      <td>-0.029110</td>\n",
              "      <td>-0.055957</td>\n",
              "      <td>-0.028263</td>\n",
              "      <td>-0.037180</td>\n",
              "      <td>-0.216630</td>\n",
              "      <td>-0.066062</td>\n",
              "      <td>-0.030055</td>\n",
              "    </tr>\n",
              "  </tbody>\n",
              "</table>\n",
              "</div>\n",
              "    <div class=\"colab-df-buttons\">\n",
              "\n",
              "  <div class=\"colab-df-container\">\n",
              "    <button class=\"colab-df-convert\" onclick=\"convertToInteractive('df-3ff42034-1d52-4fbc-9682-c6e8aa619489')\"\n",
              "            title=\"Convert this dataframe to an interactive table.\"\n",
              "            style=\"display:none;\">\n",
              "\n",
              "  <svg xmlns=\"http://www.w3.org/2000/svg\" height=\"24px\" viewBox=\"0 -960 960 960\">\n",
              "    <path d=\"M120-120v-720h720v720H120Zm60-500h600v-160H180v160Zm220 220h160v-160H400v160Zm0 220h160v-160H400v160ZM180-400h160v-160H180v160Zm440 0h160v-160H620v160ZM180-180h160v-160H180v160Zm440 0h160v-160H620v160Z\"/>\n",
              "  </svg>\n",
              "    </button>\n",
              "\n",
              "  <style>\n",
              "    .colab-df-container {\n",
              "      display:flex;\n",
              "      gap: 12px;\n",
              "    }\n",
              "\n",
              "    .colab-df-convert {\n",
              "      background-color: #E8F0FE;\n",
              "      border: none;\n",
              "      border-radius: 50%;\n",
              "      cursor: pointer;\n",
              "      display: none;\n",
              "      fill: #1967D2;\n",
              "      height: 32px;\n",
              "      padding: 0 0 0 0;\n",
              "      width: 32px;\n",
              "    }\n",
              "\n",
              "    .colab-df-convert:hover {\n",
              "      background-color: #E2EBFA;\n",
              "      box-shadow: 0px 1px 2px rgba(60, 64, 67, 0.3), 0px 1px 3px 1px rgba(60, 64, 67, 0.15);\n",
              "      fill: #174EA6;\n",
              "    }\n",
              "\n",
              "    .colab-df-buttons div {\n",
              "      margin-bottom: 4px;\n",
              "    }\n",
              "\n",
              "    [theme=dark] .colab-df-convert {\n",
              "      background-color: #3B4455;\n",
              "      fill: #D2E3FC;\n",
              "    }\n",
              "\n",
              "    [theme=dark] .colab-df-convert:hover {\n",
              "      background-color: #434B5C;\n",
              "      box-shadow: 0px 1px 3px 1px rgba(0, 0, 0, 0.15);\n",
              "      filter: drop-shadow(0px 1px 2px rgba(0, 0, 0, 0.3));\n",
              "      fill: #FFFFFF;\n",
              "    }\n",
              "  </style>\n",
              "\n",
              "    <script>\n",
              "      const buttonEl =\n",
              "        document.querySelector('#df-3ff42034-1d52-4fbc-9682-c6e8aa619489 button.colab-df-convert');\n",
              "      buttonEl.style.display =\n",
              "        google.colab.kernel.accessAllowed ? 'block' : 'none';\n",
              "\n",
              "      async function convertToInteractive(key) {\n",
              "        const element = document.querySelector('#df-3ff42034-1d52-4fbc-9682-c6e8aa619489');\n",
              "        const dataTable =\n",
              "          await google.colab.kernel.invokeFunction('convertToInteractive',\n",
              "                                                    [key], {});\n",
              "        if (!dataTable) return;\n",
              "\n",
              "        const docLinkHtml = 'Like what you see? Visit the ' +\n",
              "          '<a target=\"_blank\" href=https://colab.research.google.com/notebooks/data_table.ipynb>data table notebook</a>'\n",
              "          + ' to learn more about interactive tables.';\n",
              "        element.innerHTML = '';\n",
              "        dataTable['output_type'] = 'display_data';\n",
              "        await google.colab.output.renderOutput(dataTable, element);\n",
              "        const docLink = document.createElement('div');\n",
              "        docLink.innerHTML = docLinkHtml;\n",
              "        element.appendChild(docLink);\n",
              "      }\n",
              "    </script>\n",
              "  </div>\n",
              "\n",
              "\n",
              "<div id=\"df-9f94c6e9-810f-4cbb-acec-f844c20c2e4e\">\n",
              "  <button class=\"colab-df-quickchart\" onclick=\"quickchart('df-9f94c6e9-810f-4cbb-acec-f844c20c2e4e')\"\n",
              "            title=\"Suggest charts\"\n",
              "            style=\"display:none;\">\n",
              "\n",
              "<svg xmlns=\"http://www.w3.org/2000/svg\" height=\"24px\"viewBox=\"0 0 24 24\"\n",
              "     width=\"24px\">\n",
              "    <g>\n",
              "        <path d=\"M19 3H5c-1.1 0-2 .9-2 2v14c0 1.1.9 2 2 2h14c1.1 0 2-.9 2-2V5c0-1.1-.9-2-2-2zM9 17H7v-7h2v7zm4 0h-2V7h2v10zm4 0h-2v-4h2v4z\"/>\n",
              "    </g>\n",
              "</svg>\n",
              "  </button>\n",
              "\n",
              "<style>\n",
              "  .colab-df-quickchart {\n",
              "      --bg-color: #E8F0FE;\n",
              "      --fill-color: #1967D2;\n",
              "      --hover-bg-color: #E2EBFA;\n",
              "      --hover-fill-color: #174EA6;\n",
              "      --disabled-fill-color: #AAA;\n",
              "      --disabled-bg-color: #DDD;\n",
              "  }\n",
              "\n",
              "  [theme=dark] .colab-df-quickchart {\n",
              "      --bg-color: #3B4455;\n",
              "      --fill-color: #D2E3FC;\n",
              "      --hover-bg-color: #434B5C;\n",
              "      --hover-fill-color: #FFFFFF;\n",
              "      --disabled-bg-color: #3B4455;\n",
              "      --disabled-fill-color: #666;\n",
              "  }\n",
              "\n",
              "  .colab-df-quickchart {\n",
              "    background-color: var(--bg-color);\n",
              "    border: none;\n",
              "    border-radius: 50%;\n",
              "    cursor: pointer;\n",
              "    display: none;\n",
              "    fill: var(--fill-color);\n",
              "    height: 32px;\n",
              "    padding: 0;\n",
              "    width: 32px;\n",
              "  }\n",
              "\n",
              "  .colab-df-quickchart:hover {\n",
              "    background-color: var(--hover-bg-color);\n",
              "    box-shadow: 0 1px 2px rgba(60, 64, 67, 0.3), 0 1px 3px 1px rgba(60, 64, 67, 0.15);\n",
              "    fill: var(--button-hover-fill-color);\n",
              "  }\n",
              "\n",
              "  .colab-df-quickchart-complete:disabled,\n",
              "  .colab-df-quickchart-complete:disabled:hover {\n",
              "    background-color: var(--disabled-bg-color);\n",
              "    fill: var(--disabled-fill-color);\n",
              "    box-shadow: none;\n",
              "  }\n",
              "\n",
              "  .colab-df-spinner {\n",
              "    border: 2px solid var(--fill-color);\n",
              "    border-color: transparent;\n",
              "    border-bottom-color: var(--fill-color);\n",
              "    animation:\n",
              "      spin 1s steps(1) infinite;\n",
              "  }\n",
              "\n",
              "  @keyframes spin {\n",
              "    0% {\n",
              "      border-color: transparent;\n",
              "      border-bottom-color: var(--fill-color);\n",
              "      border-left-color: var(--fill-color);\n",
              "    }\n",
              "    20% {\n",
              "      border-color: transparent;\n",
              "      border-left-color: var(--fill-color);\n",
              "      border-top-color: var(--fill-color);\n",
              "    }\n",
              "    30% {\n",
              "      border-color: transparent;\n",
              "      border-left-color: var(--fill-color);\n",
              "      border-top-color: var(--fill-color);\n",
              "      border-right-color: var(--fill-color);\n",
              "    }\n",
              "    40% {\n",
              "      border-color: transparent;\n",
              "      border-right-color: var(--fill-color);\n",
              "      border-top-color: var(--fill-color);\n",
              "    }\n",
              "    60% {\n",
              "      border-color: transparent;\n",
              "      border-right-color: var(--fill-color);\n",
              "    }\n",
              "    80% {\n",
              "      border-color: transparent;\n",
              "      border-right-color: var(--fill-color);\n",
              "      border-bottom-color: var(--fill-color);\n",
              "    }\n",
              "    90% {\n",
              "      border-color: transparent;\n",
              "      border-bottom-color: var(--fill-color);\n",
              "    }\n",
              "  }\n",
              "</style>\n",
              "\n",
              "  <script>\n",
              "    async function quickchart(key) {\n",
              "      const quickchartButtonEl =\n",
              "        document.querySelector('#' + key + ' button');\n",
              "      quickchartButtonEl.disabled = true;  // To prevent multiple clicks.\n",
              "      quickchartButtonEl.classList.add('colab-df-spinner');\n",
              "      try {\n",
              "        const charts = await google.colab.kernel.invokeFunction(\n",
              "            'suggestCharts', [key], {});\n",
              "      } catch (error) {\n",
              "        console.error('Error during call to suggestCharts:', error);\n",
              "      }\n",
              "      quickchartButtonEl.classList.remove('colab-df-spinner');\n",
              "      quickchartButtonEl.classList.add('colab-df-quickchart-complete');\n",
              "    }\n",
              "    (() => {\n",
              "      let quickchartButtonEl =\n",
              "        document.querySelector('#df-9f94c6e9-810f-4cbb-acec-f844c20c2e4e button');\n",
              "      quickchartButtonEl.style.display =\n",
              "        google.colab.kernel.accessAllowed ? 'block' : 'none';\n",
              "    })();\n",
              "  </script>\n",
              "</div>\n",
              "\n",
              "    </div>\n",
              "  </div>\n"
            ],
            "application/vnd.google.colaboratory.intrinsic+json": {
              "type": "dataframe",
              "variable_name": "x_test_scaled",
              "summary": "{\n  \"name\": \"x_test_scaled\",\n  \"rows\": 19660,\n  \"fields\": [\n    {\n      \"column\": \"source_port\",\n      \"properties\": {\n        \"dtype\": \"number\",\n        \"std\": 1.000025433320197,\n        \"min\": -3.216500068411454,\n        \"max\": 1.056446309241642,\n        \"num_unique_values\": 12128,\n        \"samples\": [\n          -0.07611203573706031,\n          -2.255422923622388,\n          0.1555505894620951\n        ],\n        \"semantic_type\": \"\",\n        \"description\": \"\"\n      }\n    },\n    {\n      \"column\": \"destination_port\",\n      \"properties\": {\n        \"dtype\": \"number\",\n        \"std\": 1.000025433320197,\n        \"min\": -0.5734605224297119,\n        \"max\": 2.9738926823822167,\n        \"num_unique_values\": 1542,\n        \"samples\": [\n          0.9127626296351782,\n          -0.15170327464216768,\n          0.7948677235702728\n        ],\n        \"semantic_type\": \"\",\n        \"description\": \"\"\n      }\n    },\n    {\n      \"column\": \"nat_source_port\",\n      \"properties\": {\n        \"dtype\": \"number\",\n        \"std\": 1.000025433320197,\n        \"min\": -0.8819299684856003,\n        \"max\": 2.086506601076724,\n        \"num_unique_values\": 10335,\n        \"samples\": [\n          -0.17358909085237756,\n          0.2028670438201966,\n          0.5363371513234443\n        ],\n        \"semantic_type\": \"\",\n        \"description\": \"\"\n      }\n    },\n    {\n      \"column\": \"nat_destination_port\",\n      \"properties\": {\n        \"dtype\": \"number\",\n        \"std\": 1.000025433320197,\n        \"min\": -0.27465634464718597,\n        \"max\": 6.442873203320412,\n        \"num_unique_values\": 1093,\n        \"samples\": [\n          3.5906198737094455,\n          4.57389640857912,\n          3.0436575052076704\n        ],\n        \"semantic_type\": \"\",\n        \"description\": \"\"\n      }\n    },\n    {\n      \"column\": \"bytes\",\n      \"properties\": {\n        \"dtype\": \"number\",\n        \"std\": 1.000025433320197,\n        \"min\": -0.02911281203426251,\n        \"max\": 123.93312085865264,\n        \"num_unique_values\": 4410,\n        \"samples\": [\n          -0.027425967105398488,\n          -0.021125022061233033,\n          -0.018518263374799948\n        ],\n        \"semantic_type\": \"\",\n        \"description\": \"\"\n      }\n    },\n    {\n      \"column\": \"bytes_sent\",\n      \"properties\": {\n        \"dtype\": \"number\",\n        \"std\": 1.000025433320197,\n        \"min\": -0.0560753346248102,\n        \"max\": 75.86907520558537,\n        \"num_unique_values\": 3202,\n        \"samples\": [\n          -0.04605738789880633,\n          -0.03897777594086266,\n          0.02925469585436053\n        ],\n        \"semantic_type\": \"\",\n        \"description\": \"\"\n      }\n    },\n    {\n      \"column\": \"bytes_received\",\n      \"properties\": {\n        \"dtype\": \"number\",\n        \"std\": 1.000025433320197,\n        \"min\": -0.02826253652751116,\n        \"max\": 124.1305248661484,\n        \"num_unique_values\": 3696,\n        \"samples\": [\n          -0.012687302910024924,\n          -0.026050673859255257,\n          -0.027545374120503806\n        ],\n        \"semantic_type\": \"\",\n        \"description\": \"\"\n      }\n    },\n    {\n      \"column\": \"packets\",\n      \"properties\": {\n        \"dtype\": \"number\",\n        \"std\": 1.0000254333201966,\n        \"min\": -0.03717966240917345,\n        \"max\": 118.39460964395236,\n        \"num_unique_values\": 549,\n        \"samples\": [\n          0.04460327450207214,\n          4.924318510206392,\n          0.23038179785601273\n        ],\n        \"semantic_type\": \"\",\n        \"description\": \"\"\n      }\n    },\n    {\n      \"column\": \"elapsed_time_sec\",\n      \"properties\": {\n        \"dtype\": \"number\",\n        \"std\": 1.000025433320197,\n        \"min\": -0.21662975471154144,\n        \"max\": 36.30523731631172,\n        \"num_unique_values\": 528,\n        \"samples\": [\n          0.6876441158570316,\n          1.2072641758106144,\n          -0.11877922394106152\n        ],\n        \"semantic_type\": \"\",\n        \"description\": \"\"\n      }\n    },\n    {\n      \"column\": \"pkts_sent\",\n      \"properties\": {\n        \"dtype\": \"number\",\n        \"std\": 1.0000254333201968,\n        \"min\": -0.06606217612779965,\n        \"max\": 63.26543594632098,\n        \"num_unique_values\": 375,\n        \"samples\": [\n          0.4671880743579472,\n          -0.00502750890352742,\n          0.0335207019749603\n        ],\n        \"semantic_type\": \"\",\n        \"description\": \"\"\n      }\n    },\n    {\n      \"column\": \"pkts_received\",\n      \"properties\": {\n        \"dtype\": \"number\",\n        \"std\": 1.000025433320197,\n        \"min\": -0.030054649314076448,\n        \"max\": 124.29363446809417,\n        \"num_unique_values\": 448,\n        \"samples\": [\n          0.3334384211539812,\n          -0.005708540232882554,\n          0.024865643264430706\n        ],\n        \"semantic_type\": \"\",\n        \"description\": \"\"\n      }\n    }\n  ]\n}"
            }
          },
          "metadata": {},
          "execution_count": 36
        }
      ]
    },
    {
      "cell_type": "code",
      "source": [
        "print(x_train_scaled.shape, x_test_scaled.shape)"
      ],
      "metadata": {
        "colab": {
          "base_uri": "https://localhost:8080/"
        },
        "id": "LhSBYgM3sD7x",
        "outputId": "fa213a96-3ca6-4a0a-93f3-a46cbae9570e"
      },
      "execution_count": 37,
      "outputs": [
        {
          "output_type": "stream",
          "name": "stdout",
          "text": [
            "(45872, 11) (19660, 11)\n"
          ]
        }
      ]
    },
    {
      "cell_type": "code",
      "source": [
        "y_train = pd.DataFrame(y_train)\n",
        "y_test = pd.DataFrame(y_test)"
      ],
      "metadata": {
        "id": "axOrRFFosEBB"
      },
      "execution_count": 38,
      "outputs": []
    },
    {
      "cell_type": "code",
      "source": [
        "# Install libraries\n",
        "#!pip install boostaroota\n",
        "#!pip install h2o\n",
        "#!pip install ppscore\n",
        "#!pip install imblearn"
      ],
      "metadata": {
        "id": "OfLkCuoRtyk1"
      },
      "execution_count": null,
      "outputs": []
    },
    {
      "cell_type": "code",
      "source": [
        "###! pip install optuna\n",
        "###! pip install shap"
      ],
      "metadata": {
        "id": "bnKbdT-Tt1OU"
      },
      "execution_count": null,
      "outputs": []
    },
    {
      "cell_type": "code",
      "source": [
        "###! pip install catboost"
      ],
      "metadata": {
        "colab": {
          "base_uri": "https://localhost:8080/"
        },
        "id": "yMKqTJLGt1ZS",
        "outputId": "5734045b-6143-4fc4-8752-f248662d9b2e"
      },
      "execution_count": 41,
      "outputs": [
        {
          "output_type": "stream",
          "name": "stdout",
          "text": [
            "Installing collected packages: catboost\n",
            "Successfully installed catboost-1.2.3\n"
          ]
        }
      ]
    },
    {
      "cell_type": "code",
      "source": [
        "import numpy as np # linear algebra\n",
        "import pandas as pd # data processing, CSV file I/O (e.g. pd.read_csv)\n",
        "import os\n",
        "from ipywidgets import interact, interactive, fixed, interact_manual\n",
        "import ipywidgets as widgets\n",
        "import plotly.express as px\n",
        "import matplotlib.pyplot as plt\n",
        "import plotly.graph_objs as go\n",
        "from tqdm import tqdm\n",
        "from sklearn.metrics import mean_squared_error\n",
        "import tensorflow as tf\n",
        "from sklearn import model_selection as sk_model_selection\n",
        "from xgboost.sklearn import XGBRegressor\n",
        "from sklearn.metrics import mean_squared_error,roc_auc_score,precision_score\n",
        "from sklearn import metrics\n",
        "import optuna\n",
        "from boostaroota import BoostARoota\n",
        "from sklearn.metrics import log_loss\n",
        "from optuna.samplers import TPESampler\n",
        "import functools\n",
        "from functools import partial\n",
        "import xgboost as xgb\n",
        "import joblib\n",
        "from matplotlib_venn import venn2, venn2_circles, venn2_unweighted\n",
        "from matplotlib_venn import venn3, venn3_circles\n",
        "import statsmodels.api as sm\n",
        "import pylab\n",
        "from xgboost import plot_tree\n",
        "import shap\n",
        "from xgboost.sklearn import XGBClassifier\n",
        "from sklearn.metrics import mean_squared_error,roc_auc_score,precision_score\n",
        "from sklearn import metrics\n",
        "from sklearn.metrics import log_loss\n",
        "from sklearn.metrics import confusion_matrix, recall_score, precision_score, precision_recall_curve, auc, f1_score, \\\n",
        "    average_precision_score, accuracy_score, roc_curve\n",
        "from sklearn.preprocessing import LabelEncoder\n",
        "import h2o\n",
        "from h2o.automl import H2OAutoML\n",
        "from catboost import Pool, CatBoostRegressor, cv\n",
        "import tensorflow as tf\n",
        "from tensorflow.keras.utils import plot_model\n",
        "from tensorflow.keras.models import Model, load_model\n",
        "from tensorflow.keras.callbacks import EarlyStopping\n",
        "from tensorflow.keras.callbacks import ModelCheckpoint\n",
        "from tensorflow.keras.callbacks import ReduceLROnPlateau\n",
        "from tensorflow.keras.layers import BatchNormalization\n",
        "from tensorflow.keras.layers import Dense, Dropout, Input\n",
        "from tensorflow.keras.layers import Concatenate, LSTM, GRU\n",
        "from tensorflow.keras.layers import Bidirectional, Multiply\n",
        "import seaborn as sns\n",
        "from sklearn.model_selection import GridSearchCV\n",
        "from sklearn.ensemble import RandomForestClassifier\n",
        "from sklearn.linear_model import LogisticRegression\n",
        "from sklearn.neighbors import KNeighborsClassifier\n",
        "from sklearn.svm import SVC\n",
        "\n",
        "\n",
        "SEED = 42"
      ],
      "metadata": {
        "id": "oGAw3A9ht1mU"
      },
      "execution_count": 42,
      "outputs": []
    },
    {
      "cell_type": "code",
      "source": [
        "print(x_train_scaled.columns)"
      ],
      "metadata": {
        "colab": {
          "base_uri": "https://localhost:8080/"
        },
        "id": "w3O8shd7uWPS",
        "outputId": "ca089193-ae12-4927-f717-f375931b0a6a"
      },
      "execution_count": 43,
      "outputs": [
        {
          "output_type": "stream",
          "name": "stdout",
          "text": [
            "Index(['source_port', 'destination_port', 'nat_source_port',\n",
            "       'nat_destination_port', 'bytes', 'bytes_sent', 'bytes_received',\n",
            "       'packets', 'elapsed_time_sec', 'pkts_sent', 'pkts_received'],\n",
            "      dtype='object')\n"
          ]
        }
      ]
    },
    {
      "cell_type": "code",
      "source": [
        "print(x_test_scaled.columns)"
      ],
      "metadata": {
        "colab": {
          "base_uri": "https://localhost:8080/"
        },
        "id": "9a2yu1WSuWcC",
        "outputId": "fda1e74a-bd4c-4db1-a006-913a2ec97bed"
      },
      "execution_count": 44,
      "outputs": [
        {
          "output_type": "stream",
          "name": "stdout",
          "text": [
            "Index(['source_port', 'destination_port', 'nat_source_port',\n",
            "       'nat_destination_port', 'bytes', 'bytes_sent', 'bytes_received',\n",
            "       'packets', 'elapsed_time_sec', 'pkts_sent', 'pkts_received'],\n",
            "      dtype='object')\n"
          ]
        }
      ]
    },
    {
      "cell_type": "code",
      "source": [
        "feature_cols = ['source_port', 'destination_port', 'nat_source_port',\n",
        "       'nat_destination_port', 'bytes', 'bytes_sent', 'bytes_received',\n",
        "       'packets', 'elapsed_time_sec', 'pkts_sent', 'pkts_received']"
      ],
      "metadata": {
        "id": "RWrwJ871uWo4"
      },
      "execution_count": 46,
      "outputs": []
    },
    {
      "cell_type": "code",
      "source": [
        "from sklearn.metrics import  precision_recall_curve, roc_auc_score, confusion_matrix, accuracy_score, recall_score, precision_score, f1_score,auc, roc_curve\n",
        "try:\n",
        "    from imblearn.over_sampling import ADASYN\n",
        "except:\n",
        "    pass\n",
        "try:\n",
        "    import ppscore as pps\n",
        "except:\n",
        "    pass\n",
        "\n",
        "from imblearn.over_sampling import ADASYN"
      ],
      "metadata": {
        "id": "QuCUWSUQulvi"
      },
      "execution_count": 47,
      "outputs": []
    },
    {
      "cell_type": "code",
      "source": [
        "h2o.init(\n",
        "    nthreads=-1,     # number of threads when launching a new H2O server\n",
        "    max_mem_size=12  # in gigabytes\n",
        ")"
      ],
      "metadata": {
        "colab": {
          "base_uri": "https://localhost:8080/",
          "height": 544
        },
        "id": "pXejU17Dur27",
        "outputId": "e48c0333-87d9-40cf-d45f-7eecb9e7e738"
      },
      "execution_count": 48,
      "outputs": [
        {
          "output_type": "stream",
          "name": "stdout",
          "text": [
            "Checking whether there is an H2O instance running at http://localhost:54321..... not found.\n",
            "Attempting to start a local H2O server...\n",
            "  Java Version: openjdk version \"11.0.22\" 2024-01-16; OpenJDK Runtime Environment (build 11.0.22+7-post-Ubuntu-0ubuntu222.04.1); OpenJDK 64-Bit Server VM (build 11.0.22+7-post-Ubuntu-0ubuntu222.04.1, mixed mode, sharing)\n",
            "  Starting server from /usr/local/lib/python3.10/dist-packages/h2o/backend/bin/h2o.jar\n",
            "  Ice root: /tmp/tmp549271s2\n",
            "  JVM stdout: /tmp/tmp549271s2/h2o_unknownUser_started_from_python.out\n",
            "  JVM stderr: /tmp/tmp549271s2/h2o_unknownUser_started_from_python.err\n",
            "  Server is running at http://127.0.0.1:54321\n",
            "Connecting to H2O server at http://127.0.0.1:54321 ... successful.\n"
          ]
        },
        {
          "output_type": "display_data",
          "data": {
            "text/plain": [
              "--------------------------  -----------------------------------------------------------------------------------------\n",
              "H2O_cluster_uptime:         03 secs\n",
              "H2O_cluster_timezone:       Etc/UTC\n",
              "H2O_data_parsing_timezone:  UTC\n",
              "H2O_cluster_version:        3.46.0.1\n",
              "H2O_cluster_version_age:    14 days, 15 hours and 1 minute\n",
              "H2O_cluster_name:           H2O_from_python_unknownUser_03hnud\n",
              "H2O_cluster_total_nodes:    1\n",
              "H2O_cluster_free_memory:    12 Gb\n",
              "H2O_cluster_total_cores:    2\n",
              "H2O_cluster_allowed_cores:  2\n",
              "H2O_cluster_status:         locked, healthy\n",
              "H2O_connection_url:         http://127.0.0.1:54321\n",
              "H2O_connection_proxy:       {\"http\": null, \"https\": null, \"colab_language_server\": \"/usr/colab/bin/language_service\"}\n",
              "H2O_internal_security:      False\n",
              "Python_version:             3.10.12 final\n",
              "--------------------------  -----------------------------------------------------------------------------------------"
            ],
            "text/html": [
              "\n",
              "<style>\n",
              "\n",
              "#h2o-table-1.h2o-container {\n",
              "  overflow-x: auto;\n",
              "}\n",
              "#h2o-table-1 .h2o-table {\n",
              "  /* width: 100%; */\n",
              "  margin-top: 1em;\n",
              "  margin-bottom: 1em;\n",
              "}\n",
              "#h2o-table-1 .h2o-table caption {\n",
              "  white-space: nowrap;\n",
              "  caption-side: top;\n",
              "  text-align: left;\n",
              "  /* margin-left: 1em; */\n",
              "  margin: 0;\n",
              "  font-size: larger;\n",
              "}\n",
              "#h2o-table-1 .h2o-table thead {\n",
              "  white-space: nowrap; \n",
              "  position: sticky;\n",
              "  top: 0;\n",
              "  box-shadow: 0 -1px inset;\n",
              "}\n",
              "#h2o-table-1 .h2o-table tbody {\n",
              "  overflow: auto;\n",
              "}\n",
              "#h2o-table-1 .h2o-table th,\n",
              "#h2o-table-1 .h2o-table td {\n",
              "  text-align: right;\n",
              "  /* border: 1px solid; */\n",
              "}\n",
              "#h2o-table-1 .h2o-table tr:nth-child(even) {\n",
              "  /* background: #F5F5F5 */\n",
              "}\n",
              "\n",
              "</style>      \n",
              "<div id=\"h2o-table-1\" class=\"h2o-container\">\n",
              "  <table class=\"h2o-table\">\n",
              "    <caption></caption>\n",
              "    <thead></thead>\n",
              "    <tbody><tr><td>H2O_cluster_uptime:</td>\n",
              "<td>03 secs</td></tr>\n",
              "<tr><td>H2O_cluster_timezone:</td>\n",
              "<td>Etc/UTC</td></tr>\n",
              "<tr><td>H2O_data_parsing_timezone:</td>\n",
              "<td>UTC</td></tr>\n",
              "<tr><td>H2O_cluster_version:</td>\n",
              "<td>3.46.0.1</td></tr>\n",
              "<tr><td>H2O_cluster_version_age:</td>\n",
              "<td>14 days, 15 hours and 1 minute</td></tr>\n",
              "<tr><td>H2O_cluster_name:</td>\n",
              "<td>H2O_from_python_unknownUser_03hnud</td></tr>\n",
              "<tr><td>H2O_cluster_total_nodes:</td>\n",
              "<td>1</td></tr>\n",
              "<tr><td>H2O_cluster_free_memory:</td>\n",
              "<td>12 Gb</td></tr>\n",
              "<tr><td>H2O_cluster_total_cores:</td>\n",
              "<td>2</td></tr>\n",
              "<tr><td>H2O_cluster_allowed_cores:</td>\n",
              "<td>2</td></tr>\n",
              "<tr><td>H2O_cluster_status:</td>\n",
              "<td>locked, healthy</td></tr>\n",
              "<tr><td>H2O_connection_url:</td>\n",
              "<td>http://127.0.0.1:54321</td></tr>\n",
              "<tr><td>H2O_connection_proxy:</td>\n",
              "<td>{\"http\": null, \"https\": null, \"colab_language_server\": \"/usr/colab/bin/language_service\"}</td></tr>\n",
              "<tr><td>H2O_internal_security:</td>\n",
              "<td>False</td></tr>\n",
              "<tr><td>Python_version:</td>\n",
              "<td>3.10.12 final</td></tr></tbody>\n",
              "  </table>\n",
              "</div>\n"
            ]
          },
          "metadata": {}
        }
      ]
    },
    {
      "cell_type": "code",
      "source": [
        "print(training_data.shape, testing_data.shape)"
      ],
      "metadata": {
        "colab": {
          "base_uri": "https://localhost:8080/"
        },
        "id": "aaIuWo56ut-X",
        "outputId": "e5266e63-6b2a-4b0e-d806-0bd0ee035853"
      },
      "execution_count": 50,
      "outputs": [
        {
          "output_type": "stream",
          "name": "stdout",
          "text": [
            "(45872, 13) (19660, 13)\n"
          ]
        }
      ]
    },
    {
      "cell_type": "code",
      "source": [
        "h2o_train_df = h2o.H2OFrame(training_data)\n",
        "h2o_test_df = h2o.H2OFrame(testing_data)"
      ],
      "metadata": {
        "colab": {
          "base_uri": "https://localhost:8080/"
        },
        "id": "696SH-k6uuNK",
        "outputId": "62e6f3e6-9945-4777-912d-34dc867a7f4c"
      },
      "execution_count": 51,
      "outputs": [
        {
          "output_type": "stream",
          "name": "stdout",
          "text": [
            "Parse progress: |████████████████████████████████████████████████████████████████| (done) 100%\n",
            "Parse progress: |████████████████████████████████████████████████████████████████| (done) 100%\n"
          ]
        }
      ]
    },
    {
      "cell_type": "code",
      "source": [
        "aml = H2OAutoML(max_models = 35, seed = 100, exclude_algos = [\"StackedEnsemble\"], verbosity=\"info\", nfolds=0, balance_classes=True, max_after_balance_size=0.3)"
      ],
      "metadata": {
        "id": "SNURYXxluuaK"
      },
      "execution_count": 68,
      "outputs": []
    },
    {
      "cell_type": "code",
      "source": [
        "training_data.columns"
      ],
      "metadata": {
        "colab": {
          "base_uri": "https://localhost:8080/"
        },
        "id": "7mwoMY_AuuoX",
        "outputId": "5338bd7c-435c-4ae4-c799-fa2462f5b1f6"
      },
      "execution_count": 69,
      "outputs": [
        {
          "output_type": "execute_result",
          "data": {
            "text/plain": [
              "Index(['source_port', 'destination_port', 'nat_source_port',\n",
              "       'nat_destination_port', 'action', 'bytes', 'bytes_sent',\n",
              "       'bytes_received', 'packets', 'elapsed_time_sec', 'pkts_sent',\n",
              "       'pkts_received', 'id'],\n",
              "      dtype='object')"
            ]
          },
          "metadata": {},
          "execution_count": 69
        }
      ]
    },
    {
      "cell_type": "code",
      "source": [
        "features = ['source_port', 'destination_port', 'nat_source_port',\n",
        "       'nat_destination_port', 'bytes', 'bytes_sent',\n",
        "       'bytes_received', 'packets', 'elapsed_time_sec', 'pkts_sent',\n",
        "       'pkts_received', 'id']\n",
        "output = 'action'"
      ],
      "metadata": {
        "id": "7TPhjhdpuu2i"
      },
      "execution_count": 70,
      "outputs": []
    },
    {
      "cell_type": "code",
      "source": [
        "####aml = H2OAutoML(max_models = 30, max_runtime_secs=300, seed = 1)\n"
      ],
      "metadata": {
        "id": "w-aq0L0GvZIh"
      },
      "execution_count": 71,
      "outputs": []
    },
    {
      "cell_type": "code",
      "source": [
        "aml.train(x = features, y = output, training_frame = h2o_train_df)"
      ],
      "metadata": {
        "colab": {
          "base_uri": "https://localhost:8080/",
          "height": 1000
        },
        "id": "aeEzMnsovcGb",
        "outputId": "6c74ef5a-8749-45e6-bf9e-9b4d69e3d99e"
      },
      "execution_count": 72,
      "outputs": [
        {
          "output_type": "stream",
          "name": "stdout",
          "text": [
            "AutoML progress: |\n",
            "06:40:09.600: Project: AutoML_3_20240328_64009\n",
            "06:40:09.600: Cross-validation disabled by user: no fold column nor nfolds > 1.\n",
            "06:40:09.601: Setting stopping tolerance adaptively based on the training frame: 0.004669024600707204\n",
            "06:40:09.601: Build control seed: 100\n",
            "06:40:09.602: Since cross-validation is disabled, and validation frame(s) were not provided, automatically split the training data into training, validation frame(s) in the ratio 90/10/0.\n",
            "06:40:09.730: training frame: Frame key: AutoML_3_20240328_64009_training_Key_Frame__upload_aaba0f1e5012a7bc9b395642c7884068.hex    cols: 13    rows: 41205  chunks: 1    size: 1772731  checksum: 1279235287024275308\n",
            "06:40:09.732: validation frame: Frame key: AutoML_3_20240328_64009_validation_Key_Frame__upload_aaba0f1e5012a7bc9b395642c7884068.hex    cols: 13    rows: 4667  chunks: 1    size: 145641  checksum: 207833772594053508\n",
            "06:40:09.732: leaderboard frame: Frame key: AutoML_3_20240328_64009_validation_Key_Frame__upload_aaba0f1e5012a7bc9b395642c7884068.hex    cols: 13    rows: 4667  chunks: 1    size: 145641  checksum: 207833772594053508\n",
            "06:40:09.732: blending frame: NULL\n",
            "06:40:09.732: response column: action\n",
            "06:40:09.732: fold column: null\n",
            "06:40:09.732: weights column: null\n",
            "06:40:09.733: Loading execution steps: [{XGBoost : [def_2 (1g, 10w), def_1 (2g, 10w), def_3 (3g, 10w), grid_1 (4g, 90w), lr_search (7g, 30w)]}, {GLM : [def_1 (1g, 10w)]}, {DRF : [def_1 (2g, 10w), XRT (3g, 10w)]}, {GBM : [def_5 (1g, 10w), def_2 (2g, 10w), def_3 (2g, 10w), def_4 (2g, 10w), def_1 (3g, 10w), grid_1 (4g, 60w), lr_annealing (7g, 10w)]}, {DeepLearning : [def_1 (3g, 10w), grid_1 (4g, 30w), grid_2 (5g, 30w), grid_3 (5g, 30w)]}, {completion : [resume_best_grids (6g, 60w)]}, {StackedEnsemble : [monotonic (9g, 10w), best_of_family_xglm (10g, 10w), all_xglm (10g, 10w)]}]\n",
            "06:40:09.736: Disabling Algo: StackedEnsemble as requested by the user.\n",
            "06:40:09.737: AutoML job created: 2024.03.28 06:40:09.600\n",
            "06:40:09.738: AutoML build started: 2024.03.28 06:40:09.738\n",
            "06:40:09.739: AutoML: starting XGBoost_1_AutoML_3_20240328_64009 model training\n",
            "\n",
            "██\n",
            "06:40:25.762: New leader: XGBoost_1_AutoML_3_20240328_64009, rmse: 0.05251102471106248\n",
            "06:40:25.765: AutoML: starting GLM_1_AutoML_3_20240328_64009 model training\n",
            "\n",
            "\n",
            "06:40:26.242: AutoML: starting GBM_1_AutoML_3_20240328_64009 model training\n",
            "\n",
            "██████\n",
            "06:41:02.840: AutoML: starting XGBoost_2_AutoML_3_20240328_64009 model training\n",
            "\n",
            "██\n",
            "06:41:17.177: AutoML: starting DRF_1_AutoML_3_20240328_64009 model training\n",
            "\n",
            "█\n",
            "06:41:22.463: AutoML: starting GBM_2_AutoML_3_20240328_64009 model training\n",
            "\n",
            "█\n",
            "06:41:28.271: AutoML: starting GBM_3_AutoML_3_20240328_64009 model training\n",
            "\n",
            "██\n",
            "06:41:37.808: New leader: GBM_3_AutoML_3_20240328_64009, rmse: 0.051766910499763806\n",
            "06:41:37.808: AutoML: starting GBM_4_AutoML_3_20240328_64009 model training\n",
            "\n",
            "█\n",
            "06:41:46.883: AutoML: starting XGBoost_3_AutoML_3_20240328_64009 model training\n",
            "\n",
            "█\n",
            "06:41:51.247: New leader: XGBoost_3_AutoML_3_20240328_64009, rmse: 0.05076830695573741\n",
            "06:41:51.254: AutoML: starting XRT_1_AutoML_3_20240328_64009 model training\n",
            "\n",
            "█\n",
            "06:41:55.946: AutoML: starting GBM_5_AutoML_3_20240328_64009 model training\n",
            "\n",
            "█\n",
            "06:42:01.589: AutoML: starting DeepLearning_1_AutoML_3_20240328_64009 model training\n",
            "06:42:01.681: DeepLearning_1_AutoML_3_20240328_64009 [DeepLearning def_1] failed: water.exceptions.H2OModelBuilderIllegalArgumentException: Illegal argument(s) for DeepLearning model: DeepLearning_1_AutoML_3_20240328_64009.  Details: ERRR on field: _balance_classes: balance_classes requires classification.\n",
            "\n",
            "06:42:01.686: AutoML: starting XGBoost_grid_1_AutoML_3_20240328_64009 hyperparameter search\n",
            "\n",
            "████████████████████\n",
            "06:42:22.728: New leader: XGBoost_grid_1_AutoML_3_20240328_64009_model_2, rmse: 0.04936083655356857\n",
            "06:44:48.70: AutoML: starting GBM_grid_1_AutoML_3_20240328_64009 hyperparameter search\n",
            "\n",
            "███████████\n",
            "06:45:43.118: AutoML: starting DeepLearning_grid_1_AutoML_3_20240328_64009 hyperparameter search\n",
            "06:45:43.324: AutoML: starting DeepLearning_grid_2_AutoML_3_20240328_64009 hyperparameter search\n",
            "06:45:43.770: AutoML: starting DeepLearning_grid_3_AutoML_3_20240328_64009 hyperparameter search\n",
            "\n",
            "██\n",
            "06:45:44.624: AutoML: starting XGBoost_grid_1_AutoML_3_20240328_64009 hyperparameter search\n",
            "\n",
            "████████████| (done) 100%\n",
            "\n",
            "06:46:15.657: New leader: XGBoost_grid_1_AutoML_3_20240328_64009_model_21, rmse: 0.047335192822497756\n",
            "06:53:27.890: AutoML: starting GBM_grid_1_AutoML_3_20240328_64009 hyperparameter search\n",
            "06:53:27.894: Skipping StackedEnsemble 'monotonic' due to the exclude_algos option or it is already trained.\n",
            "06:53:27.896: Skipping StackedEnsemble 'best_of_family_xglm' due to the exclude_algos option or it is already trained.\n",
            "06:53:27.897: Skipping StackedEnsemble 'all_xglm' due to the exclude_algos option or it is already trained.\n",
            "06:53:27.897: Actual modeling steps: [{XGBoost : [def_2 (1g, 10w)]}, {GLM : [def_1 (1g, 10w)]}, {GBM : [def_5 (1g, 10w)]}, {XGBoost : [def_1 (2g, 10w)]}, {DRF : [def_1 (2g, 10w)]}, {GBM : [def_2 (2g, 10w), def_3 (2g, 10w), def_4 (2g, 10w)]}, {XGBoost : [def_3 (3g, 10w)]}, {DRF : [XRT (3g, 10w)]}, {GBM : [def_1 (3g, 10w)]}, {XGBoost : [grid_1 (4g, 90w)]}, {GBM : [grid_1 (4g, 60w)]}, {DeepLearning : [grid_1 (4g, 30w), grid_2 (5g, 30w), grid_3 (5g, 30w)]}, {completion : [resume_best_grids (6g, 60w)]}]\n",
            "06:53:27.897: AutoML build stopped: 2024.03.28 06:53:27.897\n",
            "06:53:27.897: AutoML build done: built 52 models\n",
            "06:53:27.898: AutoML duration: 13 min 18.159 sec\n",
            "\n"
          ]
        },
        {
          "output_type": "execute_result",
          "data": {
            "text/plain": [
              "Model Details\n",
              "=============\n",
              "H2OXGBoostEstimator : XGBoost\n",
              "Model Key: XGBoost_grid_1_AutoML_3_20240328_64009_model_21\n",
              "\n",
              "\n",
              "Model Summary: \n",
              "    number_of_trees\n",
              "--  -----------------\n",
              "    85\n",
              "\n",
              "ModelMetricsRegression: xgboost\n",
              "** Reported on train data. **\n",
              "\n",
              "MSE: 0.0009763918976882246\n",
              "RMSE: 0.031247270243786488\n",
              "MAE: 0.003987444401535138\n",
              "RMSLE: 0.01371927909419342\n",
              "Mean Residual Deviance: 0.0009763918976882246\n",
              "\n",
              "ModelMetricsRegression: xgboost\n",
              "** Reported on validation data. **\n",
              "\n",
              "MSE: 0.002240620479543043\n",
              "RMSE: 0.047335192822497756\n",
              "MAE: 0.0050565560749740055\n",
              "RMSLE: 0.020514000108549514\n",
              "Mean Residual Deviance: 0.002240620479543043\n",
              "\n",
              "Scoring History: \n",
              "    timestamp            duration    number_of_trees    training_rmse    training_mae    training_deviance    validation_rmse    validation_mae    validation_deviance\n",
              "--  -------------------  ----------  -----------------  ---------------  --------------  -------------------  -----------------  ----------------  ---------------------\n",
              "    2024-03-28 06:46:00  16.307 sec  0                  0.805985         0.698932        0.649612             0.799447           0.6937            0.639115\n",
              "    2024-03-28 06:46:01  16.662 sec  5                  0.15981          0.123489        0.0255393            0.15692            0.121588          0.0246238\n",
              "    2024-03-28 06:46:01  16.901 sec  10                 0.0656284        0.0256287       0.00430709           0.0624098          0.0248884         0.00389498\n",
              "    2024-03-28 06:46:01  17.256 sec  15                 0.0539931        0.00965661      0.00291526           0.0558399          0.00961483        0.00311809\n",
              "    2024-03-28 06:46:02  17.584 sec  20                 0.0471847        0.00573708      0.0022264            0.0514452          0.00612173        0.0026466\n",
              "    2024-03-28 06:46:02  18.018 sec  25                 0.0436871        0.00485988      0.00190857           0.0508139          0.00548264        0.00258205\n",
              "    2024-03-28 06:46:03  18.509 sec  30                 0.0415923        0.00464681      0.00172992           0.0508517          0.00536987        0.00258589\n",
              "    2024-03-28 06:46:03  19.066 sec  35                 0.0397478        0.00456103      0.00157988           0.0500003          0.00533171        0.00250003\n",
              "    2024-03-28 06:46:04  19.680 sec  40                 0.0389226        0.00448778      0.00151497           0.049454           0.0053175         0.0024457\n",
              "    2024-03-28 06:46:05  20.410 sec  45                 0.0371467        0.00436401      0.00137988           0.0488332          0.00524795        0.00238468\n",
              "    2024-03-28 06:46:05  21.167 sec  50                 0.0355216        0.00427425      0.00126178           0.0481956          0.00515482        0.00232282\n",
              "    2024-03-28 06:46:06  21.990 sec  55                 0.0347546        0.00423325      0.00120788           0.0479749          0.00513971        0.00230159\n",
              "    2024-03-28 06:46:07  22.861 sec  60                 0.0332499        0.0041165       0.00110555           0.0474048          0.00502112        0.00224721\n",
              "    2024-03-28 06:46:08  23.803 sec  65                 0.0327012        0.00414293      0.00106937           0.0471729          0.00508252        0.00222529\n",
              "    2024-03-28 06:46:11  26.639 sec  70                 0.0323629        0.00407892      0.00104736           0.0471215          0.0050358         0.00222043\n",
              "    2024-03-28 06:46:12  27.728 sec  75                 0.0320142        0.00407901      0.00102491           0.0471847          0.00506781        0.0022264\n",
              "    2024-03-28 06:46:13  28.980 sec  80                 0.031783         0.0040396       0.00101016           0.0472405          0.00506566        0.00223167\n",
              "    2024-03-28 06:46:14  30.259 sec  85                 0.0312473        0.00398744      0.000976392          0.0473352          0.00505656        0.00224062\n",
              "\n",
              "Variable Importances: \n",
              "variable              relative_importance    scaled_importance    percentage\n",
              "--------------------  ---------------------  -------------------  ------------\n",
              "nat_source_port       16795.3                1                    0.412301\n",
              "elapsed_time_sec      8848.63                0.526853             0.217222\n",
              "nat_destination_port  6992.47                0.416336             0.171656\n",
              "destination_port      4945.76                0.294474             0.121412\n",
              "bytes                 1718.9                 0.102344             0.0421965\n",
              "source_port           630.59                 0.0375457            0.0154801\n",
              "packets               522.301                0.0310981            0.0128218\n",
              "bytes_sent            240.118                0.0142968            0.00589458\n",
              "bytes_received        18.285                 0.0010887            0.000448871\n",
              "pkts_sent             12.8559                0.000765448          0.000315595\n",
              "id                    10.2466                0.00061009           0.00025154\n",
              "pkts_received         0.0570961              3.39953e-06          1.40163e-06\n",
              "\n",
              "[tips]\n",
              "Use `model.explain()` to inspect the model.\n",
              "--\n",
              "Use `h2o.display.toggle_user_tips()` to switch on/off this section."
            ],
            "text/html": [
              "<pre style='margin: 1em 0 1em 0;'>Model Details\n",
              "=============\n",
              "H2OXGBoostEstimator : XGBoost\n",
              "Model Key: XGBoost_grid_1_AutoML_3_20240328_64009_model_21\n",
              "</pre>\n",
              "<div style='margin: 1em 0 1em 0;'>\n",
              "<style>\n",
              "\n",
              "#h2o-table-10.h2o-container {\n",
              "  overflow-x: auto;\n",
              "}\n",
              "#h2o-table-10 .h2o-table {\n",
              "  /* width: 100%; */\n",
              "  margin-top: 1em;\n",
              "  margin-bottom: 1em;\n",
              "}\n",
              "#h2o-table-10 .h2o-table caption {\n",
              "  white-space: nowrap;\n",
              "  caption-side: top;\n",
              "  text-align: left;\n",
              "  /* margin-left: 1em; */\n",
              "  margin: 0;\n",
              "  font-size: larger;\n",
              "}\n",
              "#h2o-table-10 .h2o-table thead {\n",
              "  white-space: nowrap; \n",
              "  position: sticky;\n",
              "  top: 0;\n",
              "  box-shadow: 0 -1px inset;\n",
              "}\n",
              "#h2o-table-10 .h2o-table tbody {\n",
              "  overflow: auto;\n",
              "}\n",
              "#h2o-table-10 .h2o-table th,\n",
              "#h2o-table-10 .h2o-table td {\n",
              "  text-align: right;\n",
              "  /* border: 1px solid; */\n",
              "}\n",
              "#h2o-table-10 .h2o-table tr:nth-child(even) {\n",
              "  /* background: #F5F5F5 */\n",
              "}\n",
              "\n",
              "</style>      \n",
              "<div id=\"h2o-table-10\" class=\"h2o-container\">\n",
              "  <table class=\"h2o-table\">\n",
              "    <caption>Model Summary: </caption>\n",
              "    <thead><tr><th></th>\n",
              "<th>number_of_trees</th></tr></thead>\n",
              "    <tbody><tr><td></td>\n",
              "<td>85.0</td></tr></tbody>\n",
              "  </table>\n",
              "</div>\n",
              "</div>\n",
              "<div style='margin: 1em 0 1em 0;'><pre style='margin: 1em 0 1em 0;'>ModelMetricsRegression: xgboost\n",
              "** Reported on train data. **\n",
              "\n",
              "MSE: 0.0009763918976882246\n",
              "RMSE: 0.031247270243786488\n",
              "MAE: 0.003987444401535138\n",
              "RMSLE: 0.01371927909419342\n",
              "Mean Residual Deviance: 0.0009763918976882246</pre></div>\n",
              "<div style='margin: 1em 0 1em 0;'><pre style='margin: 1em 0 1em 0;'>ModelMetricsRegression: xgboost\n",
              "** Reported on validation data. **\n",
              "\n",
              "MSE: 0.002240620479543043\n",
              "RMSE: 0.047335192822497756\n",
              "MAE: 0.0050565560749740055\n",
              "RMSLE: 0.020514000108549514\n",
              "Mean Residual Deviance: 0.002240620479543043</pre></div>\n",
              "<div style='margin: 1em 0 1em 0;'>\n",
              "<style>\n",
              "\n",
              "#h2o-table-11.h2o-container {\n",
              "  overflow-x: auto;\n",
              "}\n",
              "#h2o-table-11 .h2o-table {\n",
              "  /* width: 100%; */\n",
              "  margin-top: 1em;\n",
              "  margin-bottom: 1em;\n",
              "}\n",
              "#h2o-table-11 .h2o-table caption {\n",
              "  white-space: nowrap;\n",
              "  caption-side: top;\n",
              "  text-align: left;\n",
              "  /* margin-left: 1em; */\n",
              "  margin: 0;\n",
              "  font-size: larger;\n",
              "}\n",
              "#h2o-table-11 .h2o-table thead {\n",
              "  white-space: nowrap; \n",
              "  position: sticky;\n",
              "  top: 0;\n",
              "  box-shadow: 0 -1px inset;\n",
              "}\n",
              "#h2o-table-11 .h2o-table tbody {\n",
              "  overflow: auto;\n",
              "}\n",
              "#h2o-table-11 .h2o-table th,\n",
              "#h2o-table-11 .h2o-table td {\n",
              "  text-align: right;\n",
              "  /* border: 1px solid; */\n",
              "}\n",
              "#h2o-table-11 .h2o-table tr:nth-child(even) {\n",
              "  /* background: #F5F5F5 */\n",
              "}\n",
              "\n",
              "</style>      \n",
              "<div id=\"h2o-table-11\" class=\"h2o-container\">\n",
              "  <table class=\"h2o-table\">\n",
              "    <caption>Scoring History: </caption>\n",
              "    <thead><tr><th></th>\n",
              "<th>timestamp</th>\n",
              "<th>duration</th>\n",
              "<th>number_of_trees</th>\n",
              "<th>training_rmse</th>\n",
              "<th>training_mae</th>\n",
              "<th>training_deviance</th>\n",
              "<th>validation_rmse</th>\n",
              "<th>validation_mae</th>\n",
              "<th>validation_deviance</th></tr></thead>\n",
              "    <tbody><tr><td></td>\n",
              "<td>2024-03-28 06:46:00</td>\n",
              "<td>16.307 sec</td>\n",
              "<td>0.0</td>\n",
              "<td>0.8059849</td>\n",
              "<td>0.6989322</td>\n",
              "<td>0.6496117</td>\n",
              "<td>0.7994467</td>\n",
              "<td>0.6937004</td>\n",
              "<td>0.6391151</td></tr>\n",
              "<tr><td></td>\n",
              "<td>2024-03-28 06:46:01</td>\n",
              "<td>16.662 sec</td>\n",
              "<td>5.0</td>\n",
              "<td>0.1598102</td>\n",
              "<td>0.1234894</td>\n",
              "<td>0.0255393</td>\n",
              "<td>0.1569196</td>\n",
              "<td>0.1215881</td>\n",
              "<td>0.0246238</td></tr>\n",
              "<tr><td></td>\n",
              "<td>2024-03-28 06:46:01</td>\n",
              "<td>16.901 sec</td>\n",
              "<td>10.0</td>\n",
              "<td>0.0656284</td>\n",
              "<td>0.0256287</td>\n",
              "<td>0.0043071</td>\n",
              "<td>0.0624098</td>\n",
              "<td>0.0248884</td>\n",
              "<td>0.0038950</td></tr>\n",
              "<tr><td></td>\n",
              "<td>2024-03-28 06:46:01</td>\n",
              "<td>17.256 sec</td>\n",
              "<td>15.0</td>\n",
              "<td>0.0539931</td>\n",
              "<td>0.0096566</td>\n",
              "<td>0.0029153</td>\n",
              "<td>0.0558399</td>\n",
              "<td>0.0096148</td>\n",
              "<td>0.0031181</td></tr>\n",
              "<tr><td></td>\n",
              "<td>2024-03-28 06:46:02</td>\n",
              "<td>17.584 sec</td>\n",
              "<td>20.0</td>\n",
              "<td>0.0471847</td>\n",
              "<td>0.0057371</td>\n",
              "<td>0.0022264</td>\n",
              "<td>0.0514452</td>\n",
              "<td>0.0061217</td>\n",
              "<td>0.0026466</td></tr>\n",
              "<tr><td></td>\n",
              "<td>2024-03-28 06:46:02</td>\n",
              "<td>18.018 sec</td>\n",
              "<td>25.0</td>\n",
              "<td>0.0436871</td>\n",
              "<td>0.0048599</td>\n",
              "<td>0.0019086</td>\n",
              "<td>0.0508139</td>\n",
              "<td>0.0054826</td>\n",
              "<td>0.0025821</td></tr>\n",
              "<tr><td></td>\n",
              "<td>2024-03-28 06:46:03</td>\n",
              "<td>18.509 sec</td>\n",
              "<td>30.0</td>\n",
              "<td>0.0415923</td>\n",
              "<td>0.0046468</td>\n",
              "<td>0.0017299</td>\n",
              "<td>0.0508517</td>\n",
              "<td>0.0053699</td>\n",
              "<td>0.0025859</td></tr>\n",
              "<tr><td></td>\n",
              "<td>2024-03-28 06:46:03</td>\n",
              "<td>19.066 sec</td>\n",
              "<td>35.0</td>\n",
              "<td>0.0397478</td>\n",
              "<td>0.0045610</td>\n",
              "<td>0.0015799</td>\n",
              "<td>0.0500003</td>\n",
              "<td>0.0053317</td>\n",
              "<td>0.0025000</td></tr>\n",
              "<tr><td></td>\n",
              "<td>2024-03-28 06:46:04</td>\n",
              "<td>19.680 sec</td>\n",
              "<td>40.0</td>\n",
              "<td>0.0389226</td>\n",
              "<td>0.0044878</td>\n",
              "<td>0.0015150</td>\n",
              "<td>0.0494540</td>\n",
              "<td>0.0053175</td>\n",
              "<td>0.0024457</td></tr>\n",
              "<tr><td></td>\n",
              "<td>2024-03-28 06:46:05</td>\n",
              "<td>20.410 sec</td>\n",
              "<td>45.0</td>\n",
              "<td>0.0371467</td>\n",
              "<td>0.0043640</td>\n",
              "<td>0.0013799</td>\n",
              "<td>0.0488332</td>\n",
              "<td>0.0052480</td>\n",
              "<td>0.0023847</td></tr>\n",
              "<tr><td></td>\n",
              "<td>2024-03-28 06:46:05</td>\n",
              "<td>21.167 sec</td>\n",
              "<td>50.0</td>\n",
              "<td>0.0355216</td>\n",
              "<td>0.0042743</td>\n",
              "<td>0.0012618</td>\n",
              "<td>0.0481956</td>\n",
              "<td>0.0051548</td>\n",
              "<td>0.0023228</td></tr>\n",
              "<tr><td></td>\n",
              "<td>2024-03-28 06:46:06</td>\n",
              "<td>21.990 sec</td>\n",
              "<td>55.0</td>\n",
              "<td>0.0347546</td>\n",
              "<td>0.0042333</td>\n",
              "<td>0.0012079</td>\n",
              "<td>0.0479749</td>\n",
              "<td>0.0051397</td>\n",
              "<td>0.0023016</td></tr>\n",
              "<tr><td></td>\n",
              "<td>2024-03-28 06:46:07</td>\n",
              "<td>22.861 sec</td>\n",
              "<td>60.0</td>\n",
              "<td>0.0332499</td>\n",
              "<td>0.0041165</td>\n",
              "<td>0.0011056</td>\n",
              "<td>0.0474048</td>\n",
              "<td>0.0050211</td>\n",
              "<td>0.0022472</td></tr>\n",
              "<tr><td></td>\n",
              "<td>2024-03-28 06:46:08</td>\n",
              "<td>23.803 sec</td>\n",
              "<td>65.0</td>\n",
              "<td>0.0327012</td>\n",
              "<td>0.0041429</td>\n",
              "<td>0.0010694</td>\n",
              "<td>0.0471729</td>\n",
              "<td>0.0050825</td>\n",
              "<td>0.0022253</td></tr>\n",
              "<tr><td></td>\n",
              "<td>2024-03-28 06:46:11</td>\n",
              "<td>26.639 sec</td>\n",
              "<td>70.0</td>\n",
              "<td>0.0323629</td>\n",
              "<td>0.0040789</td>\n",
              "<td>0.0010474</td>\n",
              "<td>0.0471215</td>\n",
              "<td>0.0050358</td>\n",
              "<td>0.0022204</td></tr>\n",
              "<tr><td></td>\n",
              "<td>2024-03-28 06:46:12</td>\n",
              "<td>27.728 sec</td>\n",
              "<td>75.0</td>\n",
              "<td>0.0320142</td>\n",
              "<td>0.0040790</td>\n",
              "<td>0.0010249</td>\n",
              "<td>0.0471847</td>\n",
              "<td>0.0050678</td>\n",
              "<td>0.0022264</td></tr>\n",
              "<tr><td></td>\n",
              "<td>2024-03-28 06:46:13</td>\n",
              "<td>28.980 sec</td>\n",
              "<td>80.0</td>\n",
              "<td>0.0317830</td>\n",
              "<td>0.0040396</td>\n",
              "<td>0.0010102</td>\n",
              "<td>0.0472405</td>\n",
              "<td>0.0050657</td>\n",
              "<td>0.0022317</td></tr>\n",
              "<tr><td></td>\n",
              "<td>2024-03-28 06:46:14</td>\n",
              "<td>30.259 sec</td>\n",
              "<td>85.0</td>\n",
              "<td>0.0312473</td>\n",
              "<td>0.0039874</td>\n",
              "<td>0.0009764</td>\n",
              "<td>0.0473352</td>\n",
              "<td>0.0050566</td>\n",
              "<td>0.0022406</td></tr></tbody>\n",
              "  </table>\n",
              "</div>\n",
              "</div>\n",
              "<div style='margin: 1em 0 1em 0;'>\n",
              "<style>\n",
              "\n",
              "#h2o-table-12.h2o-container {\n",
              "  overflow-x: auto;\n",
              "}\n",
              "#h2o-table-12 .h2o-table {\n",
              "  /* width: 100%; */\n",
              "  margin-top: 1em;\n",
              "  margin-bottom: 1em;\n",
              "}\n",
              "#h2o-table-12 .h2o-table caption {\n",
              "  white-space: nowrap;\n",
              "  caption-side: top;\n",
              "  text-align: left;\n",
              "  /* margin-left: 1em; */\n",
              "  margin: 0;\n",
              "  font-size: larger;\n",
              "}\n",
              "#h2o-table-12 .h2o-table thead {\n",
              "  white-space: nowrap; \n",
              "  position: sticky;\n",
              "  top: 0;\n",
              "  box-shadow: 0 -1px inset;\n",
              "}\n",
              "#h2o-table-12 .h2o-table tbody {\n",
              "  overflow: auto;\n",
              "}\n",
              "#h2o-table-12 .h2o-table th,\n",
              "#h2o-table-12 .h2o-table td {\n",
              "  text-align: right;\n",
              "  /* border: 1px solid; */\n",
              "}\n",
              "#h2o-table-12 .h2o-table tr:nth-child(even) {\n",
              "  /* background: #F5F5F5 */\n",
              "}\n",
              "\n",
              "</style>      \n",
              "<div id=\"h2o-table-12\" class=\"h2o-container\">\n",
              "  <table class=\"h2o-table\">\n",
              "    <caption>Variable Importances: </caption>\n",
              "    <thead><tr><th>variable</th>\n",
              "<th>relative_importance</th>\n",
              "<th>scaled_importance</th>\n",
              "<th>percentage</th></tr></thead>\n",
              "    <tbody><tr><td>nat_source_port</td>\n",
              "<td>16795.2617188</td>\n",
              "<td>1.0</td>\n",
              "<td>0.4123006</td></tr>\n",
              "<tr><td>elapsed_time_sec</td>\n",
              "<td>8848.6337891</td>\n",
              "<td>0.5268530</td>\n",
              "<td>0.2172218</td></tr>\n",
              "<tr><td>nat_destination_port</td>\n",
              "<td>6992.4697266</td>\n",
              "<td>0.4163359</td>\n",
              "<td>0.1716555</td></tr>\n",
              "<tr><td>destination_port</td>\n",
              "<td>4945.7636719</td>\n",
              "<td>0.2944737</td>\n",
              "<td>0.1214117</td></tr>\n",
              "<tr><td>bytes</td>\n",
              "<td>1718.8957520</td>\n",
              "<td>0.1023441</td>\n",
              "<td>0.0421965</td></tr>\n",
              "<tr><td>source_port</td>\n",
              "<td>630.5903320</td>\n",
              "<td>0.0375457</td>\n",
              "<td>0.0154801</td></tr>\n",
              "<tr><td>packets</td>\n",
              "<td>522.3012695</td>\n",
              "<td>0.0310981</td>\n",
              "<td>0.0128218</td></tr>\n",
              "<tr><td>bytes_sent</td>\n",
              "<td>240.1184998</td>\n",
              "<td>0.0142968</td>\n",
              "<td>0.0058946</td></tr>\n",
              "<tr><td>bytes_received</td>\n",
              "<td>18.2849922</td>\n",
              "<td>0.0010887</td>\n",
              "<td>0.0004489</td></tr>\n",
              "<tr><td>pkts_sent</td>\n",
              "<td>12.8558950</td>\n",
              "<td>0.0007654</td>\n",
              "<td>0.0003156</td></tr>\n",
              "<tr><td>id</td>\n",
              "<td>10.2466135</td>\n",
              "<td>0.0006101</td>\n",
              "<td>0.0002515</td></tr>\n",
              "<tr><td>pkts_received</td>\n",
              "<td>0.0570961</td>\n",
              "<td>0.0000034</td>\n",
              "<td>0.0000014</td></tr></tbody>\n",
              "  </table>\n",
              "</div>\n",
              "</div><pre style=\"font-size: smaller; margin: 1em 0 0 0;\">\n",
              "\n",
              "[tips]\n",
              "Use `model.explain()` to inspect the model.\n",
              "--\n",
              "Use `h2o.display.toggle_user_tips()` to switch on/off this section.</pre>"
            ]
          },
          "metadata": {},
          "execution_count": 72
        }
      ]
    },
    {
      "cell_type": "markdown",
      "source": [
        "#### Model leaderboard"
      ],
      "metadata": {
        "id": "xQER8qcMvjtI"
      }
    },
    {
      "cell_type": "code",
      "source": [
        "lb = aml.leaderboard\n",
        "lb.head(rows=lb.nrows)"
      ],
      "metadata": {
        "colab": {
          "base_uri": "https://localhost:8080/",
          "height": 1000
        },
        "id": "UTHyPEezveA-",
        "outputId": "da8bfa38-edbb-425b-f491-b699045b6477"
      },
      "execution_count": 73,
      "outputs": [
        {
          "output_type": "execute_result",
          "data": {
            "text/plain": [
              "model_id                                              rmse         mse         mae        rmsle    mean_residual_deviance\n",
              "-----------------------------------------------  ---------  ----------  ----------  -----------  ------------------------\n",
              "XGBoost_grid_1_AutoML_3_20240328_64009_model_21  0.0473352  0.00224062  0.00505656    0.020514                 0.00224062\n",
              "XGBoost_grid_1_AutoML_3_20240328_64009_model_2   0.0493608  0.00243649  0.0056893     0.021824                 0.00243649\n",
              "XGBoost_grid_1_AutoML_3_20240328_64009_model_23  0.0502706  0.00252713  0.00509965    0.0207406                0.00252713\n",
              "XGBoost_grid_1_AutoML_3_20240328_64009_model_20  0.0505117  0.00255143  0.00607253    0.0211259                0.00255143\n",
              "XGBoost_grid_1_AutoML_3_20240328_64009_model_32  0.0506304  0.00256344  0.00665727    0.0228836                0.00256344\n",
              "XGBoost_3_AutoML_3_20240328_64009                0.0507683  0.00257742  0.00570148    0.0218468                0.00257742\n",
              "XGBoost_grid_1_AutoML_3_20240328_64009_model_37  0.0509899  0.00259997  0.00391113    0.0217898                0.00259997\n",
              "XGBoost_grid_1_AutoML_3_20240328_64009_model_42  0.0511457  0.00261589  0.0068999     0.0212999                0.00261589\n",
              "XGBoost_grid_1_AutoML_3_20240328_64009_model_9   0.0511467  0.00261598  0.00484737    0.0216486                0.00261598\n",
              "XGBoost_grid_1_AutoML_3_20240328_64009_model_35  0.0511758  0.00261896  0.00477033    0.0207514                0.00261896\n",
              "XGBoost_grid_1_AutoML_3_20240328_64009_model_3   0.0511853  0.00261993  0.00667501    0.0209176                0.00261993\n",
              "XGBoost_grid_1_AutoML_3_20240328_64009_model_26  0.05154    0.00265637  0.00924619    0.0220647                0.00265637\n",
              "XGBoost_grid_1_AutoML_3_20240328_64009_model_29  0.0517363  0.00267665  0.00937671    0.0237735                0.00267665\n",
              "GBM_3_AutoML_3_20240328_64009                    0.0517669  0.00267981  0.00759928    0.0220836                0.00267981\n",
              "XGBoost_grid_1_AutoML_3_20240328_64009_model_44  0.0519391  0.00269767  0.00474806    0.0211315                0.00269767\n",
              "XGBoost_grid_1_AutoML_3_20240328_64009_model_27  0.0519724  0.00270113  0.00458642    0.0222053                0.00270113\n",
              "XGBoost_grid_1_AutoML_3_20240328_64009_model_31  0.0520611  0.00271036  0.00677895    0.0211646                0.00271036\n",
              "XGBoost_grid_1_AutoML_3_20240328_64009_model_5   0.0521238  0.00271689  0.00774375    0.0232915                0.00271689\n",
              "XGBoost_grid_1_AutoML_3_20240328_64009_model_34  0.0521889  0.00272368  0.00827467    0.023494                 0.00272368\n",
              "XGBoost_grid_1_AutoML_3_20240328_64009_model_7   0.0524386  0.00274981  0.00888468    0.0225182                0.00274981\n",
              "XGBoost_grid_1_AutoML_3_20240328_64009_model_38  0.0524792  0.00275407  0.00760831    0.0231116                0.00275407\n",
              "XGBoost_1_AutoML_3_20240328_64009                0.052511   0.00275741  0.00959124    0.0229576                0.00275741\n",
              "GBM_4_AutoML_3_20240328_64009                    0.0526077  0.00276757  0.00769149    0.0221769                0.00276757\n",
              "XGBoost_grid_1_AutoML_3_20240328_64009_model_30  0.0529429  0.00280295  0.00679902    0.0232121                0.00280295\n",
              "XGBoost_grid_1_AutoML_3_20240328_64009_model_6   0.0529746  0.00280631  0.00356682    0.021026                 0.00280631\n",
              "XGBoost_grid_1_AutoML_3_20240328_64009_model_33  0.0530814  0.00281763  0.00710129    0.0225077                0.00281763\n",
              "GBM_5_AutoML_3_20240328_64009                    0.0531556  0.00282552  0.00573336    0.0222579                0.00282552\n",
              "GBM_grid_1_AutoML_3_20240328_64009_model_1       0.0533945  0.00285097  0.00723832    0.0221781                0.00285097\n",
              "GBM_2_AutoML_3_20240328_64009                    0.0534728  0.00285934  0.00806605    0.0229082                0.00285934\n",
              "XGBoost_grid_1_AutoML_3_20240328_64009_model_4   0.0535028  0.00286255  0.00906399    0.0232973                0.00286255\n",
              "XGBoost_grid_1_AutoML_3_20240328_64009_model_36  0.0537233  0.00288619  0.00515674    0.0225723                0.00288619\n",
              "XGBoost_grid_1_AutoML_3_20240328_64009_model_24  0.0539109  0.00290639  0.00598205    0.0233668                0.00290639\n",
              "XGBoost_grid_1_AutoML_3_20240328_64009_model_19  0.0546619  0.00298792  0.00302599    0.0228061                0.00298792\n",
              "XGBoost_grid_1_AutoML_3_20240328_64009_model_28  0.0550159  0.00302675  0.00794572    0.023699                 0.00302675\n",
              "XGBoost_grid_1_AutoML_3_20240328_64009_model_1   0.0552336  0.00305075  0.00830585    0.0268472                0.00305075\n",
              "XGBoost_2_AutoML_3_20240328_64009                0.0552576  0.00305341  0.00899397    0.0244045                0.00305341\n",
              "XGBoost_grid_1_AutoML_3_20240328_64009_model_41  0.0556862  0.00310095  0.0034285     0.0229286                0.00310095\n",
              "XGBoost_grid_1_AutoML_3_20240328_64009_model_22  0.0561323  0.00315084  0.00658245    0.0225704                0.00315084\n",
              "GBM_grid_1_AutoML_3_20240328_64009_model_6       0.0566395  0.00320803  0.00998156    0.0241863                0.00320803\n",
              "GBM_grid_1_AutoML_3_20240328_64009_model_2       0.0570041  0.00324947  0.00911104    0.0244132                0.00324947\n",
              "GBM_grid_1_AutoML_3_20240328_64009_model_3       0.057081   0.00325824  0.00749437    0.0230074                0.00325824\n",
              "DRF_1_AutoML_3_20240328_64009                    0.0571468  0.00326576  0.00693472    0.0232243                0.00326576\n",
              "XGBoost_grid_1_AutoML_3_20240328_64009_model_39  0.0572184  0.00327394  0.00955364    0.0277711                0.00327394\n",
              "XGBoost_grid_1_AutoML_3_20240328_64009_model_25  0.0576363  0.00332194  0.00769037    0.0237788                0.00332194\n",
              "XGBoost_grid_1_AutoML_3_20240328_64009_model_40  0.057675   0.0033264   0.0078137     0.0258045                0.0033264\n",
              "XGBoost_grid_1_AutoML_3_20240328_64009_model_8   0.0581991  0.00338714  0.00814879    0.025817                 0.00338714\n",
              "XGBoost_grid_1_AutoML_3_20240328_64009_model_43  0.0582393  0.00339182  0.00686545    0.0253853                0.00339182\n",
              "GBM_1_AutoML_3_20240328_64009                    0.0589466  0.00347471  0.0115837     0.0254756                0.00347471\n",
              "GBM_grid_1_AutoML_3_20240328_64009_model_4       0.0653205  0.00426677  0.00859904    0.0272762                0.00426677\n",
              "GBM_grid_1_AutoML_3_20240328_64009_model_5       0.0664304  0.00441299  0.0165155     0.0327616                0.00441299\n",
              "XRT_1_AutoML_3_20240328_64009                    0.0871994  0.00760373  0.0426555     0.0335729                0.00760373\n",
              "GLM_1_AutoML_3_20240328_64009                    0.560322   0.313961    0.451162    nan                        0.313961\n",
              "[52 rows x 6 columns]\n"
            ],
            "text/html": [
              "<table class='dataframe'>\n",
              "<thead>\n",
              "<tr><th>model_id                                       </th><th style=\"text-align: right;\">     rmse</th><th style=\"text-align: right;\">       mse</th><th style=\"text-align: right;\">       mae</th><th style=\"text-align: right;\">      rmsle</th><th style=\"text-align: right;\">  mean_residual_deviance</th></tr>\n",
              "</thead>\n",
              "<tbody>\n",
              "<tr><td>XGBoost_grid_1_AutoML_3_20240328_64009_model_21</td><td style=\"text-align: right;\">0.0473352</td><td style=\"text-align: right;\">0.00224062</td><td style=\"text-align: right;\">0.00505656</td><td style=\"text-align: right;\">  0.020514 </td><td style=\"text-align: right;\">              0.00224062</td></tr>\n",
              "<tr><td>XGBoost_grid_1_AutoML_3_20240328_64009_model_2 </td><td style=\"text-align: right;\">0.0493608</td><td style=\"text-align: right;\">0.00243649</td><td style=\"text-align: right;\">0.0056893 </td><td style=\"text-align: right;\">  0.021824 </td><td style=\"text-align: right;\">              0.00243649</td></tr>\n",
              "<tr><td>XGBoost_grid_1_AutoML_3_20240328_64009_model_23</td><td style=\"text-align: right;\">0.0502706</td><td style=\"text-align: right;\">0.00252713</td><td style=\"text-align: right;\">0.00509965</td><td style=\"text-align: right;\">  0.0207406</td><td style=\"text-align: right;\">              0.00252713</td></tr>\n",
              "<tr><td>XGBoost_grid_1_AutoML_3_20240328_64009_model_20</td><td style=\"text-align: right;\">0.0505117</td><td style=\"text-align: right;\">0.00255143</td><td style=\"text-align: right;\">0.00607253</td><td style=\"text-align: right;\">  0.0211259</td><td style=\"text-align: right;\">              0.00255143</td></tr>\n",
              "<tr><td>XGBoost_grid_1_AutoML_3_20240328_64009_model_32</td><td style=\"text-align: right;\">0.0506304</td><td style=\"text-align: right;\">0.00256344</td><td style=\"text-align: right;\">0.00665727</td><td style=\"text-align: right;\">  0.0228836</td><td style=\"text-align: right;\">              0.00256344</td></tr>\n",
              "<tr><td>XGBoost_3_AutoML_3_20240328_64009              </td><td style=\"text-align: right;\">0.0507683</td><td style=\"text-align: right;\">0.00257742</td><td style=\"text-align: right;\">0.00570148</td><td style=\"text-align: right;\">  0.0218468</td><td style=\"text-align: right;\">              0.00257742</td></tr>\n",
              "<tr><td>XGBoost_grid_1_AutoML_3_20240328_64009_model_37</td><td style=\"text-align: right;\">0.0509899</td><td style=\"text-align: right;\">0.00259997</td><td style=\"text-align: right;\">0.00391113</td><td style=\"text-align: right;\">  0.0217898</td><td style=\"text-align: right;\">              0.00259997</td></tr>\n",
              "<tr><td>XGBoost_grid_1_AutoML_3_20240328_64009_model_42</td><td style=\"text-align: right;\">0.0511457</td><td style=\"text-align: right;\">0.00261589</td><td style=\"text-align: right;\">0.0068999 </td><td style=\"text-align: right;\">  0.0212999</td><td style=\"text-align: right;\">              0.00261589</td></tr>\n",
              "<tr><td>XGBoost_grid_1_AutoML_3_20240328_64009_model_9 </td><td style=\"text-align: right;\">0.0511467</td><td style=\"text-align: right;\">0.00261598</td><td style=\"text-align: right;\">0.00484737</td><td style=\"text-align: right;\">  0.0216486</td><td style=\"text-align: right;\">              0.00261598</td></tr>\n",
              "<tr><td>XGBoost_grid_1_AutoML_3_20240328_64009_model_35</td><td style=\"text-align: right;\">0.0511758</td><td style=\"text-align: right;\">0.00261896</td><td style=\"text-align: right;\">0.00477033</td><td style=\"text-align: right;\">  0.0207514</td><td style=\"text-align: right;\">              0.00261896</td></tr>\n",
              "<tr><td>XGBoost_grid_1_AutoML_3_20240328_64009_model_3 </td><td style=\"text-align: right;\">0.0511853</td><td style=\"text-align: right;\">0.00261993</td><td style=\"text-align: right;\">0.00667501</td><td style=\"text-align: right;\">  0.0209176</td><td style=\"text-align: right;\">              0.00261993</td></tr>\n",
              "<tr><td>XGBoost_grid_1_AutoML_3_20240328_64009_model_26</td><td style=\"text-align: right;\">0.05154  </td><td style=\"text-align: right;\">0.00265637</td><td style=\"text-align: right;\">0.00924619</td><td style=\"text-align: right;\">  0.0220647</td><td style=\"text-align: right;\">              0.00265637</td></tr>\n",
              "<tr><td>XGBoost_grid_1_AutoML_3_20240328_64009_model_29</td><td style=\"text-align: right;\">0.0517363</td><td style=\"text-align: right;\">0.00267665</td><td style=\"text-align: right;\">0.00937671</td><td style=\"text-align: right;\">  0.0237735</td><td style=\"text-align: right;\">              0.00267665</td></tr>\n",
              "<tr><td>GBM_3_AutoML_3_20240328_64009                  </td><td style=\"text-align: right;\">0.0517669</td><td style=\"text-align: right;\">0.00267981</td><td style=\"text-align: right;\">0.00759928</td><td style=\"text-align: right;\">  0.0220836</td><td style=\"text-align: right;\">              0.00267981</td></tr>\n",
              "<tr><td>XGBoost_grid_1_AutoML_3_20240328_64009_model_44</td><td style=\"text-align: right;\">0.0519391</td><td style=\"text-align: right;\">0.00269767</td><td style=\"text-align: right;\">0.00474806</td><td style=\"text-align: right;\">  0.0211315</td><td style=\"text-align: right;\">              0.00269767</td></tr>\n",
              "<tr><td>XGBoost_grid_1_AutoML_3_20240328_64009_model_27</td><td style=\"text-align: right;\">0.0519724</td><td style=\"text-align: right;\">0.00270113</td><td style=\"text-align: right;\">0.00458642</td><td style=\"text-align: right;\">  0.0222053</td><td style=\"text-align: right;\">              0.00270113</td></tr>\n",
              "<tr><td>XGBoost_grid_1_AutoML_3_20240328_64009_model_31</td><td style=\"text-align: right;\">0.0520611</td><td style=\"text-align: right;\">0.00271036</td><td style=\"text-align: right;\">0.00677895</td><td style=\"text-align: right;\">  0.0211646</td><td style=\"text-align: right;\">              0.00271036</td></tr>\n",
              "<tr><td>XGBoost_grid_1_AutoML_3_20240328_64009_model_5 </td><td style=\"text-align: right;\">0.0521238</td><td style=\"text-align: right;\">0.00271689</td><td style=\"text-align: right;\">0.00774375</td><td style=\"text-align: right;\">  0.0232915</td><td style=\"text-align: right;\">              0.00271689</td></tr>\n",
              "<tr><td>XGBoost_grid_1_AutoML_3_20240328_64009_model_34</td><td style=\"text-align: right;\">0.0521889</td><td style=\"text-align: right;\">0.00272368</td><td style=\"text-align: right;\">0.00827467</td><td style=\"text-align: right;\">  0.023494 </td><td style=\"text-align: right;\">              0.00272368</td></tr>\n",
              "<tr><td>XGBoost_grid_1_AutoML_3_20240328_64009_model_7 </td><td style=\"text-align: right;\">0.0524386</td><td style=\"text-align: right;\">0.00274981</td><td style=\"text-align: right;\">0.00888468</td><td style=\"text-align: right;\">  0.0225182</td><td style=\"text-align: right;\">              0.00274981</td></tr>\n",
              "<tr><td>XGBoost_grid_1_AutoML_3_20240328_64009_model_38</td><td style=\"text-align: right;\">0.0524792</td><td style=\"text-align: right;\">0.00275407</td><td style=\"text-align: right;\">0.00760831</td><td style=\"text-align: right;\">  0.0231116</td><td style=\"text-align: right;\">              0.00275407</td></tr>\n",
              "<tr><td>XGBoost_1_AutoML_3_20240328_64009              </td><td style=\"text-align: right;\">0.052511 </td><td style=\"text-align: right;\">0.00275741</td><td style=\"text-align: right;\">0.00959124</td><td style=\"text-align: right;\">  0.0229576</td><td style=\"text-align: right;\">              0.00275741</td></tr>\n",
              "<tr><td>GBM_4_AutoML_3_20240328_64009                  </td><td style=\"text-align: right;\">0.0526077</td><td style=\"text-align: right;\">0.00276757</td><td style=\"text-align: right;\">0.00769149</td><td style=\"text-align: right;\">  0.0221769</td><td style=\"text-align: right;\">              0.00276757</td></tr>\n",
              "<tr><td>XGBoost_grid_1_AutoML_3_20240328_64009_model_30</td><td style=\"text-align: right;\">0.0529429</td><td style=\"text-align: right;\">0.00280295</td><td style=\"text-align: right;\">0.00679902</td><td style=\"text-align: right;\">  0.0232121</td><td style=\"text-align: right;\">              0.00280295</td></tr>\n",
              "<tr><td>XGBoost_grid_1_AutoML_3_20240328_64009_model_6 </td><td style=\"text-align: right;\">0.0529746</td><td style=\"text-align: right;\">0.00280631</td><td style=\"text-align: right;\">0.00356682</td><td style=\"text-align: right;\">  0.021026 </td><td style=\"text-align: right;\">              0.00280631</td></tr>\n",
              "<tr><td>XGBoost_grid_1_AutoML_3_20240328_64009_model_33</td><td style=\"text-align: right;\">0.0530814</td><td style=\"text-align: right;\">0.00281763</td><td style=\"text-align: right;\">0.00710129</td><td style=\"text-align: right;\">  0.0225077</td><td style=\"text-align: right;\">              0.00281763</td></tr>\n",
              "<tr><td>GBM_5_AutoML_3_20240328_64009                  </td><td style=\"text-align: right;\">0.0531556</td><td style=\"text-align: right;\">0.00282552</td><td style=\"text-align: right;\">0.00573336</td><td style=\"text-align: right;\">  0.0222579</td><td style=\"text-align: right;\">              0.00282552</td></tr>\n",
              "<tr><td>GBM_grid_1_AutoML_3_20240328_64009_model_1     </td><td style=\"text-align: right;\">0.0533945</td><td style=\"text-align: right;\">0.00285097</td><td style=\"text-align: right;\">0.00723832</td><td style=\"text-align: right;\">  0.0221781</td><td style=\"text-align: right;\">              0.00285097</td></tr>\n",
              "<tr><td>GBM_2_AutoML_3_20240328_64009                  </td><td style=\"text-align: right;\">0.0534728</td><td style=\"text-align: right;\">0.00285934</td><td style=\"text-align: right;\">0.00806605</td><td style=\"text-align: right;\">  0.0229082</td><td style=\"text-align: right;\">              0.00285934</td></tr>\n",
              "<tr><td>XGBoost_grid_1_AutoML_3_20240328_64009_model_4 </td><td style=\"text-align: right;\">0.0535028</td><td style=\"text-align: right;\">0.00286255</td><td style=\"text-align: right;\">0.00906399</td><td style=\"text-align: right;\">  0.0232973</td><td style=\"text-align: right;\">              0.00286255</td></tr>\n",
              "<tr><td>XGBoost_grid_1_AutoML_3_20240328_64009_model_36</td><td style=\"text-align: right;\">0.0537233</td><td style=\"text-align: right;\">0.00288619</td><td style=\"text-align: right;\">0.00515674</td><td style=\"text-align: right;\">  0.0225723</td><td style=\"text-align: right;\">              0.00288619</td></tr>\n",
              "<tr><td>XGBoost_grid_1_AutoML_3_20240328_64009_model_24</td><td style=\"text-align: right;\">0.0539109</td><td style=\"text-align: right;\">0.00290639</td><td style=\"text-align: right;\">0.00598205</td><td style=\"text-align: right;\">  0.0233668</td><td style=\"text-align: right;\">              0.00290639</td></tr>\n",
              "<tr><td>XGBoost_grid_1_AutoML_3_20240328_64009_model_19</td><td style=\"text-align: right;\">0.0546619</td><td style=\"text-align: right;\">0.00298792</td><td style=\"text-align: right;\">0.00302599</td><td style=\"text-align: right;\">  0.0228061</td><td style=\"text-align: right;\">              0.00298792</td></tr>\n",
              "<tr><td>XGBoost_grid_1_AutoML_3_20240328_64009_model_28</td><td style=\"text-align: right;\">0.0550159</td><td style=\"text-align: right;\">0.00302675</td><td style=\"text-align: right;\">0.00794572</td><td style=\"text-align: right;\">  0.023699 </td><td style=\"text-align: right;\">              0.00302675</td></tr>\n",
              "<tr><td>XGBoost_grid_1_AutoML_3_20240328_64009_model_1 </td><td style=\"text-align: right;\">0.0552336</td><td style=\"text-align: right;\">0.00305075</td><td style=\"text-align: right;\">0.00830585</td><td style=\"text-align: right;\">  0.0268472</td><td style=\"text-align: right;\">              0.00305075</td></tr>\n",
              "<tr><td>XGBoost_2_AutoML_3_20240328_64009              </td><td style=\"text-align: right;\">0.0552576</td><td style=\"text-align: right;\">0.00305341</td><td style=\"text-align: right;\">0.00899397</td><td style=\"text-align: right;\">  0.0244045</td><td style=\"text-align: right;\">              0.00305341</td></tr>\n",
              "<tr><td>XGBoost_grid_1_AutoML_3_20240328_64009_model_41</td><td style=\"text-align: right;\">0.0556862</td><td style=\"text-align: right;\">0.00310095</td><td style=\"text-align: right;\">0.0034285 </td><td style=\"text-align: right;\">  0.0229286</td><td style=\"text-align: right;\">              0.00310095</td></tr>\n",
              "<tr><td>XGBoost_grid_1_AutoML_3_20240328_64009_model_22</td><td style=\"text-align: right;\">0.0561323</td><td style=\"text-align: right;\">0.00315084</td><td style=\"text-align: right;\">0.00658245</td><td style=\"text-align: right;\">  0.0225704</td><td style=\"text-align: right;\">              0.00315084</td></tr>\n",
              "<tr><td>GBM_grid_1_AutoML_3_20240328_64009_model_6     </td><td style=\"text-align: right;\">0.0566395</td><td style=\"text-align: right;\">0.00320803</td><td style=\"text-align: right;\">0.00998156</td><td style=\"text-align: right;\">  0.0241863</td><td style=\"text-align: right;\">              0.00320803</td></tr>\n",
              "<tr><td>GBM_grid_1_AutoML_3_20240328_64009_model_2     </td><td style=\"text-align: right;\">0.0570041</td><td style=\"text-align: right;\">0.00324947</td><td style=\"text-align: right;\">0.00911104</td><td style=\"text-align: right;\">  0.0244132</td><td style=\"text-align: right;\">              0.00324947</td></tr>\n",
              "<tr><td>GBM_grid_1_AutoML_3_20240328_64009_model_3     </td><td style=\"text-align: right;\">0.057081 </td><td style=\"text-align: right;\">0.00325824</td><td style=\"text-align: right;\">0.00749437</td><td style=\"text-align: right;\">  0.0230074</td><td style=\"text-align: right;\">              0.00325824</td></tr>\n",
              "<tr><td>DRF_1_AutoML_3_20240328_64009                  </td><td style=\"text-align: right;\">0.0571468</td><td style=\"text-align: right;\">0.00326576</td><td style=\"text-align: right;\">0.00693472</td><td style=\"text-align: right;\">  0.0232243</td><td style=\"text-align: right;\">              0.00326576</td></tr>\n",
              "<tr><td>XGBoost_grid_1_AutoML_3_20240328_64009_model_39</td><td style=\"text-align: right;\">0.0572184</td><td style=\"text-align: right;\">0.00327394</td><td style=\"text-align: right;\">0.00955364</td><td style=\"text-align: right;\">  0.0277711</td><td style=\"text-align: right;\">              0.00327394</td></tr>\n",
              "<tr><td>XGBoost_grid_1_AutoML_3_20240328_64009_model_25</td><td style=\"text-align: right;\">0.0576363</td><td style=\"text-align: right;\">0.00332194</td><td style=\"text-align: right;\">0.00769037</td><td style=\"text-align: right;\">  0.0237788</td><td style=\"text-align: right;\">              0.00332194</td></tr>\n",
              "<tr><td>XGBoost_grid_1_AutoML_3_20240328_64009_model_40</td><td style=\"text-align: right;\">0.057675 </td><td style=\"text-align: right;\">0.0033264 </td><td style=\"text-align: right;\">0.0078137 </td><td style=\"text-align: right;\">  0.0258045</td><td style=\"text-align: right;\">              0.0033264 </td></tr>\n",
              "<tr><td>XGBoost_grid_1_AutoML_3_20240328_64009_model_8 </td><td style=\"text-align: right;\">0.0581991</td><td style=\"text-align: right;\">0.00338714</td><td style=\"text-align: right;\">0.00814879</td><td style=\"text-align: right;\">  0.025817 </td><td style=\"text-align: right;\">              0.00338714</td></tr>\n",
              "<tr><td>XGBoost_grid_1_AutoML_3_20240328_64009_model_43</td><td style=\"text-align: right;\">0.0582393</td><td style=\"text-align: right;\">0.00339182</td><td style=\"text-align: right;\">0.00686545</td><td style=\"text-align: right;\">  0.0253853</td><td style=\"text-align: right;\">              0.00339182</td></tr>\n",
              "<tr><td>GBM_1_AutoML_3_20240328_64009                  </td><td style=\"text-align: right;\">0.0589466</td><td style=\"text-align: right;\">0.00347471</td><td style=\"text-align: right;\">0.0115837 </td><td style=\"text-align: right;\">  0.0254756</td><td style=\"text-align: right;\">              0.00347471</td></tr>\n",
              "<tr><td>GBM_grid_1_AutoML_3_20240328_64009_model_4     </td><td style=\"text-align: right;\">0.0653205</td><td style=\"text-align: right;\">0.00426677</td><td style=\"text-align: right;\">0.00859904</td><td style=\"text-align: right;\">  0.0272762</td><td style=\"text-align: right;\">              0.00426677</td></tr>\n",
              "<tr><td>GBM_grid_1_AutoML_3_20240328_64009_model_5     </td><td style=\"text-align: right;\">0.0664304</td><td style=\"text-align: right;\">0.00441299</td><td style=\"text-align: right;\">0.0165155 </td><td style=\"text-align: right;\">  0.0327616</td><td style=\"text-align: right;\">              0.00441299</td></tr>\n",
              "<tr><td>XRT_1_AutoML_3_20240328_64009                  </td><td style=\"text-align: right;\">0.0871994</td><td style=\"text-align: right;\">0.00760373</td><td style=\"text-align: right;\">0.0426555 </td><td style=\"text-align: right;\">  0.0335729</td><td style=\"text-align: right;\">              0.00760373</td></tr>\n",
              "<tr><td>GLM_1_AutoML_3_20240328_64009                  </td><td style=\"text-align: right;\">0.560322 </td><td style=\"text-align: right;\">0.313961  </td><td style=\"text-align: right;\">0.451162  </td><td style=\"text-align: right;\">nan        </td><td style=\"text-align: right;\">              0.313961  </td></tr>\n",
              "</tbody>\n",
              "</table><pre style='font-size: smaller; margin-bottom: 1em;'>[52 rows x 6 columns]</pre>"
            ]
          },
          "metadata": {},
          "execution_count": 73
        }
      ]
    },
    {
      "cell_type": "code",
      "source": [
        "preds = aml.predict(h2o_test_df)"
      ],
      "metadata": {
        "colab": {
          "base_uri": "https://localhost:8080/"
        },
        "id": "izLFPlYbveLU",
        "outputId": "40f6468b-c5cf-4e41-9bd0-251c23beda19"
      },
      "execution_count": 84,
      "outputs": [
        {
          "output_type": "stream",
          "name": "stdout",
          "text": [
            "xgboost prediction progress: |███████████████████████████████████████████████████| (done) 100%\n"
          ]
        }
      ]
    },
    {
      "cell_type": "code",
      "source": [
        "preds.columns"
      ],
      "metadata": {
        "colab": {
          "base_uri": "https://localhost:8080/"
        },
        "id": "6ihpzbcpveY1",
        "outputId": "d8a94b72-2f36-4afd-81ce-96a9aa6467e9"
      },
      "execution_count": 85,
      "outputs": [
        {
          "output_type": "execute_result",
          "data": {
            "text/plain": [
              "['predict']"
            ]
          },
          "metadata": {},
          "execution_count": 85
        }
      ]
    },
    {
      "cell_type": "code",
      "source": [
        "preds.head(2)"
      ],
      "metadata": {
        "colab": {
          "base_uri": "https://localhost:8080/",
          "height": 138
        },
        "id": "UVU8L9fRvepJ",
        "outputId": "f70b0203-a45f-4381-8f80-070334bd224c"
      },
      "execution_count": 86,
      "outputs": [
        {
          "output_type": "execute_result",
          "data": {
            "text/plain": [
              "    predict\n",
              "-----------\n",
              "3.55282e-05\n",
              "2.00066\n",
              "[2 rows x 1 column]\n"
            ],
            "text/html": [
              "<table class='dataframe'>\n",
              "<thead>\n",
              "<tr><th style=\"text-align: right;\">    predict</th></tr>\n",
              "</thead>\n",
              "<tbody>\n",
              "<tr><td style=\"text-align: right;\">3.55282e-05</td></tr>\n",
              "<tr><td style=\"text-align: right;\">2.00066    </td></tr>\n",
              "</tbody>\n",
              "</table><pre style='font-size: smaller; margin-bottom: 1em;'>[2 rows x 1 column]</pre>"
            ]
          },
          "metadata": {},
          "execution_count": 86
        }
      ]
    },
    {
      "cell_type": "code",
      "source": [
        "sub = preds[0].as_data_frame()"
      ],
      "metadata": {
        "id": "mG8CUSzr5dsu"
      },
      "execution_count": null,
      "outputs": []
    },
    {
      "cell_type": "code",
      "source": [
        "sub[\"predict\"] = sub.predict.apply(np.round)"
      ],
      "metadata": {
        "id": "BOjBnCvV6E22"
      },
      "execution_count": 89,
      "outputs": []
    },
    {
      "cell_type": "code",
      "source": [
        "sub[\"predict\"] = sub[\"predict\"].astype(int)"
      ],
      "metadata": {
        "id": "DBZle6q_6Xut"
      },
      "execution_count": 92,
      "outputs": []
    },
    {
      "cell_type": "code",
      "source": [
        "sub[\"predict\"].value_counts()"
      ],
      "metadata": {
        "colab": {
          "base_uri": "https://localhost:8080/"
        },
        "id": "CFik1XiQ6l5H",
        "outputId": "be0ca166-a747-44fc-aa7d-a11042de51e2"
      },
      "execution_count": 93,
      "outputs": [
        {
          "output_type": "execute_result",
          "data": {
            "text/plain": [
              "0    11329\n",
              "1     4477\n",
              "2     3851\n",
              "3        3\n",
              "Name: predict, dtype: int64"
            ]
          },
          "metadata": {},
          "execution_count": 93
        }
      ]
    },
    {
      "cell_type": "code",
      "source": [],
      "metadata": {
        "id": "RFWcm3Fg63G4"
      },
      "execution_count": null,
      "outputs": []
    }
  ]
}